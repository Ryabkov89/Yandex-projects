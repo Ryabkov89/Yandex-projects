{
 "cells": [
  {
   "cell_type": "markdown",
   "metadata": {
    "toc": true
   },
   "source": [
    "<h1>Содержание<span class=\"tocSkip\"></span></h1>\n",
    "<div class=\"toc\"><ul class=\"toc-item\"><li><span><a href=\"#Подготовка\" data-toc-modified-id=\"Подготовка-1\"><span class=\"toc-item-num\">1&nbsp;&nbsp;</span>Подготовка</a></span></li><li><span><a href=\"#Обучение\" data-toc-modified-id=\"Обучение-2\"><span class=\"toc-item-num\">2&nbsp;&nbsp;</span>Обучение</a></span></li><li><span><a href=\"#Выводы\" data-toc-modified-id=\"Выводы-3\"><span class=\"toc-item-num\">3&nbsp;&nbsp;</span>Выводы</a></span></li><li><span><a href=\"#Чек-лист-проверки\" data-toc-modified-id=\"Чек-лист-проверки-4\"><span class=\"toc-item-num\">4&nbsp;&nbsp;</span>Чек-лист проверки</a></span></li></ul></div>"
   ]
  },
  {
   "cell_type": "markdown",
   "metadata": {},
   "source": [
    "# Проект для «Викишоп»"
   ]
  },
  {
   "cell_type": "markdown",
   "metadata": {},
   "source": [
    "Интернет-магазин запускает новый сервис. Теперь пользователи могут редактировать и дополнять описания товаров, как в вики-сообществах. То есть клиенты предлагают свои правки и комментируют изменения других. Требуется инструмент, который будет искать токсичные комментарии и отправлять их на модерацию."
   ]
  },
  {
   "cell_type": "markdown",
   "metadata": {},
   "source": [
    "**Для выполнения задачи классификации выполним следующие шаги:**  \n",
    "- лемматизируем текст и приведём к нижнему регистру\n",
    "- очистим текст\n",
    "- посчитаем tf-idf с учётом стоп-слов\n",
    "- на подготовленных данных обучим модели логистической регрессии, градиентного бустинга и решающего дерева\n",
    "- оценим качество предсказаний моделей метрикой f1 на обучающей и тестовой выборках\n",
    "- выберем лучшую модель с метрикой f1 не менее 0.75"
   ]
  },
  {
   "cell_type": "markdown",
   "metadata": {},
   "source": [
    "## Подготовка"
   ]
  },
  {
   "cell_type": "code",
   "execution_count": 21,
   "metadata": {},
   "outputs": [],
   "source": [
    "#Импортируем сторонние библиотеки\n",
    "import pandas as pd\n",
    "import numpy as np\n",
    "import nltk\n",
    "import re\n",
    "import warnings\n",
    "import matplotlib.pyplot as plt\n",
    "import spacy\n",
    "\n",
    "#импортируем модули\n",
    "from nltk.corpus import stopwords as nltk_stopwords\n",
    "\n",
    "from sklearn.feature_extraction.text import TfidfVectorizer\n",
    "from sklearn.model_selection import (\n",
    "    train_test_split,\n",
    "    cross_val_score,\n",
    "    GridSearchCV)\n",
    "from sklearn.linear_model import LogisticRegression\n",
    "from sklearn.metrics import f1_score\n",
    "from sklearn.tree import DecisionTreeClassifier\n",
    "from sklearn.pipeline import Pipeline\n",
    "from sklearn.model_selection import RandomizedSearchCV\n",
    "\n",
    "from pprint import pprint\n",
    "\n",
    "from time import time\n",
    "\n",
    "from catboost import (\n",
    "    CatBoostClassifier,\n",
    "    Pool)\n",
    "\n",
    "warnings.filterwarnings('ignore')"
   ]
  },
  {
   "cell_type": "code",
   "execution_count": 22,
   "metadata": {},
   "outputs": [
    {
     "name": "stdout",
     "output_type": "stream",
     "text": [
      "Collecting en-core-web-sm==3.2.0\n",
      "  Downloading https://github.com/explosion/spacy-models/releases/download/en_core_web_sm-3.2.0/en_core_web_sm-3.2.0-py3-none-any.whl (13.9 MB)\n",
      "Requirement already satisfied: spacy<3.3.0,>=3.2.0 in /opt/conda/lib/python3.9/site-packages (from en-core-web-sm==3.2.0) (3.2.0)\n",
      "Requirement already satisfied: typer<0.5.0,>=0.3.0 in /opt/conda/lib/python3.9/site-packages (from spacy<3.3.0,>=3.2.0->en-core-web-sm==3.2.0) (0.4.2)\n",
      "Requirement already satisfied: spacy-loggers<2.0.0,>=1.0.0 in /opt/conda/lib/python3.9/site-packages (from spacy<3.3.0,>=3.2.0->en-core-web-sm==3.2.0) (1.0.3)\n",
      "Requirement already satisfied: spacy-legacy<3.1.0,>=3.0.8 in /opt/conda/lib/python3.9/site-packages (from spacy<3.3.0,>=3.2.0->en-core-web-sm==3.2.0) (3.0.10)\n",
      "Requirement already satisfied: preshed<3.1.0,>=3.0.2 in /opt/conda/lib/python3.9/site-packages (from spacy<3.3.0,>=3.2.0->en-core-web-sm==3.2.0) (3.0.7)\n",
      "Requirement already satisfied: wasabi<1.1.0,>=0.8.1 in /opt/conda/lib/python3.9/site-packages (from spacy<3.3.0,>=3.2.0->en-core-web-sm==3.2.0) (0.10.1)\n",
      "Requirement already satisfied: blis<0.8.0,>=0.4.0 in /opt/conda/lib/python3.9/site-packages (from spacy<3.3.0,>=3.2.0->en-core-web-sm==3.2.0) (0.7.8)\n",
      "Requirement already satisfied: pydantic!=1.8,!=1.8.1,<1.9.0,>=1.7.4 in /opt/conda/lib/python3.9/site-packages (from spacy<3.3.0,>=3.2.0->en-core-web-sm==3.2.0) (1.8.2)\n",
      "Requirement already satisfied: cymem<2.1.0,>=2.0.2 in /opt/conda/lib/python3.9/site-packages (from spacy<3.3.0,>=3.2.0->en-core-web-sm==3.2.0) (2.0.6)\n",
      "Requirement already satisfied: requests<3.0.0,>=2.13.0 in /opt/conda/lib/python3.9/site-packages (from spacy<3.3.0,>=3.2.0->en-core-web-sm==3.2.0) (2.25.1)\n",
      "Requirement already satisfied: langcodes<4.0.0,>=3.2.0 in /opt/conda/lib/python3.9/site-packages (from spacy<3.3.0,>=3.2.0->en-core-web-sm==3.2.0) (3.3.0)\n",
      "Requirement already satisfied: murmurhash<1.1.0,>=0.28.0 in /opt/conda/lib/python3.9/site-packages (from spacy<3.3.0,>=3.2.0->en-core-web-sm==3.2.0) (1.0.8)\n",
      "Requirement already satisfied: thinc<8.1.0,>=8.0.12 in /opt/conda/lib/python3.9/site-packages (from spacy<3.3.0,>=3.2.0->en-core-web-sm==3.2.0) (8.0.17)\n",
      "Requirement already satisfied: packaging>=20.0 in /opt/conda/lib/python3.9/site-packages (from spacy<3.3.0,>=3.2.0->en-core-web-sm==3.2.0) (21.3)\n",
      "Requirement already satisfied: pathy>=0.3.5 in /opt/conda/lib/python3.9/site-packages (from spacy<3.3.0,>=3.2.0->en-core-web-sm==3.2.0) (0.6.2)\n",
      "Requirement already satisfied: tqdm<5.0.0,>=4.38.0 in /opt/conda/lib/python3.9/site-packages (from spacy<3.3.0,>=3.2.0->en-core-web-sm==3.2.0) (4.61.2)\n",
      "Requirement already satisfied: numpy>=1.15.0 in /opt/conda/lib/python3.9/site-packages (from spacy<3.3.0,>=3.2.0->en-core-web-sm==3.2.0) (1.21.1)\n",
      "Requirement already satisfied: setuptools in /opt/conda/lib/python3.9/site-packages (from spacy<3.3.0,>=3.2.0->en-core-web-sm==3.2.0) (49.6.0.post20210108)\n",
      "Requirement already satisfied: jinja2 in /opt/conda/lib/python3.9/site-packages (from spacy<3.3.0,>=3.2.0->en-core-web-sm==3.2.0) (3.0.1)\n",
      "Requirement already satisfied: srsly<3.0.0,>=2.4.1 in /opt/conda/lib/python3.9/site-packages (from spacy<3.3.0,>=3.2.0->en-core-web-sm==3.2.0) (2.4.4)\n",
      "Requirement already satisfied: catalogue<2.1.0,>=2.0.6 in /opt/conda/lib/python3.9/site-packages (from spacy<3.3.0,>=3.2.0->en-core-web-sm==3.2.0) (2.0.8)\n",
      "Requirement already satisfied: pyparsing!=3.0.5,>=2.0.2 in /opt/conda/lib/python3.9/site-packages (from packaging>=20.0->spacy<3.3.0,>=3.2.0->en-core-web-sm==3.2.0) (2.4.7)\n",
      "Requirement already satisfied: smart-open<6.0.0,>=5.2.1 in /opt/conda/lib/python3.9/site-packages (from pathy>=0.3.5->spacy<3.3.0,>=3.2.0->en-core-web-sm==3.2.0) (5.2.1)\n",
      "Requirement already satisfied: typing-extensions>=3.7.4.3 in /opt/conda/lib/python3.9/site-packages (from pydantic!=1.8,!=1.8.1,<1.9.0,>=1.7.4->spacy<3.3.0,>=3.2.0->en-core-web-sm==3.2.0) (4.3.0)\n",
      "Requirement already satisfied: urllib3<1.27,>=1.21.1 in /opt/conda/lib/python3.9/site-packages (from requests<3.0.0,>=2.13.0->spacy<3.3.0,>=3.2.0->en-core-web-sm==3.2.0) (1.26.6)\n",
      "Requirement already satisfied: chardet<5,>=3.0.2 in /opt/conda/lib/python3.9/site-packages (from requests<3.0.0,>=2.13.0->spacy<3.3.0,>=3.2.0->en-core-web-sm==3.2.0) (4.0.0)\n",
      "Requirement already satisfied: idna<3,>=2.5 in /opt/conda/lib/python3.9/site-packages (from requests<3.0.0,>=2.13.0->spacy<3.3.0,>=3.2.0->en-core-web-sm==3.2.0) (2.10)\n",
      "Requirement already satisfied: certifi>=2017.4.17 in /opt/conda/lib/python3.9/site-packages (from requests<3.0.0,>=2.13.0->spacy<3.3.0,>=3.2.0->en-core-web-sm==3.2.0) (2022.6.15)\n",
      "Requirement already satisfied: click<9.0.0,>=7.1.1 in /opt/conda/lib/python3.9/site-packages (from typer<0.5.0,>=0.3.0->spacy<3.3.0,>=3.2.0->en-core-web-sm==3.2.0) (8.1.3)\n",
      "Requirement already satisfied: MarkupSafe>=2.0 in /opt/conda/lib/python3.9/site-packages (from jinja2->spacy<3.3.0,>=3.2.0->en-core-web-sm==3.2.0) (2.1.1)\n",
      "\u001b[38;5;2m✔ Download and installation successful\u001b[0m\n",
      "You can now load the package via spacy.load('en_core_web_sm')\n"
     ]
    }
   ],
   "source": [
    "spacy.cli.download('en_core_web_sm')"
   ]
  },
  {
   "cell_type": "code",
   "execution_count": 23,
   "metadata": {
    "scrolled": false
   },
   "outputs": [
    {
     "name": "stdout",
     "output_type": "stream",
     "text": [
      "<class 'pandas.core.frame.DataFrame'>\n",
      "RangeIndex: 159292 entries, 0 to 159291\n",
      "Data columns (total 3 columns):\n",
      " #   Column      Non-Null Count   Dtype \n",
      "---  ------      --------------   ----- \n",
      " 0   Unnamed: 0  159292 non-null  int64 \n",
      " 1   text        159292 non-null  object\n",
      " 2   toxic       159292 non-null  int64 \n",
      "dtypes: int64(2), object(1)\n",
      "memory usage: 3.6+ MB\n",
      "None\n"
     ]
    },
    {
     "data": {
      "text/html": [
       "<div>\n",
       "<style scoped>\n",
       "    .dataframe tbody tr th:only-of-type {\n",
       "        vertical-align: middle;\n",
       "    }\n",
       "\n",
       "    .dataframe tbody tr th {\n",
       "        vertical-align: top;\n",
       "    }\n",
       "\n",
       "    .dataframe thead th {\n",
       "        text-align: right;\n",
       "    }\n",
       "</style>\n",
       "<table border=\"1\" class=\"dataframe\">\n",
       "  <thead>\n",
       "    <tr style=\"text-align: right;\">\n",
       "      <th></th>\n",
       "      <th>Unnamed: 0</th>\n",
       "      <th>text</th>\n",
       "      <th>toxic</th>\n",
       "    </tr>\n",
       "  </thead>\n",
       "  <tbody>\n",
       "    <tr>\n",
       "      <th>0</th>\n",
       "      <td>0</td>\n",
       "      <td>Explanation\\nWhy the edits made under my usern...</td>\n",
       "      <td>0</td>\n",
       "    </tr>\n",
       "    <tr>\n",
       "      <th>1</th>\n",
       "      <td>1</td>\n",
       "      <td>D'aww! He matches this background colour I'm s...</td>\n",
       "      <td>0</td>\n",
       "    </tr>\n",
       "    <tr>\n",
       "      <th>2</th>\n",
       "      <td>2</td>\n",
       "      <td>Hey man, I'm really not trying to edit war. It...</td>\n",
       "      <td>0</td>\n",
       "    </tr>\n",
       "    <tr>\n",
       "      <th>3</th>\n",
       "      <td>3</td>\n",
       "      <td>\"\\nMore\\nI can't make any real suggestions on ...</td>\n",
       "      <td>0</td>\n",
       "    </tr>\n",
       "    <tr>\n",
       "      <th>4</th>\n",
       "      <td>4</td>\n",
       "      <td>You, sir, are my hero. Any chance you remember...</td>\n",
       "      <td>0</td>\n",
       "    </tr>\n",
       "  </tbody>\n",
       "</table>\n",
       "</div>"
      ],
      "text/plain": [
       "   Unnamed: 0                                               text  toxic\n",
       "0           0  Explanation\\nWhy the edits made under my usern...      0\n",
       "1           1  D'aww! He matches this background colour I'm s...      0\n",
       "2           2  Hey man, I'm really not trying to edit war. It...      0\n",
       "3           3  \"\\nMore\\nI can't make any real suggestions on ...      0\n",
       "4           4  You, sir, are my hero. Any chance you remember...      0"
      ]
     },
     "execution_count": 23,
     "metadata": {},
     "output_type": "execute_result"
    }
   ],
   "source": [
    "data = pd.read_csv('/datasets/toxic_comments.csv')\n",
    "print(data.info())\n",
    "data.head()"
   ]
  },
  {
   "cell_type": "code",
   "execution_count": 24,
   "metadata": {},
   "outputs": [
    {
     "name": "stdout",
     "output_type": "stream",
     "text": [
      "CPU times: user 18min 28s, sys: 3.57 s, total: 18min 32s\n",
      "Wall time: 18min 32s\n"
     ]
    }
   ],
   "source": [
    "%%time\n",
    "#Лемматизируем и очищаем текст\n",
    "lemmatizer = spacy.load('en_core_web_sm', disable=['parser', 'ner'])\n",
    "\n",
    "\n",
    "def lemmatize_text(text):\n",
    "    doc = lemmatizer(text.lower())\n",
    "    lemm_text = \" \".join([token.lemma_ for token in doc])\n",
    "    cleared_text = re.sub(r'[^a-zA-Z]', ' ', lemm_text) \n",
    "    return \" \".join(cleared_text.split())\n",
    "\n",
    "data['text'] = data['text'].apply(lemmatize_text)"
   ]
  },
  {
   "cell_type": "markdown",
   "metadata": {},
   "source": [
    "> Готово, спасибо)"
   ]
  },
  {
   "cell_type": "code",
   "execution_count": 29,
   "metadata": {},
   "outputs": [],
   "source": [
    "#Делим выборку на обучающую и тестовую в пропорции 1:1\n",
    "data_train, data_test = train_test_split(data, test_size=0.1)\n",
    "corpus_train = data_train['text'].values\n",
    "features_train = data_train.drop(['Unnamed: 0', 'toxic'], axis=1)\n",
    "corpus_test = data_test['text'].values\n",
    "features_test = data_test.drop(['Unnamed: 0', 'toxic'], axis=1)\n",
    "target_train = data_train['toxic']\n",
    "target_test = data_test['toxic']"
   ]
  },
  {
   "cell_type": "code",
   "execution_count": 31,
   "metadata": {},
   "outputs": [],
   "source": [
    "#Отдельно обучающий и валидационный сет для CatBoost\n",
    "data_train_cat, data_valid_cat = train_test_split(data_train, test_size=0.1)\n",
    "features_train_cat = data_train_cat.drop(['Unnamed: 0', 'toxic'], axis=1)\n",
    "target_train_cat = data_train_cat['toxic']\n",
    "features_valid_cat = data_valid_cat.drop(['Unnamed: 0', 'toxic'], axis=1)\n",
    "target_valid_cat = data_valid_cat['toxic']"
   ]
  },
  {
   "cell_type": "markdown",
   "metadata": {},
   "source": [
    "> Небольшой вопрос: если я пытаюсь перевести corpus_train = data_train['text'].values.astype('U') - ядро сразу умирает. Пытался перевести формат, т.к. в теоретической части есть подобный пример, но не объяснгяется зачем это нужно. Собсвенно вопросы: Для чего нужно приводить к Юникоду и нужно ли вообще, т.к. и без этого код работает (по крайней мере, у меня)). И второй: почему ядро-то умирает? Пока не удалил применение метода .astype('U') - несколько раз пробовал и ядро гибнет."
   ]
  },
  {
   "cell_type": "code",
   "execution_count": 7,
   "metadata": {},
   "outputs": [
    {
     "name": "stderr",
     "output_type": "stream",
     "text": [
      "[nltk_data] Downloading package stopwords to /home/jovyan/nltk_data...\n",
      "[nltk_data]   Package stopwords is already up-to-date!\n"
     ]
    }
   ],
   "source": [
    "#Загружаем стоп-слова\n",
    "nltk.download('stopwords')\n",
    "stopwords = set(nltk_stopwords.words('english'))\n",
    "#Создаём счетчик\n",
    "count_tf_idf = TfidfVectorizer(stop_words=stopwords)"
   ]
  },
  {
   "cell_type": "code",
   "execution_count": null,
   "metadata": {},
   "outputs": [],
   "source": [
    "#Считаем tf-idf, которую будем использовать в качестве признаков\n",
    "tf_idf = count_tf_idf.fit_transform(corpus_train)\n",
    "tf_idf_test = count_tf_idf.transform(corpus_test) "
   ]
  },
  {
   "cell_type": "markdown",
   "metadata": {},
   "source": [
    "Данные подготовленны, можно приступать к обученю моделей"
   ]
  },
  {
   "cell_type": "markdown",
   "metadata": {},
   "source": [
    "## Обучение"
   ]
  },
  {
   "cell_type": "code",
   "execution_count": 49,
   "metadata": {},
   "outputs": [
    {
     "data": {
      "text/plain": [
       "Pipeline(steps=[('vect',\n",
       "                 TfidfVectorizer(stop_words={'a', 'about', 'above', 'after',\n",
       "                                             'again', 'against', 'ain', 'all',\n",
       "                                             'am', 'an', 'and', 'any', 'are',\n",
       "                                             'aren', \"aren't\", 'as', 'at', 'be',\n",
       "                                             'because', 'been', 'before',\n",
       "                                             'being', 'below', 'between',\n",
       "                                             'both', 'but', 'by', 'can',\n",
       "                                             'couldn', \"couldn't\", ...})),\n",
       "                ('clf',\n",
       "                 LogisticRegression(class_weight='balanced', max_iter=800))])"
      ]
     },
     "execution_count": 49,
     "metadata": {},
     "output_type": "execute_result"
    }
   ],
   "source": [
    "model_LR = LogisticRegression(class_weight='balanced', max_iter=800)\n",
    "pipeline = Pipeline(\n",
    "    [\n",
    "        (\"vect\", count_tf_idf),\n",
    "        (\"clf\", model_LR),\n",
    "    ]\n",
    ")\n",
    "pipeline"
   ]
  },
  {
   "cell_type": "code",
   "execution_count": 50,
   "metadata": {},
   "outputs": [],
   "source": [
    "parameter_grid = {\n",
    "    \"vect__ngram_range\": ((1, 1), (1, 2)),  # unigrams or bigrams\n",
    "    \"clf__C\": (40, 80),\n",
    "}"
   ]
  },
  {
   "cell_type": "code",
   "execution_count": 51,
   "metadata": {},
   "outputs": [
    {
     "name": "stdout",
     "output_type": "stream",
     "text": [
      "Performing grid search...\n",
      "Hyperparameters to be evaluated:\n",
      "{'clf__C': (40, 80), 'vect__ngram_range': ((1, 1), (1, 2))}\n"
     ]
    }
   ],
   "source": [
    "random_search = RandomizedSearchCV(\n",
    "    estimator=pipeline,\n",
    "    param_distributions=parameter_grid,\n",
    "    cv=3,\n",
    "    scoring='f1',\n",
    "    verbose=1,\n",
    ")\n",
    "\n",
    "print(\"Performing grid search...\")\n",
    "print(\"Hyperparameters to be evaluated:\")\n",
    "pprint(parameter_grid)"
   ]
  },
  {
   "cell_type": "code",
   "execution_count": 52,
   "metadata": {
    "scrolled": false
   },
   "outputs": [
    {
     "name": "stdout",
     "output_type": "stream",
     "text": [
      "Fitting 3 folds for each of 4 candidates, totalling 12 fits\n",
      "Done in 3442.522s\n"
     ]
    }
   ],
   "source": [
    "t0 = time()\n",
    "random_search.fit(corpus_train, target_train)\n",
    "print(f\"Done in {time() - t0:.3f}s\")"
   ]
  },
  {
   "cell_type": "code",
   "execution_count": 53,
   "metadata": {},
   "outputs": [
    {
     "name": "stdout",
     "output_type": "stream",
     "text": [
      "Best parameters combination found:\n",
      "clf__C: 80\n",
      "vect__ngram_range: (1, 2)\n"
     ]
    }
   ],
   "source": [
    "print(\"Best parameters combination found:\")\n",
    "best_parameters = random_search.best_estimator_.get_params()\n",
    "for param_name in sorted(parameter_grid.keys()):\n",
    "    print(f\"{param_name}: {best_parameters[param_name]}\")"
   ]
  },
  {
   "cell_type": "code",
   "execution_count": 54,
   "metadata": {},
   "outputs": [
    {
     "name": "stdout",
     "output_type": "stream",
     "text": [
      "F1 of the best parameters using the inner CV of the random search: 0.791\n"
     ]
    }
   ],
   "source": [
    "print(\n",
    "    \"F1 of the best parameters using the inner CV of \"\n",
    "    f\"the random search: {random_search.best_score_:.3f}\"\n",
    ")"
   ]
  },
  {
   "cell_type": "code",
   "execution_count": null,
   "metadata": {},
   "outputs": [],
   "source": [
    "#model = LogisticRegression()\n",
    "#model.set_params(**LR_best_params)\n",
    "#model.fit(tf_idf, target_train) \n",
    "#predictions_test = model.predict(tf_idf_test)\n",
    "#f1_score_test_logreg = f1_score(predictions_test, target_test)\n",
    "#print(f'Метрика F1 для обучающей выборки для логистической регрессии равна {f1_score_train_logreg}')\n",
    "#print(f'Метрика F1 для тесовой выборки для логистической регрессии равна {f1_score_test_logreg}')"
   ]
  },
  {
   "cell_type": "code",
   "execution_count": null,
   "metadata": {},
   "outputs": [],
   "source": [
    "#model_cat = CatBoostClassifier()\n",
    "#pipeline_cat = Pipeline(\n",
    "#    [\n",
    "#        (\"vect\", count_tf_idf),\n",
    "#        (\"clf\", model_cat)\n",
    "#    ]\n",
    "#)\n",
    "#pipeline_cat"
   ]
  },
  {
   "cell_type": "code",
   "execution_count": null,
   "metadata": {},
   "outputs": [],
   "source": [
    "#parameter_grid_cat = {\n",
    "#    \"vect__ngram_range\": ((1, 2)),\n",
    "#    \"clf__text_features\": 'text'\n",
    "#}"
   ]
  },
  {
   "cell_type": "code",
   "execution_count": null,
   "metadata": {
    "scrolled": true
   },
   "outputs": [],
   "source": [
    "#random_search_cat = RandomizedSearchCV(\n",
    "#    estimator=pipeline_cat,\n",
    "#    param_distributions=parameter_grid_cat,\n",
    "#    cv=3,\n",
    "#    scoring='f1',\n",
    "#    verbose=1,\n",
    "#)\n",
    "#\n",
    "#print(\"Performing grid search...\")\n",
    "#print(\"Hyperparameters to be evaluated:\")\n",
    "#pprint(parameter_grid_cat)"
   ]
  },
  {
   "cell_type": "code",
   "execution_count": null,
   "metadata": {},
   "outputs": [],
   "source": [
    "#t0 = time()\n",
    "#random_search_cat.fit(data_train, target_train)\n",
    "#print(f\"Done in {time() - t0:.3f}s\")"
   ]
  },
  {
   "cell_type": "code",
   "execution_count": 8,
   "metadata": {},
   "outputs": [],
   "source": [
    "text_features = ['text']\n",
    "def fit_catboost(X_train, X_test, y_train, y_test, catboost_params={}, verbose=100):\n",
    "    learn_pool = Pool(\n",
    "        X_train, \n",
    "        y_train, \n",
    "        text_features=text_features,\n",
    "        feature_names=list(X_train)\n",
    "    )\n",
    "    test_pool = Pool(\n",
    "        X_test, \n",
    "        y_test, \n",
    "        text_features=text_features,\n",
    "        feature_names=list(X_train)\n",
    "    )\n",
    "    \n",
    "    catboost_default_params = {\n",
    "        'iterations': 1000,\n",
    "        'learning_rate': 0.03,\n",
    "        'eval_metric': 'Accuracy',\n",
    "    }\n",
    "    \n",
    "    catboost_default_params.update(catboost_params)\n",
    "    \n",
    "    model = CatBoostClassifier(**catboost_default_params)\n",
    "    model.fit(learn_pool, eval_set=test_pool, verbose=verbose)\n",
    "\n",
    "    return model"
   ]
  },
  {
   "cell_type": "code",
   "execution_count": 9,
   "metadata": {
    "scrolled": false
   },
   "outputs": [
    {
     "name": "stdout",
     "output_type": "stream",
     "text": [
      "0:\tlearn: 0.9418872\ttest: 0.9474786\tbest: 0.9474786 (0)\ttotal: 536ms\tremaining: 8m 55s\n",
      "100:\tlearn: 0.9511025\ttest: 0.9557788\tbest: 0.9559880 (90)\ttotal: 49.7s\tremaining: 7m 22s\n",
      "200:\tlearn: 0.9538462\ttest: 0.9573132\tbest: 0.9573830 (193)\ttotal: 1m 39s\tremaining: 6m 36s\n",
      "300:\tlearn: 0.9563728\ttest: 0.9582200\tbest: 0.9584292 (298)\ttotal: 2m 30s\tremaining: 5m 49s\n",
      "400:\tlearn: 0.9580391\ttest: 0.9595452\tbest: 0.9596847 (388)\ttotal: 3m 20s\tremaining: 4m 59s\n",
      "500:\tlearn: 0.9590312\ttest: 0.9595452\tbest: 0.9597545 (468)\ttotal: 4m 10s\tremaining: 4m 9s\n",
      "600:\tlearn: 0.9597210\ttest: 0.9598242\tbest: 0.9598940 (529)\ttotal: 4m 59s\tremaining: 3m 18s\n",
      "700:\tlearn: 0.9607053\ttest: 0.9601730\tbest: 0.9602427 (649)\ttotal: 5m 48s\tremaining: 2m 28s\n",
      "800:\tlearn: 0.9615191\ttest: 0.9603125\tbest: 0.9605217 (793)\ttotal: 6m 37s\tremaining: 1m 38s\n",
      "900:\tlearn: 0.9619686\ttest: 0.9601730\tbest: 0.9605217 (793)\ttotal: 7m 26s\tremaining: 49.1s\n",
      "999:\tlearn: 0.9623949\ttest: 0.9601032\tbest: 0.9605217 (793)\ttotal: 8m 15s\tremaining: 0us\n",
      "\n",
      "bestTest = 0.960521727\n",
      "bestIteration = 793\n",
      "\n",
      "Shrink model to first 794 iterations.\n",
      "CPU times: user 7min 30s, sys: 54.1 s, total: 8min 24s\n",
      "Wall time: 8min 26s\n"
     ]
    }
   ],
   "source": [
    "%%time\n",
    "model = fit_catboost(features_train_cat, features_valid_cat, target_train_cat, target_valid_cat)"
   ]
  },
  {
   "cell_type": "code",
   "execution_count": 41,
   "metadata": {},
   "outputs": [],
   "source": [
    "predictions_valid = model.predict(features_valid_cat)"
   ]
  },
  {
   "cell_type": "code",
   "execution_count": 46,
   "metadata": {},
   "outputs": [],
   "source": [
    "predictions_train = model.predict(features_train_cat)"
   ]
  },
  {
   "cell_type": "code",
   "execution_count": 57,
   "metadata": {},
   "outputs": [],
   "source": [
    "f1_score_cat = f1_score(target_valid_cat, predictions_valid)"
   ]
  },
  {
   "cell_type": "code",
   "execution_count": 48,
   "metadata": {},
   "outputs": [
    {
     "data": {
      "text/plain": [
       "0.813804643380046"
      ]
     },
     "execution_count": 48,
     "metadata": {},
     "output_type": "execute_result"
    }
   ],
   "source": [
    "f1_score(target_train_cat, predictions_train)"
   ]
  },
  {
   "cell_type": "code",
   "execution_count": 55,
   "metadata": {
    "scrolled": false
   },
   "outputs": [],
   "source": [
    "#%%time\n",
    "##Обучим дерево решений, подберём лучшие гиперпараметры и проверим на тестовой выборке\n",
    "#DTC = DecisionTreeClassifier()\n",
    "#hyperparams = [{'max_depth': range(45, 100, 10),\n",
    "#                'min_samples_split': [2, 3],\n",
    "#                'class_weight': ['balanced'],\n",
    "#                'min_samples_leaf': [1, 2]}]\n",
    "#\n",
    "#dtc_model = GridSearchCV(DTC, hyperparams, scoring='f1')\n",
    "#dtc_model.fit(tf_idf, target_train)\n",
    "#DTC_best_params = dtc_model.best_params_\n",
    "#means = dtc_model.cv_results_['mean_test_score']\n",
    "#stds = dtc_model.cv_results_['std_test_score']\n",
    "#for mean, std, params in zip(means, stds, dtc_model.cv_results_['params']):\n",
    "#    print(\"%0.6f for %r\"% (mean, params))\n",
    "#print(f'Лучшие параметры для логистической регрессии: {DTC_best_params}')\n",
    "#\n",
    "#f1_score_train_DTC = max(means)\n",
    "f1_score_train_DTC = 0.63"
   ]
  },
  {
   "cell_type": "code",
   "execution_count": null,
   "metadata": {},
   "outputs": [],
   "source": [
    "#model = DecisionTreeClassifier()\n",
    "#model.set_params(**DTC_best_params)\n",
    "#model.fit(tf_idf, target_train)\n",
    "#predictions_test = model.predict(tf_idf_test)\n",
    "#f1_score_test_DTC = f1_score(predictions_test, target_test)\n",
    "#print(f'Метрика F1 для обучающей выборки для логистической регрессии равна {f1_score_train_DTC}')\n",
    "#print(f'Метрика F1 для тесовой выборки для логистической регрессии равна {f1_score_test_DTC}')"
   ]
  },
  {
   "cell_type": "code",
   "execution_count": 59,
   "metadata": {},
   "outputs": [
    {
     "data": {
      "text/plain": [
       "Text(0.5, 1.0, 'F1 на обучающей выборке')"
      ]
     },
     "execution_count": 59,
     "metadata": {},
     "output_type": "execute_result"
    },
    {
     "data": {
      "image/png": "[encoded data removed]",
      "text/plain": [
       "<Figure size 1080x504 with 1 Axes>"
      ]
     },
     "metadata": {
      "needs_background": "light"
     },
     "output_type": "display_data"
    }
   ],
   "source": [
    "f1_train = [random_search.best_score_, f1_score_cat, f1_score_train_DTC]\n",
    "models = ['Logistic Regression', 'CatBoost', 'Decision Tree Classifier']\n",
    "fig, ax1 = plt.subplots(figsize=(15, 7))\n",
    "ax1.bar(models, f1_train)\n",
    "ax1.set_title('F1 на обучающей выборке')"
   ]
  },
  {
   "cell_type": "markdown",
   "metadata": {},
   "source": [
    "CatBoost на валидационной выборке показала лучшие результаты метрики f1, протестируем её на тестовой выборке."
   ]
  },
  {
   "cell_type": "code",
   "execution_count": 60,
   "metadata": {},
   "outputs": [
    {
     "data": {
      "text/plain": [
       "0.810038340885326"
      ]
     },
     "execution_count": 60,
     "metadata": {},
     "output_type": "execute_result"
    }
   ],
   "source": [
    "predictions_test = model.predict(features_test)\n",
    "f1_score(target_test, predictions_test)"
   ]
  },
  {
   "cell_type": "markdown",
   "metadata": {},
   "source": [
    "## Выводы"
   ]
  },
  {
   "cell_type": "markdown",
   "metadata": {},
   "source": [
    "Для выполнения задачи классификации было принято решение использовать преобразованные при помощи tf-idf данные.  \n",
    "На основании полученных признаков были обучены и настроены гиперпараметры нескольких моделей: логистическая регрессия, градиентный бустинг и дерево решений. По итогу модели обладают следующими качествами:  \n",
    "\n",
    "Логистическая регрессия.  \n",
    "- длительное время подбора гиперпараметров: даже при переборе нескольких гиперпараметров в небольшом диапазоне, работа кода занимает более двух часов\n",
    "- удовлетворительная метрика f1 (0.79) \n",
    "\n",
    "Градиентный бустинг CatBoost\n",
    "- бытрое время обучения без перебора гиперпараметров: не более 10 минут\n",
    "- лучшая метрика f1 (0.81)  \n",
    "\n",
    "Дерево решений\n",
    "- удовлетворительное время подбора гиперпараметров через GridSearch (около часа)\n",
    "- неудовлетворительная метрика f1 (0.63)\n",
    "  \n",
    "**Задача выполненна: лучшая модель, подходящая по условиям - градиентный бустинг CatBoost**"
   ]
  }
 ],
 "metadata": {
  "ExecuteTimeLog": [
   {
    "duration": 414,
    "start_time": "2023-01-14T12:12:52.817Z"
   },
   {
    "duration": 109,
    "start_time": "2023-01-14T12:13:09.306Z"
   },
   {
    "duration": 3614,
    "start_time": "2023-01-14T12:13:23.496Z"
   },
   {
    "duration": 857,
    "start_time": "2023-01-14T12:13:28.969Z"
   },
   {
    "duration": 908,
    "start_time": "2023-01-14T12:13:35.555Z"
   },
   {
    "duration": 7,
    "start_time": "2023-01-14T12:13:58.005Z"
   },
   {
    "duration": 2,
    "start_time": "2023-01-14T12:14:04.815Z"
   },
   {
    "duration": 850,
    "start_time": "2023-01-14T12:19:15.399Z"
   },
   {
    "duration": 921,
    "start_time": "2023-01-14T12:23:48.793Z"
   },
   {
    "duration": 884,
    "start_time": "2023-01-14T12:24:00.426Z"
   },
   {
    "duration": 866,
    "start_time": "2023-01-14T12:24:09.875Z"
   },
   {
    "duration": 910,
    "start_time": "2023-01-14T12:24:15.025Z"
   },
   {
    "duration": 1995,
    "start_time": "2023-01-14T12:24:20.354Z"
   },
   {
    "duration": 1420,
    "start_time": "2023-01-14T12:25:22.368Z"
   },
   {
    "duration": 3839,
    "start_time": "2023-01-14T12:25:23.789Z"
   },
   {
    "duration": 2006,
    "start_time": "2023-01-14T12:25:27.630Z"
   },
   {
    "duration": 1333,
    "start_time": "2023-01-14T12:26:23.723Z"
   },
   {
    "duration": 3608,
    "start_time": "2023-01-14T12:26:25.058Z"
   },
   {
    "duration": 3217,
    "start_time": "2023-01-14T12:26:28.667Z"
   },
   {
    "duration": 454,
    "start_time": "2023-01-14T12:30:55.649Z"
   },
   {
    "duration": 0,
    "start_time": "2023-01-14T14:53:11.228Z"
   },
   {
    "duration": 68,
    "start_time": "2023-01-14T15:08:07.544Z"
   },
   {
    "duration": 1355,
    "start_time": "2023-01-14T15:08:12.929Z"
   },
   {
    "duration": 3837,
    "start_time": "2023-01-14T15:08:14.286Z"
   },
   {
    "duration": 30,
    "start_time": "2023-01-14T15:08:18.125Z"
   },
   {
    "duration": 3,
    "start_time": "2023-01-14T15:09:14.459Z"
   },
   {
    "duration": 134,
    "start_time": "2023-01-14T15:09:48.130Z"
   },
   {
    "duration": 6,
    "start_time": "2023-01-14T15:10:16.560Z"
   },
   {
    "duration": 9,
    "start_time": "2023-01-14T15:10:24.491Z"
   },
   {
    "duration": 1396618,
    "start_time": "2023-01-14T15:10:42.931Z"
   },
   {
    "duration": 20,
    "start_time": "2023-01-14T16:13:54.949Z"
   },
   {
    "duration": 691896,
    "start_time": "2023-01-14T16:14:30.587Z"
   },
   {
    "duration": 79,
    "start_time": "2023-01-14T16:31:39.820Z"
   },
   {
    "duration": 3,
    "start_time": "2023-01-14T16:31:44.907Z"
   },
   {
    "duration": 1770,
    "start_time": "2023-01-14T16:31:47.985Z"
   },
   {
    "duration": 4,
    "start_time": "2023-01-14T16:32:08.073Z"
   },
   {
    "duration": 5543,
    "start_time": "2023-01-14T16:32:11.246Z"
   },
   {
    "duration": 8,
    "start_time": "2023-01-14T16:32:35.102Z"
   },
   {
    "duration": 3,
    "start_time": "2023-01-14T16:34:23.875Z"
   },
   {
    "duration": 847,
    "start_time": "2023-01-14T16:34:25.335Z"
   },
   {
    "duration": 19,
    "start_time": "2023-01-14T16:34:27.272Z"
   },
   {
    "duration": 4,
    "start_time": "2023-01-14T16:34:39.008Z"
   },
   {
    "duration": 873,
    "start_time": "2023-01-14T16:34:39.505Z"
   },
   {
    "duration": 5587,
    "start_time": "2023-01-14T16:34:41.121Z"
   },
   {
    "duration": 9,
    "start_time": "2023-01-14T16:34:46.710Z"
   },
   {
    "duration": 6874,
    "start_time": "2023-01-14T16:38:38.239Z"
   },
   {
    "duration": 238,
    "start_time": "2023-01-14T16:38:45.116Z"
   },
   {
    "duration": 56,
    "start_time": "2023-01-15T08:04:23.373Z"
   },
   {
    "duration": 2027,
    "start_time": "2023-01-15T08:04:28.669Z"
   },
   {
    "duration": 2595,
    "start_time": "2023-01-15T08:04:30.699Z"
   },
   {
    "duration": 8642,
    "start_time": "2023-01-15T08:04:33.296Z"
   },
   {
    "duration": 215,
    "start_time": "2023-01-15T08:04:41.940Z"
   },
   {
    "duration": 13,
    "start_time": "2023-01-15T08:04:42.157Z"
   },
   {
    "duration": 91,
    "start_time": "2023-01-15T08:12:57.325Z"
   },
   {
    "duration": 4,
    "start_time": "2023-01-15T08:13:58.661Z"
   },
   {
    "duration": 5,
    "start_time": "2023-01-15T08:14:48.248Z"
   },
   {
    "duration": 27,
    "start_time": "2023-01-15T08:14:52.948Z"
   },
   {
    "duration": 1909,
    "start_time": "2023-01-15T08:16:10.967Z"
   },
   {
    "duration": 2501,
    "start_time": "2023-01-15T08:16:12.878Z"
   },
   {
    "duration": 8943,
    "start_time": "2023-01-15T08:16:15.381Z"
   },
   {
    "duration": 204,
    "start_time": "2023-01-15T08:16:24.326Z"
   },
   {
    "duration": 10,
    "start_time": "2023-01-15T08:16:24.533Z"
   },
   {
    "duration": 2416,
    "start_time": "2023-01-15T08:17:29.176Z"
   },
   {
    "duration": 2513,
    "start_time": "2023-01-15T08:17:31.594Z"
   },
   {
    "duration": 8903,
    "start_time": "2023-01-15T08:17:34.109Z"
   },
   {
    "duration": 155,
    "start_time": "2023-01-15T08:17:43.014Z"
   },
   {
    "duration": 10,
    "start_time": "2023-01-15T08:17:43.170Z"
   },
   {
    "duration": 2135,
    "start_time": "2023-01-15T08:18:10.881Z"
   },
   {
    "duration": 2476,
    "start_time": "2023-01-15T08:18:13.019Z"
   },
   {
    "duration": 8792,
    "start_time": "2023-01-15T08:18:17.733Z"
   },
   {
    "duration": 217,
    "start_time": "2023-01-15T08:18:28.031Z"
   },
   {
    "duration": 1851,
    "start_time": "2023-01-15T08:19:12.091Z"
   },
   {
    "duration": 2426,
    "start_time": "2023-01-15T08:19:13.944Z"
   },
   {
    "duration": 8867,
    "start_time": "2023-01-15T08:19:16.372Z"
   },
   {
    "duration": 207,
    "start_time": "2023-01-15T08:19:25.241Z"
   },
   {
    "duration": 26,
    "start_time": "2023-01-15T08:19:25.450Z"
   },
   {
    "duration": 18,
    "start_time": "2023-01-15T08:19:30.653Z"
   },
   {
    "duration": 13,
    "start_time": "2023-01-15T08:19:41.757Z"
   },
   {
    "duration": 3,
    "start_time": "2023-01-15T08:19:56.249Z"
   },
   {
    "duration": 5,
    "start_time": "2023-01-15T08:20:01.477Z"
   },
   {
    "duration": 3,
    "start_time": "2023-01-15T08:20:09.569Z"
   },
   {
    "duration": 49,
    "start_time": "2023-01-15T08:23:05.196Z"
   },
   {
    "duration": 1824,
    "start_time": "2023-01-15T08:23:15.150Z"
   },
   {
    "duration": 2389,
    "start_time": "2023-01-15T08:23:16.976Z"
   },
   {
    "duration": 8380,
    "start_time": "2023-01-15T08:23:19.367Z"
   },
   {
    "duration": 143,
    "start_time": "2023-01-15T08:23:27.749Z"
   },
   {
    "duration": 25,
    "start_time": "2023-01-15T08:23:27.894Z"
   },
   {
    "duration": 4,
    "start_time": "2023-01-15T08:23:27.920Z"
   },
   {
    "duration": 9,
    "start_time": "2023-01-15T08:24:12.226Z"
   },
   {
    "duration": 231,
    "start_time": "2023-01-15T08:25:02.978Z"
   },
   {
    "duration": 1769,
    "start_time": "2023-01-15T08:25:10.388Z"
   },
   {
    "duration": 2350,
    "start_time": "2023-01-15T08:25:12.159Z"
   },
   {
    "duration": 8427,
    "start_time": "2023-01-15T08:25:14.510Z"
   },
   {
    "duration": 12,
    "start_time": "2023-01-15T08:26:41.952Z"
   },
   {
    "duration": 16,
    "start_time": "2023-01-15T08:27:18.230Z"
   },
   {
    "duration": 49,
    "start_time": "2023-01-15T08:30:28.809Z"
   },
   {
    "duration": 1658,
    "start_time": "2023-01-15T08:30:32.903Z"
   },
   {
    "duration": 2351,
    "start_time": "2023-01-15T08:30:34.563Z"
   },
   {
    "duration": 6898,
    "start_time": "2023-01-15T08:30:36.916Z"
   },
   {
    "duration": 26,
    "start_time": "2023-01-15T08:30:43.817Z"
   },
   {
    "duration": 3,
    "start_time": "2023-01-15T08:34:40.060Z"
   },
   {
    "duration": 812,
    "start_time": "2023-01-15T08:34:40.493Z"
   },
   {
    "duration": 5483,
    "start_time": "2023-01-15T08:34:41.307Z"
   },
   {
    "duration": 51,
    "start_time": "2023-01-15T08:34:46.792Z"
   },
   {
    "duration": 1372,
    "start_time": "2023-01-15T08:34:49.036Z"
   },
   {
    "duration": 888,
    "start_time": "2023-01-15T08:34:50.410Z"
   },
   {
    "duration": 7194,
    "start_time": "2023-01-15T08:34:51.299Z"
   },
   {
    "duration": 49,
    "start_time": "2023-01-15T08:34:58.497Z"
   },
   {
    "duration": 214,
    "start_time": "2023-01-15T08:36:24.082Z"
   },
   {
    "duration": 5875,
    "start_time": "2023-01-15T08:36:33.789Z"
   },
   {
    "duration": 136,
    "start_time": "2023-01-15T08:41:46.324Z"
   },
   {
    "duration": 4,
    "start_time": "2023-01-15T08:41:51.716Z"
   },
   {
    "duration": 11,
    "start_time": "2023-01-15T08:41:55.661Z"
   },
   {
    "duration": 12,
    "start_time": "2023-01-15T08:42:13.242Z"
   },
   {
    "duration": 4,
    "start_time": "2023-01-15T08:42:59.714Z"
   },
   {
    "duration": 11,
    "start_time": "2023-01-15T08:43:03.585Z"
   },
   {
    "duration": 177401,
    "start_time": "2023-01-15T08:43:13.999Z"
   },
   {
    "duration": 45515,
    "start_time": "2023-01-15T08:46:27.171Z"
   },
   {
    "duration": 1380,
    "start_time": "2023-01-15T08:47:23.238Z"
   },
   {
    "duration": 8,
    "start_time": "2023-01-15T08:47:36.369Z"
   },
   {
    "duration": 3,
    "start_time": "2023-01-15T08:50:29.741Z"
   },
   {
    "duration": 807,
    "start_time": "2023-01-15T08:50:30.277Z"
   },
   {
    "duration": 5714,
    "start_time": "2023-01-15T08:50:31.087Z"
   },
   {
    "duration": 1318,
    "start_time": "2023-01-15T08:50:41.383Z"
   },
   {
    "duration": 873,
    "start_time": "2023-01-15T08:50:42.702Z"
   },
   {
    "duration": 7011,
    "start_time": "2023-01-15T08:50:43.578Z"
   },
   {
    "duration": 27,
    "start_time": "2023-01-15T08:50:50.591Z"
   },
   {
    "duration": 202,
    "start_time": "2023-01-15T08:50:54.019Z"
   },
   {
    "duration": 3784,
    "start_time": "2023-01-15T08:50:57.351Z"
   },
   {
    "duration": 34914,
    "start_time": "2023-01-15T08:51:02.172Z"
   },
   {
    "duration": 3305,
    "start_time": "2023-01-15T08:51:37.177Z"
   },
   {
    "duration": 11,
    "start_time": "2023-01-15T08:51:40.484Z"
   },
   {
    "duration": 4,
    "start_time": "2023-01-15T08:52:17.731Z"
   },
   {
    "duration": 24,
    "start_time": "2023-01-15T08:53:09.939Z"
   },
   {
    "duration": 4,
    "start_time": "2023-01-15T08:58:23.724Z"
   },
   {
    "duration": 797,
    "start_time": "2023-01-15T08:58:32.588Z"
   },
   {
    "duration": 822,
    "start_time": "2023-01-15T08:58:47.538Z"
   },
   {
    "duration": 782,
    "start_time": "2023-01-15T08:58:54.019Z"
   },
   {
    "duration": 786,
    "start_time": "2023-01-15T08:59:19.265Z"
   },
   {
    "duration": 5686,
    "start_time": "2023-01-15T08:59:48.588Z"
   },
   {
    "duration": 1509,
    "start_time": "2023-01-15T09:00:00.008Z"
   },
   {
    "duration": 943,
    "start_time": "2023-01-15T09:00:01.519Z"
   },
   {
    "duration": 6919,
    "start_time": "2023-01-15T09:00:44.967Z"
   },
   {
    "duration": 27,
    "start_time": "2023-01-15T09:01:32.542Z"
   },
   {
    "duration": 208,
    "start_time": "2023-01-15T09:03:54.672Z"
   },
   {
    "duration": 116,
    "start_time": "2023-01-15T09:12:12.839Z"
   },
   {
    "duration": 3682,
    "start_time": "2023-01-15T09:12:16.646Z"
   },
   {
    "duration": 138591,
    "start_time": "2023-01-15T09:12:24.695Z"
   },
   {
    "duration": 121459,
    "start_time": "2023-01-15T09:19:10.920Z"
   },
   {
    "duration": 5,
    "start_time": "2023-01-15T09:30:39.263Z"
   },
   {
    "duration": 3359256,
    "start_time": "2023-01-15T09:35:12.682Z"
   },
   {
    "duration": 6,
    "start_time": "2023-01-15T13:27:07.057Z"
   },
   {
    "duration": 6,
    "start_time": "2023-01-15T13:27:16.195Z"
   },
   {
    "duration": 13,
    "start_time": "2023-01-15T13:31:53.132Z"
   },
   {
    "duration": 6,
    "start_time": "2023-01-15T13:32:18.539Z"
   },
   {
    "duration": 12,
    "start_time": "2023-01-15T13:32:23.883Z"
   },
   {
    "duration": 5706001,
    "start_time": "2023-01-15T13:32:31.278Z"
   },
   {
    "duration": 128,
    "start_time": "2023-01-15T15:07:37.281Z"
   },
   {
    "duration": 57,
    "start_time": "2023-01-15T15:10:07.246Z"
   },
   {
    "duration": 54,
    "start_time": "2023-01-15T15:10:12.201Z"
   },
   {
    "duration": 199583,
    "start_time": "2023-01-15T15:10:16.501Z"
   },
   {
    "duration": 7148,
    "start_time": "2023-01-15T15:13:55.467Z"
   },
   {
    "duration": 1270379,
    "start_time": "2023-01-15T15:14:08.096Z"
   },
   {
    "duration": 33,
    "start_time": "2023-01-15T15:59:22.904Z"
   },
   {
    "duration": 27,
    "start_time": "2023-01-15T15:59:35.718Z"
   },
   {
    "duration": 2947447,
    "start_time": "2023-01-15T15:59:54.527Z"
   },
   {
    "duration": 12,
    "start_time": "2023-01-15T16:49:01.978Z"
   },
   {
    "duration": 23331,
    "start_time": "2023-01-15T17:17:44.696Z"
   },
   {
    "duration": 22553,
    "start_time": "2023-01-15T17:18:30.193Z"
   },
   {
    "duration": 5,
    "start_time": "2023-01-15T17:19:43.550Z"
   },
   {
    "duration": 164571,
    "start_time": "2023-01-15T17:26:46.047Z"
   },
   {
    "duration": 2521520,
    "start_time": "2023-01-15T17:31:41.139Z"
   },
   {
    "duration": 34,
    "start_time": "2023-01-15T18:13:42.662Z"
   },
   {
    "duration": 0,
    "start_time": "2023-01-15T18:13:42.698Z"
   },
   {
    "duration": 27,
    "start_time": "2023-01-15T18:16:20.491Z"
   },
   {
    "duration": 60,
    "start_time": "2023-01-15T18:16:44.663Z"
   },
   {
    "duration": 28,
    "start_time": "2023-01-15T18:17:12.250Z"
   },
   {
    "duration": 96,
    "start_time": "2023-01-15T18:17:47.975Z"
   },
   {
    "duration": 4997115,
    "start_time": "2023-01-15T18:18:26.549Z"
   },
   {
    "duration": 12,
    "start_time": "2023-01-15T19:41:43.666Z"
   },
   {
    "duration": 0,
    "start_time": "2023-01-15T19:41:43.679Z"
   },
   {
    "duration": 16,
    "start_time": "2023-01-15T19:41:52.842Z"
   },
   {
    "duration": 6,
    "start_time": "2023-01-15T19:42:26.405Z"
   },
   {
    "duration": 460,
    "start_time": "2023-01-15T19:42:35.839Z"
   },
   {
    "duration": 7,
    "start_time": "2023-01-15T19:42:41.561Z"
   },
   {
    "duration": 75027,
    "start_time": "2023-01-15T19:43:08.092Z"
   },
   {
    "duration": 14,
    "start_time": "2023-01-15T19:44:23.123Z"
   },
   {
    "duration": 0,
    "start_time": "2023-01-15T19:44:23.139Z"
   },
   {
    "duration": 3520017,
    "start_time": "2023-01-15T19:44:36.770Z"
   },
   {
    "duration": 47017,
    "start_time": "2023-01-15T20:43:16.790Z"
   },
   {
    "duration": 252,
    "start_time": "2023-01-15T20:44:03.810Z"
   },
   {
    "duration": 4906,
    "start_time": "2023-01-16T07:32:16.091Z"
   },
   {
    "duration": 355,
    "start_time": "2023-01-16T07:34:27.189Z"
   },
   {
    "duration": 709,
    "start_time": "2023-01-16T07:35:01.506Z"
   },
   {
    "duration": 563,
    "start_time": "2023-01-16T07:36:28.784Z"
   },
   {
    "duration": 477,
    "start_time": "2023-01-16T07:36:54.900Z"
   },
   {
    "duration": 4116,
    "start_time": "2023-01-16T07:37:09.014Z"
   },
   {
    "duration": 2438,
    "start_time": "2023-01-16T07:37:13.131Z"
   },
   {
    "duration": 1072,
    "start_time": "2023-01-16T07:37:19.010Z"
   },
   {
    "duration": 775,
    "start_time": "2023-01-16T07:37:52.341Z"
   },
   {
    "duration": 439,
    "start_time": "2023-01-16T07:38:40.744Z"
   },
   {
    "duration": 601,
    "start_time": "2023-01-16T07:39:44.667Z"
   },
   {
    "duration": 1075,
    "start_time": "2023-01-16T07:40:12.665Z"
   },
   {
    "duration": 68,
    "start_time": "2023-01-16T07:41:41.806Z"
   },
   {
    "duration": 26,
    "start_time": "2023-01-16T07:42:43.562Z"
   },
   {
    "duration": 3502,
    "start_time": "2023-01-16T07:42:53.550Z"
   },
   {
    "duration": 3234,
    "start_time": "2023-01-16T07:43:35.039Z"
   },
   {
    "duration": 3322,
    "start_time": "2023-01-16T07:45:09.207Z"
   },
   {
    "duration": 2930,
    "start_time": "2023-01-16T07:45:37.413Z"
   },
   {
    "duration": 422,
    "start_time": "2023-01-16T07:45:46.785Z"
   },
   {
    "duration": 432,
    "start_time": "2023-01-16T07:48:59.421Z"
   },
   {
    "duration": 449,
    "start_time": "2023-01-16T07:49:39.159Z"
   },
   {
    "duration": 645,
    "start_time": "2023-01-16T07:50:13.562Z"
   },
   {
    "duration": 93,
    "start_time": "2023-01-16T07:50:54.437Z"
   },
   {
    "duration": 707,
    "start_time": "2023-01-16T07:51:02.092Z"
   },
   {
    "duration": 395,
    "start_time": "2023-01-16T07:52:22.338Z"
   },
   {
    "duration": 400,
    "start_time": "2023-01-16T07:52:56.670Z"
   },
   {
    "duration": 400,
    "start_time": "2023-01-16T07:53:11.609Z"
   },
   {
    "duration": 451,
    "start_time": "2023-01-16T07:53:26.421Z"
   },
   {
    "duration": 435,
    "start_time": "2023-01-16T08:09:40.313Z"
   },
   {
    "duration": 439,
    "start_time": "2023-01-16T08:10:02.056Z"
   },
   {
    "duration": 461,
    "start_time": "2023-01-16T08:11:06.815Z"
   },
   {
    "duration": 614,
    "start_time": "2023-01-16T08:11:17.969Z"
   },
   {
    "duration": 397,
    "start_time": "2023-01-16T08:11:29.269Z"
   },
   {
    "duration": 396,
    "start_time": "2023-01-16T08:11:32.830Z"
   },
   {
    "duration": 423,
    "start_time": "2023-01-16T08:12:54.139Z"
   },
   {
    "duration": 561,
    "start_time": "2023-01-16T08:13:12.163Z"
   },
   {
    "duration": 406,
    "start_time": "2023-01-16T08:13:17.727Z"
   },
   {
    "duration": 394,
    "start_time": "2023-01-16T08:13:56.265Z"
   },
   {
    "duration": 417,
    "start_time": "2023-01-16T08:14:03.543Z"
   },
   {
    "duration": 663,
    "start_time": "2023-01-16T08:14:26.643Z"
   },
   {
    "duration": 448,
    "start_time": "2023-01-16T08:14:34.727Z"
   },
   {
    "duration": 439,
    "start_time": "2023-01-16T08:14:47.884Z"
   },
   {
    "duration": 425,
    "start_time": "2023-01-16T08:19:18.470Z"
   },
   {
    "duration": 449,
    "start_time": "2023-01-16T08:19:41.950Z"
   },
   {
    "duration": 4105,
    "start_time": "2023-01-16T08:20:42.798Z"
   },
   {
    "duration": 3317,
    "start_time": "2023-01-16T08:20:46.905Z"
   },
   {
    "duration": 858,
    "start_time": "2023-01-16T08:20:50.224Z"
   },
   {
    "duration": 1054270,
    "start_time": "2023-01-16T08:20:59.248Z"
   },
   {
    "duration": 26,
    "start_time": "2023-01-16T08:40:44.713Z"
   },
   {
    "duration": 150,
    "start_time": "2023-01-16T08:41:12.012Z"
   },
   {
    "duration": 6303,
    "start_time": "2023-01-16T08:41:15.073Z"
   },
   {
    "duration": 7,
    "start_time": "2023-01-16T08:41:44.766Z"
   },
   {
    "duration": 361,
    "start_time": "2023-01-16T09:09:37.679Z"
   },
   {
    "duration": 5,
    "start_time": "2023-01-16T09:09:43.896Z"
   },
   {
    "duration": 6,
    "start_time": "2023-01-16T09:09:49.403Z"
   },
   {
    "duration": 4,
    "start_time": "2023-01-16T09:19:16.332Z"
   },
   {
    "duration": 4,
    "start_time": "2023-01-16T09:24:25.909Z"
   },
   {
    "duration": 6,
    "start_time": "2023-01-16T09:45:00.251Z"
   },
   {
    "duration": 10,
    "start_time": "2023-01-16T09:46:13.577Z"
   },
   {
    "duration": 28,
    "start_time": "2023-01-16T09:46:39.573Z"
   },
   {
    "duration": 8,
    "start_time": "2023-01-16T09:46:43.927Z"
   },
   {
    "duration": 3,
    "start_time": "2023-01-16T09:46:49.181Z"
   },
   {
    "duration": 5,
    "start_time": "2023-01-16T09:47:05.833Z"
   },
   {
    "duration": 10271,
    "start_time": "2023-01-16T09:47:15.374Z"
   },
   {
    "duration": 0,
    "start_time": "2023-01-16T09:53:39.233Z"
   },
   {
    "duration": 0,
    "start_time": "2023-01-16T09:53:39.234Z"
   },
   {
    "duration": 0,
    "start_time": "2023-01-16T09:53:39.236Z"
   },
   {
    "duration": 0,
    "start_time": "2023-01-16T09:53:39.237Z"
   },
   {
    "duration": 8,
    "start_time": "2023-01-16T09:53:49.591Z"
   },
   {
    "duration": 3,
    "start_time": "2023-01-16T09:53:52.144Z"
   },
   {
    "duration": 6,
    "start_time": "2023-01-16T09:53:55.914Z"
   },
   {
    "duration": 191833,
    "start_time": "2023-01-16T09:53:58.045Z"
   },
   {
    "duration": 0,
    "start_time": "2023-01-16T09:57:09.880Z"
   },
   {
    "duration": 0,
    "start_time": "2023-01-16T09:57:09.881Z"
   },
   {
    "duration": 9,
    "start_time": "2023-01-16T09:57:28.289Z"
   },
   {
    "duration": 3,
    "start_time": "2023-01-16T09:57:28.868Z"
   },
   {
    "duration": 5,
    "start_time": "2023-01-16T09:57:29.171Z"
   },
   {
    "duration": 172605,
    "start_time": "2023-01-16T09:57:29.796Z"
   },
   {
    "duration": 0,
    "start_time": "2023-01-16T10:00:22.403Z"
   },
   {
    "duration": 0,
    "start_time": "2023-01-16T10:00:22.405Z"
   },
   {
    "duration": 8,
    "start_time": "2023-01-16T10:00:32.835Z"
   },
   {
    "duration": 3,
    "start_time": "2023-01-16T10:00:34.046Z"
   },
   {
    "duration": 5,
    "start_time": "2023-01-16T10:00:34.716Z"
   },
   {
    "duration": 132764,
    "start_time": "2023-01-16T10:00:35.907Z"
   },
   {
    "duration": 3,
    "start_time": "2023-01-16T10:03:27.258Z"
   },
   {
    "duration": 6,
    "start_time": "2023-01-16T10:03:28.554Z"
   },
   {
    "duration": 10241,
    "start_time": "2023-01-16T10:03:31.850Z"
   },
   {
    "duration": 10,
    "start_time": "2023-01-16T10:03:47.913Z"
   },
   {
    "duration": 3,
    "start_time": "2023-01-16T10:03:48.592Z"
   },
   {
    "duration": 4,
    "start_time": "2023-01-16T10:03:49.804Z"
   },
   {
    "duration": 44919,
    "start_time": "2023-01-16T10:03:50.819Z"
   },
   {
    "duration": 9,
    "start_time": "2023-01-16T10:04:45.961Z"
   },
   {
    "duration": 3,
    "start_time": "2023-01-16T10:04:46.453Z"
   },
   {
    "duration": 5,
    "start_time": "2023-01-16T10:04:47.027Z"
   },
   {
    "duration": 268143,
    "start_time": "2023-01-16T10:04:47.988Z"
   },
   {
    "duration": 0,
    "start_time": "2023-01-16T10:09:16.132Z"
   },
   {
    "duration": 0,
    "start_time": "2023-01-16T10:09:16.134Z"
   },
   {
    "duration": 9,
    "start_time": "2023-01-16T10:11:56.472Z"
   },
   {
    "duration": 3,
    "start_time": "2023-01-16T10:11:56.988Z"
   },
   {
    "duration": 93,
    "start_time": "2023-01-16T10:11:57.024Z"
   },
   {
    "duration": 0,
    "start_time": "2023-01-16T10:11:57.118Z"
   },
   {
    "duration": 0,
    "start_time": "2023-01-16T10:11:57.119Z"
   },
   {
    "duration": 0,
    "start_time": "2023-01-16T10:11:57.120Z"
   },
   {
    "duration": 18,
    "start_time": "2023-01-16T10:11:57.266Z"
   },
   {
    "duration": 3,
    "start_time": "2023-01-16T10:11:57.392Z"
   },
   {
    "duration": 41044,
    "start_time": "2023-01-16T10:11:57.413Z"
   },
   {
    "duration": 3896,
    "start_time": "2023-01-16T10:14:07.519Z"
   },
   {
    "duration": 4574,
    "start_time": "2023-01-16T10:14:11.417Z"
   },
   {
    "duration": 884,
    "start_time": "2023-01-16T10:14:15.993Z"
   },
   {
    "duration": 1065476,
    "start_time": "2023-01-16T10:14:16.880Z"
   },
   {
    "duration": 7,
    "start_time": "2023-01-16T10:32:02.358Z"
   },
   {
    "duration": 34,
    "start_time": "2023-01-16T10:32:02.366Z"
   },
   {
    "duration": 209,
    "start_time": "2023-01-16T10:32:02.401Z"
   },
   {
    "duration": 6853,
    "start_time": "2023-01-16T10:32:02.611Z"
   },
   {
    "duration": 332,
    "start_time": "2023-01-16T10:32:09.467Z"
   },
   {
    "duration": 0,
    "start_time": "2023-01-16T10:32:09.801Z"
   },
   {
    "duration": 0,
    "start_time": "2023-01-16T10:32:09.802Z"
   },
   {
    "duration": 0,
    "start_time": "2023-01-16T10:32:09.804Z"
   },
   {
    "duration": 0,
    "start_time": "2023-01-16T10:32:09.805Z"
   },
   {
    "duration": 0,
    "start_time": "2023-01-16T10:32:09.806Z"
   },
   {
    "duration": 5,
    "start_time": "2023-01-16T10:37:38.422Z"
   },
   {
    "duration": 9,
    "start_time": "2023-01-16T10:37:43.863Z"
   },
   {
    "duration": 3,
    "start_time": "2023-01-16T10:37:47.361Z"
   },
   {
    "duration": 65,
    "start_time": "2023-01-16T10:37:49.037Z"
   },
   {
    "duration": 5,
    "start_time": "2023-01-16T10:37:55.117Z"
   },
   {
    "duration": 737835,
    "start_time": "2023-01-16T10:37:58.080Z"
   },
   {
    "duration": 0,
    "start_time": "2023-01-16T10:50:15.917Z"
   },
   {
    "duration": 0,
    "start_time": "2023-01-16T10:50:15.918Z"
   },
   {
    "duration": 2,
    "start_time": "2023-01-16T10:50:28.803Z"
   },
   {
    "duration": 4,
    "start_time": "2023-01-16T10:50:50.849Z"
   },
   {
    "duration": 5176,
    "start_time": "2023-01-16T13:06:53.557Z"
   },
   {
    "duration": 3384,
    "start_time": "2023-01-16T13:06:58.735Z"
   },
   {
    "duration": 2813,
    "start_time": "2023-01-16T13:07:02.121Z"
   },
   {
    "duration": 1059157,
    "start_time": "2023-01-16T13:07:04.937Z"
   },
   {
    "duration": 7,
    "start_time": "2023-01-16T13:24:44.096Z"
   },
   {
    "duration": 28,
    "start_time": "2023-01-16T13:24:44.105Z"
   },
   {
    "duration": 236,
    "start_time": "2023-01-16T13:24:44.136Z"
   },
   {
    "duration": 9,
    "start_time": "2023-01-16T13:24:44.374Z"
   },
   {
    "duration": 9,
    "start_time": "2023-01-16T13:24:44.385Z"
   },
   {
    "duration": 11,
    "start_time": "2023-01-16T13:24:44.395Z"
   },
   {
    "duration": 3522977,
    "start_time": "2023-01-16T13:24:44.407Z"
   },
   {
    "duration": 5,
    "start_time": "2023-01-16T14:23:27.386Z"
   },
   {
    "duration": 6,
    "start_time": "2023-01-16T14:23:27.392Z"
   },
   {
    "duration": 4,
    "start_time": "2023-01-16T14:28:32.789Z"
   },
   {
    "duration": 8,
    "start_time": "2023-01-16T14:29:41.199Z"
   },
   {
    "duration": 3,
    "start_time": "2023-01-16T14:30:07.071Z"
   },
   {
    "duration": 4,
    "start_time": "2023-01-16T14:30:16.264Z"
   },
   {
    "duration": 4,
    "start_time": "2023-01-16T14:30:57.525Z"
   },
   {
    "duration": 355,
    "start_time": "2023-01-16T14:31:56.131Z"
   },
   {
    "duration": 4,
    "start_time": "2023-01-16T14:32:02.814Z"
   },
   {
    "duration": 10,
    "start_time": "2023-01-16T14:33:46.045Z"
   },
   {
    "duration": 39,
    "start_time": "2023-01-16T14:35:25.884Z"
   },
   {
    "duration": 3,
    "start_time": "2023-01-16T14:36:00.789Z"
   },
   {
    "duration": 5,
    "start_time": "2023-01-16T14:36:02.990Z"
   },
   {
    "duration": 23,
    "start_time": "2023-01-16T14:37:07.847Z"
   },
   {
    "duration": 16,
    "start_time": "2023-01-16T14:38:07.728Z"
   },
   {
    "duration": 38,
    "start_time": "2023-01-16T14:38:23.500Z"
   },
   {
    "duration": 8,
    "start_time": "2023-01-16T14:38:45.972Z"
   },
   {
    "duration": 18,
    "start_time": "2023-01-16T14:40:55.936Z"
   },
   {
    "duration": 11,
    "start_time": "2023-01-16T14:41:05.828Z"
   },
   {
    "duration": 3,
    "start_time": "2023-01-16T14:41:21.754Z"
   },
   {
    "duration": 5,
    "start_time": "2023-01-16T14:41:24.098Z"
   },
   {
    "duration": 47,
    "start_time": "2023-01-16T15:05:39.419Z"
   },
   {
    "duration": 4927,
    "start_time": "2023-01-16T15:05:47.865Z"
   },
   {
    "duration": 3558,
    "start_time": "2023-01-16T15:05:52.794Z"
   },
   {
    "duration": 2399,
    "start_time": "2023-01-16T15:05:56.354Z"
   },
   {
    "duration": 1061873,
    "start_time": "2023-01-16T15:06:08.426Z"
   },
   {
    "duration": 24,
    "start_time": "2023-01-16T15:23:50.301Z"
   },
   {
    "duration": 137,
    "start_time": "2023-01-16T15:23:50.327Z"
   },
   {
    "duration": 11,
    "start_time": "2023-01-16T15:23:50.466Z"
   },
   {
    "duration": 5,
    "start_time": "2023-01-16T15:23:50.479Z"
   },
   {
    "duration": 17,
    "start_time": "2023-01-16T15:23:50.486Z"
   },
   {
    "duration": 391,
    "start_time": "2023-01-16T15:23:50.505Z"
   },
   {
    "duration": 0,
    "start_time": "2023-01-16T15:23:50.897Z"
   },
   {
    "duration": 0,
    "start_time": "2023-01-16T15:23:50.899Z"
   },
   {
    "duration": 101,
    "start_time": "2023-01-16T15:38:40.379Z"
   },
   {
    "duration": 29,
    "start_time": "2023-01-16T15:41:28.455Z"
   },
   {
    "duration": 117,
    "start_time": "2023-01-16T15:41:45.061Z"
   },
   {
    "duration": 2,
    "start_time": "2023-01-16T15:42:52.390Z"
   },
   {
    "duration": 4,
    "start_time": "2023-01-16T15:42:52.822Z"
   },
   {
    "duration": 22,
    "start_time": "2023-01-16T15:42:53.733Z"
   },
   {
    "duration": 4,
    "start_time": "2023-01-16T15:43:26.634Z"
   },
   {
    "duration": 4,
    "start_time": "2023-01-16T15:43:39.257Z"
   },
   {
    "duration": 5,
    "start_time": "2023-01-16T15:43:53.830Z"
   },
   {
    "duration": 413,
    "start_time": "2023-01-16T15:44:00.949Z"
   },
   {
    "duration": 6,
    "start_time": "2023-01-16T15:45:55.447Z"
   },
   {
    "duration": 2,
    "start_time": "2023-01-16T15:45:56.618Z"
   },
   {
    "duration": 4,
    "start_time": "2023-01-16T15:45:58.431Z"
   },
   {
    "duration": 415,
    "start_time": "2023-01-16T15:45:59.462Z"
   },
   {
    "duration": 23,
    "start_time": "2023-01-16T15:53:01.999Z"
   },
   {
    "duration": 11,
    "start_time": "2023-01-16T15:53:36.002Z"
   },
   {
    "duration": 32,
    "start_time": "2023-01-16T15:55:44.360Z"
   },
   {
    "duration": 8,
    "start_time": "2023-01-16T15:55:52.306Z"
   },
   {
    "duration": 8,
    "start_time": "2023-01-16T15:56:02.931Z"
   },
   {
    "duration": 5,
    "start_time": "2023-01-16T15:56:15.263Z"
   },
   {
    "duration": 5,
    "start_time": "2023-01-16T15:56:21.380Z"
   },
   {
    "duration": 5,
    "start_time": "2023-01-16T16:10:25.896Z"
   },
   {
    "duration": 42,
    "start_time": "2023-01-16T16:11:24.983Z"
   },
   {
    "duration": 4,
    "start_time": "2023-01-16T16:12:21.849Z"
   },
   {
    "duration": 5,
    "start_time": "2023-01-16T16:12:33.074Z"
   },
   {
    "duration": 548,
    "start_time": "2023-01-16T16:12:35.160Z"
   },
   {
    "duration": 5,
    "start_time": "2023-01-16T16:16:26.845Z"
   },
   {
    "duration": 12802,
    "start_time": "2023-01-16T16:16:28.017Z"
   },
   {
    "duration": 6,
    "start_time": "2023-01-16T16:16:47.018Z"
   },
   {
    "duration": 112728,
    "start_time": "2023-01-16T16:18:40.514Z"
   },
   {
    "duration": 5,
    "start_time": "2023-01-16T16:25:31.381Z"
   },
   {
    "duration": 513517,
    "start_time": "2023-01-16T16:25:32.625Z"
   },
   {
    "duration": 17,
    "start_time": "2023-01-16T17:07:38.043Z"
   },
   {
    "duration": 19,
    "start_time": "2023-01-16T17:09:01.176Z"
   },
   {
    "duration": 56,
    "start_time": "2023-01-16T17:19:02.713Z"
   },
   {
    "duration": 512289,
    "start_time": "2023-01-16T17:19:13.054Z"
   },
   {
    "duration": 21,
    "start_time": "2023-01-16T17:27:45.346Z"
   },
   {
    "duration": 0,
    "start_time": "2023-01-16T17:27:45.369Z"
   },
   {
    "duration": 1887,
    "start_time": "2023-01-16T17:28:35.108Z"
   },
   {
    "duration": 35,
    "start_time": "2023-01-16T17:30:14.934Z"
   },
   {
    "duration": 1772,
    "start_time": "2023-01-16T17:30:33.514Z"
   },
   {
    "duration": 7,
    "start_time": "2023-01-16T17:56:49.529Z"
   },
   {
    "duration": 1829,
    "start_time": "2023-01-16T17:57:18.888Z"
   },
   {
    "duration": 5,
    "start_time": "2023-01-16T17:58:41.158Z"
   },
   {
    "duration": 6,
    "start_time": "2023-01-16T17:58:48.639Z"
   },
   {
    "duration": 549444,
    "start_time": "2023-01-16T17:58:54.074Z"
   },
   {
    "duration": 94,
    "start_time": "2023-01-16T18:17:21.395Z"
   },
   {
    "duration": 4,
    "start_time": "2023-01-16T18:17:59.221Z"
   },
   {
    "duration": 105,
    "start_time": "2023-01-16T18:23:27.042Z"
   },
   {
    "duration": 3,
    "start_time": "2023-01-16T18:23:36.667Z"
   },
   {
    "duration": 21,
    "start_time": "2023-01-16T18:23:37.585Z"
   },
   {
    "duration": 457,
    "start_time": "2023-01-16T18:23:56.990Z"
   },
   {
    "duration": 545,
    "start_time": "2023-01-16T18:24:19.946Z"
   },
   {
    "duration": 46,
    "start_time": "2023-01-17T07:12:57.753Z"
   },
   {
    "duration": 4750,
    "start_time": "2023-01-17T07:13:15.007Z"
   },
   {
    "duration": 6028,
    "start_time": "2023-01-17T07:13:19.759Z"
   },
   {
    "duration": 3108,
    "start_time": "2023-01-17T07:13:25.789Z"
   },
   {
    "duration": 1109468,
    "start_time": "2023-01-17T07:13:28.900Z"
   },
   {
    "duration": 26,
    "start_time": "2023-01-17T07:31:58.370Z"
   },
   {
    "duration": 51,
    "start_time": "2023-01-17T07:31:58.397Z"
   },
   {
    "duration": 169,
    "start_time": "2023-01-17T07:31:58.450Z"
   },
   {
    "duration": 4,
    "start_time": "2023-01-17T07:31:58.621Z"
   },
   {
    "duration": 506533,
    "start_time": "2023-01-17T07:31:58.627Z"
   },
   {
    "duration": 4,
    "start_time": "2023-01-17T07:40:25.163Z"
   },
   {
    "duration": 3035,
    "start_time": "2023-01-17T07:40:43.936Z"
   },
   {
    "duration": 3113,
    "start_time": "2023-01-17T07:40:59.878Z"
   },
   {
    "duration": 6255,
    "start_time": "2023-01-17T07:41:07.576Z"
   },
   {
    "duration": 8,
    "start_time": "2023-01-17T07:41:24.107Z"
   },
   {
    "duration": 6,
    "start_time": "2023-01-17T07:41:36.371Z"
   },
   {
    "duration": 57,
    "start_time": "2023-01-17T07:42:57.176Z"
   },
   {
    "duration": 733,
    "start_time": "2023-01-17T07:43:29.239Z"
   },
   {
    "duration": 60,
    "start_time": "2023-01-17T07:43:34.153Z"
   },
   {
    "duration": 8,
    "start_time": "2023-01-17T07:43:55.051Z"
   },
   {
    "duration": 9,
    "start_time": "2023-01-17T07:44:36.449Z"
   },
   {
    "duration": 4,
    "start_time": "2023-01-17T07:45:03.946Z"
   },
   {
    "duration": 3440,
    "start_time": "2023-01-17T07:45:04.459Z"
   },
   {
    "duration": 801,
    "start_time": "2023-01-17T07:45:07.902Z"
   },
   {
    "duration": 1112761,
    "start_time": "2023-01-17T07:45:08.705Z"
   },
   {
    "duration": 20,
    "start_time": "2023-01-17T08:03:41.468Z"
   },
   {
    "duration": 55,
    "start_time": "2023-01-17T08:08:38.080Z"
   },
   {
    "duration": 5,
    "start_time": "2023-01-17T08:09:02.010Z"
   },
   {
    "duration": 11,
    "start_time": "2023-01-17T08:09:11.185Z"
   },
   {
    "duration": 47,
    "start_time": "2023-01-17T08:09:29.405Z"
   },
   {
    "duration": 9,
    "start_time": "2023-01-17T08:09:33.896Z"
   },
   {
    "duration": 47,
    "start_time": "2023-01-17T08:09:37.056Z"
   },
   {
    "duration": 756,
    "start_time": "2023-01-17T08:09:50.533Z"
   },
   {
    "duration": 6,
    "start_time": "2023-01-17T08:10:01.519Z"
   },
   {
    "duration": 84,
    "start_time": "2023-01-17T08:10:38.711Z"
   },
   {
    "duration": 5,
    "start_time": "2023-01-17T08:10:55.957Z"
   },
   {
    "duration": 5,
    "start_time": "2023-01-17T08:11:04.042Z"
   },
   {
    "duration": 81,
    "start_time": "2023-01-17T08:11:11.079Z"
   },
   {
    "duration": 785,
    "start_time": "2023-01-17T08:11:34.175Z"
   },
   {
    "duration": 4,
    "start_time": "2023-01-17T08:11:36.776Z"
   },
   {
    "duration": 765,
    "start_time": "2023-01-17T08:11:55.327Z"
   },
   {
    "duration": 693,
    "start_time": "2023-01-17T08:12:35.026Z"
   },
   {
    "duration": 21,
    "start_time": "2023-01-17T08:12:56.992Z"
   },
   {
    "duration": 9,
    "start_time": "2023-01-17T08:13:03.936Z"
   },
   {
    "duration": 18,
    "start_time": "2023-01-17T08:14:17.954Z"
   },
   {
    "duration": 18,
    "start_time": "2023-01-17T08:14:21.427Z"
   },
   {
    "duration": 6350,
    "start_time": "2023-01-17T08:14:32.082Z"
   },
   {
    "duration": 8,
    "start_time": "2023-01-17T08:14:38.466Z"
   },
   {
    "duration": 35,
    "start_time": "2023-01-17T08:14:38.653Z"
   },
   {
    "duration": 9,
    "start_time": "2023-01-17T08:16:33.256Z"
   },
   {
    "duration": 3,
    "start_time": "2023-01-17T08:16:33.608Z"
   },
   {
    "duration": 4,
    "start_time": "2023-01-17T08:16:34.517Z"
   },
   {
    "duration": 3442525,
    "start_time": "2023-01-17T08:16:35.295Z"
   },
   {
    "duration": 4,
    "start_time": "2023-01-17T09:13:57.822Z"
   },
   {
    "duration": 8,
    "start_time": "2023-01-17T09:13:57.827Z"
   },
   {
    "duration": 4,
    "start_time": "2023-01-17T09:18:39.459Z"
   },
   {
    "duration": 18,
    "start_time": "2023-01-17T09:18:43.408Z"
   },
   {
    "duration": 7,
    "start_time": "2023-01-17T09:18:51.735Z"
   },
   {
    "duration": 224,
    "start_time": "2023-01-17T09:19:03.149Z"
   },
   {
    "duration": 152,
    "start_time": "2023-01-17T09:20:10.709Z"
   },
   {
    "duration": 764,
    "start_time": "2023-01-17T09:20:22.683Z"
   }
  ],
  "kernelspec": {
   "display_name": "Python 3 (ipykernel)",
   "language": "python",
   "name": "python3"
  },
  "language_info": {
   "codemirror_mode": {
    "name": "ipython",
    "version": 3
   },
   "file_extension": ".py",
   "mimetype": "text/x-python",
   "name": "python",
   "nbconvert_exporter": "python",
   "pygments_lexer": "ipython3",
   "version": "3.10.9"
  },
  "toc": {
   "base_numbering": 1,
   "nav_menu": {},
   "number_sections": true,
   "sideBar": true,
   "skip_h1_title": true,
   "title_cell": "Содержание",
   "title_sidebar": "Contents",
   "toc_cell": true,
   "toc_position": {
    "height": "calc(100% - 180px)",
    "left": "10px",
    "top": "150px",
    "width": "302.391px"
   },
   "toc_section_display": true,
   "toc_window_display": false
  }
 },
 "nbformat": 4,
 "nbformat_minor": 2
}
