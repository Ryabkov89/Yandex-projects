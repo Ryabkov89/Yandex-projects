{
 "cells": [
  {
   "cell_type": "markdown",
   "id": "9bcc3d58",
   "metadata": {},
   "source": [
    "# Общие сведения о проекте\n",
    "Строитстся модель машинного обучения для промышленной компании, разрабатывающая решения для эффективной работы промышленных предприятий. Модель должна предсказать коэффициент восстановления золота из золотосодержащей руды на основе данных с параметрами добычи и очистки. Модель поможет оптимизировать производство, чтобы не запускать предприятие с убыточными характеристиками.\n",
    "\n",
    "Получены данные о процессе очистки очистки золотоносной руды. Данные содержат информацию о содержании веществ в сырье, продукте и отвальных хвостах в процессе флотации, первого и второго этапа очистки, а также физические и расчетные характеристики и параметрические значения этапов очистки.  \n",
    "**Задача: смоделировать процесс восстановления золота из золотосодержащей руды и спрогнозировать эффективность обогащения чернового и финального продукта на основании исходных данных**"
   ]
  },
  {
   "cell_type": "markdown",
   "id": "3cdb2c95",
   "metadata": {},
   "source": [
    "# Подготовка данных"
   ]
  },
  {
   "cell_type": "markdown",
   "id": "458dcea7",
   "metadata": {},
   "source": [
    "## Импорт библиотек, чтение датасетов и изучение данных"
   ]
  },
  {
   "cell_type": "code",
   "execution_count": 2,
   "id": "4283b237",
   "metadata": {},
   "outputs": [],
   "source": [
    "import pandas as pd\n",
    "import numpy as np\n",
    "import matplotlib.pyplot as plt\n",
    "from sklearn.metrics import mean_absolute_error\n",
    "from sklearn.model_selection import train_test_split\n",
    "from sklearn.linear_model import LinearRegression\n",
    "from sklearn.tree import DecisionTreeRegressor\n",
    "from sklearn.ensemble import RandomForestRegressor\n",
    "from sklearn.model_selection import cross_val_score\n",
    "from sklearn.metrics import make_scorer"
   ]
  },
  {
   "cell_type": "code",
   "execution_count": 3,
   "id": "c33eefd6",
   "metadata": {},
   "outputs": [],
   "source": [
    "try:\n",
    "    data_full = pd.read_csv(r'C:\\Users\\WinUser\\Documents\\Yandex\\gold_recovery_full_new.csv')\n",
    "    data_train = pd.read_csv(r'C:\\Users\\WinUser\\Documents\\Yandex\\gold_recovery_train_new.csv')\n",
    "    data_test = pd.read_csv(r'C:\\Users\\WinUser\\Documents\\Yandex\\gold_recovery_test_new.csv')\n",
    "except:\n",
    "    data_full = pd.read_csv('/datasets/gold_recovery_full_new.csv')\n",
    "    data_train = pd.read_csv('/datasets/gold_recovery_train_new.csv')\n",
    "    data_test = pd.read_csv('/datasets/gold_recovery_test_new.csv')"
   ]
  },
  {
   "cell_type": "code",
   "execution_count": 4,
   "id": "f490d8e8",
   "metadata": {
    "scrolled": true
   },
   "outputs": [],
   "source": [
    "#Приведём дату и время\n",
    "data_full['date'] = pd.to_datetime(data_full['date'], format = '%Y-%m-%d %H:%M:%S')\n",
    "data_train['date'] = pd.to_datetime(data_train['date'], format = '%Y-%m-%d %H:%M:%S')\n",
    "data_test['date'] = pd.to_datetime(data_test['date'], format = '%Y-%m-%d %H:%M:%S')"
   ]
  },
  {
   "cell_type": "markdown",
   "id": "a8dba0b8",
   "metadata": {},
   "source": [
    "## Проверка целевого признака в исходных данных"
   ]
  },
  {
   "cell_type": "code",
   "execution_count": 5,
   "id": "730dc936",
   "metadata": {},
   "outputs": [],
   "source": [
    "#Проверяем значения эффективности обогащения из таблицы, пересчитывая самостоятельно, согласно формулы.\n",
    "my_rougher_output_recovery = 100 * (data_train['rougher.output.concentrate_au'] * \\\n",
    "                              (data_train['rougher.input.feed_au'] - data_train['rougher.output.tail_au'])) / \\\n",
    "(data_train['rougher.input.feed_au'] * (data_train['rougher.output.concentrate_au'] - data_train['rougher.output.tail_au']))"
   ]
  },
  {
   "cell_type": "code",
   "execution_count": 6,
   "id": "dfdc9ede",
   "metadata": {},
   "outputs": [],
   "source": [
    "#Расчитаем среднее абсолютное отклонение между нашими расчетами и данными из датасета\n",
    "mae = mean_absolute_error(data_train['rougher.output.recovery'], my_rougher_output_recovery) ** .5"
   ]
  },
  {
   "cell_type": "code",
   "execution_count": 7,
   "id": "00a9a9dc",
   "metadata": {},
   "outputs": [
    {
     "name": "stdout",
     "output_type": "stream",
     "text": [
      "Среднее абсолютное отклонение равно 1.0550569266364691e-07\n"
     ]
    }
   ],
   "source": [
    "print(f'Среднее абсолютное отклонение равно {mae}')"
   ]
  },
  {
   "cell_type": "code",
   "execution_count": 8,
   "id": "0fab4ff1",
   "metadata": {},
   "outputs": [
    {
     "name": "stdout",
     "output_type": "stream",
     "text": [
      "count    0.000000e+00\n",
      "mean     0.000000e+00\n",
      "std      0.000000e+00\n",
      "min     -0.000000e+00\n",
      "25%     -1.421085e-14\n",
      "50%     -2.842171e-14\n",
      "75%      2.842171e-14\n",
      "max      0.000000e+00\n",
      "dtype: float64\n"
     ]
    }
   ],
   "source": [
    "print(my_rougher_output_recovery.describe() - data_train['rougher.output.recovery'].describe())"
   ]
  },
  {
   "cell_type": "markdown",
   "id": "4c6f9fe6",
   "metadata": {},
   "source": [
    "**Эффективность обогащения вычислена корректно, MAE стремится к нулю**"
   ]
  },
  {
   "cell_type": "markdown",
   "id": "1b1e3240",
   "metadata": {},
   "source": [
    "## Оценка признаков в тестовой выборке"
   ]
  },
  {
   "cell_type": "code",
   "execution_count": 9,
   "id": "2057ca2f",
   "metadata": {},
   "outputs": [
    {
     "data": {
      "text/plain": [
       "((14149, 55), (5290, 55))"
      ]
     },
     "execution_count": 9,
     "metadata": {},
     "output_type": "execute_result"
    }
   ],
   "source": [
    "#Удалим данные, недоступные в тестовой выборке, из тренировочной выборки, за исключением целевых признаков. \n",
    "#И добавим в тестовую выборку целевые признаки из полной.\n",
    "missing_test_data = \\\n",
    "data_train.drop(data_test.columns, axis = 1).columns.drop(['rougher.output.recovery', 'final.output.recovery'])\n",
    "#missing_test_data\n",
    "data_train = data_train.drop(missing_test_data, axis = 1)\n",
    "data_test = data_test.merge(data_full[['date', 'rougher.output.recovery', 'final.output.recovery']], on='date', how='inner')\n",
    "data_train.shape, data_test.shape"
   ]
  },
  {
   "cell_type": "markdown",
   "id": "e8ab2de7",
   "metadata": {},
   "source": [
    "В тестовой выборке недоступны следующие данные: \n",
    "- финальные концентрации металлов в продукте и отвальных хвостах.\n",
    "- концентрации металлов в продукте и отвальных хвостах после первичной очистки\n",
    "- концентрации металлов в отвальных хвостах после вторичной очистки\n",
    "- концентрации металлов в продукте и отвальных хвостах после флотации\n",
    "- расчетные характеристики сырья на этапе флотации\n",
    "- эффективности обогащения"
   ]
  },
  {
   "cell_type": "markdown",
   "id": "e470c0e6",
   "metadata": {},
   "source": [
    "## Предобработка данных"
   ]
  },
  {
   "cell_type": "markdown",
   "id": "3e0ec616",
   "metadata": {},
   "source": [
    "Заполняем пропуски средним значением между двумя \"соседями\" сверху и снизу, при организации датафрейма построчно с индексацией по времени подобный метод кажется наиболее логичным."
   ]
  },
  {
   "cell_type": "code",
   "execution_count": 10,
   "id": "40a316f2",
   "metadata": {},
   "outputs": [],
   "source": [
    "#data_train.duplicated().sum()\n",
    "nan_list = data_train.isna().sum().sort_values()\n",
    "nan_list = nan_list[nan_list > 0].index\n",
    "data_train[nan_list] = data_train[nan_list].interpolate()"
   ]
  },
  {
   "cell_type": "code",
   "execution_count": 11,
   "id": "085f50dd",
   "metadata": {
    "scrolled": true
   },
   "outputs": [],
   "source": [
    "#data_test.duplicated().sum()\n",
    "nan_list = data_test.isna().sum().sort_values()\n",
    "nan_list = nan_list[nan_list > 0].index\n",
    "data_test[nan_list] = data_test[nan_list].interpolate()"
   ]
  },
  {
   "cell_type": "code",
   "execution_count": 12,
   "id": "482a3ccc",
   "metadata": {
    "scrolled": true
   },
   "outputs": [
    {
     "data": {
      "text/plain": [
       "(0, 0)"
      ]
     },
     "execution_count": 12,
     "metadata": {},
     "output_type": "execute_result"
    }
   ],
   "source": [
    "#Колечество пропусков равно нулю\n",
    "data_train.isna().sum().sum(), data_test.isna().sum().sum()"
   ]
  },
  {
   "cell_type": "markdown",
   "id": "8f80b16c",
   "metadata": {},
   "source": [
    "# Анализ данных"
   ]
  },
  {
   "cell_type": "markdown",
   "id": "a45cae2d",
   "metadata": {},
   "source": [
    "## Изменение концентрации металлов на различных этапах очистки"
   ]
  },
  {
   "cell_type": "code",
   "execution_count": 13,
   "id": "abe9f582",
   "metadata": {},
   "outputs": [
    {
     "data": {
      "image/png": "[encoded data removed]",
      "text/plain": [
       "<Figure size 1080x648 with 1 Axes>"
      ]
     },
     "metadata": {
      "needs_background": "light"
     },
     "output_type": "display_data"
    }
   ],
   "source": [
    "data_full['final.output.concentrate_ag'].hist(bins=100, alpha=.5, legend=True, figsize = (15,9))\\\n",
    "    .set_title('Концентрации серебра в продукте на разных этапах очистки')\n",
    "data_full['primary_cleaner.output.concentrate_ag'].hist(bins=100, alpha=.5, legend=True)\n",
    "data_full['rougher.output.concentrate_ag'].hist(bins=100, alpha=.5, legend=True);"
   ]
  },
  {
   "cell_type": "code",
   "execution_count": 14,
   "id": "9e6d2510",
   "metadata": {},
   "outputs": [
    {
     "data": {
      "image/png": "[encoded data removed]",
      "text/plain": [
       "<Figure size 1080x648 with 1 Axes>"
      ]
     },
     "metadata": {
      "needs_background": "light"
     },
     "output_type": "display_data"
    }
   ],
   "source": [
    "data_full['final.output.concentrate_pb'].hist(bins=100, alpha=.5, legend=True, figsize = (15,9))\\\n",
    "    .set_title('Концентрации свинца в продукте на разных этапах очистки')\n",
    "data_full['primary_cleaner.output.concentrate_pb'].hist(bins=100, alpha=.5, legend=True)\n",
    "data_full['rougher.output.concentrate_pb'].hist(bins=100, alpha=.5, legend=True);"
   ]
  },
  {
   "cell_type": "code",
   "execution_count": 15,
   "id": "1473a718",
   "metadata": {},
   "outputs": [
    {
     "data": {
      "image/png": "[encoded data removed]",
      "text/plain": [
       "<Figure size 1080x648 with 1 Axes>"
      ]
     },
     "metadata": {
      "needs_background": "light"
     },
     "output_type": "display_data"
    }
   ],
   "source": [
    "data_full['final.output.concentrate_au'].hist(bins=100, alpha=.5, legend=True, figsize = (15,9))\\\n",
    "    .set_title('Концентрации золота в продукте на разных этапах очистки')\n",
    "data_full['primary_cleaner.output.concentrate_au'].hist(bins=100, alpha=.5, legend=True)\n",
    "data_full['rougher.output.concentrate_au'].hist(bins=100, alpha=.5, legend=True);"
   ]
  },
  {
   "cell_type": "markdown",
   "id": "e1784f42",
   "metadata": {},
   "source": [
    "- Концентрация золота в продукте, ожидаемо, возрастает более, чем в два раза\n",
    "- Концентрация серебра в продукте снижается более, чем в два раза\n",
    "- Концентрация свинца возрастает, приблизительно, на треть"
   ]
  },
  {
   "cell_type": "markdown",
   "id": "71d05e02",
   "metadata": {},
   "source": [
    "## Распределение гранул сырья на обучающей и тестовой выборках"
   ]
  },
  {
   "cell_type": "code",
   "execution_count": 16,
   "id": "795d85b1",
   "metadata": {},
   "outputs": [
    {
     "data": {
      "image/png": "[encoded data removed]",
      "text/plain": [
       "<Figure size 432x288 with 1 Axes>"
      ]
     },
     "metadata": {
      "needs_background": "light"
     },
     "output_type": "display_data"
    }
   ],
   "source": [
    "data_train['rougher.input.feed_size'].hist(bins = 30, alpha=.5, range=(20, 120), density = True)\\\n",
    "    .set_title('Размеры гранул сырья на этапе флотации в обучающей и тестовой выборках')\n",
    "data_test['rougher.input.feed_size'].hist(bins = 30, alpha=.5, range=(20, 120), density=True);"
   ]
  },
  {
   "cell_type": "code",
   "execution_count": 17,
   "id": "456b96ea",
   "metadata": {},
   "outputs": [
    {
     "data": {
      "image/png": "[encoded data removed]",
      "text/plain": [
       "<Figure size 432x288 with 1 Axes>"
      ]
     },
     "metadata": {
      "needs_background": "light"
     },
     "output_type": "display_data"
    }
   ],
   "source": [
    "data_train['primary_cleaner.input.feed_size'].hist(bins=30, alpha=.5, range=(4, 10), density=True)\\\n",
    "    .set_title('Размеры гранул сырья на первой стадии очистки в обучающей и тестовой выборках')\n",
    "data_test['primary_cleaner.input.feed_size'].hist(bins=30, alpha=.5, range=(4, 10), density=True);"
   ]
  },
  {
   "cell_type": "markdown",
   "id": "9937c157",
   "metadata": {},
   "source": [
    "**Размеры гранул сырья не сильно отличаются друг от друга, на оценку модели не будет оказано влияния**"
   ]
  },
  {
   "cell_type": "markdown",
   "id": "24330e12",
   "metadata": {},
   "source": [
    "## Исследование суммарной концентрации всех веществ на разных стадиях, поиск аномальных значений"
   ]
  },
  {
   "cell_type": "code",
   "execution_count": 18,
   "id": "11a814ac",
   "metadata": {
    "scrolled": false
   },
   "outputs": [
    {
     "data": {
      "image/png": "[encoded data removed]",
      "text/plain": [
       "<Figure size 1152x360 with 1 Axes>"
      ]
     },
     "metadata": {
      "needs_background": "light"
     },
     "output_type": "display_data"
    }
   ],
   "source": [
    "features_rougher_input_concentrate = [\n",
    "    'rougher.input.feed_au',\n",
    "    'rougher.input.feed_ag',\n",
    "    'rougher.input.feed_pb',\n",
    "    'rougher.input.feed_sol',\n",
    "]\n",
    "features_rougher_output_concentrate = [\n",
    "    'rougher.output.concentrate_au',\n",
    "    'rougher.output.concentrate_ag',\n",
    "    'rougher.output.concentrate_pb',\n",
    "    'rougher.output.concentrate_sol',\n",
    "]\n",
    "features_primary_output_concentrate = [\n",
    "    'primary_cleaner.output.concentrate_au',\n",
    "    'primary_cleaner.output.concentrate_ag',\n",
    "    'primary_cleaner.output.concentrate_pb',\n",
    "    'primary_cleaner.output.concentrate_sol'\n",
    "]\n",
    "features_final_output_concentrate = [\n",
    "    'final.output.concentrate_au',\n",
    "    'final.output.concentrate_ag',\n",
    "    'final.output.concentrate_pb',\n",
    "    'final.output.concentrate_sol'\n",
    "]\n",
    "data_full[features_rougher_input_concentrate].sum(1).hist(bins = 30, figsize = (16,5), alpha=.6);\n",
    "data_full[features_rougher_output_concentrate].sum(1).hist(bins = 30, alpha=.6);\n",
    "data_full[features_primary_output_concentrate].sum(1).hist(bins = 30, alpha=.6);\n",
    "data_full[features_final_output_concentrate].sum(1).hist(bins = 30, alpha=.6);"
   ]
  },
  {
   "cell_type": "markdown",
   "id": "4545cda6",
   "metadata": {},
   "source": [
    "**Наблюдаются выбросы слева (нулевые значения), удалим строки с этими данными из тренировочного датасета**"
   ]
  },
  {
   "cell_type": "code",
   "execution_count": 19,
   "id": "a34425b1",
   "metadata": {},
   "outputs": [],
   "source": [
    "data_zero_concentrates = data_full[(data_full[features_rougher_output_concentrate].sum(1) == 0) | \\\n",
    "                                   (data_full[features_primary_output_concentrate].sum(1) == 0) | \\\n",
    "                                   (data_full[features_final_output_concentrate].sum(1) == 0)]"
   ]
  },
  {
   "cell_type": "code",
   "execution_count": 20,
   "id": "ffb84b3a",
   "metadata": {},
   "outputs": [],
   "source": [
    "#Удалим нулевые значения из тренировочной и тестовой выборки\n",
    "data_train = data_train[~data_train.date.isin(data_zero_concentrates.date)]\n",
    "data_test = data_test[~data_test.date.isin(data_zero_concentrates.date)]"
   ]
  },
  {
   "cell_type": "markdown",
   "id": "3b87e772",
   "metadata": {},
   "source": [
    "**Данные готовы, переходим к построению модели**"
   ]
  },
  {
   "cell_type": "markdown",
   "id": "a0562efc",
   "metadata": {},
   "source": [
    "# Построение модели"
   ]
  },
  {
   "cell_type": "markdown",
   "id": "771f3456",
   "metadata": {},
   "source": [
    "## Функция для вычисления итогового симметричного среднего абсолбтного процентного отклонения"
   ]
  },
  {
   "cell_type": "code",
   "execution_count": 21,
   "id": "80b3bb6c",
   "metadata": {},
   "outputs": [],
   "source": [
    "def sMAPE(y_true, y_pred):\n",
    "    error = np.abs(y_true - y_pred)\n",
    "    scale = (np.abs(y_true) + np.abs(y_pred)) / 2\n",
    "    return np.mean(error / scale) * 100"
   ]
  },
  {
   "cell_type": "markdown",
   "id": "edcedcb1",
   "metadata": {},
   "source": [
    "## Обучение моделей и проверка качества кросс-валидацией. Выбор лучшей модели"
   ]
  },
  {
   "cell_type": "code",
   "execution_count": 22,
   "id": "5381e3d1",
   "metadata": {},
   "outputs": [
    {
     "data": {
      "text/plain": [
       "((13725, 52), (13725, 2))"
      ]
     },
     "execution_count": 22,
     "metadata": {},
     "output_type": "execute_result"
    }
   ],
   "source": [
    "#Подготовим тренировочную и валидационную выборки\n",
    "features_train = data_train.drop(['date', 'final.output.recovery', 'rougher.output.recovery'], axis=1).reset_index(drop=True)\n",
    "target_train = data_train[['final.output.recovery', 'rougher.output.recovery']].reset_index(drop=True)\n",
    "features_train.shape, target_train.shape"
   ]
  },
  {
   "cell_type": "code",
   "execution_count": 23,
   "id": "2b389097",
   "metadata": {},
   "outputs": [
    {
     "data": {
      "text/plain": [
       "((5123, 52), (5123, 2))"
      ]
     },
     "execution_count": 23,
     "metadata": {},
     "output_type": "execute_result"
    }
   ],
   "source": [
    "#Подготовим тестовую выборку\n",
    "features_test = data_test.drop(['date', 'final.output.recovery', 'rougher.output.recovery'], axis=1).reset_index(drop=True)\n",
    "target_test = data_test[['final.output.recovery', 'rougher.output.recovery']].reset_index(drop=True)\n",
    "features_test.shape, target_test.shape"
   ]
  },
  {
   "cell_type": "code",
   "execution_count": 33,
   "id": "11bcb2b1",
   "metadata": {
    "scrolled": true
   },
   "outputs": [
    {
     "name": "stdout",
     "output_type": "stream",
     "text": [
      "sMAPE модели линейной регрессии для чернового концентрата равна 7.23\n"
     ]
    }
   ],
   "source": [
    "model = LinearRegression()\n",
    "scorer = make_scorer(sMAPE, greater_is_better=False)\n",
    "scores = cross_val_score(model, features_train, target_train['rougher.output.recovery'], scoring=scorer, cv=5)\n",
    "#print(scores)\n",
    "final_score = sum(scores)/ len(scores)\n",
    "print(f'sMAPE модели линейной регрессии для чернового концентрата равна {abs(final_score):.2f}')"
   ]
  },
  {
   "cell_type": "code",
   "execution_count": 34,
   "id": "4ce0481b",
   "metadata": {
    "scrolled": true
   },
   "outputs": [
    {
     "name": "stdout",
     "output_type": "stream",
     "text": [
      "sMAPE модели линейной регрессии для финального концентрата равна 10.97\n"
     ]
    }
   ],
   "source": [
    "model = LinearRegression()\n",
    "scores = cross_val_score(model, features_train, target_train['final.output.recovery'], scoring=scorer, cv=5)\n",
    "#print(scores)\n",
    "final_score = sum(scores)/ len(scores)\n",
    "print(f'sMAPE модели линейной регрессии для финального концентрата равна {abs(final_score):.2f}')"
   ]
  },
  {
   "cell_type": "code",
   "execution_count": 35,
   "id": "d59ca301",
   "metadata": {},
   "outputs": [
    {
     "name": "stdout",
     "output_type": "stream",
     "text": [
      "sMAPE модели решающего дерева для чернового концентрата равна 7.25\n"
     ]
    }
   ],
   "source": [
    "#%%time\n",
    "#final_score = -1000\n",
    "#best_depth = 0\n",
    "#for depth in range(1, 20):\n",
    "#    model = DecisionTreeRegressor(random_state=12345, max_depth=depth)\n",
    "#    scorer = make_scorer(sMAPE, greater_is_better=False)\n",
    "#    scores = cross_val_score(model, features_train, target_train['rougher.output.recovery'], scoring=scorer, cv=5)\n",
    "#    result = sum(scores)/ len(scores)\n",
    "#    if result > final_score:\n",
    "#        final_score = result\n",
    "#        best_depth = depth\n",
    "#best_depth, final_score\n",
    "model = DecisionTreeRegressor(random_state=12345, max_depth=3)\n",
    "scores = cross_val_score(model, features_train, target_train['rougher.output.recovery'], scoring=scorer, cv=5)\n",
    "#print(scores)\n",
    "final_score = sum(scores)/ len(scores)\n",
    "print(f'sMAPE модели решающего дерева для чернового концентрата равна {abs(final_score):.2f}')"
   ]
  },
  {
   "cell_type": "code",
   "execution_count": 36,
   "id": "c1be8c55",
   "metadata": {},
   "outputs": [
    {
     "name": "stdout",
     "output_type": "stream",
     "text": [
      "sMAPE модели решающего дерева для финального концентрата равна 9.55\n"
     ]
    }
   ],
   "source": [
    "#%%time\n",
    "#final_score = -1000\n",
    "#best_depth = 0\n",
    "#for depth in range(1, 20):\n",
    "#    model = DecisionTreeRegressor(random_state=12345, max_depth=depth)\n",
    "#    scorer = make_scorer(sMAPE, greater_is_better=False)\n",
    "#    scores = cross_val_score(model, features_train, target_train['final.output.recovery'], scoring=scorer, cv=5)\n",
    "#    result = sum(scores)/ len(scores)\n",
    "#    if result > final_score:\n",
    "#        final_score = result\n",
    "#        best_depth = depth\n",
    "#best_depth, final_score\n",
    "model = DecisionTreeRegressor(random_state=12345, max_depth=2)\n",
    "scores = cross_val_score(model, features_train, target_train['final.output.recovery'], scoring=scorer, cv=5)\n",
    "#print(scores)\n",
    "final_score = sum(scores)/ len(scores)\n",
    "print(f'sMAPE модели решающего дерева для финального концентрата равна {abs(final_score):.2f}')"
   ]
  },
  {
   "cell_type": "code",
   "execution_count": 38,
   "id": "c7ce29cc",
   "metadata": {},
   "outputs": [
    {
     "name": "stdout",
     "output_type": "stream",
     "text": [
      "sMAPE модели случайного леса для чернового концентрата равна 6.60\n"
     ]
    }
   ],
   "source": [
    "\n",
    "#%%time\n",
    "#final_score = -1000\n",
    "#best_depth = 0\n",
    "#best_est = 0\n",
    "#for est in [10, 50, 100, 150]:\n",
    "#    for depth in range(1, 10):\n",
    "#        model = RandomForestRegressor(random_state=12345, n_estimators=est, max_depth=depth)\n",
    "#        scorer = make_scorer(sMAPE, greater_is_better=False)\n",
    "#        scores = cross_val_score(model, features_train, target_train['rougher.output.recovery'], scoring=scorer, cv=5)\n",
    "#        result = sum(scores)/ len(scores)\n",
    "#        if result > final_score:\n",
    "#            final_score = result\n",
    "#            best_depth = depth\n",
    "#            best_est = est\n",
    "#final_score, best_depth, best_est\n",
    "model = RandomForestRegressor(random_state=12345, n_estimators=100, max_depth=3)\n",
    "scores = cross_val_score(model, features_train, target_train['rougher.output.recovery'], scoring=scorer, cv=5)\n",
    "#print(scores)\n",
    "final_score = sum(scores)/ len(scores)\n",
    "print(f'sMAPE модели случайного леса для чернового концентрата равна {abs(final_score):.2f}')"
   ]
  },
  {
   "cell_type": "code",
   "execution_count": 37,
   "id": "72755bdc",
   "metadata": {},
   "outputs": [
    {
     "name": "stdout",
     "output_type": "stream",
     "text": [
      "sMAPE модели случайного леса для финального концентрата равна 9.00\n"
     ]
    }
   ],
   "source": [
    "#%%time\n",
    "#final_score = -1000\n",
    "#best_depth = 0\n",
    "#best_est = 0\n",
    "#for est in [20, 30, 40]:\n",
    "#    for depth in range(4, 7):\n",
    "#        model = RandomForestRegressor(random_state=12345, n_estimators=est, max_depth=depth)\n",
    "#        scorer = make_scorer(sMAPE, greater_is_better=False)\n",
    "#        scores = cross_val_score(model, features_train, target_train['final.output.recovery'], scoring=scorer, cv=5)\n",
    "#        result = sum(scores)/ len(scores)\n",
    "#        if result > final_score:\n",
    "#            final_score = result\n",
    "#            best_depth = depth\n",
    "#            best_est = est\n",
    "#final_score, best_depth, best_est\n",
    "model = RandomForestRegressor(random_state=12345, n_estimators=40, max_depth=4)\n",
    "scores = cross_val_score(model, features_train, target_train['final.output.recovery'], scoring=scorer, cv=5)\n",
    "#print(scores)\n",
    "final_score = sum(scores)/ len(scores)\n",
    "print(f'sMAPE модели случайного леса для финального концентрата равна {abs(final_score):.2f}')"
   ]
  },
  {
   "cell_type": "markdown",
   "id": "864ff8c0",
   "metadata": {},
   "source": [
    "## Проверка модели  на тестовых данных"
   ]
  },
  {
   "cell_type": "code",
   "execution_count": 42,
   "id": "dc04783a",
   "metadata": {},
   "outputs": [],
   "source": [
    "model = RandomForestRegressor(random_state=12345, n_estimators = 100, max_depth=3)\n",
    "model.fit(features_train, target_train['rougher.output.recovery'])\n",
    "predictions = model.predict(features_test)\n",
    "smape_rougher = sMAPE(target_test['rougher.output.recovery'], predictions)"
   ]
  },
  {
   "cell_type": "code",
   "execution_count": 43,
   "id": "6c8d0e67",
   "metadata": {},
   "outputs": [],
   "source": [
    "model = RandomForestRegressor(random_state=12345, n_estimators = 100, max_depth=3)\n",
    "model.fit(features_train, target_train['final.output.recovery'])\n",
    "predictions = model.predict(features_test)\n",
    "smape_final = sMAPE(target_test['final.output.recovery'], predictions)"
   ]
  },
  {
   "cell_type": "code",
   "execution_count": 45,
   "id": "73a6539d",
   "metadata": {},
   "outputs": [
    {
     "name": "stdout",
     "output_type": "stream",
     "text": [
      "Итоговое sMAPE равно 6.09\n"
     ]
    }
   ],
   "source": [
    "final_smape = .025 * smape_rougher + .75 * smape_final\n",
    "print(f'Итоговое sMAPE равно {abs(final_smape):.2f}')"
   ]
  },
  {
   "cell_type": "markdown",
   "id": "0cb62120",
   "metadata": {},
   "source": [
    "**Нами были получены данные о процессе восстановления золота из золотосодержащей руды. В ходе исследования был смоделирован весь процесс и проверен на тестовых данных.**\n",
    "**Самая качественная модель - решающий лес, модель обучена и протестирована**"
   ]
  }
 ],
 "metadata": {
  "ExecuteTimeLog": [
   {
    "duration": 57,
    "start_time": "2022-11-23T13:35:33.256Z"
   },
   {
    "duration": 1522,
    "start_time": "2022-11-23T13:37:07.428Z"
   },
   {
    "duration": 1806,
    "start_time": "2022-11-23T13:37:10.509Z"
   },
   {
    "duration": 14,
    "start_time": "2022-11-23T13:37:13.910Z"
   },
   {
    "duration": 7,
    "start_time": "2022-11-23T13:37:15.695Z"
   },
   {
    "duration": 4,
    "start_time": "2022-11-23T13:37:16.190Z"
   },
   {
    "duration": 4,
    "start_time": "2022-11-23T13:37:16.725Z"
   },
   {
    "duration": 11,
    "start_time": "2022-11-23T13:37:17.784Z"
   },
   {
    "duration": 20,
    "start_time": "2022-11-23T13:37:19.885Z"
   },
   {
    "duration": 35,
    "start_time": "2022-11-23T13:37:24.081Z"
   },
   {
    "duration": 11,
    "start_time": "2022-11-23T13:37:24.418Z"
   },
   {
    "duration": 9,
    "start_time": "2022-11-23T13:37:24.815Z"
   },
   {
    "duration": 664,
    "start_time": "2022-11-23T13:37:29.604Z"
   },
   {
    "duration": 747,
    "start_time": "2022-11-23T13:37:30.324Z"
   },
   {
    "duration": 698,
    "start_time": "2022-11-23T13:37:31.424Z"
   },
   {
    "duration": 205,
    "start_time": "2022-11-23T13:37:35.376Z"
   },
   {
    "duration": 331,
    "start_time": "2022-11-23T13:37:41.288Z"
   },
   {
    "duration": 277,
    "start_time": "2022-11-23T13:37:50.088Z"
   },
   {
    "duration": 11,
    "start_time": "2022-11-23T13:37:53.875Z"
   },
   {
    "duration": 7,
    "start_time": "2022-11-23T13:37:54.172Z"
   },
   {
    "duration": 3,
    "start_time": "2022-11-23T13:37:58.528Z"
   },
   {
    "duration": 15,
    "start_time": "2022-11-23T13:37:59.731Z"
   },
   {
    "duration": 10,
    "start_time": "2022-11-23T13:38:00.048Z"
   },
   {
    "duration": 1243,
    "start_time": "2022-11-23T13:38:00.487Z"
   },
   {
    "duration": 1526,
    "start_time": "2022-11-23T13:38:04.903Z"
   },
   {
    "duration": 819,
    "start_time": "2022-11-23T13:38:08.864Z"
   },
   {
    "duration": 573,
    "start_time": "2022-11-23T13:38:10.760Z"
   },
   {
    "duration": 48480,
    "start_time": "2022-11-23T13:38:12.684Z"
   },
   {
    "duration": 25912,
    "start_time": "2022-11-23T13:39:01.166Z"
   },
   {
    "duration": 48364,
    "start_time": "2022-11-23T13:39:27.079Z"
   },
   {
    "duration": 25220,
    "start_time": "2022-11-23T13:40:15.445Z"
   },
   {
    "duration": 4,
    "start_time": "2022-11-23T13:40:40.668Z"
   },
   {
    "duration": 1317,
    "start_time": "2022-11-23T13:40:56.212Z"
   },
   {
    "duration": 1592,
    "start_time": "2022-11-23T13:40:57.638Z"
   },
   {
    "duration": 865,
    "start_time": "2022-11-23T13:41:05.001Z"
   },
   {
    "duration": 593,
    "start_time": "2022-11-23T13:41:11.487Z"
   },
   {
    "duration": 25146,
    "start_time": "2022-11-23T13:41:18.473Z"
   },
   {
    "duration": 48194,
    "start_time": "2022-11-23T13:41:43.627Z"
   },
   {
    "duration": 17373,
    "start_time": "2022-11-23T13:42:31.825Z"
   },
   {
    "duration": 8741,
    "start_time": "2022-11-23T13:42:49.199Z"
   },
   {
    "duration": 3,
    "start_time": "2022-11-23T13:42:57.942Z"
   },
   {
    "duration": 12125,
    "start_time": "2022-11-23T13:48:12.990Z"
   },
   {
    "duration": 12564,
    "start_time": "2022-11-23T13:49:00.109Z"
   },
   {
    "duration": 12084,
    "start_time": "2022-11-23T13:49:12.675Z"
   },
   {
    "duration": 3,
    "start_time": "2022-11-23T13:49:24.761Z"
   },
   {
    "duration": 68,
    "start_time": "2022-11-23T13:55:19.403Z"
   }
  ],
  "kernelspec": {
   "display_name": "Python 3 (ipykernel)",
   "language": "python",
   "name": "python3"
  },
  "language_info": {
   "codemirror_mode": {
    "name": "ipython",
    "version": 3
   },
   "file_extension": ".py",
   "mimetype": "text/x-python",
   "name": "python",
   "nbconvert_exporter": "python",
   "pygments_lexer": "ipython3",
   "version": "3.10.9"
  },
  "toc": {
   "base_numbering": 1,
   "nav_menu": {},
   "number_sections": true,
   "sideBar": true,
   "skip_h1_title": true,
   "title_cell": "Table of Contents",
   "title_sidebar": "Contents",
   "toc_cell": false,
   "toc_position": {},
   "toc_section_display": true,
   "toc_window_display": false
  }
 },
 "nbformat": 4,
 "nbformat_minor": 5
}
