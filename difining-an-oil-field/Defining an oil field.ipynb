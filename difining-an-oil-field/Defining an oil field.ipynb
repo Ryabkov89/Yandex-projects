{
 "cells": [
  {
   "cell_type": "markdown",
   "metadata": {},
   "source": [
    "# Выбор локации для скважины"
   ]
  },
  {
   "cell_type": "markdown",
   "metadata": {},
   "source": [
    "Нужно решить, где бурить новую скважину.\n",
    "\n",
    "Вам предоставлены пробы нефти в трёх регионах: в каждом 10 000 месторождений, где измерили качество нефти и объём её запасов. Постройте модель машинного обучения, которая поможет определить регион, где добыча принесёт наибольшую прибыль. Проанализируйте возможную прибыль и риски техникой *Bootstrap.*\n",
    "\n",
    "Шаги для выбора локации:\n",
    "\n",
    "- В избранном регионе ищут месторождения, для каждого определяют значения признаков;\n",
    "- Строят модель и оценивают объём запасов;\n",
    "- Выбирают месторождения с самым высокими оценками значений. Количество месторождений зависит от бюджета компании и стоимости разработки одной скважины;\n",
    "- Прибыль равна суммарной прибыли отобранных месторождений."
   ]
  },
  {
   "cell_type": "markdown",
   "metadata": {},
   "source": [
    "## Загрузка и подготовка данных"
   ]
  },
  {
   "cell_type": "code",
   "execution_count": 1,
   "metadata": {},
   "outputs": [],
   "source": [
    "import pandas as pd\n",
    "import numpy as np\n",
    "from sklearn.preprocessing import StandardScaler\n",
    "from sklearn.model_selection import train_test_split\n",
    "from sklearn.linear_model import LinearRegression\n",
    "from sklearn.metrics import mean_squared_error\n",
    "import matplotlib.pyplot as plt"
   ]
  },
  {
   "cell_type": "code",
   "execution_count": 2,
   "metadata": {},
   "outputs": [],
   "source": [
    "df1 = pd.read_csv('/datasets/geo_data_0.csv')\n",
    "df2 = pd.read_csv('/datasets/geo_data_1.csv')\n",
    "df3 = pd.read_csv('/datasets/geo_data_2.csv')"
   ]
  },
  {
   "cell_type": "code",
   "execution_count": 3,
   "metadata": {},
   "outputs": [
    {
     "data": {
      "text/html": [
       "<div>\n",
       "<style scoped>\n",
       "    .dataframe tbody tr th:only-of-type {\n",
       "        vertical-align: middle;\n",
       "    }\n",
       "\n",
       "    .dataframe tbody tr th {\n",
       "        vertical-align: top;\n",
       "    }\n",
       "\n",
       "    .dataframe thead th {\n",
       "        text-align: right;\n",
       "    }\n",
       "</style>\n",
       "<table border=\"1\" class=\"dataframe\">\n",
       "  <thead>\n",
       "    <tr style=\"text-align: right;\">\n",
       "      <th></th>\n",
       "      <th>id</th>\n",
       "      <th>f0</th>\n",
       "      <th>f1</th>\n",
       "      <th>f2</th>\n",
       "      <th>product</th>\n",
       "    </tr>\n",
       "  </thead>\n",
       "  <tbody>\n",
       "    <tr>\n",
       "      <th>0</th>\n",
       "      <td>txEyH</td>\n",
       "      <td>0.705745</td>\n",
       "      <td>-0.497823</td>\n",
       "      <td>1.221170</td>\n",
       "      <td>105.280062</td>\n",
       "    </tr>\n",
       "    <tr>\n",
       "      <th>1</th>\n",
       "      <td>2acmU</td>\n",
       "      <td>1.334711</td>\n",
       "      <td>-0.340164</td>\n",
       "      <td>4.365080</td>\n",
       "      <td>73.037750</td>\n",
       "    </tr>\n",
       "    <tr>\n",
       "      <th>2</th>\n",
       "      <td>409Wp</td>\n",
       "      <td>1.022732</td>\n",
       "      <td>0.151990</td>\n",
       "      <td>1.419926</td>\n",
       "      <td>85.265647</td>\n",
       "    </tr>\n",
       "    <tr>\n",
       "      <th>3</th>\n",
       "      <td>iJLyR</td>\n",
       "      <td>-0.032172</td>\n",
       "      <td>0.139033</td>\n",
       "      <td>2.978566</td>\n",
       "      <td>168.620776</td>\n",
       "    </tr>\n",
       "    <tr>\n",
       "      <th>4</th>\n",
       "      <td>Xdl7t</td>\n",
       "      <td>1.988431</td>\n",
       "      <td>0.155413</td>\n",
       "      <td>4.751769</td>\n",
       "      <td>154.036647</td>\n",
       "    </tr>\n",
       "  </tbody>\n",
       "</table>\n",
       "</div>"
      ],
      "text/plain": [
       "      id        f0        f1        f2     product\n",
       "0  txEyH  0.705745 -0.497823  1.221170  105.280062\n",
       "1  2acmU  1.334711 -0.340164  4.365080   73.037750\n",
       "2  409Wp  1.022732  0.151990  1.419926   85.265647\n",
       "3  iJLyR -0.032172  0.139033  2.978566  168.620776\n",
       "4  Xdl7t  1.988431  0.155413  4.751769  154.036647"
      ]
     },
     "metadata": {},
     "output_type": "display_data"
    },
    {
     "data": {
      "text/html": [
       "<div>\n",
       "<style scoped>\n",
       "    .dataframe tbody tr th:only-of-type {\n",
       "        vertical-align: middle;\n",
       "    }\n",
       "\n",
       "    .dataframe tbody tr th {\n",
       "        vertical-align: top;\n",
       "    }\n",
       "\n",
       "    .dataframe thead th {\n",
       "        text-align: right;\n",
       "    }\n",
       "</style>\n",
       "<table border=\"1\" class=\"dataframe\">\n",
       "  <thead>\n",
       "    <tr style=\"text-align: right;\">\n",
       "      <th></th>\n",
       "      <th>id</th>\n",
       "      <th>f0</th>\n",
       "      <th>f1</th>\n",
       "      <th>f2</th>\n",
       "      <th>product</th>\n",
       "    </tr>\n",
       "  </thead>\n",
       "  <tbody>\n",
       "    <tr>\n",
       "      <th>0</th>\n",
       "      <td>kBEdx</td>\n",
       "      <td>-15.001348</td>\n",
       "      <td>-8.276000</td>\n",
       "      <td>-0.005876</td>\n",
       "      <td>3.179103</td>\n",
       "    </tr>\n",
       "    <tr>\n",
       "      <th>1</th>\n",
       "      <td>62mP7</td>\n",
       "      <td>14.272088</td>\n",
       "      <td>-3.475083</td>\n",
       "      <td>0.999183</td>\n",
       "      <td>26.953261</td>\n",
       "    </tr>\n",
       "    <tr>\n",
       "      <th>2</th>\n",
       "      <td>vyE1P</td>\n",
       "      <td>6.263187</td>\n",
       "      <td>-5.948386</td>\n",
       "      <td>5.001160</td>\n",
       "      <td>134.766305</td>\n",
       "    </tr>\n",
       "    <tr>\n",
       "      <th>3</th>\n",
       "      <td>KcrkZ</td>\n",
       "      <td>-13.081196</td>\n",
       "      <td>-11.506057</td>\n",
       "      <td>4.999415</td>\n",
       "      <td>137.945408</td>\n",
       "    </tr>\n",
       "    <tr>\n",
       "      <th>4</th>\n",
       "      <td>AHL4O</td>\n",
       "      <td>12.702195</td>\n",
       "      <td>-8.147433</td>\n",
       "      <td>5.004363</td>\n",
       "      <td>134.766305</td>\n",
       "    </tr>\n",
       "  </tbody>\n",
       "</table>\n",
       "</div>"
      ],
      "text/plain": [
       "      id         f0         f1        f2     product\n",
       "0  kBEdx -15.001348  -8.276000 -0.005876    3.179103\n",
       "1  62mP7  14.272088  -3.475083  0.999183   26.953261\n",
       "2  vyE1P   6.263187  -5.948386  5.001160  134.766305\n",
       "3  KcrkZ -13.081196 -11.506057  4.999415  137.945408\n",
       "4  AHL4O  12.702195  -8.147433  5.004363  134.766305"
      ]
     },
     "metadata": {},
     "output_type": "display_data"
    },
    {
     "data": {
      "text/html": [
       "<div>\n",
       "<style scoped>\n",
       "    .dataframe tbody tr th:only-of-type {\n",
       "        vertical-align: middle;\n",
       "    }\n",
       "\n",
       "    .dataframe tbody tr th {\n",
       "        vertical-align: top;\n",
       "    }\n",
       "\n",
       "    .dataframe thead th {\n",
       "        text-align: right;\n",
       "    }\n",
       "</style>\n",
       "<table border=\"1\" class=\"dataframe\">\n",
       "  <thead>\n",
       "    <tr style=\"text-align: right;\">\n",
       "      <th></th>\n",
       "      <th>id</th>\n",
       "      <th>f0</th>\n",
       "      <th>f1</th>\n",
       "      <th>f2</th>\n",
       "      <th>product</th>\n",
       "    </tr>\n",
       "  </thead>\n",
       "  <tbody>\n",
       "    <tr>\n",
       "      <th>0</th>\n",
       "      <td>fwXo0</td>\n",
       "      <td>-1.146987</td>\n",
       "      <td>0.963328</td>\n",
       "      <td>-0.828965</td>\n",
       "      <td>27.758673</td>\n",
       "    </tr>\n",
       "    <tr>\n",
       "      <th>1</th>\n",
       "      <td>WJtFt</td>\n",
       "      <td>0.262778</td>\n",
       "      <td>0.269839</td>\n",
       "      <td>-2.530187</td>\n",
       "      <td>56.069697</td>\n",
       "    </tr>\n",
       "    <tr>\n",
       "      <th>2</th>\n",
       "      <td>ovLUW</td>\n",
       "      <td>0.194587</td>\n",
       "      <td>0.289035</td>\n",
       "      <td>-5.586433</td>\n",
       "      <td>62.871910</td>\n",
       "    </tr>\n",
       "    <tr>\n",
       "      <th>3</th>\n",
       "      <td>q6cA6</td>\n",
       "      <td>2.236060</td>\n",
       "      <td>-0.553760</td>\n",
       "      <td>0.930038</td>\n",
       "      <td>114.572842</td>\n",
       "    </tr>\n",
       "    <tr>\n",
       "      <th>4</th>\n",
       "      <td>WPMUX</td>\n",
       "      <td>-0.515993</td>\n",
       "      <td>1.716266</td>\n",
       "      <td>5.899011</td>\n",
       "      <td>149.600746</td>\n",
       "    </tr>\n",
       "  </tbody>\n",
       "</table>\n",
       "</div>"
      ],
      "text/plain": [
       "      id        f0        f1        f2     product\n",
       "0  fwXo0 -1.146987  0.963328 -0.828965   27.758673\n",
       "1  WJtFt  0.262778  0.269839 -2.530187   56.069697\n",
       "2  ovLUW  0.194587  0.289035 -5.586433   62.871910\n",
       "3  q6cA6  2.236060 -0.553760  0.930038  114.572842\n",
       "4  WPMUX -0.515993  1.716266  5.899011  149.600746"
      ]
     },
     "metadata": {},
     "output_type": "display_data"
    }
   ],
   "source": [
    "display(df1.head())\n",
    "display(df2.head())\n",
    "display(df3.head())"
   ]
  },
  {
   "cell_type": "code",
   "execution_count": 4,
   "metadata": {},
   "outputs": [
    {
     "name": "stdout",
     "output_type": "stream",
     "text": [
      "<class 'pandas.core.frame.DataFrame'>\n",
      "RangeIndex: 100000 entries, 0 to 99999\n",
      "Data columns (total 5 columns):\n",
      " #   Column   Non-Null Count   Dtype  \n",
      "---  ------   --------------   -----  \n",
      " 0   id       100000 non-null  object \n",
      " 1   f0       100000 non-null  float64\n",
      " 2   f1       100000 non-null  float64\n",
      " 3   f2       100000 non-null  float64\n",
      " 4   product  100000 non-null  float64\n",
      "dtypes: float64(4), object(1)\n",
      "memory usage: 3.8+ MB\n"
     ]
    },
    {
     "data": {
      "text/plain": [
       "None"
      ]
     },
     "metadata": {},
     "output_type": "display_data"
    },
    {
     "name": "stdout",
     "output_type": "stream",
     "text": [
      "<class 'pandas.core.frame.DataFrame'>\n",
      "RangeIndex: 100000 entries, 0 to 99999\n",
      "Data columns (total 5 columns):\n",
      " #   Column   Non-Null Count   Dtype  \n",
      "---  ------   --------------   -----  \n",
      " 0   id       100000 non-null  object \n",
      " 1   f0       100000 non-null  float64\n",
      " 2   f1       100000 non-null  float64\n",
      " 3   f2       100000 non-null  float64\n",
      " 4   product  100000 non-null  float64\n",
      "dtypes: float64(4), object(1)\n",
      "memory usage: 3.8+ MB\n"
     ]
    },
    {
     "data": {
      "text/plain": [
       "None"
      ]
     },
     "metadata": {},
     "output_type": "display_data"
    },
    {
     "name": "stdout",
     "output_type": "stream",
     "text": [
      "<class 'pandas.core.frame.DataFrame'>\n",
      "RangeIndex: 100000 entries, 0 to 99999\n",
      "Data columns (total 5 columns):\n",
      " #   Column   Non-Null Count   Dtype  \n",
      "---  ------   --------------   -----  \n",
      " 0   id       100000 non-null  object \n",
      " 1   f0       100000 non-null  float64\n",
      " 2   f1       100000 non-null  float64\n",
      " 3   f2       100000 non-null  float64\n",
      " 4   product  100000 non-null  float64\n",
      "dtypes: float64(4), object(1)\n",
      "memory usage: 3.8+ MB\n"
     ]
    },
    {
     "data": {
      "text/plain": [
       "None"
      ]
     },
     "metadata": {},
     "output_type": "display_data"
    }
   ],
   "source": [
    "display(df1.info())\n",
    "display(df2.info())\n",
    "display(df3.info())"
   ]
  },
  {
   "cell_type": "code",
   "execution_count": 5,
   "metadata": {
    "scrolled": true
   },
   "outputs": [
    {
     "data": {
      "text/html": [
       "<div>\n",
       "<style scoped>\n",
       "    .dataframe tbody tr th:only-of-type {\n",
       "        vertical-align: middle;\n",
       "    }\n",
       "\n",
       "    .dataframe tbody tr th {\n",
       "        vertical-align: top;\n",
       "    }\n",
       "\n",
       "    .dataframe thead th {\n",
       "        text-align: right;\n",
       "    }\n",
       "</style>\n",
       "<table border=\"1\" class=\"dataframe\">\n",
       "  <thead>\n",
       "    <tr style=\"text-align: right;\">\n",
       "      <th></th>\n",
       "      <th>f0</th>\n",
       "      <th>f1</th>\n",
       "      <th>f2</th>\n",
       "      <th>product</th>\n",
       "    </tr>\n",
       "  </thead>\n",
       "  <tbody>\n",
       "    <tr>\n",
       "      <th>count</th>\n",
       "      <td>100000.000000</td>\n",
       "      <td>100000.000000</td>\n",
       "      <td>100000.000000</td>\n",
       "      <td>100000.000000</td>\n",
       "    </tr>\n",
       "    <tr>\n",
       "      <th>mean</th>\n",
       "      <td>0.500419</td>\n",
       "      <td>0.250143</td>\n",
       "      <td>2.502647</td>\n",
       "      <td>92.500000</td>\n",
       "    </tr>\n",
       "    <tr>\n",
       "      <th>std</th>\n",
       "      <td>0.871832</td>\n",
       "      <td>0.504433</td>\n",
       "      <td>3.248248</td>\n",
       "      <td>44.288691</td>\n",
       "    </tr>\n",
       "    <tr>\n",
       "      <th>min</th>\n",
       "      <td>-1.408605</td>\n",
       "      <td>-0.848218</td>\n",
       "      <td>-12.088328</td>\n",
       "      <td>0.000000</td>\n",
       "    </tr>\n",
       "    <tr>\n",
       "      <th>25%</th>\n",
       "      <td>-0.072580</td>\n",
       "      <td>-0.200881</td>\n",
       "      <td>0.287748</td>\n",
       "      <td>56.497507</td>\n",
       "    </tr>\n",
       "    <tr>\n",
       "      <th>50%</th>\n",
       "      <td>0.502360</td>\n",
       "      <td>0.250252</td>\n",
       "      <td>2.515969</td>\n",
       "      <td>91.849972</td>\n",
       "    </tr>\n",
       "    <tr>\n",
       "      <th>75%</th>\n",
       "      <td>1.073581</td>\n",
       "      <td>0.700646</td>\n",
       "      <td>4.715088</td>\n",
       "      <td>128.564089</td>\n",
       "    </tr>\n",
       "    <tr>\n",
       "      <th>max</th>\n",
       "      <td>2.362331</td>\n",
       "      <td>1.343769</td>\n",
       "      <td>16.003790</td>\n",
       "      <td>185.364347</td>\n",
       "    </tr>\n",
       "  </tbody>\n",
       "</table>\n",
       "</div>"
      ],
      "text/plain": [
       "                  f0             f1             f2        product\n",
       "count  100000.000000  100000.000000  100000.000000  100000.000000\n",
       "mean        0.500419       0.250143       2.502647      92.500000\n",
       "std         0.871832       0.504433       3.248248      44.288691\n",
       "min        -1.408605      -0.848218     -12.088328       0.000000\n",
       "25%        -0.072580      -0.200881       0.287748      56.497507\n",
       "50%         0.502360       0.250252       2.515969      91.849972\n",
       "75%         1.073581       0.700646       4.715088     128.564089\n",
       "max         2.362331       1.343769      16.003790     185.364347"
      ]
     },
     "metadata": {},
     "output_type": "display_data"
    },
    {
     "data": {
      "text/html": [
       "<div>\n",
       "<style scoped>\n",
       "    .dataframe tbody tr th:only-of-type {\n",
       "        vertical-align: middle;\n",
       "    }\n",
       "\n",
       "    .dataframe tbody tr th {\n",
       "        vertical-align: top;\n",
       "    }\n",
       "\n",
       "    .dataframe thead th {\n",
       "        text-align: right;\n",
       "    }\n",
       "</style>\n",
       "<table border=\"1\" class=\"dataframe\">\n",
       "  <thead>\n",
       "    <tr style=\"text-align: right;\">\n",
       "      <th></th>\n",
       "      <th>f0</th>\n",
       "      <th>f1</th>\n",
       "      <th>f2</th>\n",
       "      <th>product</th>\n",
       "    </tr>\n",
       "  </thead>\n",
       "  <tbody>\n",
       "    <tr>\n",
       "      <th>count</th>\n",
       "      <td>100000.000000</td>\n",
       "      <td>100000.000000</td>\n",
       "      <td>100000.000000</td>\n",
       "      <td>100000.000000</td>\n",
       "    </tr>\n",
       "    <tr>\n",
       "      <th>mean</th>\n",
       "      <td>1.141296</td>\n",
       "      <td>-4.796579</td>\n",
       "      <td>2.494541</td>\n",
       "      <td>68.825000</td>\n",
       "    </tr>\n",
       "    <tr>\n",
       "      <th>std</th>\n",
       "      <td>8.965932</td>\n",
       "      <td>5.119872</td>\n",
       "      <td>1.703572</td>\n",
       "      <td>45.944423</td>\n",
       "    </tr>\n",
       "    <tr>\n",
       "      <th>min</th>\n",
       "      <td>-31.609576</td>\n",
       "      <td>-26.358598</td>\n",
       "      <td>-0.018144</td>\n",
       "      <td>0.000000</td>\n",
       "    </tr>\n",
       "    <tr>\n",
       "      <th>25%</th>\n",
       "      <td>-6.298551</td>\n",
       "      <td>-8.267985</td>\n",
       "      <td>1.000021</td>\n",
       "      <td>26.953261</td>\n",
       "    </tr>\n",
       "    <tr>\n",
       "      <th>50%</th>\n",
       "      <td>1.153055</td>\n",
       "      <td>-4.813172</td>\n",
       "      <td>2.011479</td>\n",
       "      <td>57.085625</td>\n",
       "    </tr>\n",
       "    <tr>\n",
       "      <th>75%</th>\n",
       "      <td>8.621015</td>\n",
       "      <td>-1.332816</td>\n",
       "      <td>3.999904</td>\n",
       "      <td>107.813044</td>\n",
       "    </tr>\n",
       "    <tr>\n",
       "      <th>max</th>\n",
       "      <td>29.421755</td>\n",
       "      <td>18.734063</td>\n",
       "      <td>5.019721</td>\n",
       "      <td>137.945408</td>\n",
       "    </tr>\n",
       "  </tbody>\n",
       "</table>\n",
       "</div>"
      ],
      "text/plain": [
       "                  f0             f1             f2        product\n",
       "count  100000.000000  100000.000000  100000.000000  100000.000000\n",
       "mean        1.141296      -4.796579       2.494541      68.825000\n",
       "std         8.965932       5.119872       1.703572      45.944423\n",
       "min       -31.609576     -26.358598      -0.018144       0.000000\n",
       "25%        -6.298551      -8.267985       1.000021      26.953261\n",
       "50%         1.153055      -4.813172       2.011479      57.085625\n",
       "75%         8.621015      -1.332816       3.999904     107.813044\n",
       "max        29.421755      18.734063       5.019721     137.945408"
      ]
     },
     "metadata": {},
     "output_type": "display_data"
    },
    {
     "data": {
      "text/html": [
       "<div>\n",
       "<style scoped>\n",
       "    .dataframe tbody tr th:only-of-type {\n",
       "        vertical-align: middle;\n",
       "    }\n",
       "\n",
       "    .dataframe tbody tr th {\n",
       "        vertical-align: top;\n",
       "    }\n",
       "\n",
       "    .dataframe thead th {\n",
       "        text-align: right;\n",
       "    }\n",
       "</style>\n",
       "<table border=\"1\" class=\"dataframe\">\n",
       "  <thead>\n",
       "    <tr style=\"text-align: right;\">\n",
       "      <th></th>\n",
       "      <th>f0</th>\n",
       "      <th>f1</th>\n",
       "      <th>f2</th>\n",
       "      <th>product</th>\n",
       "    </tr>\n",
       "  </thead>\n",
       "  <tbody>\n",
       "    <tr>\n",
       "      <th>count</th>\n",
       "      <td>100000.000000</td>\n",
       "      <td>100000.000000</td>\n",
       "      <td>100000.000000</td>\n",
       "      <td>100000.000000</td>\n",
       "    </tr>\n",
       "    <tr>\n",
       "      <th>mean</th>\n",
       "      <td>0.002023</td>\n",
       "      <td>-0.002081</td>\n",
       "      <td>2.495128</td>\n",
       "      <td>95.000000</td>\n",
       "    </tr>\n",
       "    <tr>\n",
       "      <th>std</th>\n",
       "      <td>1.732045</td>\n",
       "      <td>1.730417</td>\n",
       "      <td>3.473445</td>\n",
       "      <td>44.749921</td>\n",
       "    </tr>\n",
       "    <tr>\n",
       "      <th>min</th>\n",
       "      <td>-8.760004</td>\n",
       "      <td>-7.084020</td>\n",
       "      <td>-11.970335</td>\n",
       "      <td>0.000000</td>\n",
       "    </tr>\n",
       "    <tr>\n",
       "      <th>25%</th>\n",
       "      <td>-1.162288</td>\n",
       "      <td>-1.174820</td>\n",
       "      <td>0.130359</td>\n",
       "      <td>59.450441</td>\n",
       "    </tr>\n",
       "    <tr>\n",
       "      <th>50%</th>\n",
       "      <td>0.009424</td>\n",
       "      <td>-0.009482</td>\n",
       "      <td>2.484236</td>\n",
       "      <td>94.925613</td>\n",
       "    </tr>\n",
       "    <tr>\n",
       "      <th>75%</th>\n",
       "      <td>1.158535</td>\n",
       "      <td>1.163678</td>\n",
       "      <td>4.858794</td>\n",
       "      <td>130.595027</td>\n",
       "    </tr>\n",
       "    <tr>\n",
       "      <th>max</th>\n",
       "      <td>7.238262</td>\n",
       "      <td>7.844801</td>\n",
       "      <td>16.739402</td>\n",
       "      <td>190.029838</td>\n",
       "    </tr>\n",
       "  </tbody>\n",
       "</table>\n",
       "</div>"
      ],
      "text/plain": [
       "                  f0             f1             f2        product\n",
       "count  100000.000000  100000.000000  100000.000000  100000.000000\n",
       "mean        0.002023      -0.002081       2.495128      95.000000\n",
       "std         1.732045       1.730417       3.473445      44.749921\n",
       "min        -8.760004      -7.084020     -11.970335       0.000000\n",
       "25%        -1.162288      -1.174820       0.130359      59.450441\n",
       "50%         0.009424      -0.009482       2.484236      94.925613\n",
       "75%         1.158535       1.163678       4.858794     130.595027\n",
       "max         7.238262       7.844801      16.739402     190.029838"
      ]
     },
     "metadata": {},
     "output_type": "display_data"
    }
   ],
   "source": [
    "display(df1.describe())\n",
    "display(df2.describe())\n",
    "display(df3.describe())"
   ]
  },
  {
   "cell_type": "code",
   "execution_count": 6,
   "metadata": {},
   "outputs": [
    {
     "data": {
      "text/plain": [
       "0"
      ]
     },
     "metadata": {},
     "output_type": "display_data"
    },
    {
     "data": {
      "text/plain": [
       "0"
      ]
     },
     "metadata": {},
     "output_type": "display_data"
    },
    {
     "data": {
      "text/plain": [
       "0"
      ]
     },
     "metadata": {},
     "output_type": "display_data"
    }
   ],
   "source": [
    "display(df2.duplicated().sum())\n",
    "display(df1.duplicated().sum())\n",
    "display(df3.duplicated().sum())"
   ]
  },
  {
   "cell_type": "code",
   "execution_count": 7,
   "metadata": {},
   "outputs": [],
   "source": [
    "#Отбросим столбцы с идентификацией скважины, как ненужные.\n",
    "df1, df2, df3 = df1.drop('id', axis=1), df2.drop('id', axis=1), df3.drop('id', axis=1)"
   ]
  },
  {
   "cell_type": "markdown",
   "metadata": {},
   "source": [
    "**Пропусков и дубликатов в данных нет, распределены нормально, делим на выборки и масштабируем**"
   ]
  },
  {
   "cell_type": "code",
   "execution_count": 8,
   "metadata": {},
   "outputs": [],
   "source": [
    "target_1 = df1['product']\n",
    "features_1 = df1.drop('product', axis=1)\n",
    "target_2 = df2['product']\n",
    "features_2 = df2.drop('product', axis=1)\n",
    "target_3 = df3['product']\n",
    "features_3 = df3.drop('product', axis=1)\n",
    "features_train_1, features_valid_1, target_train_1, target_valid_1 =\\\n",
    "    train_test_split(features_1, target_1, test_size=.25, random_state=12345)\n",
    "features_train_2, features_valid_2, target_train_2, target_valid_2 =\\\n",
    "    train_test_split(features_2, target_2, test_size=.25, random_state=12345)\n",
    "features_train_3, features_valid_3, target_train_3, target_valid_3 =\\\n",
    "    train_test_split(features_3, target_3, test_size=.25, random_state=12345)"
   ]
  },
  {
   "cell_type": "code",
   "execution_count": 9,
   "metadata": {},
   "outputs": [],
   "source": [
    "#pd.options.mode.chained_assignment = None\n",
    "#scaler = StandardScaler()\n",
    "#scaler.fit(features_train_1)\n",
    "#features_train_1 = scaler.transform(features_train_1)\n",
    "#features_valid_1 = scaler.transform(features_valid_1)\n",
    "#scaler.fit(features_train_2)\n",
    "#features_train_2 = scaler.transform(features_train_2)\n",
    "#features_valid_2 = scaler.transform(features_valid_2)\n",
    "#scaler.fit(features_train_3)\n",
    "#features_train_3 = scaler.transform(features_train_3)\n",
    "#features_valid_3 = scaler.transform(features_valid_3)"
   ]
  },
  {
   "cell_type": "markdown",
   "metadata": {},
   "source": [
    "## Обучение и проверка модели"
   ]
  },
  {
   "cell_type": "code",
   "execution_count": 11,
   "metadata": {},
   "outputs": [],
   "source": [
    "#Создадим функцию для обучения и проверки модели.\n",
    "def fit_model(features_train, target_train, features_valid, target_valid):\n",
    "    model = LinearRegression()\n",
    "    model.fit(features_train, target_train)\n",
    "    predictions_valid = model.predict(features_valid)\n",
    "    print(f'Средний предсказанный запас сырья: {predictions_valid.mean():.2f} тыс.баррелей.')\n",
    "    print(f'Средний фактический запас сырья: {target_valid.mean():.2f} тыс.баррелей.')\n",
    "    RMSE_1 = mean_squared_error(target_valid, predictions_valid) ** .5\n",
    "    print(f'RMSE равна {RMSE_1:.2f}')\n",
    "    return predictions_valid"
   ]
  },
  {
   "cell_type": "code",
   "execution_count": 12,
   "metadata": {},
   "outputs": [
    {
     "name": "stdout",
     "output_type": "stream",
     "text": [
      "Средний предсказанный запас сырья: 92.59 тыс.баррелей.\n",
      "Средний фактический запас сырья: 92.08 тыс.баррелей.\n",
      "RMSE равна 37.58\n"
     ]
    }
   ],
   "source": [
    "predictions_valid_1 = fit_model(features_train_1, target_train_1, features_valid_1, target_valid_1)"
   ]
  },
  {
   "cell_type": "code",
   "execution_count": 13,
   "metadata": {
    "scrolled": true
   },
   "outputs": [
    {
     "name": "stdout",
     "output_type": "stream",
     "text": [
      "Средний предсказанный запас сырья: 68.73 тыс.баррелей.\n",
      "Средний фактический запас сырья: 68.72 тыс.баррелей.\n",
      "RMSE равна 0.89\n"
     ]
    }
   ],
   "source": [
    "predictions_valid_2 = fit_model(features_train_2, target_train_2, features_valid_2, target_valid_2)"
   ]
  },
  {
   "cell_type": "code",
   "execution_count": 14,
   "metadata": {
    "scrolled": true
   },
   "outputs": [
    {
     "name": "stdout",
     "output_type": "stream",
     "text": [
      "Средний предсказанный запас сырья: 94.97 тыс.баррелей.\n",
      "Средний фактический запас сырья: 94.88 тыс.баррелей.\n",
      "RMSE равна 40.03\n"
     ]
    }
   ],
   "source": [
    "predictions_valid_3 = fit_model(features_train_3, target_train_3, features_valid_3, target_valid_3)"
   ]
  },
  {
   "cell_type": "code",
   "execution_count": 15,
   "metadata": {},
   "outputs": [
    {
     "data": {
      "image/png": "[encoded data removed]",
      "text/plain": [
       "<Figure size 648x432 with 1 Axes>"
      ]
     },
     "metadata": {
      "needs_background": "light"
     },
     "output_type": "display_data"
    }
   ],
   "source": [
    "fig, ax = plt.subplots(figsize= (9,6))\n",
    "labels = ['Region 1', 'Region 2', 'Region 3']\n",
    "ax.bar(labels, [predictions_valid_1.mean(), predictions_valid_2.mean(), predictions_valid_3.mean()])\n",
    "ax.set_title('Средний запас сырья на скважину')\n",
    "ax.set_ylabel('тысяч баррелей');"
   ]
  },
  {
   "cell_type": "markdown",
   "metadata": {},
   "source": [
    "**Средний предсказанный запас сырья во всех трёт моделях почти не отличается от фактического. Однако средняя квадратичная ошибка достаточно велика в первой и третьей модели.**"
   ]
  },
  {
   "cell_type": "markdown",
   "metadata": {},
   "source": [
    "## Подготовка к расчёту прибыли"
   ]
  },
  {
   "cell_type": "code",
   "execution_count": 17,
   "metadata": {},
   "outputs": [
    {
     "name": "stdout",
     "output_type": "stream",
     "text": [
      "Достаточный средний объем сырья на скважину 111.11 тысяч баррелей\n"
     ]
    }
   ],
   "source": [
    "#топ лучших для разработки скважин\n",
    "OILWELL_QTY = 200\n",
    "#бюджет на разработку\n",
    "BUDGET = 10000000000\n",
    "#цена 1 барреля\n",
    "PRICE_PER_1000BARREL = 450000\n",
    "print(f'Достаточный средний объем сырья на скважину {(BUDGET / (PRICE_PER_1000BARREL * OILWELL_QTY)):.2f} тысяч баррелей')"
   ]
  },
  {
   "cell_type": "markdown",
   "metadata": {},
   "source": [
    "**Минимальное среднее количество продукта на двести лучших скважин должно соответствовать 111 тысячам баррелей, что больше любого из общих средних запасов по скважинам по регионам. Неудивительно, для этого мы и выбираем лучшие скважины, а не тыкаем в любую**"
   ]
  },
  {
   "cell_type": "code",
   "execution_count": 19,
   "metadata": {},
   "outputs": [],
   "source": [
    "def define_profit(target, predictions, count=oilwell_qty):\n",
    "    predictions_sorted = predictions.sort_values(ascending=False)\n",
    "    selected = target[predictions_sorted.index][:count]\n",
    "    #print(selected)\n",
    "    return selected.sum() * price_per_1000barrel   "
   ]
  },
  {
   "cell_type": "markdown",
   "metadata": {},
   "source": [
    "## Расчёт прибыли и рисков "
   ]
  },
  {
   "cell_type": "code",
   "execution_count": 20,
   "metadata": {},
   "outputs": [],
   "source": [
    "state = np.random.RandomState(12345)\n",
    "\n",
    "def find_general_metrics(target, predictions):\n",
    "    values = []\n",
    "    for i in range(1000):\n",
    "        target = target.reset_index(drop=True)\n",
    "        target_subsample = target.sample(n=500, replace = True, random_state=state)\n",
    "        predictions = pd.Series(predictions)\n",
    "        predictions_subsample = predictions[target_subsample.index]\n",
    "        values.append(define_profit(target_subsample, predictions_subsample))\n",
    "    \n",
    "    values = pd.Series(values)\n",
    "    lower = values.quantile(.025)\n",
    "    upper = values.quantile(.975)\n",
    "    deficit_rate = values[values < 10000000000].count() / values.count()\n",
    "    \n",
    "    mean = values.mean()\n",
    "    print(f'Средняя выручка {mean/1000000000:.2f} млрд. руб')\n",
    "    print(f'Доверительный интервал от {lower/1000000000:.2f} до {upper/1000000000:.2f} млрд. руб.')\n",
    "    print(f'Вероятность убытков составляет {(deficit_rate * 100):.2f} %')"
   ]
  },
  {
   "cell_type": "code",
   "execution_count": 21,
   "metadata": {
    "scrolled": true
   },
   "outputs": [
    {
     "name": "stdout",
     "output_type": "stream",
     "text": [
      "Средняя выручка 10.43 млрд. руб\n",
      "Доверительный интервал от 9.90 до 10.95 млрд. руб.\n",
      "Вероятность убытков составляет 6.00 %\n"
     ]
    }
   ],
   "source": [
    "find_general_metrics(target_valid_1, predictions_valid_1)"
   ]
  },
  {
   "cell_type": "code",
   "execution_count": 22,
   "metadata": {},
   "outputs": [
    {
     "name": "stdout",
     "output_type": "stream",
     "text": [
      "Средняя выручка 10.52 млрд. руб\n",
      "Доверительный интервал от 10.13 до 10.95 млрд. руб.\n",
      "Вероятность убытков составляет 0.30 %\n"
     ]
    }
   ],
   "source": [
    "find_general_metrics(target_valid_2, predictions_valid_2)"
   ]
  },
  {
   "cell_type": "code",
   "execution_count": 23,
   "metadata": {},
   "outputs": [
    {
     "name": "stdout",
     "output_type": "stream",
     "text": [
      "Средняя выручка 10.42 млрд. руб\n",
      "Доверительный интервал от 9.88 до 10.99 млрд. руб.\n",
      "Вероятность убытков составляет 6.20 %\n"
     ]
    }
   ],
   "source": [
    "find_general_metrics(target_valid_3, predictions_valid_3)"
   ]
  },
  {
   "cell_type": "markdown",
   "metadata": {},
   "source": [
    "**Наиболее перспективный регион для разработки месторождения - регион номер 2, вероятность убытков составляет не более 1%, что нас устраивает в отличие от других регионов, где несмотря на возможность получения большей прибыли, риск уйти в убыток также велик.**"
   ]
  }
 ],
 "metadata": {
  "ExecuteTimeLog": [
   {
    "duration": 401,
    "start_time": "2022-11-08T11:36:32.868Z"
   },
   {
    "duration": 887,
    "start_time": "2022-11-08T11:38:04.549Z"
   },
   {
    "duration": 353,
    "start_time": "2022-11-08T11:38:29.340Z"
   },
   {
    "duration": 22,
    "start_time": "2022-11-08T11:40:38.895Z"
   },
   {
    "duration": 14,
    "start_time": "2022-11-08T11:40:50.325Z"
   },
   {
    "duration": 36,
    "start_time": "2022-11-08T11:41:04.595Z"
   },
   {
    "duration": 20,
    "start_time": "2022-11-08T11:41:35.175Z"
   },
   {
    "duration": 39,
    "start_time": "2022-11-08T11:42:15.286Z"
   },
   {
    "duration": 94,
    "start_time": "2022-11-08T11:42:39.370Z"
   },
   {
    "duration": 11,
    "start_time": "2022-11-08T12:17:37.854Z"
   },
   {
    "duration": 85,
    "start_time": "2022-11-08T12:17:41.343Z"
   },
   {
    "duration": 11,
    "start_time": "2022-11-08T12:17:55.110Z"
   },
   {
    "duration": 11,
    "start_time": "2022-11-08T12:18:00.084Z"
   },
   {
    "duration": 775,
    "start_time": "2022-11-08T12:30:54.386Z"
   },
   {
    "duration": 3,
    "start_time": "2022-11-08T12:31:24.255Z"
   },
   {
    "duration": 8,
    "start_time": "2022-11-08T12:34:22.158Z"
   },
   {
    "duration": 9,
    "start_time": "2022-11-08T12:34:48.686Z"
   },
   {
    "duration": 18,
    "start_time": "2022-11-08T12:42:05.742Z"
   },
   {
    "duration": 21,
    "start_time": "2022-11-08T12:47:29.959Z"
   },
   {
    "duration": 31,
    "start_time": "2022-11-08T12:48:18.835Z"
   },
   {
    "duration": 29,
    "start_time": "2022-11-08T12:56:06.103Z"
   },
   {
    "duration": 4,
    "start_time": "2022-11-08T12:56:21.981Z"
   },
   {
    "duration": 3,
    "start_time": "2022-11-08T12:56:40.373Z"
   },
   {
    "duration": 370,
    "start_time": "2022-11-08T12:56:41.130Z"
   },
   {
    "duration": 21,
    "start_time": "2022-11-08T12:56:42.041Z"
   },
   {
    "duration": 39,
    "start_time": "2022-11-08T12:56:42.623Z"
   },
   {
    "duration": 97,
    "start_time": "2022-11-08T12:56:43.181Z"
   },
   {
    "duration": 12,
    "start_time": "2022-11-08T12:56:43.806Z"
   },
   {
    "duration": 27,
    "start_time": "2022-11-08T12:56:44.434Z"
   },
   {
    "duration": 30,
    "start_time": "2022-11-08T12:56:46.616Z"
   },
   {
    "duration": 123,
    "start_time": "2022-11-08T13:04:37.357Z"
   },
   {
    "duration": 20,
    "start_time": "2022-11-08T13:04:44.346Z"
   },
   {
    "duration": 3,
    "start_time": "2022-11-08T13:06:49.183Z"
   },
   {
    "duration": 19,
    "start_time": "2022-11-08T13:07:42.607Z"
   },
   {
    "duration": 11,
    "start_time": "2022-11-08T13:07:51.970Z"
   },
   {
    "duration": 11,
    "start_time": "2022-11-08T13:08:26.115Z"
   },
   {
    "duration": 11,
    "start_time": "2022-11-08T13:08:29.459Z"
   },
   {
    "duration": 11,
    "start_time": "2022-11-08T13:09:04.520Z"
   },
   {
    "duration": 11,
    "start_time": "2022-11-08T13:09:53.512Z"
   },
   {
    "duration": 14,
    "start_time": "2022-11-08T13:20:17.804Z"
   },
   {
    "duration": 15,
    "start_time": "2022-11-08T13:23:11.903Z"
   },
   {
    "duration": 18,
    "start_time": "2022-11-08T13:26:05.502Z"
   },
   {
    "duration": 18,
    "start_time": "2022-11-08T13:27:05.243Z"
   },
   {
    "duration": 12,
    "start_time": "2022-11-08T13:27:21.983Z"
   },
   {
    "duration": 12,
    "start_time": "2022-11-08T13:29:37.469Z"
   },
   {
    "duration": 76,
    "start_time": "2022-11-08T13:34:08.663Z"
   },
   {
    "duration": 76,
    "start_time": "2022-11-08T13:34:16.543Z"
   },
   {
    "duration": 11,
    "start_time": "2022-11-08T13:35:16.842Z"
   },
   {
    "duration": 13,
    "start_time": "2022-11-08T13:35:36.345Z"
   },
   {
    "duration": 13,
    "start_time": "2022-11-08T13:38:22.955Z"
   },
   {
    "duration": 12,
    "start_time": "2022-11-08T13:39:47.420Z"
   },
   {
    "duration": 12,
    "start_time": "2022-11-08T13:40:23.498Z"
   },
   {
    "duration": 12,
    "start_time": "2022-11-08T13:40:30.167Z"
   },
   {
    "duration": 12,
    "start_time": "2022-11-08T13:41:33.290Z"
   },
   {
    "duration": 13,
    "start_time": "2022-11-08T13:43:44.970Z"
   },
   {
    "duration": 13,
    "start_time": "2022-11-08T13:45:51.221Z"
   },
   {
    "duration": 12,
    "start_time": "2022-11-08T13:46:18.520Z"
   },
   {
    "duration": 3,
    "start_time": "2022-11-08T13:58:14.094Z"
   },
   {
    "duration": 3,
    "start_time": "2022-11-09T10:42:05.030Z"
   },
   {
    "duration": 4,
    "start_time": "2022-11-09T10:42:15.180Z"
   },
   {
    "duration": 3,
    "start_time": "2022-11-09T10:44:30.590Z"
   },
   {
    "duration": 4,
    "start_time": "2022-11-09T10:45:43.104Z"
   },
   {
    "duration": 4,
    "start_time": "2022-11-09T10:46:19.634Z"
   },
   {
    "duration": 3,
    "start_time": "2022-11-09T10:47:22.844Z"
   },
   {
    "duration": 3,
    "start_time": "2022-11-09T10:48:46.079Z"
   },
   {
    "duration": 3,
    "start_time": "2022-11-09T10:50:39.765Z"
   },
   {
    "duration": 4,
    "start_time": "2022-11-09T10:56:17.729Z"
   },
   {
    "duration": 5,
    "start_time": "2022-11-09T11:15:46.806Z"
   },
   {
    "duration": 11,
    "start_time": "2022-11-09T11:24:26.725Z"
   },
   {
    "duration": 3,
    "start_time": "2022-11-09T11:37:06.373Z"
   },
   {
    "duration": 7,
    "start_time": "2022-11-09T11:38:48.340Z"
   },
   {
    "duration": 3,
    "start_time": "2022-11-09T11:39:10.819Z"
   },
   {
    "duration": 11,
    "start_time": "2022-11-09T11:39:11.098Z"
   },
   {
    "duration": 10,
    "start_time": "2022-11-09T11:40:44.043Z"
   },
   {
    "duration": 49,
    "start_time": "2022-11-09T11:40:53.586Z"
   },
   {
    "duration": 12,
    "start_time": "2022-11-09T11:41:15.677Z"
   },
   {
    "duration": 3,
    "start_time": "2022-11-09T11:41:16.938Z"
   },
   {
    "duration": 21,
    "start_time": "2022-11-09T11:41:17.604Z"
   },
   {
    "duration": 57,
    "start_time": "2022-11-09T11:41:52.786Z"
   },
   {
    "duration": 3,
    "start_time": "2022-11-09T11:42:05.536Z"
   },
   {
    "duration": 3,
    "start_time": "2022-11-09T11:44:58.683Z"
   },
   {
    "duration": 3,
    "start_time": "2022-11-09T11:45:43.199Z"
   },
   {
    "duration": 2660,
    "start_time": "2022-11-09T11:54:29.455Z"
   },
   {
    "duration": 4,
    "start_time": "2022-11-09T11:55:25.543Z"
   },
   {
    "duration": 2746,
    "start_time": "2022-11-09T11:56:13.154Z"
   },
   {
    "duration": 2949,
    "start_time": "2022-11-09T11:57:02.166Z"
   },
   {
    "duration": 2643,
    "start_time": "2022-11-09T11:58:10.255Z"
   },
   {
    "duration": 3,
    "start_time": "2022-11-09T12:08:27.787Z"
   },
   {
    "duration": 23,
    "start_time": "2022-11-09T12:08:28.321Z"
   },
   {
    "duration": 3,
    "start_time": "2022-11-09T12:08:47.491Z"
   },
   {
    "duration": 57,
    "start_time": "2022-11-09T12:08:48.671Z"
   },
   {
    "duration": 1132,
    "start_time": "2022-11-09T16:49:11.022Z"
   },
   {
    "duration": 485,
    "start_time": "2022-11-09T16:49:12.156Z"
   },
   {
    "duration": 31,
    "start_time": "2022-11-09T16:49:12.642Z"
   },
   {
    "duration": 69,
    "start_time": "2022-11-09T16:49:12.675Z"
   },
   {
    "duration": 131,
    "start_time": "2022-11-09T16:49:12.746Z"
   },
   {
    "duration": 17,
    "start_time": "2022-11-09T16:49:12.879Z"
   },
   {
    "duration": 48,
    "start_time": "2022-11-09T16:49:12.899Z"
   },
   {
    "duration": 31,
    "start_time": "2022-11-09T16:49:12.949Z"
   },
   {
    "duration": 14,
    "start_time": "2022-11-09T16:49:12.981Z"
   },
   {
    "duration": 12,
    "start_time": "2022-11-09T16:49:12.997Z"
   },
   {
    "duration": 12,
    "start_time": "2022-11-09T16:49:13.030Z"
   },
   {
    "duration": 4,
    "start_time": "2022-11-09T16:49:13.044Z"
   },
   {
    "duration": 83,
    "start_time": "2022-11-09T16:49:13.049Z"
   },
   {
    "duration": 97,
    "start_time": "2022-11-09T16:49:13.134Z"
   },
   {
    "duration": 146,
    "start_time": "2022-11-09T16:49:13.233Z"
   },
   {
    "duration": 4,
    "start_time": "2022-11-09T16:49:13.381Z"
   },
   {
    "duration": 5284,
    "start_time": "2022-11-09T16:49:13.386Z"
   },
   {
    "duration": 5183,
    "start_time": "2022-11-09T16:49:18.672Z"
   },
   {
    "duration": 5197,
    "start_time": "2022-11-09T16:49:23.857Z"
   },
   {
    "duration": 5406,
    "start_time": "2022-11-09T16:49:29.056Z"
   },
   {
    "duration": 1209,
    "start_time": "2022-11-10T06:27:41.933Z"
   },
   {
    "duration": 383,
    "start_time": "2022-11-10T06:27:44.591Z"
   },
   {
    "duration": 29,
    "start_time": "2022-11-10T06:27:46.137Z"
   },
   {
    "duration": 43,
    "start_time": "2022-11-10T06:27:56.159Z"
   },
   {
    "duration": 101,
    "start_time": "2022-11-10T06:28:03.840Z"
   },
   {
    "duration": 18,
    "start_time": "2022-11-10T06:28:51.134Z"
   },
   {
    "duration": 130,
    "start_time": "2022-11-10T06:41:40.365Z"
   },
   {
    "duration": 33,
    "start_time": "2022-11-10T06:41:56.017Z"
   },
   {
    "duration": 31,
    "start_time": "2022-11-10T06:42:02.759Z"
   },
   {
    "duration": 28,
    "start_time": "2022-11-10T06:42:09.063Z"
   },
   {
    "duration": 29,
    "start_time": "2022-11-10T06:42:15.053Z"
   },
   {
    "duration": 28,
    "start_time": "2022-11-10T06:42:25.673Z"
   },
   {
    "duration": 29,
    "start_time": "2022-11-10T06:43:03.239Z"
   },
   {
    "duration": 30,
    "start_time": "2022-11-10T06:43:13.201Z"
   },
   {
    "duration": 31,
    "start_time": "2022-11-10T06:43:17.550Z"
   },
   {
    "duration": 29,
    "start_time": "2022-11-10T06:43:23.192Z"
   },
   {
    "duration": 31,
    "start_time": "2022-11-10T06:43:45.860Z"
   },
   {
    "duration": 31,
    "start_time": "2022-11-10T06:43:51.153Z"
   },
   {
    "duration": 30,
    "start_time": "2022-11-10T06:43:59.455Z"
   },
   {
    "duration": 30,
    "start_time": "2022-11-10T06:44:08.620Z"
   },
   {
    "duration": 27,
    "start_time": "2022-11-10T06:44:32.169Z"
   },
   {
    "duration": 18,
    "start_time": "2022-11-10T06:46:07.832Z"
   },
   {
    "duration": 12,
    "start_time": "2022-11-10T06:46:32.683Z"
   },
   {
    "duration": 13,
    "start_time": "2022-11-10T06:46:48.478Z"
   },
   {
    "duration": 3,
    "start_time": "2022-11-10T06:47:07.069Z"
   },
   {
    "duration": 14,
    "start_time": "2022-11-10T06:47:31.057Z"
   },
   {
    "duration": 13,
    "start_time": "2022-11-10T06:47:34.941Z"
   },
   {
    "duration": 32,
    "start_time": "2022-11-10T06:47:38.146Z"
   },
   {
    "duration": 15,
    "start_time": "2022-11-10T06:47:42.484Z"
   },
   {
    "duration": 3,
    "start_time": "2022-11-10T06:52:46.580Z"
   },
   {
    "duration": 52,
    "start_time": "2022-11-10T06:52:49.567Z"
   },
   {
    "duration": 2,
    "start_time": "2022-11-10T06:53:42.422Z"
   },
   {
    "duration": 50,
    "start_time": "2022-11-10T06:53:43.583Z"
   },
   {
    "duration": 4,
    "start_time": "2022-11-10T06:53:54.060Z"
   },
   {
    "duration": 4,
    "start_time": "2022-11-10T06:56:13.226Z"
   },
   {
    "duration": 3,
    "start_time": "2022-11-10T06:56:58.715Z"
   },
   {
    "duration": 57,
    "start_time": "2022-11-10T06:57:00.041Z"
   },
   {
    "duration": 1046,
    "start_time": "2022-11-10T06:58:36.999Z"
   },
   {
    "duration": 360,
    "start_time": "2022-11-10T06:58:38.047Z"
   },
   {
    "duration": 27,
    "start_time": "2022-11-10T06:58:38.498Z"
   },
   {
    "duration": 39,
    "start_time": "2022-11-10T06:58:39.094Z"
   },
   {
    "duration": 98,
    "start_time": "2022-11-10T06:58:39.806Z"
   },
   {
    "duration": 18,
    "start_time": "2022-11-10T06:59:03.305Z"
   },
   {
    "duration": 37,
    "start_time": "2022-11-10T06:59:14.422Z"
   },
   {
    "duration": 43,
    "start_time": "2022-11-10T06:59:30.802Z"
   },
   {
    "duration": 28,
    "start_time": "2022-11-10T06:59:40.208Z"
   },
   {
    "duration": 26,
    "start_time": "2022-11-10T06:59:48.927Z"
   },
   {
    "duration": 18,
    "start_time": "2022-11-10T06:59:54.027Z"
   },
   {
    "duration": 13,
    "start_time": "2022-11-10T06:59:54.261Z"
   },
   {
    "duration": 14,
    "start_time": "2022-11-10T06:59:54.557Z"
   },
   {
    "duration": 4,
    "start_time": "2022-11-10T06:59:57.043Z"
   },
   {
    "duration": 16,
    "start_time": "2022-11-10T06:59:58.219Z"
   },
   {
    "duration": 122,
    "start_time": "2022-11-10T07:00:11.456Z"
   },
   {
    "duration": 25,
    "start_time": "2022-11-10T07:00:20.867Z"
   },
   {
    "duration": 11,
    "start_time": "2022-11-10T07:00:40.499Z"
   },
   {
    "duration": 3,
    "start_time": "2022-11-10T07:17:46.172Z"
   },
   {
    "duration": 13,
    "start_time": "2022-11-10T07:18:01.981Z"
   },
   {
    "duration": 13,
    "start_time": "2022-11-10T07:18:12.380Z"
   },
   {
    "duration": 13,
    "start_time": "2022-11-10T07:27:48.769Z"
   },
   {
    "duration": 12,
    "start_time": "2022-11-10T07:27:52.420Z"
   },
   {
    "duration": 12,
    "start_time": "2022-11-10T07:28:03.697Z"
   },
   {
    "duration": 10,
    "start_time": "2022-11-10T07:28:15.093Z"
   },
   {
    "duration": 12,
    "start_time": "2022-11-10T07:28:24.289Z"
   },
   {
    "duration": 12,
    "start_time": "2022-11-10T07:29:25.513Z"
   },
   {
    "duration": 6,
    "start_time": "2022-11-10T07:29:49.971Z"
   },
   {
    "duration": 11,
    "start_time": "2022-11-10T07:29:56.424Z"
   },
   {
    "duration": 5,
    "start_time": "2022-11-10T07:30:02.180Z"
   },
   {
    "duration": 63,
    "start_time": "2022-11-10T07:30:54.985Z"
   },
   {
    "duration": 3,
    "start_time": "2022-11-10T07:32:52.295Z"
   },
   {
    "duration": 49,
    "start_time": "2022-11-10T07:32:53.244Z"
   },
   {
    "duration": 3,
    "start_time": "2022-11-10T07:33:03.332Z"
   },
   {
    "duration": 1234,
    "start_time": "2022-11-10T07:47:15.652Z"
   },
   {
    "duration": 1166,
    "start_time": "2022-11-10T07:51:14.981Z"
   },
   {
    "duration": 1156,
    "start_time": "2022-11-10T07:51:25.720Z"
   },
   {
    "duration": 1158,
    "start_time": "2022-11-10T07:52:38.241Z"
   },
   {
    "duration": 1228,
    "start_time": "2022-11-10T07:54:46.172Z"
   },
   {
    "duration": 1197,
    "start_time": "2022-11-10T07:55:14.430Z"
   },
   {
    "duration": 104,
    "start_time": "2022-11-10T08:03:05.617Z"
   },
   {
    "duration": 1066,
    "start_time": "2022-11-10T08:08:46.801Z"
   },
   {
    "duration": 3,
    "start_time": "2022-11-10T08:08:52.150Z"
   },
   {
    "duration": 406,
    "start_time": "2022-11-10T08:08:53.881Z"
   },
   {
    "duration": 31,
    "start_time": "2022-11-10T08:08:55.384Z"
   },
   {
    "duration": 41,
    "start_time": "2022-11-10T08:08:58.163Z"
   },
   {
    "duration": 107,
    "start_time": "2022-11-10T08:09:00.740Z"
   },
   {
    "duration": 106,
    "start_time": "2022-11-10T08:09:33.450Z"
   },
   {
    "duration": 44,
    "start_time": "2022-11-10T08:09:44.381Z"
   },
   {
    "duration": 43,
    "start_time": "2022-11-10T08:09:52.224Z"
   },
   {
    "duration": 49,
    "start_time": "2022-11-10T08:10:01.160Z"
   },
   {
    "duration": 89,
    "start_time": "2022-11-10T08:10:31.382Z"
   },
   {
    "duration": 130,
    "start_time": "2022-11-10T08:10:50.304Z"
   },
   {
    "duration": 131,
    "start_time": "2022-11-10T08:11:20.145Z"
   },
   {
    "duration": 19,
    "start_time": "2022-11-10T08:11:43.329Z"
   },
   {
    "duration": 38,
    "start_time": "2022-11-10T08:11:48.281Z"
   },
   {
    "duration": 26,
    "start_time": "2022-11-10T08:11:49.738Z"
   },
   {
    "duration": 14,
    "start_time": "2022-11-10T08:26:18.559Z"
   },
   {
    "duration": 14,
    "start_time": "2022-11-10T08:26:21.092Z"
   },
   {
    "duration": 15,
    "start_time": "2022-11-10T08:26:22.127Z"
   },
   {
    "duration": 13,
    "start_time": "2022-11-10T08:27:24.563Z"
   },
   {
    "duration": 13,
    "start_time": "2022-11-10T08:27:27.326Z"
   },
   {
    "duration": 13,
    "start_time": "2022-11-10T08:27:27.858Z"
   },
   {
    "duration": 3,
    "start_time": "2022-11-10T08:49:31.938Z"
   },
   {
    "duration": 373,
    "start_time": "2022-11-10T08:49:34.980Z"
   },
   {
    "duration": 22,
    "start_time": "2022-11-10T08:49:35.723Z"
   },
   {
    "duration": 44,
    "start_time": "2022-11-10T08:49:36.587Z"
   },
   {
    "duration": 99,
    "start_time": "2022-11-10T08:49:37.018Z"
   },
   {
    "duration": 131,
    "start_time": "2022-11-10T08:49:37.557Z"
   },
   {
    "duration": 18,
    "start_time": "2022-11-10T08:49:37.961Z"
   },
   {
    "duration": 28,
    "start_time": "2022-11-10T08:49:41.194Z"
   },
   {
    "duration": 27,
    "start_time": "2022-11-10T08:49:41.388Z"
   },
   {
    "duration": 16,
    "start_time": "2022-11-10T08:49:43.321Z"
   },
   {
    "duration": 13,
    "start_time": "2022-11-10T08:49:43.478Z"
   },
   {
    "duration": 13,
    "start_time": "2022-11-10T08:49:43.679Z"
   },
   {
    "duration": 433,
    "start_time": "2022-11-10T08:53:35.481Z"
   },
   {
    "duration": 21,
    "start_time": "2022-11-10T08:53:54.258Z"
   },
   {
    "duration": 111,
    "start_time": "2022-11-10T08:54:00.460Z"
   },
   {
    "duration": 84,
    "start_time": "2022-11-10T08:54:12.360Z"
   },
   {
    "duration": 107,
    "start_time": "2022-11-10T08:54:17.352Z"
   },
   {
    "duration": 96,
    "start_time": "2022-11-10T08:56:01.925Z"
   },
   {
    "duration": 105,
    "start_time": "2022-11-10T08:57:51.682Z"
   },
   {
    "duration": 102,
    "start_time": "2022-11-10T08:57:56.049Z"
   },
   {
    "duration": 107,
    "start_time": "2022-11-10T08:58:03.671Z"
   },
   {
    "duration": 181,
    "start_time": "2022-11-10T08:58:07.902Z"
   },
   {
    "duration": 97,
    "start_time": "2022-11-10T08:58:29.400Z"
   },
   {
    "duration": 4,
    "start_time": "2022-11-10T08:58:50.306Z"
   },
   {
    "duration": 14,
    "start_time": "2022-11-10T08:58:51.231Z"
   },
   {
    "duration": 3,
    "start_time": "2022-11-10T08:58:53.851Z"
   },
   {
    "duration": 54,
    "start_time": "2022-11-10T08:58:54.608Z"
   },
   {
    "duration": 3,
    "start_time": "2022-11-10T08:58:54.864Z"
   },
   {
    "duration": 13,
    "start_time": "2022-11-10T09:01:32.136Z"
   },
   {
    "duration": 3,
    "start_time": "2022-11-10T09:01:32.355Z"
   },
   {
    "duration": 53,
    "start_time": "2022-11-10T09:01:32.878Z"
   },
   {
    "duration": 3,
    "start_time": "2022-11-10T09:01:34.182Z"
   },
   {
    "duration": 1226,
    "start_time": "2022-11-10T09:01:41.838Z"
   },
   {
    "duration": 1258,
    "start_time": "2022-11-10T09:01:43.066Z"
   },
   {
    "duration": 1231,
    "start_time": "2022-11-10T09:01:44.326Z"
   },
   {
    "duration": 48,
    "start_time": "2022-11-11T08:17:48.120Z"
   },
   {
    "duration": 1418,
    "start_time": "2022-11-11T08:17:55.923Z"
   },
   {
    "duration": 1420,
    "start_time": "2022-11-11T08:17:57.343Z"
   },
   {
    "duration": 27,
    "start_time": "2022-11-11T08:17:58.765Z"
   },
   {
    "duration": 1244,
    "start_time": "2022-11-11T08:18:07.602Z"
   },
   {
    "duration": 357,
    "start_time": "2022-11-11T08:18:08.848Z"
   },
   {
    "duration": 24,
    "start_time": "2022-11-11T08:18:09.206Z"
   },
   {
    "duration": 49,
    "start_time": "2022-11-11T08:18:09.232Z"
   },
   {
    "duration": 114,
    "start_time": "2022-11-11T08:18:09.283Z"
   },
   {
    "duration": 141,
    "start_time": "2022-11-11T08:18:09.398Z"
   },
   {
    "duration": 19,
    "start_time": "2022-11-11T08:18:10.704Z"
   },
   {
    "duration": 38,
    "start_time": "2022-11-11T08:18:11.929Z"
   },
   {
    "duration": 27,
    "start_time": "2022-11-11T08:18:12.402Z"
   },
   {
    "duration": 16,
    "start_time": "2022-11-11T08:18:13.677Z"
   },
   {
    "duration": 13,
    "start_time": "2022-11-11T08:18:14.540Z"
   },
   {
    "duration": 13,
    "start_time": "2022-11-11T08:18:15.135Z"
   },
   {
    "duration": 108,
    "start_time": "2022-11-11T08:18:16.269Z"
   },
   {
    "duration": 4,
    "start_time": "2022-11-11T08:18:19.873Z"
   },
   {
    "duration": 11,
    "start_time": "2022-11-11T08:18:25.967Z"
   },
   {
    "duration": 4,
    "start_time": "2022-11-11T08:18:26.924Z"
   },
   {
    "duration": 54,
    "start_time": "2022-11-11T08:18:29.714Z"
   },
   {
    "duration": 3,
    "start_time": "2022-11-11T08:18:31.814Z"
   },
   {
    "duration": 103,
    "start_time": "2022-11-11T08:18:34.579Z"
   },
   {
    "duration": 12,
    "start_time": "2022-11-11T08:18:54.669Z"
   },
   {
    "duration": 4,
    "start_time": "2022-11-11T08:19:51.076Z"
   },
   {
    "duration": 4,
    "start_time": "2022-11-11T08:19:57.535Z"
   },
   {
    "duration": 6,
    "start_time": "2022-11-11T08:21:14.357Z"
   },
   {
    "duration": 5,
    "start_time": "2022-11-11T08:21:25.842Z"
   },
   {
    "duration": 5,
    "start_time": "2022-11-11T08:21:35.828Z"
   },
   {
    "duration": 9,
    "start_time": "2022-11-11T08:21:38.949Z"
   },
   {
    "duration": 3,
    "start_time": "2022-11-11T08:32:15.801Z"
   },
   {
    "duration": 1414,
    "start_time": "2022-11-11T08:32:28.394Z"
   },
   {
    "duration": 369,
    "start_time": "2022-11-11T08:32:29.810Z"
   },
   {
    "duration": 28,
    "start_time": "2022-11-11T08:32:30.181Z"
   },
   {
    "duration": 48,
    "start_time": "2022-11-11T08:32:31.062Z"
   },
   {
    "duration": 100,
    "start_time": "2022-11-11T08:32:31.520Z"
   },
   {
    "duration": 158,
    "start_time": "2022-11-11T08:32:32.186Z"
   },
   {
    "duration": 24,
    "start_time": "2022-11-11T08:32:33.026Z"
   },
   {
    "duration": 40,
    "start_time": "2022-11-11T08:32:35.500Z"
   },
   {
    "duration": 3,
    "start_time": "2022-11-11T08:32:37.192Z"
   },
   {
    "duration": 102,
    "start_time": "2022-11-11T08:32:40.167Z"
   },
   {
    "duration": 22,
    "start_time": "2022-11-11T08:32:40.959Z"
   },
   {
    "duration": 15,
    "start_time": "2022-11-11T08:32:41.648Z"
   },
   {
    "duration": 136,
    "start_time": "2022-11-11T08:32:43.520Z"
   },
   {
    "duration": 4,
    "start_time": "2022-11-11T08:32:47.718Z"
   },
   {
    "duration": 11,
    "start_time": "2022-11-11T08:32:51.689Z"
   },
   {
    "duration": 3,
    "start_time": "2022-11-11T08:32:56.810Z"
   },
   {
    "duration": 57,
    "start_time": "2022-11-11T08:32:59.618Z"
   },
   {
    "duration": 4,
    "start_time": "2022-11-11T08:33:01.396Z"
   },
   {
    "duration": 107,
    "start_time": "2022-11-11T08:33:07.220Z"
   },
   {
    "duration": 7,
    "start_time": "2022-11-11T08:34:14.563Z"
   },
   {
    "duration": 5,
    "start_time": "2022-11-11T08:34:28.158Z"
   },
   {
    "duration": 8,
    "start_time": "2022-11-11T08:35:40.361Z"
   },
   {
    "duration": 17,
    "start_time": "2022-11-11T08:40:34.456Z"
   },
   {
    "duration": 24,
    "start_time": "2022-11-11T08:41:28.802Z"
   },
   {
    "duration": 25,
    "start_time": "2022-11-11T08:42:20.514Z"
   },
   {
    "duration": 6,
    "start_time": "2022-11-11T08:42:31.264Z"
   },
   {
    "duration": 6,
    "start_time": "2022-11-11T08:42:49.947Z"
   },
   {
    "duration": 5,
    "start_time": "2022-11-11T08:43:00.000Z"
   },
   {
    "duration": 4,
    "start_time": "2022-11-11T08:43:40.473Z"
   },
   {
    "duration": 6,
    "start_time": "2022-11-11T08:43:49.884Z"
   },
   {
    "duration": 23,
    "start_time": "2022-11-11T08:44:41.404Z"
   },
   {
    "duration": 1580,
    "start_time": "2022-11-11T08:45:18.427Z"
   },
   {
    "duration": 7,
    "start_time": "2022-11-11T08:48:24.037Z"
   },
   {
    "duration": 1545,
    "start_time": "2022-11-11T08:48:48.385Z"
   },
   {
    "duration": 1523,
    "start_time": "2022-11-11T08:49:33.091Z"
   },
   {
    "duration": 1494,
    "start_time": "2022-11-11T08:49:41.424Z"
   },
   {
    "duration": 7,
    "start_time": "2022-11-11T08:52:14.052Z"
   },
   {
    "duration": 1563,
    "start_time": "2022-11-11T08:52:15.385Z"
   },
   {
    "duration": 7,
    "start_time": "2022-11-11T08:52:31.750Z"
   },
   {
    "duration": 1634,
    "start_time": "2022-11-11T08:52:33.218Z"
   },
   {
    "duration": 6,
    "start_time": "2022-11-11T08:53:14.540Z"
   },
   {
    "duration": 1576,
    "start_time": "2022-11-11T08:53:15.127Z"
   },
   {
    "duration": 4,
    "start_time": "2022-11-11T09:00:31.879Z"
   },
   {
    "duration": 78,
    "start_time": "2022-11-11T09:01:02.593Z"
   },
   {
    "duration": 4,
    "start_time": "2022-11-11T09:01:10.810Z"
   },
   {
    "duration": 45,
    "start_time": "2022-11-11T09:01:11.224Z"
   },
   {
    "duration": 17,
    "start_time": "2022-11-11T09:01:27.657Z"
   },
   {
    "duration": 15,
    "start_time": "2022-11-11T09:02:14.299Z"
   },
   {
    "duration": 13,
    "start_time": "2022-11-11T09:02:48.552Z"
   },
   {
    "duration": 127,
    "start_time": "2022-11-11T09:02:55.270Z"
   },
   {
    "duration": 1360,
    "start_time": "2022-11-11T09:04:28.596Z"
   },
   {
    "duration": 362,
    "start_time": "2022-11-11T09:04:31.589Z"
   },
   {
    "duration": 26,
    "start_time": "2022-11-11T09:04:32.926Z"
   },
   {
    "duration": 43,
    "start_time": "2022-11-11T09:04:33.705Z"
   },
   {
    "duration": 109,
    "start_time": "2022-11-11T09:04:34.680Z"
   },
   {
    "duration": 145,
    "start_time": "2022-11-11T09:04:35.501Z"
   },
   {
    "duration": 18,
    "start_time": "2022-11-11T09:04:36.633Z"
   },
   {
    "duration": 38,
    "start_time": "2022-11-11T09:04:39.510Z"
   },
   {
    "duration": 2,
    "start_time": "2022-11-11T09:04:52.967Z"
   },
   {
    "duration": 4,
    "start_time": "2022-11-11T09:04:57.765Z"
   },
   {
    "duration": 3,
    "start_time": "2022-11-11T09:05:27.554Z"
   },
   {
    "duration": 18,
    "start_time": "2022-11-11T09:05:30.102Z"
   },
   {
    "duration": 14,
    "start_time": "2022-11-11T09:05:31.634Z"
   },
   {
    "duration": 13,
    "start_time": "2022-11-11T09:05:32.430Z"
   },
   {
    "duration": 111,
    "start_time": "2022-11-11T09:05:36.219Z"
   },
   {
    "duration": 4,
    "start_time": "2022-11-11T09:05:41.363Z"
   },
   {
    "duration": 4,
    "start_time": "2022-11-11T09:08:28.546Z"
   },
   {
    "duration": 108,
    "start_time": "2022-11-11T09:08:50.140Z"
   },
   {
    "duration": 4,
    "start_time": "2022-11-11T09:09:19.169Z"
   },
   {
    "duration": 6,
    "start_time": "2022-11-11T09:09:23.201Z"
   },
   {
    "duration": 1594,
    "start_time": "2022-11-11T09:09:25.310Z"
   },
   {
    "duration": 1533,
    "start_time": "2022-11-11T09:09:27.918Z"
   },
   {
    "duration": 1489,
    "start_time": "2022-11-11T09:09:30.235Z"
   }
  ],
  "kernelspec": {
   "display_name": "Python 3 (ipykernel)",
   "language": "python",
   "name": "python3"
  },
  "language_info": {
   "codemirror_mode": {
    "name": "ipython",
    "version": 3
   },
   "file_extension": ".py",
   "mimetype": "text/x-python",
   "name": "python",
   "nbconvert_exporter": "python",
   "pygments_lexer": "ipython3",
   "version": "3.10.9"
  },
  "toc": {
   "base_numbering": 1,
   "nav_menu": {},
   "number_sections": true,
   "sideBar": true,
   "skip_h1_title": true,
   "title_cell": "Table of Contents",
   "title_sidebar": "Contents",
   "toc_cell": false,
   "toc_position": {},
   "toc_section_display": true,
   "toc_window_display": false
  }
 },
 "nbformat": 4,
 "nbformat_minor": 2
}
