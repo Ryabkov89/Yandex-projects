{
 "cells": [
  {
   "cell_type": "markdown",
   "metadata": {},
   "source": [
    "# Рекомендация тарифов"
   ]
  },
  {
   "cell_type": "markdown",
   "metadata": {},
   "source": [
    "Оператор мобильной связи выяснил: многие клиенты пользуются архивными тарифами. Они хотят построить систему, способную проанализировать поведение клиентов и предложить пользователям один из новых тариф."
   ]
  },
  {
   "cell_type": "markdown",
   "metadata": {},
   "source": [
    "## Открываем и изучаем данные"
   ]
  },
  {
   "cell_type": "code",
   "execution_count": 2,
   "metadata": {},
   "outputs": [],
   "source": [
    "import pandas as pd\n",
    "\n",
    "from sklearn.model_selection import train_test_split\n",
    "from sklearn import tree\n",
    "from sklearn.tree import DecisionTreeClassifier\n",
    "from sklearn.ensemble import RandomForestClassifier\n",
    "from sklearn.linear_model import LogisticRegression\n",
    "from sklearn.metrics import accuracy_score\n",
    "import matplotlib.pyplot as plt\n",
    "from sklearn.dummy import DummyClassifier\n",
    "import seaborn as sns\n",
    "from joblib import dump, load"
   ]
  },
  {
   "cell_type": "code",
   "execution_count": 3,
   "metadata": {},
   "outputs": [
    {
     "name": "stdout",
     "output_type": "stream",
     "text": [
      "<class 'pandas.core.frame.DataFrame'>\n",
      "RangeIndex: 3214 entries, 0 to 3213\n",
      "Data columns (total 5 columns):\n",
      " #   Column    Non-Null Count  Dtype  \n",
      "---  ------    --------------  -----  \n",
      " 0   calls     3214 non-null   float64\n",
      " 1   minutes   3214 non-null   float64\n",
      " 2   messages  3214 non-null   float64\n",
      " 3   mb_used   3214 non-null   float64\n",
      " 4   is_ultra  3214 non-null   int64  \n",
      "dtypes: float64(4), int64(1)\n",
      "memory usage: 125.7 KB\n"
     ]
    }
   ],
   "source": [
    "df = pd.read_csv('/datasets/users_behavior.csv')\n",
    "df.info()"
   ]
  },
  {
   "cell_type": "code",
   "execution_count": 4,
   "metadata": {},
   "outputs": [
    {
     "data": {
      "text/html": [
       "<div>\n",
       "<style scoped>\n",
       "    .dataframe tbody tr th:only-of-type {\n",
       "        vertical-align: middle;\n",
       "    }\n",
       "\n",
       "    .dataframe tbody tr th {\n",
       "        vertical-align: top;\n",
       "    }\n",
       "\n",
       "    .dataframe thead th {\n",
       "        text-align: right;\n",
       "    }\n",
       "</style>\n",
       "<table border=\"1\" class=\"dataframe\">\n",
       "  <thead>\n",
       "    <tr style=\"text-align: right;\">\n",
       "      <th></th>\n",
       "      <th>calls</th>\n",
       "      <th>minutes</th>\n",
       "      <th>messages</th>\n",
       "      <th>mb_used</th>\n",
       "      <th>is_ultra</th>\n",
       "    </tr>\n",
       "  </thead>\n",
       "  <tbody>\n",
       "    <tr>\n",
       "      <th>0</th>\n",
       "      <td>40</td>\n",
       "      <td>311.90</td>\n",
       "      <td>83</td>\n",
       "      <td>19915.42</td>\n",
       "      <td>0</td>\n",
       "    </tr>\n",
       "    <tr>\n",
       "      <th>1</th>\n",
       "      <td>85</td>\n",
       "      <td>516.75</td>\n",
       "      <td>56</td>\n",
       "      <td>22696.96</td>\n",
       "      <td>0</td>\n",
       "    </tr>\n",
       "    <tr>\n",
       "      <th>2</th>\n",
       "      <td>77</td>\n",
       "      <td>467.66</td>\n",
       "      <td>86</td>\n",
       "      <td>21060.45</td>\n",
       "      <td>0</td>\n",
       "    </tr>\n",
       "    <tr>\n",
       "      <th>3</th>\n",
       "      <td>106</td>\n",
       "      <td>745.53</td>\n",
       "      <td>81</td>\n",
       "      <td>8437.39</td>\n",
       "      <td>1</td>\n",
       "    </tr>\n",
       "    <tr>\n",
       "      <th>4</th>\n",
       "      <td>66</td>\n",
       "      <td>418.74</td>\n",
       "      <td>1</td>\n",
       "      <td>14502.75</td>\n",
       "      <td>0</td>\n",
       "    </tr>\n",
       "  </tbody>\n",
       "</table>\n",
       "</div>"
      ],
      "text/plain": [
       "   calls  minutes  messages   mb_used  is_ultra\n",
       "0     40   311.90        83  19915.42         0\n",
       "1     85   516.75        56  22696.96         0\n",
       "2     77   467.66        86  21060.45         0\n",
       "3    106   745.53        81   8437.39         1\n",
       "4     66   418.74         1  14502.75         0"
      ]
     },
     "execution_count": 4,
     "metadata": {},
     "output_type": "execute_result"
    }
   ],
   "source": [
    "df['calls'] = df['calls'].astype('int')\n",
    "df['messages'] = df['messages'].astype('int')\n",
    "df.head()"
   ]
  },
  {
   "cell_type": "code",
   "execution_count": 5,
   "metadata": {},
   "outputs": [
    {
     "data": {
      "image/png": "[encoded data removed]",
      "text/plain": [
       "<Figure size 1152x576 with 6 Axes>"
      ]
     },
     "metadata": {
      "needs_background": "light"
     },
     "output_type": "display_data"
    }
   ],
   "source": [
    "df.hist(figsize=(16, 8));"
   ]
  },
  {
   "cell_type": "code",
   "execution_count": 6,
   "metadata": {},
   "outputs": [
    {
     "data": {
      "text/plain": [
       "0"
      ]
     },
     "execution_count": 6,
     "metadata": {},
     "output_type": "execute_result"
    }
   ],
   "source": [
    "df.duplicated().sum()"
   ]
  },
  {
   "cell_type": "markdown",
   "metadata": {},
   "source": [
    "***Данные хорошего качества, пропуски и дубликаты отсутствуют, значения распределены нормально, можно приступать к обучению модели.***"
   ]
  },
  {
   "cell_type": "markdown",
   "metadata": {},
   "source": [
    "Проверим данные на сбалансированность"
   ]
  },
  {
   "cell_type": "code",
   "execution_count": 7,
   "metadata": {},
   "outputs": [
    {
     "data": {
      "text/plain": [
       "0    2229\n",
       "1     985\n",
       "Name: is_ultra, dtype: int64"
      ]
     },
     "execution_count": 7,
     "metadata": {},
     "output_type": "execute_result"
    }
   ],
   "source": [
    "df['is_ultra'].value_counts()"
   ]
  },
  {
   "cell_type": "markdown",
   "metadata": {},
   "source": [
    "## Разбиваем данные на выборки"
   ]
  },
  {
   "cell_type": "markdown",
   "metadata": {},
   "source": [
    "Целевой признак содержится в колонке 'is_ultra': 1 - если пользователь использует тариф Ультра и 0 - если использует тариф Смарт.  \n",
    "Разобьем выборку на три набора данных: обучающий, валидационный и тестовый в пропорции 3:1:1 в одинаковой пропорции по тарифам по выборкам."
   ]
  },
  {
   "cell_type": "code",
   "execution_count": 8,
   "metadata": {},
   "outputs": [],
   "source": [
    "features = df.drop('is_ultra', axis=1)\n",
    "target = df['is_ultra']"
   ]
  },
  {
   "cell_type": "code",
   "execution_count": 9,
   "metadata": {},
   "outputs": [],
   "source": [
    "features_train, features_valid, target_train, target_valid = train_test_split(\n",
    "    features, target, test_size=0.2, random_state=12345, stratify=target)\n",
    "features_train, features_test, target_train, target_test = train_test_split(\n",
    "    features_train, target_train, test_size=0.25, random_state=12345, stratify=target_train)"
   ]
  },
  {
   "cell_type": "markdown",
   "metadata": {},
   "source": [
    "Проверим размеры выборок и пропорциональность классов в таргете"
   ]
  },
  {
   "cell_type": "code",
   "execution_count": 10,
   "metadata": {},
   "outputs": [
    {
     "data": {
      "text/plain": [
       "(1928, 4)"
      ]
     },
     "metadata": {},
     "output_type": "display_data"
    },
    {
     "data": {
      "text/plain": [
       "(643, 4)"
      ]
     },
     "metadata": {},
     "output_type": "display_data"
    },
    {
     "data": {
      "text/plain": [
       "(643, 4)"
      ]
     },
     "metadata": {},
     "output_type": "display_data"
    },
    {
     "data": {
      "text/plain": [
       "(1928,)"
      ]
     },
     "metadata": {},
     "output_type": "display_data"
    },
    {
     "data": {
      "text/plain": [
       "(643,)"
      ]
     },
     "metadata": {},
     "output_type": "display_data"
    },
    {
     "data": {
      "text/plain": [
       "(643,)"
      ]
     },
     "metadata": {},
     "output_type": "display_data"
    }
   ],
   "source": [
    "display(features_train.shape, features_test.shape, features_valid.shape, target_train.shape, target_test.shape, \n",
    "        target_valid.shape)"
   ]
  },
  {
   "cell_type": "code",
   "execution_count": 11,
   "metadata": {},
   "outputs": [
    {
     "data": {
      "text/plain": [
       "(0    1337\n",
       " 1     591\n",
       " Name: is_ultra, dtype: int64,\n",
       " 0    446\n",
       " 1    197\n",
       " Name: is_ultra, dtype: int64,\n",
       " 0    446\n",
       " 1    197\n",
       " Name: is_ultra, dtype: int64)"
      ]
     },
     "execution_count": 11,
     "metadata": {},
     "output_type": "execute_result"
    }
   ],
   "source": [
    "\n"
   ]
  },
  {
   "cell_type": "markdown",
   "metadata": {},
   "source": [
    "## Исследуем модели"
   ]
  },
  {
   "cell_type": "markdown",
   "metadata": {},
   "source": [
    "Для принятия решения о выборе модели - обучим Дерево решений, Случайный лес и Логистическую регрессию с разными значениями гиперпараметров и сравним точность предсказаний между собой"
   ]
  },
  {
   "cell_type": "markdown",
   "metadata": {},
   "source": [
    "### Дерево решений"
   ]
  },
  {
   "cell_type": "code",
   "execution_count": 14,
   "metadata": {},
   "outputs": [
    {
     "name": "stdout",
     "output_type": "stream",
     "text": [
      "Точность лучшей модели дерева решений: 0.7993779160186625\n",
      "Лучшая модель: DecisionTreeClassifier(max_depth=3, random_state=12345)\n"
     ]
    },
    {
     "data": {
      "image/png": "[encoded data removed]",
      "text/plain": [
       "<Figure size 648x360 with 1 Axes>"
      ]
     },
     "metadata": {
      "needs_background": "light"
     },
     "output_type": "display_data"
    }
   ],
   "source": [
    "best_model = None\n",
    "best_result = 0\n",
    "result_valid_list = []\n",
    "result_train_list = []\n",
    "depth_list = []\n",
    "for depth in range(1, 15):\n",
    "    model = DecisionTreeClassifier(random_state=12345, max_depth = depth)#, class_weight='balanced')\n",
    "    model.fit(features_train, target_train)\n",
    "    result_train = model.score(features_train, target_train)\n",
    "    result_train_list.append(result_train)\n",
    "    predictions = model.predict(features_valid)\n",
    "    result = accuracy_score(target_valid, predictions)\n",
    "    #print(result)\n",
    "    result_valid_list.append(result)\n",
    "    depth_list.append(depth)\n",
    "    if result > best_result:\n",
    "        best_result = result\n",
    "        best_model = model\n",
    "print('Точность лучшей модели дерева решений:', best_result)\n",
    "dump(best_model, 'best_model_tree.joblib');\n",
    "print('Лучшая модель:', best_model)\n",
    "plt.subplots(figsize=(9,5));\n",
    "plt.plot(depth_list, result_train_list, label = 'Обучающая выборка');\n",
    "plt.plot(depth_list, result_valid_list, label = 'Валидационная выборка');\n",
    "plt.legend();\n",
    "plt.ylabel('Точность модели');\n",
    "plt.xlabel('Глубина дерева');\n",
    "plt.xticks(depth_list);\n",
    "plt.grid()"
   ]
  },
  {
   "cell_type": "code",
   "execution_count": 13,
   "metadata": {},
   "outputs": [
    {
     "data": {
      "image/png": "[encoded data removed]",
      "text/plain": [
       "<Figure size 1152x648 with 1 Axes>"
      ]
     },
     "metadata": {
      "needs_background": "light"
     },
     "output_type": "display_data"
    }
   ],
   "source": [
    "plt.subplots(figsize=(16,9))\n",
    "tree.plot_tree(best_model, feature_names = ['Звонки', 'Минуты', 'Сообщения', 'Мегабайты'], class_names = ['Smart', 'Ultra'], filled=True);"
   ]
  },
  {
   "cell_type": "markdown",
   "metadata": {},
   "source": [
    "### Случайный лес"
   ]
  },
  {
   "cell_type": "code",
   "execution_count": 13,
   "metadata": {},
   "outputs": [
    {
     "name": "stdout",
     "output_type": "stream",
     "text": [
      "Точность лучшей модели случайного леса: 0.8195956454121306\n",
      "Лучшая модель: RandomForestClassifier(max_depth=6, n_estimators=30, random_state=12345)\n",
      "CPU times: user 15.8 s, sys: 118 ms, total: 15.9 s\n",
      "Wall time: 16 s\n"
     ]
    }
   ],
   "source": [
    "%%time\n",
    "best_model = None\n",
    "best_result = 0\n",
    "#result_valid_list = []\n",
    "#result_train_list = []\n",
    "#est_list = []\n",
    "#depth_list = []\n",
    "for est in range(10, 40):\n",
    "    for depth in range(1,10):\n",
    "        model = RandomForestClassifier(n_estimators=est, max_depth=depth, random_state=12345) #, class_weight='balanced')\n",
    "        model.fit(features_train, target_train)\n",
    "        #result_train = model.score(features_train, target_train)\n",
    "        #result_train_list.append(result_train)\n",
    "        predictions = model.predict(features_valid)\n",
    "        result = accuracy_score(target_valid, predictions)\n",
    "        #result_valid_list.append(result)\n",
    "        #depth_list.append(depth)\n",
    "        #est_list.append(est)\n",
    "        #print(result)\n",
    "        if result > best_result:\n",
    "            best_result = result\n",
    "            best_model = model\n",
    "print('Точность лучшей модели случайного леса:', best_result)\n",
    "dump(best_model, 'best_model_forest.joblib');\n",
    "print(\"Лучшая модель:\", best_model)\n",
    "#plt.subplots(figsize=(9,5));\n",
    "#plt.plot(depth_list, result_train_list, label = 'Обучающая выборка');\n",
    "#plt.plot(depth_list, result_valid_list, label = 'Валидационная выборка');\n",
    "#plt.legend();\n",
    "#plt.ylabel('Точность модели');\n",
    "#plt.xlabel('Глубина дерева');\n",
    "#plt.xticks(depth_list);\n",
    "#plt.grid()"
   ]
  },
  {
   "cell_type": "markdown",
   "metadata": {},
   "source": [
    "### Логистическая регрессия"
   ]
  },
  {
   "cell_type": "code",
   "execution_count": 14,
   "metadata": {},
   "outputs": [
    {
     "name": "stdout",
     "output_type": "stream",
     "text": [
      "Точность модели логистической регрессии: 0.7371695178849145\n"
     ]
    }
   ],
   "source": [
    "model = LogisticRegression(random_state=12345, solver='lbfgs', max_iter=1000)\n",
    "model.fit(features_train, target_train)\n",
    "predictions = model.predict(features_valid)\n",
    "result = accuracy_score(target_valid, predictions)\n",
    "print('Точность модели логистической регрессии:', result)\n",
    "dump(model, 'best_model_regression.joblib');"
   ]
  },
  {
   "cell_type": "markdown",
   "metadata": {},
   "source": [
    "***Самая точная модель - Случайный лес***"
   ]
  },
  {
   "cell_type": "markdown",
   "metadata": {},
   "source": [
    "## Проверяем модель на тестовой выборке"
   ]
  },
  {
   "cell_type": "code",
   "execution_count": 18,
   "metadata": {},
   "outputs": [
    {
     "name": "stdout",
     "output_type": "stream",
     "text": [
      "0.8227060653188181\n"
     ]
    },
    {
     "data": {
      "text/plain": [
       "RandomForestClassifier(max_depth=6, n_estimators=30, random_state=12345)"
      ]
     },
     "execution_count": 18,
     "metadata": {},
     "output_type": "execute_result"
    }
   ],
   "source": [
    "model = load('best_model_forest.joblib')\n",
    "predictions = model.predict(features_test)\n",
    "result = accuracy_score(target_test, predictions)\n",
    "print(result)\n",
    "model"
   ]
  },
  {
   "cell_type": "markdown",
   "metadata": {},
   "source": [
    "Объединим обучающие и валидационную выборки и попробуем обучить модель на новом датасете, затем проверим на тестовой выборке"
   ]
  },
  {
   "cell_type": "code",
   "execution_count": 16,
   "metadata": {},
   "outputs": [
    {
     "name": "stdout",
     "output_type": "stream",
     "text": [
      "0.8180404354587869\n"
     ]
    }
   ],
   "source": [
    "features_new = pd.concat([features_train, features_valid]).reset_index(drop=True)\n",
    "target_new = pd.concat([target_train, target_valid]).reset_index(drop=True)\n",
    "model = RandomForestClassifier(max_depth=6, n_estimators=30, random_state=12345)\n",
    "model.fit(features_new, target_new)\n",
    "predictions = model.predict(features_test)\n",
    "result = accuracy_score(target_test, predictions)\n",
    "print(result)"
   ]
  },
  {
   "cell_type": "markdown",
   "metadata": {},
   "source": [
    "***Точность предсказаний лучшей из обученных нами моделей (Случайный лес с 30 деревьями и глубиной 6) даёт удовлетворительный результат 82.3%***"
   ]
  }
 ],
 "metadata": {
  "ExecuteTimeLog": [
   {
    "duration": 441,
    "start_time": "2022-10-10T11:28:51.864Z"
   },
   {
    "duration": 78,
    "start_time": "2022-10-10T11:44:59.963Z"
   },
   {
    "duration": 27,
    "start_time": "2022-10-10T11:45:17.008Z"
   },
   {
    "duration": 35,
    "start_time": "2022-10-10T11:45:33.233Z"
   },
   {
    "duration": 10,
    "start_time": "2022-10-10T11:45:58.584Z"
   },
   {
    "duration": 4,
    "start_time": "2022-10-10T11:47:02.601Z"
   },
   {
    "duration": 9,
    "start_time": "2022-10-10T11:47:12.393Z"
   },
   {
    "duration": 811,
    "start_time": "2022-10-10T11:47:50.471Z"
   },
   {
    "duration": 428,
    "start_time": "2022-10-10T11:48:19.312Z"
   },
   {
    "duration": 573,
    "start_time": "2022-10-10T11:48:27.543Z"
   },
   {
    "duration": 5,
    "start_time": "2022-10-10T11:55:26.446Z"
   },
   {
    "duration": 105,
    "start_time": "2022-10-10T11:59:06.727Z"
   },
   {
    "duration": 811,
    "start_time": "2022-10-10T11:59:15.170Z"
   },
   {
    "duration": 7,
    "start_time": "2022-10-10T11:59:17.935Z"
   },
   {
    "duration": 8,
    "start_time": "2022-10-10T12:01:01.966Z"
   },
   {
    "duration": 21,
    "start_time": "2022-10-10T12:01:15.348Z"
   },
   {
    "duration": 10,
    "start_time": "2022-10-10T12:02:19.635Z"
   },
   {
    "duration": 56,
    "start_time": "2022-10-10T12:04:09.224Z"
   },
   {
    "duration": 35,
    "start_time": "2022-10-10T12:13:48.057Z"
   },
   {
    "duration": 10,
    "start_time": "2022-10-10T12:13:49.023Z"
   },
   {
    "duration": 545,
    "start_time": "2022-10-10T12:13:49.570Z"
   },
   {
    "duration": 4,
    "start_time": "2022-10-10T12:13:54.080Z"
   },
   {
    "duration": 6,
    "start_time": "2022-10-10T12:13:54.465Z"
   },
   {
    "duration": 7,
    "start_time": "2022-10-10T12:13:57.385Z"
   },
   {
    "duration": 5,
    "start_time": "2022-10-10T12:14:27.351Z"
   },
   {
    "duration": 4,
    "start_time": "2022-10-10T12:18:38.026Z"
   },
   {
    "duration": 46,
    "start_time": "2022-10-10T12:21:48.041Z"
   },
   {
    "duration": 10,
    "start_time": "2022-10-10T12:22:14.191Z"
   },
   {
    "duration": 3,
    "start_time": "2022-10-10T12:22:21.607Z"
   },
   {
    "duration": 34,
    "start_time": "2022-10-10T12:22:25.351Z"
   },
   {
    "duration": 33,
    "start_time": "2022-10-10T12:22:53.903Z"
   },
   {
    "duration": 29,
    "start_time": "2022-10-10T12:23:19.577Z"
   },
   {
    "duration": 3,
    "start_time": "2022-10-10T12:24:01.231Z"
   },
   {
    "duration": 30,
    "start_time": "2022-10-10T12:24:43.700Z"
   },
   {
    "duration": 30,
    "start_time": "2022-10-10T12:25:28.372Z"
   },
   {
    "duration": 4,
    "start_time": "2022-10-10T12:28:06.029Z"
   },
   {
    "duration": 29,
    "start_time": "2022-10-10T12:30:13.869Z"
   },
   {
    "duration": 241,
    "start_time": "2022-10-10T12:31:17.468Z"
   },
   {
    "duration": 259,
    "start_time": "2022-10-10T12:32:45.198Z"
   },
   {
    "duration": 4,
    "start_time": "2022-10-10T12:33:50.595Z"
   },
   {
    "duration": 35,
    "start_time": "2022-10-10T12:35:44.927Z"
   },
   {
    "duration": 41,
    "start_time": "2022-10-10T12:36:10.620Z"
   },
   {
    "duration": 37,
    "start_time": "2022-10-10T12:36:31.608Z"
   },
   {
    "duration": 34,
    "start_time": "2022-10-10T12:36:50.315Z"
   },
   {
    "duration": 29,
    "start_time": "2022-10-10T12:36:56.236Z"
   },
   {
    "duration": 50,
    "start_time": "2022-10-10T12:37:00.468Z"
   },
   {
    "duration": 19,
    "start_time": "2022-10-10T12:37:05.835Z"
   },
   {
    "duration": 29,
    "start_time": "2022-10-10T12:37:10.556Z"
   },
   {
    "duration": 208,
    "start_time": "2022-10-10T12:37:19.247Z"
   },
   {
    "duration": 185,
    "start_time": "2022-10-10T12:37:23.009Z"
   },
   {
    "duration": 147,
    "start_time": "2022-10-10T12:37:26.726Z"
   },
   {
    "duration": 107,
    "start_time": "2022-10-10T12:37:29.728Z"
   },
   {
    "duration": 65,
    "start_time": "2022-10-10T12:37:33.020Z"
   },
   {
    "duration": 471,
    "start_time": "2022-10-10T12:37:36.766Z"
   },
   {
    "duration": 267,
    "start_time": "2022-10-10T12:37:40.453Z"
   },
   {
    "duration": 41,
    "start_time": "2022-10-10T12:38:26.691Z"
   },
   {
    "duration": 271,
    "start_time": "2022-10-10T12:38:28.036Z"
   },
   {
    "duration": 39,
    "start_time": "2022-10-10T12:38:29.348Z"
   },
   {
    "duration": 10,
    "start_time": "2022-10-10T12:40:18.949Z"
   },
   {
    "duration": 3,
    "start_time": "2022-10-10T12:40:35.335Z"
   },
   {
    "duration": 35,
    "start_time": "2022-10-10T12:41:45.840Z"
   },
   {
    "duration": 3,
    "start_time": "2022-10-10T12:42:00.971Z"
   },
   {
    "duration": 57,
    "start_time": "2022-10-10T12:42:06.552Z"
   },
   {
    "duration": 153,
    "start_time": "2022-10-10T12:42:10.341Z"
   },
   {
    "duration": 103,
    "start_time": "2022-10-10T12:42:26.407Z"
   },
   {
    "duration": 94,
    "start_time": "2022-10-10T12:42:31.739Z"
   },
   {
    "duration": 404,
    "start_time": "2022-10-10T12:42:47.507Z"
   },
   {
    "duration": 323,
    "start_time": "2022-10-10T12:42:51.179Z"
   },
   {
    "duration": 150,
    "start_time": "2022-10-10T12:43:10.481Z"
   },
   {
    "duration": 4,
    "start_time": "2022-10-10T12:44:21.347Z"
   },
   {
    "duration": 44,
    "start_time": "2022-10-10T12:44:58.936Z"
   },
   {
    "duration": 30,
    "start_time": "2022-10-10T12:47:29.193Z"
   },
   {
    "duration": 10,
    "start_time": "2022-10-10T12:56:19.750Z"
   },
   {
    "duration": 56,
    "start_time": "2022-10-10T13:12:14.516Z"
   },
   {
    "duration": 85,
    "start_time": "2022-10-10T13:12:58.348Z"
   },
   {
    "duration": 107,
    "start_time": "2022-10-10T13:13:07.741Z"
   },
   {
    "duration": 95,
    "start_time": "2022-10-10T13:13:21.231Z"
   },
   {
    "duration": 339,
    "start_time": "2022-10-10T13:13:32.651Z"
   },
   {
    "duration": 341,
    "start_time": "2022-10-10T13:13:48.970Z"
   },
   {
    "duration": 90,
    "start_time": "2022-10-10T13:13:56.043Z"
   },
   {
    "duration": 145,
    "start_time": "2022-10-10T13:13:59.554Z"
   },
   {
    "duration": 330,
    "start_time": "2022-10-10T13:14:01.881Z"
   },
   {
    "duration": 123,
    "start_time": "2022-10-10T13:14:12.129Z"
   },
   {
    "duration": 112,
    "start_time": "2022-10-10T13:15:01.394Z"
   },
   {
    "duration": 59,
    "start_time": "2022-10-10T13:15:16.131Z"
   },
   {
    "duration": 53,
    "start_time": "2022-10-10T13:15:50.506Z"
   },
   {
    "duration": 28,
    "start_time": "2022-10-10T13:16:07.313Z"
   },
   {
    "duration": 102,
    "start_time": "2022-10-10T13:16:20.129Z"
   },
   {
    "duration": 256,
    "start_time": "2022-10-10T13:16:47.418Z"
   },
   {
    "duration": 320,
    "start_time": "2022-10-10T13:16:56.162Z"
   },
   {
    "duration": 125,
    "start_time": "2022-10-10T13:17:27.681Z"
   },
   {
    "duration": 4,
    "start_time": "2022-10-10T13:17:42.428Z"
   },
   {
    "duration": 34,
    "start_time": "2022-10-10T13:17:42.643Z"
   },
   {
    "duration": 15,
    "start_time": "2022-10-10T13:17:42.896Z"
   },
   {
    "duration": 674,
    "start_time": "2022-10-10T13:17:43.483Z"
   },
   {
    "duration": 4,
    "start_time": "2022-10-10T13:17:45.763Z"
   },
   {
    "duration": 7,
    "start_time": "2022-10-10T13:17:46.795Z"
   },
   {
    "duration": 11,
    "start_time": "2022-10-10T13:17:47.400Z"
   },
   {
    "duration": 100,
    "start_time": "2022-10-10T13:17:49.754Z"
   },
   {
    "duration": 63,
    "start_time": "2022-10-10T13:17:58.015Z"
   },
   {
    "duration": 47,
    "start_time": "2022-10-10T13:18:10.181Z"
   },
   {
    "duration": 44,
    "start_time": "2022-10-10T13:18:20.422Z"
   },
   {
    "duration": 25,
    "start_time": "2022-10-10T13:26:29.445Z"
   },
   {
    "duration": 439,
    "start_time": "2022-10-10T13:27:23.377Z"
   },
   {
    "duration": 75,
    "start_time": "2022-10-10T13:27:28.881Z"
   },
   {
    "duration": 35,
    "start_time": "2022-10-10T13:28:22.762Z"
   },
   {
    "duration": 58,
    "start_time": "2022-10-10T13:28:41.287Z"
   },
   {
    "duration": 132,
    "start_time": "2022-10-10T13:28:47.609Z"
   },
   {
    "duration": 58,
    "start_time": "2022-10-10T13:28:50.863Z"
   },
   {
    "duration": 41,
    "start_time": "2022-10-10T13:28:55.912Z"
   },
   {
    "duration": 25,
    "start_time": "2022-10-10T13:29:03.335Z"
   },
   {
    "duration": 8,
    "start_time": "2022-10-10T13:33:12.285Z"
   },
   {
    "duration": 8,
    "start_time": "2022-10-10T13:33:41.864Z"
   },
   {
    "duration": 83,
    "start_time": "2022-10-10T13:34:28.437Z"
   },
   {
    "duration": 85,
    "start_time": "2022-10-10T13:34:35.047Z"
   },
   {
    "duration": 371,
    "start_time": "2022-10-10T13:35:27.926Z"
   },
   {
    "duration": 254,
    "start_time": "2022-10-10T13:35:54.429Z"
   },
   {
    "duration": 280,
    "start_time": "2022-10-10T13:36:02.125Z"
   },
   {
    "duration": 126,
    "start_time": "2022-10-10T13:36:54.205Z"
   },
   {
    "duration": 357,
    "start_time": "2022-10-10T13:37:03.660Z"
   },
   {
    "duration": 408,
    "start_time": "2022-10-10T13:37:12.181Z"
   },
   {
    "duration": 205,
    "start_time": "2022-10-10T13:37:25.911Z"
   },
   {
    "duration": 118,
    "start_time": "2022-10-10T13:37:35.726Z"
   },
   {
    "duration": 214,
    "start_time": "2022-10-10T13:37:43.524Z"
   },
   {
    "duration": 174,
    "start_time": "2022-10-10T13:37:54.612Z"
   },
   {
    "duration": 970,
    "start_time": "2022-10-10T13:38:10.088Z"
   },
   {
    "duration": 592,
    "start_time": "2022-10-10T13:38:19.476Z"
   },
   {
    "duration": 1403,
    "start_time": "2022-10-10T13:38:48.613Z"
   },
   {
    "duration": 1039,
    "start_time": "2022-10-10T13:38:56.450Z"
   },
   {
    "duration": 613,
    "start_time": "2022-10-10T13:39:04.604Z"
   },
   {
    "duration": 338,
    "start_time": "2022-10-10T13:42:02.506Z"
   },
   {
    "duration": 387,
    "start_time": "2022-10-10T13:42:06.122Z"
   },
   {
    "duration": 460,
    "start_time": "2022-10-10T13:42:10.822Z"
   },
   {
    "duration": 486,
    "start_time": "2022-10-10T13:42:16.899Z"
   },
   {
    "duration": 100,
    "start_time": "2022-10-10T13:42:51.769Z"
   },
   {
    "duration": 108,
    "start_time": "2022-10-10T13:42:55.458Z"
   },
   {
    "duration": 79,
    "start_time": "2022-10-10T13:43:18.561Z"
   },
   {
    "duration": 3,
    "start_time": "2022-10-10T13:43:48.516Z"
   },
   {
    "duration": 478,
    "start_time": "2022-10-10T13:44:48.809Z"
   },
   {
    "duration": 496,
    "start_time": "2022-10-10T13:44:55.239Z"
   },
   {
    "duration": 153,
    "start_time": "2022-10-10T13:45:03.292Z"
   },
   {
    "duration": 7,
    "start_time": "2022-10-10T13:54:11.884Z"
   },
   {
    "duration": 8,
    "start_time": "2022-10-10T13:54:12.248Z"
   },
   {
    "duration": 13,
    "start_time": "2022-10-10T13:54:40.554Z"
   },
   {
    "duration": 157,
    "start_time": "2022-10-10T13:56:38.127Z"
   },
   {
    "duration": 1469,
    "start_time": "2022-10-10T14:23:08.614Z"
   },
   {
    "duration": 36,
    "start_time": "2022-10-10T14:23:10.085Z"
   },
   {
    "duration": 15,
    "start_time": "2022-10-10T14:23:10.123Z"
   },
   {
    "duration": 967,
    "start_time": "2022-10-10T14:23:10.140Z"
   },
   {
    "duration": 4,
    "start_time": "2022-10-10T14:23:11.109Z"
   },
   {
    "duration": 9,
    "start_time": "2022-10-10T14:23:11.114Z"
   },
   {
    "duration": 13,
    "start_time": "2022-10-10T14:23:11.124Z"
   },
   {
    "duration": 88,
    "start_time": "2022-10-10T14:23:11.138Z"
   },
   {
    "duration": 5,
    "start_time": "2022-10-10T14:23:11.227Z"
   },
   {
    "duration": 491,
    "start_time": "2022-10-10T14:23:11.234Z"
   },
   {
    "duration": 238,
    "start_time": "2022-10-10T14:23:11.726Z"
   },
   {
    "duration": 64,
    "start_time": "2022-10-10T14:23:11.966Z"
   },
   {
    "duration": 2,
    "start_time": "2022-10-10T14:23:12.031Z"
   },
   {
    "duration": 1084,
    "start_time": "2022-10-11T06:46:35.979Z"
   },
   {
    "duration": 4,
    "start_time": "2022-10-11T06:48:54.429Z"
   },
   {
    "duration": 2,
    "start_time": "2022-10-11T06:49:05.699Z"
   },
   {
    "duration": 117,
    "start_time": "2022-10-11T06:49:06.583Z"
   },
   {
    "duration": 16,
    "start_time": "2022-10-11T06:49:09.532Z"
   },
   {
    "duration": 105,
    "start_time": "2022-10-11T07:03:07.392Z"
   },
   {
    "duration": 9,
    "start_time": "2022-10-11T07:03:16.469Z"
   },
   {
    "duration": 7,
    "start_time": "2022-10-11T07:03:41.259Z"
   },
   {
    "duration": 44,
    "start_time": "2022-10-12T06:07:24.740Z"
   },
   {
    "duration": 1120,
    "start_time": "2022-10-12T06:07:31.513Z"
   },
   {
    "duration": 68,
    "start_time": "2022-10-12T06:07:32.762Z"
   },
   {
    "duration": 16,
    "start_time": "2022-10-12T06:07:33.176Z"
   },
   {
    "duration": 915,
    "start_time": "2022-10-12T06:07:33.681Z"
   },
   {
    "duration": 7,
    "start_time": "2022-10-12T06:07:34.598Z"
   },
   {
    "duration": 3,
    "start_time": "2022-10-12T06:07:36.147Z"
   },
   {
    "duration": 8,
    "start_time": "2022-10-12T06:07:36.641Z"
   },
   {
    "duration": 9,
    "start_time": "2022-10-12T06:08:38.431Z"
   },
   {
    "duration": 98,
    "start_time": "2022-10-12T06:08:40.688Z"
   },
   {
    "duration": 6,
    "start_time": "2022-10-12T06:08:42.479Z"
   },
   {
    "duration": 501,
    "start_time": "2022-10-12T06:08:44.185Z"
   },
   {
    "duration": 77,
    "start_time": "2022-10-12T06:09:10.303Z"
   },
   {
    "duration": 474,
    "start_time": "2022-10-12T06:09:20.328Z"
   },
   {
    "duration": 102,
    "start_time": "2022-10-12T06:10:55.672Z"
   },
   {
    "duration": 5,
    "start_time": "2022-10-12T06:13:57.669Z"
   },
   {
    "duration": 5,
    "start_time": "2022-10-12T06:23:08.884Z"
   },
   {
    "duration": 6,
    "start_time": "2022-10-12T06:23:31.508Z"
   },
   {
    "duration": 9,
    "start_time": "2022-10-12T06:23:46.789Z"
   },
   {
    "duration": 8,
    "start_time": "2022-10-12T06:55:53.856Z"
   },
   {
    "duration": 9,
    "start_time": "2022-10-12T06:55:55.738Z"
   },
   {
    "duration": 7,
    "start_time": "2022-10-12T06:55:56.429Z"
   },
   {
    "duration": 8,
    "start_time": "2022-10-12T06:56:18.796Z"
   },
   {
    "duration": 11,
    "start_time": "2022-10-12T06:56:19.604Z"
   },
   {
    "duration": 6,
    "start_time": "2022-10-12T06:56:20.031Z"
   },
   {
    "duration": 133,
    "start_time": "2022-10-12T06:56:42.371Z"
   },
   {
    "duration": 6,
    "start_time": "2022-10-12T06:56:45.355Z"
   },
   {
    "duration": 484,
    "start_time": "2022-10-12T06:56:59.453Z"
   },
   {
    "duration": 541,
    "start_time": "2022-10-12T06:57:04.199Z"
   },
   {
    "duration": 124,
    "start_time": "2022-10-12T06:57:05.388Z"
   },
   {
    "duration": 57,
    "start_time": "2022-10-12T06:57:10.789Z"
   },
   {
    "duration": 3,
    "start_time": "2022-10-12T06:57:55.693Z"
   },
   {
    "duration": 36,
    "start_time": "2022-10-12T06:57:56.803Z"
   },
   {
    "duration": 12,
    "start_time": "2022-10-12T06:57:57.570Z"
   },
   {
    "duration": 623,
    "start_time": "2022-10-12T06:57:58.108Z"
   },
   {
    "duration": 6,
    "start_time": "2022-10-12T06:57:58.733Z"
   },
   {
    "duration": 6,
    "start_time": "2022-10-12T06:58:00.027Z"
   },
   {
    "duration": 4,
    "start_time": "2022-10-12T06:58:02.293Z"
   },
   {
    "duration": 9,
    "start_time": "2022-10-12T06:58:02.572Z"
   },
   {
    "duration": 8,
    "start_time": "2022-10-12T06:58:03.115Z"
   },
   {
    "duration": 8,
    "start_time": "2022-10-12T06:58:03.627Z"
   },
   {
    "duration": 155,
    "start_time": "2022-10-12T06:58:08.707Z"
   },
   {
    "duration": 94,
    "start_time": "2022-10-12T06:58:19.236Z"
   },
   {
    "duration": 467,
    "start_time": "2022-10-12T06:58:22.054Z"
   },
   {
    "duration": 114,
    "start_time": "2022-10-12T06:58:25.596Z"
   },
   {
    "duration": 77,
    "start_time": "2022-10-12T07:08:55.132Z"
   },
   {
    "duration": 120,
    "start_time": "2022-10-12T07:59:41.352Z"
   },
   {
    "duration": 35,
    "start_time": "2022-10-12T08:00:05.318Z"
   },
   {
    "duration": 12,
    "start_time": "2022-10-12T08:00:12.882Z"
   },
   {
    "duration": 3,
    "start_time": "2022-10-12T08:00:55.413Z"
   },
   {
    "duration": 265,
    "start_time": "2022-10-12T08:01:00.700Z"
   },
   {
    "duration": 138,
    "start_time": "2022-10-12T08:02:39.718Z"
   },
   {
    "duration": 142,
    "start_time": "2022-10-12T08:03:09.941Z"
   },
   {
    "duration": 241,
    "start_time": "2022-10-12T08:03:29.750Z"
   },
   {
    "duration": 230,
    "start_time": "2022-10-12T08:03:34.731Z"
   },
   {
    "duration": 231,
    "start_time": "2022-10-12T08:08:15.137Z"
   },
   {
    "duration": 271,
    "start_time": "2022-10-12T08:08:25.937Z"
   },
   {
    "duration": 227,
    "start_time": "2022-10-12T08:08:35.806Z"
   },
   {
    "duration": 254,
    "start_time": "2022-10-12T08:08:44.444Z"
   },
   {
    "duration": 253,
    "start_time": "2022-10-12T08:08:49.979Z"
   },
   {
    "duration": 289,
    "start_time": "2022-10-12T08:08:58.396Z"
   },
   {
    "duration": 287,
    "start_time": "2022-10-12T08:09:16.216Z"
   },
   {
    "duration": 257,
    "start_time": "2022-10-12T08:13:14.682Z"
   },
   {
    "duration": 310,
    "start_time": "2022-10-12T08:13:19.146Z"
   },
   {
    "duration": 290,
    "start_time": "2022-10-12T08:13:51.347Z"
   },
   {
    "duration": 326,
    "start_time": "2022-10-12T08:14:09.698Z"
   },
   {
    "duration": 274,
    "start_time": "2022-10-12T08:16:40.884Z"
   },
   {
    "duration": 26,
    "start_time": "2022-10-12T08:19:25.785Z"
   },
   {
    "duration": 18,
    "start_time": "2022-10-12T08:19:38.121Z"
   },
   {
    "duration": 483,
    "start_time": "2022-10-12T08:20:04.894Z"
   },
   {
    "duration": 619,
    "start_time": "2022-10-12T08:20:11.872Z"
   },
   {
    "duration": 269,
    "start_time": "2022-10-12T08:20:38.370Z"
   },
   {
    "duration": 236,
    "start_time": "2022-10-12T08:20:45.996Z"
   },
   {
    "duration": 272,
    "start_time": "2022-10-12T08:23:43.990Z"
   },
   {
    "duration": 311,
    "start_time": "2022-10-12T08:23:55.071Z"
   },
   {
    "duration": 333,
    "start_time": "2022-10-12T08:28:11.158Z"
   },
   {
    "duration": 292,
    "start_time": "2022-10-12T08:28:28.245Z"
   },
   {
    "duration": 362,
    "start_time": "2022-10-12T08:29:02.247Z"
   },
   {
    "duration": 389,
    "start_time": "2022-10-12T08:29:13.312Z"
   },
   {
    "duration": 317,
    "start_time": "2022-10-12T08:33:04.676Z"
   },
   {
    "duration": 90,
    "start_time": "2022-10-12T08:33:44.260Z"
   },
   {
    "duration": 89,
    "start_time": "2022-10-12T08:33:51.862Z"
   },
   {
    "duration": 298,
    "start_time": "2022-10-12T08:34:01.420Z"
   },
   {
    "duration": 286,
    "start_time": "2022-10-12T08:34:09.968Z"
   },
   {
    "duration": 195,
    "start_time": "2022-10-12T08:34:24.428Z"
   },
   {
    "duration": 248,
    "start_time": "2022-10-12T08:34:53.556Z"
   },
   {
    "duration": 322,
    "start_time": "2022-10-12T08:35:02.095Z"
   },
   {
    "duration": 378,
    "start_time": "2022-10-12T08:35:17.820Z"
   },
   {
    "duration": 398,
    "start_time": "2022-10-12T08:35:48.773Z"
   },
   {
    "duration": 423,
    "start_time": "2022-10-12T08:36:20.962Z"
   },
   {
    "duration": 5,
    "start_time": "2022-10-12T08:40:57.253Z"
   },
   {
    "duration": 39,
    "start_time": "2022-10-12T08:41:00.037Z"
   },
   {
    "duration": 20,
    "start_time": "2022-10-12T08:41:00.215Z"
   },
   {
    "duration": 799,
    "start_time": "2022-10-12T08:41:00.353Z"
   },
   {
    "duration": 7,
    "start_time": "2022-10-12T08:41:01.155Z"
   },
   {
    "duration": 5,
    "start_time": "2022-10-12T08:41:01.867Z"
   },
   {
    "duration": 4,
    "start_time": "2022-10-12T08:41:05.688Z"
   },
   {
    "duration": 15,
    "start_time": "2022-10-12T08:41:06.504Z"
   },
   {
    "duration": 10,
    "start_time": "2022-10-12T08:41:07.649Z"
   },
   {
    "duration": 8,
    "start_time": "2022-10-12T08:41:08.215Z"
   },
   {
    "duration": 316,
    "start_time": "2022-10-12T08:41:13.085Z"
   },
   {
    "duration": 518,
    "start_time": "2022-10-12T08:41:59.024Z"
   },
   {
    "duration": 161,
    "start_time": "2022-10-12T08:42:12.936Z"
   },
   {
    "duration": 502,
    "start_time": "2022-10-12T08:42:19.459Z"
   },
   {
    "duration": 102,
    "start_time": "2022-10-12T08:44:17.066Z"
   },
   {
    "duration": 592,
    "start_time": "2022-10-12T08:44:23.523Z"
   },
   {
    "duration": 601,
    "start_time": "2022-10-12T08:48:16.857Z"
   },
   {
    "duration": 607,
    "start_time": "2022-10-12T08:50:27.296Z"
   },
   {
    "duration": 600,
    "start_time": "2022-10-12T08:50:49.574Z"
   },
   {
    "duration": 608,
    "start_time": "2022-10-12T08:51:19.697Z"
   },
   {
    "duration": 654,
    "start_time": "2022-10-12T08:52:04.729Z"
   },
   {
    "duration": 616,
    "start_time": "2022-10-12T08:53:57.809Z"
   },
   {
    "duration": 82,
    "start_time": "2022-10-12T09:19:07.529Z"
   },
   {
    "duration": 1250,
    "start_time": "2022-10-12T09:19:12.492Z"
   },
   {
    "duration": 1530,
    "start_time": "2022-10-12T09:19:30.187Z"
   },
   {
    "duration": 1288,
    "start_time": "2022-10-12T09:19:44.438Z"
   },
   {
    "duration": 1407,
    "start_time": "2022-10-12T09:21:04.302Z"
   },
   {
    "duration": 1521,
    "start_time": "2022-10-12T09:23:33.302Z"
   },
   {
    "duration": 1907,
    "start_time": "2022-10-12T09:23:59.058Z"
   },
   {
    "duration": 1836,
    "start_time": "2022-10-12T09:25:29.151Z"
   },
   {
    "duration": 1926,
    "start_time": "2022-10-12T09:26:17.101Z"
   },
   {
    "duration": 1428,
    "start_time": "2022-10-12T09:27:37.143Z"
   },
   {
    "duration": 61014,
    "start_time": "2022-10-12T09:27:50.922Z"
   },
   {
    "duration": 9486,
    "start_time": "2022-10-12T09:29:12.859Z"
   },
   {
    "duration": 114,
    "start_time": "2022-10-12T09:32:12.114Z"
   },
   {
    "duration": 17782,
    "start_time": "2022-10-12T09:44:32.643Z"
   },
   {
    "duration": 98,
    "start_time": "2022-10-12T10:18:08.278Z"
   },
   {
    "duration": 9,
    "start_time": "2022-10-12T10:21:34.954Z"
   },
   {
    "duration": 12,
    "start_time": "2022-10-12T10:21:47.108Z"
   },
   {
    "duration": 14,
    "start_time": "2022-10-12T10:22:06.366Z"
   },
   {
    "duration": 12,
    "start_time": "2022-10-12T10:22:13.908Z"
   },
   {
    "duration": 15,
    "start_time": "2022-10-12T10:22:59.749Z"
   },
   {
    "duration": 19,
    "start_time": "2022-10-12T10:23:08.321Z"
   },
   {
    "duration": 6,
    "start_time": "2022-10-12T10:23:18.685Z"
   },
   {
    "duration": 16,
    "start_time": "2022-10-12T10:23:25.045Z"
   },
   {
    "duration": 11,
    "start_time": "2022-10-12T10:23:36.549Z"
   },
   {
    "duration": 14,
    "start_time": "2022-10-12T10:23:44.323Z"
   },
   {
    "duration": 15,
    "start_time": "2022-10-12T10:24:36.683Z"
   },
   {
    "duration": 10,
    "start_time": "2022-10-12T10:24:44.232Z"
   },
   {
    "duration": 21,
    "start_time": "2022-10-12T10:25:00.389Z"
   },
   {
    "duration": 6,
    "start_time": "2022-10-12T10:26:50.080Z"
   },
   {
    "duration": 17,
    "start_time": "2022-10-12T10:26:54.660Z"
   },
   {
    "duration": 16,
    "start_time": "2022-10-12T10:27:16.181Z"
   },
   {
    "duration": 19,
    "start_time": "2022-10-12T10:28:44.335Z"
   },
   {
    "duration": 20,
    "start_time": "2022-10-12T10:29:04.416Z"
   },
   {
    "duration": 6,
    "start_time": "2022-10-12T10:30:13.933Z"
   },
   {
    "duration": 17,
    "start_time": "2022-10-12T10:30:39.322Z"
   },
   {
    "duration": 18,
    "start_time": "2022-10-12T10:30:48.437Z"
   },
   {
    "duration": 18,
    "start_time": "2022-10-12T10:31:11.844Z"
   },
   {
    "duration": 26,
    "start_time": "2022-10-12T10:31:25.947Z"
   },
   {
    "duration": 23,
    "start_time": "2022-10-12T10:31:43.519Z"
   },
   {
    "duration": 33,
    "start_time": "2022-10-12T10:34:11.387Z"
   },
   {
    "duration": 19,
    "start_time": "2022-10-12T10:34:44.249Z"
   },
   {
    "duration": 29,
    "start_time": "2022-10-12T10:34:54.820Z"
   },
   {
    "duration": 30,
    "start_time": "2022-10-12T10:35:01.017Z"
   },
   {
    "duration": 22,
    "start_time": "2022-10-12T10:35:44.228Z"
   },
   {
    "duration": 20,
    "start_time": "2022-10-12T10:35:49.839Z"
   },
   {
    "duration": 8,
    "start_time": "2022-10-12T10:37:47.140Z"
   },
   {
    "duration": 8,
    "start_time": "2022-10-12T10:37:52.425Z"
   },
   {
    "duration": 17,
    "start_time": "2022-10-12T10:38:00.120Z"
   },
   {
    "duration": 16,
    "start_time": "2022-10-12T10:38:23.567Z"
   },
   {
    "duration": 19,
    "start_time": "2022-10-12T10:39:00.637Z"
   },
   {
    "duration": 9,
    "start_time": "2022-10-12T10:39:10.951Z"
   },
   {
    "duration": 96,
    "start_time": "2022-10-12T10:39:34.220Z"
   },
   {
    "duration": 101,
    "start_time": "2022-10-12T10:40:03.941Z"
   },
   {
    "duration": 159,
    "start_time": "2022-10-12T10:40:14.852Z"
   },
   {
    "duration": 112,
    "start_time": "2022-10-12T10:40:15.621Z"
   },
   {
    "duration": 137,
    "start_time": "2022-10-12T10:41:16.712Z"
   },
   {
    "duration": 14,
    "start_time": "2022-10-12T10:51:32.855Z"
   },
   {
    "duration": 4,
    "start_time": "2022-10-12T10:52:00.347Z"
   },
   {
    "duration": 15,
    "start_time": "2022-10-12T10:52:07.030Z"
   },
   {
    "duration": 10,
    "start_time": "2022-10-12T10:53:16.324Z"
   },
   {
    "duration": 3,
    "start_time": "2022-10-12T10:53:20.790Z"
   },
   {
    "duration": 12,
    "start_time": "2022-10-12T10:53:27.117Z"
   },
   {
    "duration": 18,
    "start_time": "2022-10-12T10:53:35.957Z"
   },
   {
    "duration": 16,
    "start_time": "2022-10-12T10:53:48.350Z"
   },
   {
    "duration": 11,
    "start_time": "2022-10-12T10:54:21.883Z"
   },
   {
    "duration": 11,
    "start_time": "2022-10-12T10:54:33.663Z"
   },
   {
    "duration": 11,
    "start_time": "2022-10-12T10:55:27.845Z"
   },
   {
    "duration": 77,
    "start_time": "2022-10-12T10:55:45.471Z"
   },
   {
    "duration": 234,
    "start_time": "2022-10-12T10:55:59.036Z"
   },
   {
    "duration": 4,
    "start_time": "2022-10-12T10:57:40.298Z"
   },
   {
    "duration": 6,
    "start_time": "2022-10-12T10:57:52.229Z"
   },
   {
    "duration": 19,
    "start_time": "2022-10-12T10:58:48.521Z"
   },
   {
    "duration": 8,
    "start_time": "2022-10-12T10:59:25.445Z"
   },
   {
    "duration": 7,
    "start_time": "2022-10-12T10:59:35.949Z"
   },
   {
    "duration": 7,
    "start_time": "2022-10-12T10:59:44.382Z"
   },
   {
    "duration": 1465,
    "start_time": "2022-10-12T11:02:30.942Z"
   },
   {
    "duration": 37,
    "start_time": "2022-10-12T11:02:32.409Z"
   },
   {
    "duration": 15,
    "start_time": "2022-10-12T11:02:32.447Z"
   },
   {
    "duration": 584,
    "start_time": "2022-10-12T11:02:32.464Z"
   },
   {
    "duration": 8,
    "start_time": "2022-10-12T11:02:33.050Z"
   },
   {
    "duration": 8,
    "start_time": "2022-10-12T11:02:33.059Z"
   },
   {
    "duration": 8,
    "start_time": "2022-10-12T11:02:33.069Z"
   },
   {
    "duration": 9,
    "start_time": "2022-10-12T11:02:33.095Z"
   },
   {
    "duration": 9,
    "start_time": "2022-10-12T11:02:33.106Z"
   },
   {
    "duration": 9,
    "start_time": "2022-10-12T11:02:33.117Z"
   },
   {
    "duration": 167,
    "start_time": "2022-10-12T11:02:33.128Z"
   },
   {
    "duration": 0,
    "start_time": "2022-10-12T11:02:33.296Z"
   },
   {
    "duration": 1,
    "start_time": "2022-10-12T11:02:33.297Z"
   },
   {
    "duration": 0,
    "start_time": "2022-10-12T11:02:33.299Z"
   },
   {
    "duration": 0,
    "start_time": "2022-10-12T11:02:33.300Z"
   },
   {
    "duration": 0,
    "start_time": "2022-10-12T11:02:33.301Z"
   },
   {
    "duration": 0,
    "start_time": "2022-10-12T11:02:33.303Z"
   },
   {
    "duration": 5,
    "start_time": "2022-10-12T11:03:22.726Z"
   },
   {
    "duration": 39,
    "start_time": "2022-10-12T11:03:23.831Z"
   },
   {
    "duration": 11,
    "start_time": "2022-10-12T11:03:23.972Z"
   },
   {
    "duration": 628,
    "start_time": "2022-10-12T11:03:24.108Z"
   },
   {
    "duration": 6,
    "start_time": "2022-10-12T11:03:24.738Z"
   },
   {
    "duration": 9,
    "start_time": "2022-10-12T11:03:24.746Z"
   },
   {
    "duration": 4,
    "start_time": "2022-10-12T11:03:27.157Z"
   },
   {
    "duration": 11,
    "start_time": "2022-10-12T11:03:27.357Z"
   },
   {
    "duration": 10,
    "start_time": "2022-10-12T11:03:27.740Z"
   },
   {
    "duration": 9,
    "start_time": "2022-10-12T11:03:27.942Z"
   },
   {
    "duration": 338,
    "start_time": "2022-10-12T11:03:30.494Z"
   },
   {
    "duration": 1429,
    "start_time": "2022-10-12T11:03:40.048Z"
   },
   {
    "duration": 40,
    "start_time": "2022-10-12T11:03:41.480Z"
   },
   {
    "duration": 19,
    "start_time": "2022-10-12T11:03:41.522Z"
   },
   {
    "duration": 617,
    "start_time": "2022-10-12T11:03:41.542Z"
   },
   {
    "duration": 7,
    "start_time": "2022-10-12T11:03:42.162Z"
   },
   {
    "duration": 28,
    "start_time": "2022-10-12T11:03:42.170Z"
   },
   {
    "duration": 25,
    "start_time": "2022-10-12T11:03:42.200Z"
   },
   {
    "duration": 16,
    "start_time": "2022-10-12T11:03:42.227Z"
   },
   {
    "duration": 11,
    "start_time": "2022-10-12T11:03:42.245Z"
   },
   {
    "duration": 33,
    "start_time": "2022-10-12T11:03:42.258Z"
   },
   {
    "duration": 316,
    "start_time": "2022-10-12T11:03:42.293Z"
   },
   {
    "duration": 672,
    "start_time": "2022-10-12T11:03:42.611Z"
   },
   {
    "duration": 16025,
    "start_time": "2022-10-12T11:03:43.285Z"
   },
   {
    "duration": 92,
    "start_time": "2022-10-12T11:03:59.313Z"
   },
   {
    "duration": 47,
    "start_time": "2022-10-12T11:03:59.407Z"
   },
   {
    "duration": 99,
    "start_time": "2022-10-12T11:03:59.456Z"
   },
   {
    "duration": 6,
    "start_time": "2022-10-12T11:03:59.557Z"
   },
   {
    "duration": 300,
    "start_time": "2022-10-12T11:05:03.048Z"
   },
   {
    "duration": 43,
    "start_time": "2022-10-12T15:24:20.300Z"
   },
   {
    "duration": 1438,
    "start_time": "2022-10-12T15:24:29.967Z"
   },
   {
    "duration": 49,
    "start_time": "2022-10-12T15:24:31.407Z"
   },
   {
    "duration": 13,
    "start_time": "2022-10-12T15:24:31.457Z"
   },
   {
    "duration": 541,
    "start_time": "2022-10-12T15:24:31.471Z"
   },
   {
    "duration": 6,
    "start_time": "2022-10-12T15:24:32.013Z"
   },
   {
    "duration": 5,
    "start_time": "2022-10-12T15:24:32.332Z"
   },
   {
    "duration": 4,
    "start_time": "2022-10-12T15:24:35.795Z"
   },
   {
    "duration": 8,
    "start_time": "2022-10-12T15:24:36.365Z"
   },
   {
    "duration": 8,
    "start_time": "2022-10-12T15:24:37.617Z"
   },
   {
    "duration": 7,
    "start_time": "2022-10-12T15:24:38.047Z"
   },
   {
    "duration": 299,
    "start_time": "2022-10-12T15:24:41.475Z"
   },
   {
    "duration": 553,
    "start_time": "2022-10-12T15:24:44.954Z"
   },
   {
    "duration": 365,
    "start_time": "2022-10-12T15:25:45.290Z"
   }
  ],
  "kernelspec": {
   "display_name": "Python 3 (ipykernel)",
   "language": "python",
   "name": "python3"
  },
  "language_info": {
   "codemirror_mode": {
    "name": "ipython",
    "version": 3
   },
   "file_extension": ".py",
   "mimetype": "text/x-python",
   "name": "python",
   "nbconvert_exporter": "python",
   "pygments_lexer": "ipython3",
   "version": "3.10.9"
  },
  "toc": {
   "base_numbering": 1,
   "nav_menu": {},
   "number_sections": true,
   "sideBar": true,
   "skip_h1_title": true,
   "title_cell": "Table of Contents",
   "title_sidebar": "Contents",
   "toc_cell": false,
   "toc_position": {},
   "toc_section_display": true,
   "toc_window_display": false
  }
 },
 "nbformat": 4,
 "nbformat_minor": 2
}
