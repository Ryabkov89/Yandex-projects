{
 "cells": [
  {
   "cell_type": "markdown",
   "id": "847e8778",
   "metadata": {},
   "source": [
    "# Определение стоимости автомобилей"
   ]
  },
  {
   "cell_type": "markdown",
   "id": "8bab4ec3",
   "metadata": {},
   "source": [
    "Сервис по продаже автомобилей с пробегом  разрабатывает приложение для привлечения новых клиентов. В нём можно быстро узнать рыночную стоимость своего автомобиля. На основе исторические данные необходимо построить модель для определения стоимости автомобиля.\n",
    "\n",
    "Заказчику важны:\n",
    "\n",
    "- качество предсказания;\n",
    "- скорость предсказания;\n",
    "- время обучения."
   ]
  },
  {
   "cell_type": "markdown",
   "id": "de725f97",
   "metadata": {},
   "source": [
    "На входе были полученны данные о продажах автомобилей:  \n",
    "\n",
    "**Признаки:**\n",
    "- DateCrawled — дата скачивания анкеты из базы\n",
    "- VehicleType — тип автомобильного кузова\n",
    "- RegistrationYear — год регистрации автомобиля\n",
    "- Gearbox — тип коробки передач\n",
    "- Power — мощность (л. с.)\n",
    "- Model — модель автомобиля\n",
    "- Kilometer — пробег (км)\n",
    "- RegistrationMonth — месяц регистрации автомобиля\n",
    "- FuelType — тип топлива\n",
    "- Brand — марка автомобиля\n",
    "- Repaired — была машина в ремонте или нет\n",
    "- DateCreated — дата создания анкеты\n",
    "- NumberOfPictures — количество фотографий автомобиля\n",
    "- PostalCode — почтовый индекс владельца анкеты (пользователя)\n",
    "- LastSeen — дата последней активности пользователя  \n",
    "\n",
    "**Целевой признак**\n",
    "- Price - цена (евро)"
   ]
  },
  {
   "cell_type": "markdown",
   "id": "1fb149f8",
   "metadata": {},
   "source": [
    "**Алгоритм исследования:**\n",
    "1) Провести предобработку и исследовательский аналих данных, избавиться от пропусков и аномалий.  \n",
    "2) Провести подготовку данных для обучения моделей, разбить на выборки, провести кодирование категориальных признаков и масштабирование численных  \n",
    "3) Обучить на подготовленных данных различные регрессионные модели:  \n",
    "    - Градиентный бустинг (LightGBM и CatBoost)  \n",
    "    - Линейная регрессия  \n",
    "    - Случайный лес  \n",
    "4) Проанализировать различные показатели моделей (метрики качества, время обучения и предсказания, удобство использования и т.д.)  \n",
    "5) Вывод  "
   ]
  },
  {
   "cell_type": "markdown",
   "id": "f9ae7926",
   "metadata": {},
   "source": [
    "## Подготовка данных"
   ]
  },
  {
   "cell_type": "code",
   "execution_count": 1,
   "id": "4c980fb3",
   "metadata": {},
   "outputs": [],
   "source": [
    "import warnings\n",
    "#Импорты сторонних библиотек\n",
    "import pandas as pd\n",
    "import numpy as np\n",
    "import matplotlib.pyplot as plt\n",
    "#Импорты модулей\n",
    "from sklearn.model_selection import (\n",
    "    train_test_split,\n",
    "    RandomizedSearchCV\n",
    ")\n",
    "from sklearn.pipeline import make_pipeline\n",
    "from sklearn.preprocessing import (\n",
    "    OneHotEncoder,\n",
    "    StandardScaler,\n",
    "    OrdinalEncoder\n",
    ")\n",
    "from sklearn.metrics import (\n",
    "    r2_score,\n",
    "    mean_squared_error)\n",
    "from sklearn.linear_model import LinearRegression\n",
    "from sklearn.ensemble import RandomForestRegressor\n",
    "from sklearn.compose import make_column_transformer\n",
    "#Импорты фреймворков градиентного бустинга\n",
    "import lightgbm as lgb\n",
    "from catboost import (\n",
    "    CatBoostRegressor,\n",
    "    Pool,\n",
    "    cv)\n",
    "\n",
    "warnings.filterwarnings('ignore')"
   ]
  },
  {
   "cell_type": "code",
   "execution_count": 2,
   "id": "44d38f10",
   "metadata": {},
   "outputs": [],
   "source": [
    "try:\n",
    "    data = pd.read_csv('/datasets/autos.csv')\n",
    "except:\n",
    "    data = pd.read_csv('autos.csv')\n",
    "objects_originally = data.shape[0]"
   ]
  },
  {
   "cell_type": "code",
   "execution_count": 3,
   "id": "45b5e6a3",
   "metadata": {
    "scrolled": true
   },
   "outputs": [
    {
     "data": {
      "text/html": [
       "<div>\n",
       "<style scoped>\n",
       "    .dataframe tbody tr th:only-of-type {\n",
       "        vertical-align: middle;\n",
       "    }\n",
       "\n",
       "    .dataframe tbody tr th {\n",
       "        vertical-align: top;\n",
       "    }\n",
       "\n",
       "    .dataframe thead th {\n",
       "        text-align: right;\n",
       "    }\n",
       "</style>\n",
       "<table border=\"1\" class=\"dataframe\">\n",
       "  <thead>\n",
       "    <tr style=\"text-align: right;\">\n",
       "      <th></th>\n",
       "      <th>DateCrawled</th>\n",
       "      <th>Price</th>\n",
       "      <th>VehicleType</th>\n",
       "      <th>RegistrationYear</th>\n",
       "      <th>Gearbox</th>\n",
       "      <th>Power</th>\n",
       "      <th>Model</th>\n",
       "      <th>Kilometer</th>\n",
       "      <th>RegistrationMonth</th>\n",
       "      <th>FuelType</th>\n",
       "      <th>Brand</th>\n",
       "      <th>Repaired</th>\n",
       "      <th>DateCreated</th>\n",
       "      <th>NumberOfPictures</th>\n",
       "      <th>PostalCode</th>\n",
       "      <th>LastSeen</th>\n",
       "    </tr>\n",
       "  </thead>\n",
       "  <tbody>\n",
       "    <tr>\n",
       "      <th>0</th>\n",
       "      <td>2016-03-24 11:52:17</td>\n",
       "      <td>480</td>\n",
       "      <td>NaN</td>\n",
       "      <td>1993</td>\n",
       "      <td>manual</td>\n",
       "      <td>0</td>\n",
       "      <td>golf</td>\n",
       "      <td>150000</td>\n",
       "      <td>0</td>\n",
       "      <td>petrol</td>\n",
       "      <td>volkswagen</td>\n",
       "      <td>NaN</td>\n",
       "      <td>2016-03-24 00:00:00</td>\n",
       "      <td>0</td>\n",
       "      <td>70435</td>\n",
       "      <td>2016-04-07 03:16:57</td>\n",
       "    </tr>\n",
       "    <tr>\n",
       "      <th>1</th>\n",
       "      <td>2016-03-24 10:58:45</td>\n",
       "      <td>18300</td>\n",
       "      <td>coupe</td>\n",
       "      <td>2011</td>\n",
       "      <td>manual</td>\n",
       "      <td>190</td>\n",
       "      <td>NaN</td>\n",
       "      <td>125000</td>\n",
       "      <td>5</td>\n",
       "      <td>gasoline</td>\n",
       "      <td>audi</td>\n",
       "      <td>yes</td>\n",
       "      <td>2016-03-24 00:00:00</td>\n",
       "      <td>0</td>\n",
       "      <td>66954</td>\n",
       "      <td>2016-04-07 01:46:50</td>\n",
       "    </tr>\n",
       "    <tr>\n",
       "      <th>2</th>\n",
       "      <td>2016-03-14 12:52:21</td>\n",
       "      <td>9800</td>\n",
       "      <td>suv</td>\n",
       "      <td>2004</td>\n",
       "      <td>auto</td>\n",
       "      <td>163</td>\n",
       "      <td>grand</td>\n",
       "      <td>125000</td>\n",
       "      <td>8</td>\n",
       "      <td>gasoline</td>\n",
       "      <td>jeep</td>\n",
       "      <td>NaN</td>\n",
       "      <td>2016-03-14 00:00:00</td>\n",
       "      <td>0</td>\n",
       "      <td>90480</td>\n",
       "      <td>2016-04-05 12:47:46</td>\n",
       "    </tr>\n",
       "    <tr>\n",
       "      <th>3</th>\n",
       "      <td>2016-03-17 16:54:04</td>\n",
       "      <td>1500</td>\n",
       "      <td>small</td>\n",
       "      <td>2001</td>\n",
       "      <td>manual</td>\n",
       "      <td>75</td>\n",
       "      <td>golf</td>\n",
       "      <td>150000</td>\n",
       "      <td>6</td>\n",
       "      <td>petrol</td>\n",
       "      <td>volkswagen</td>\n",
       "      <td>no</td>\n",
       "      <td>2016-03-17 00:00:00</td>\n",
       "      <td>0</td>\n",
       "      <td>91074</td>\n",
       "      <td>2016-03-17 17:40:17</td>\n",
       "    </tr>\n",
       "    <tr>\n",
       "      <th>4</th>\n",
       "      <td>2016-03-31 17:25:20</td>\n",
       "      <td>3600</td>\n",
       "      <td>small</td>\n",
       "      <td>2008</td>\n",
       "      <td>manual</td>\n",
       "      <td>69</td>\n",
       "      <td>fabia</td>\n",
       "      <td>90000</td>\n",
       "      <td>7</td>\n",
       "      <td>gasoline</td>\n",
       "      <td>skoda</td>\n",
       "      <td>no</td>\n",
       "      <td>2016-03-31 00:00:00</td>\n",
       "      <td>0</td>\n",
       "      <td>60437</td>\n",
       "      <td>2016-04-06 10:17:21</td>\n",
       "    </tr>\n",
       "  </tbody>\n",
       "</table>\n",
       "</div>"
      ],
      "text/plain": [
       "           DateCrawled  Price VehicleType  RegistrationYear Gearbox  Power  \\\n",
       "0  2016-03-24 11:52:17    480         NaN              1993  manual      0   \n",
       "1  2016-03-24 10:58:45  18300       coupe              2011  manual    190   \n",
       "2  2016-03-14 12:52:21   9800         suv              2004    auto    163   \n",
       "3  2016-03-17 16:54:04   1500       small              2001  manual     75   \n",
       "4  2016-03-31 17:25:20   3600       small              2008  manual     69   \n",
       "\n",
       "   Model  Kilometer  RegistrationMonth  FuelType       Brand Repaired  \\\n",
       "0   golf     150000                  0    petrol  volkswagen      NaN   \n",
       "1    NaN     125000                  5  gasoline        audi      yes   \n",
       "2  grand     125000                  8  gasoline        jeep      NaN   \n",
       "3   golf     150000                  6    petrol  volkswagen       no   \n",
       "4  fabia      90000                  7  gasoline       skoda       no   \n",
       "\n",
       "           DateCreated  NumberOfPictures  PostalCode             LastSeen  \n",
       "0  2016-03-24 00:00:00                 0       70435  2016-04-07 03:16:57  \n",
       "1  2016-03-24 00:00:00                 0       66954  2016-04-07 01:46:50  \n",
       "2  2016-03-14 00:00:00                 0       90480  2016-04-05 12:47:46  \n",
       "3  2016-03-17 00:00:00                 0       91074  2016-03-17 17:40:17  \n",
       "4  2016-03-31 00:00:00                 0       60437  2016-04-06 10:17:21  "
      ]
     },
     "execution_count": 3,
     "metadata": {},
     "output_type": "execute_result"
    }
   ],
   "source": [
    "data.head()"
   ]
  },
  {
   "cell_type": "markdown",
   "id": "1a3babb4",
   "metadata": {},
   "source": [
    "Сократим количество признаков ввиду того, что они не могу влиять на цену автомобиля, а следовательно являются избыточными для целей нашего исследования:  \n",
    "- дата скачивания анкеты из базы\n",
    "- дата создания объявления\n",
    "- количество фотографий\n",
    "- почтовый индекс пользователя\n",
    "- дата последней активности пользователя\n",
    "- месяц регистрации ТС"
   ]
  },
  {
   "cell_type": "code",
   "execution_count": 4,
   "id": "e436fe7c",
   "metadata": {},
   "outputs": [],
   "source": [
    "#Удаляем неинформативные столбцы, не оказывающие влияния на целевой признак\n",
    "data = data.drop(['DateCrawled', 'DateCreated', 'NumberOfPictures', 'PostalCode', 'LastSeen', 'RegistrationMonth'], axis=1)"
   ]
  },
  {
   "cell_type": "code",
   "execution_count": 5,
   "id": "8c670813",
   "metadata": {},
   "outputs": [
    {
     "name": "stdout",
     "output_type": "stream",
     "text": [
      "<class 'pandas.core.frame.DataFrame'>\n",
      "RangeIndex: 354369 entries, 0 to 354368\n",
      "Data columns (total 10 columns):\n",
      " #   Column            Non-Null Count   Dtype \n",
      "---  ------            --------------   ----- \n",
      " 0   Price             354369 non-null  int64 \n",
      " 1   VehicleType       316879 non-null  object\n",
      " 2   RegistrationYear  354369 non-null  int64 \n",
      " 3   Gearbox           334536 non-null  object\n",
      " 4   Power             354369 non-null  int64 \n",
      " 5   Model             334664 non-null  object\n",
      " 6   Kilometer         354369 non-null  int64 \n",
      " 7   FuelType          321474 non-null  object\n",
      " 8   Brand             354369 non-null  object\n",
      " 9   Repaired          283215 non-null  object\n",
      "dtypes: int64(4), object(6)\n",
      "memory usage: 27.0+ MB\n"
     ]
    }
   ],
   "source": [
    "data.info()"
   ]
  },
  {
   "cell_type": "code",
   "execution_count": 6,
   "id": "63c2c591",
   "metadata": {
    "scrolled": true
   },
   "outputs": [
    {
     "data": {
      "text/html": [
       "<div>\n",
       "<style scoped>\n",
       "    .dataframe tbody tr th:only-of-type {\n",
       "        vertical-align: middle;\n",
       "    }\n",
       "\n",
       "    .dataframe tbody tr th {\n",
       "        vertical-align: top;\n",
       "    }\n",
       "\n",
       "    .dataframe thead th {\n",
       "        text-align: right;\n",
       "    }\n",
       "</style>\n",
       "<table border=\"1\" class=\"dataframe\">\n",
       "  <thead>\n",
       "    <tr style=\"text-align: right;\">\n",
       "      <th></th>\n",
       "      <th>Price</th>\n",
       "      <th>VehicleType</th>\n",
       "      <th>RegistrationYear</th>\n",
       "      <th>Gearbox</th>\n",
       "      <th>Power</th>\n",
       "      <th>Model</th>\n",
       "      <th>Kilometer</th>\n",
       "      <th>FuelType</th>\n",
       "      <th>Brand</th>\n",
       "      <th>Repaired</th>\n",
       "    </tr>\n",
       "  </thead>\n",
       "  <tbody>\n",
       "    <tr>\n",
       "      <th>count</th>\n",
       "      <td>354369.000000</td>\n",
       "      <td>316879</td>\n",
       "      <td>354369.000000</td>\n",
       "      <td>334536</td>\n",
       "      <td>354369.000000</td>\n",
       "      <td>334664</td>\n",
       "      <td>354369.000000</td>\n",
       "      <td>321474</td>\n",
       "      <td>354369</td>\n",
       "      <td>283215</td>\n",
       "    </tr>\n",
       "    <tr>\n",
       "      <th>unique</th>\n",
       "      <td>NaN</td>\n",
       "      <td>8</td>\n",
       "      <td>NaN</td>\n",
       "      <td>2</td>\n",
       "      <td>NaN</td>\n",
       "      <td>250</td>\n",
       "      <td>NaN</td>\n",
       "      <td>7</td>\n",
       "      <td>40</td>\n",
       "      <td>2</td>\n",
       "    </tr>\n",
       "    <tr>\n",
       "      <th>top</th>\n",
       "      <td>NaN</td>\n",
       "      <td>sedan</td>\n",
       "      <td>NaN</td>\n",
       "      <td>manual</td>\n",
       "      <td>NaN</td>\n",
       "      <td>golf</td>\n",
       "      <td>NaN</td>\n",
       "      <td>petrol</td>\n",
       "      <td>volkswagen</td>\n",
       "      <td>no</td>\n",
       "    </tr>\n",
       "    <tr>\n",
       "      <th>freq</th>\n",
       "      <td>NaN</td>\n",
       "      <td>91457</td>\n",
       "      <td>NaN</td>\n",
       "      <td>268251</td>\n",
       "      <td>NaN</td>\n",
       "      <td>29232</td>\n",
       "      <td>NaN</td>\n",
       "      <td>216352</td>\n",
       "      <td>77013</td>\n",
       "      <td>247161</td>\n",
       "    </tr>\n",
       "    <tr>\n",
       "      <th>mean</th>\n",
       "      <td>4416.656776</td>\n",
       "      <td>NaN</td>\n",
       "      <td>2004.234448</td>\n",
       "      <td>NaN</td>\n",
       "      <td>110.094337</td>\n",
       "      <td>NaN</td>\n",
       "      <td>128211.172535</td>\n",
       "      <td>NaN</td>\n",
       "      <td>NaN</td>\n",
       "      <td>NaN</td>\n",
       "    </tr>\n",
       "    <tr>\n",
       "      <th>std</th>\n",
       "      <td>4514.158514</td>\n",
       "      <td>NaN</td>\n",
       "      <td>90.227958</td>\n",
       "      <td>NaN</td>\n",
       "      <td>189.850405</td>\n",
       "      <td>NaN</td>\n",
       "      <td>37905.341530</td>\n",
       "      <td>NaN</td>\n",
       "      <td>NaN</td>\n",
       "      <td>NaN</td>\n",
       "    </tr>\n",
       "    <tr>\n",
       "      <th>min</th>\n",
       "      <td>0.000000</td>\n",
       "      <td>NaN</td>\n",
       "      <td>1000.000000</td>\n",
       "      <td>NaN</td>\n",
       "      <td>0.000000</td>\n",
       "      <td>NaN</td>\n",
       "      <td>5000.000000</td>\n",
       "      <td>NaN</td>\n",
       "      <td>NaN</td>\n",
       "      <td>NaN</td>\n",
       "    </tr>\n",
       "    <tr>\n",
       "      <th>25%</th>\n",
       "      <td>1050.000000</td>\n",
       "      <td>NaN</td>\n",
       "      <td>1999.000000</td>\n",
       "      <td>NaN</td>\n",
       "      <td>69.000000</td>\n",
       "      <td>NaN</td>\n",
       "      <td>125000.000000</td>\n",
       "      <td>NaN</td>\n",
       "      <td>NaN</td>\n",
       "      <td>NaN</td>\n",
       "    </tr>\n",
       "    <tr>\n",
       "      <th>50%</th>\n",
       "      <td>2700.000000</td>\n",
       "      <td>NaN</td>\n",
       "      <td>2003.000000</td>\n",
       "      <td>NaN</td>\n",
       "      <td>105.000000</td>\n",
       "      <td>NaN</td>\n",
       "      <td>150000.000000</td>\n",
       "      <td>NaN</td>\n",
       "      <td>NaN</td>\n",
       "      <td>NaN</td>\n",
       "    </tr>\n",
       "    <tr>\n",
       "      <th>75%</th>\n",
       "      <td>6400.000000</td>\n",
       "      <td>NaN</td>\n",
       "      <td>2008.000000</td>\n",
       "      <td>NaN</td>\n",
       "      <td>143.000000</td>\n",
       "      <td>NaN</td>\n",
       "      <td>150000.000000</td>\n",
       "      <td>NaN</td>\n",
       "      <td>NaN</td>\n",
       "      <td>NaN</td>\n",
       "    </tr>\n",
       "    <tr>\n",
       "      <th>max</th>\n",
       "      <td>20000.000000</td>\n",
       "      <td>NaN</td>\n",
       "      <td>9999.000000</td>\n",
       "      <td>NaN</td>\n",
       "      <td>20000.000000</td>\n",
       "      <td>NaN</td>\n",
       "      <td>150000.000000</td>\n",
       "      <td>NaN</td>\n",
       "      <td>NaN</td>\n",
       "      <td>NaN</td>\n",
       "    </tr>\n",
       "  </tbody>\n",
       "</table>\n",
       "</div>"
      ],
      "text/plain": [
       "                Price VehicleType  RegistrationYear Gearbox          Power  \\\n",
       "count   354369.000000      316879     354369.000000  334536  354369.000000   \n",
       "unique            NaN           8               NaN       2            NaN   \n",
       "top               NaN       sedan               NaN  manual            NaN   \n",
       "freq              NaN       91457               NaN  268251            NaN   \n",
       "mean      4416.656776         NaN       2004.234448     NaN     110.094337   \n",
       "std       4514.158514         NaN         90.227958     NaN     189.850405   \n",
       "min          0.000000         NaN       1000.000000     NaN       0.000000   \n",
       "25%       1050.000000         NaN       1999.000000     NaN      69.000000   \n",
       "50%       2700.000000         NaN       2003.000000     NaN     105.000000   \n",
       "75%       6400.000000         NaN       2008.000000     NaN     143.000000   \n",
       "max      20000.000000         NaN       9999.000000     NaN   20000.000000   \n",
       "\n",
       "         Model      Kilometer FuelType       Brand Repaired  \n",
       "count   334664  354369.000000   321474      354369   283215  \n",
       "unique     250            NaN        7          40        2  \n",
       "top       golf            NaN   petrol  volkswagen       no  \n",
       "freq     29232            NaN   216352       77013   247161  \n",
       "mean       NaN  128211.172535      NaN         NaN      NaN  \n",
       "std        NaN   37905.341530      NaN         NaN      NaN  \n",
       "min        NaN    5000.000000      NaN         NaN      NaN  \n",
       "25%        NaN  125000.000000      NaN         NaN      NaN  \n",
       "50%        NaN  150000.000000      NaN         NaN      NaN  \n",
       "75%        NaN  150000.000000      NaN         NaN      NaN  \n",
       "max        NaN  150000.000000      NaN         NaN      NaN  "
      ]
     },
     "execution_count": 6,
     "metadata": {},
     "output_type": "execute_result"
    }
   ],
   "source": [
    "data.describe(include='all')"
   ]
  },
  {
   "cell_type": "code",
   "execution_count": 7,
   "id": "fb7227fd",
   "metadata": {},
   "outputs": [
    {
     "data": {
      "image/png": "[encoded data removed]",
      "text/plain": [
       "<Figure size 1500x900 with 4 Axes>"
      ]
     },
     "metadata": {},
     "output_type": "display_data"
    }
   ],
   "source": [
    "data.hist(figsize=(15,9));"
   ]
  },
  {
   "cell_type": "markdown",
   "id": "9dda9757",
   "metadata": {},
   "source": [
    "По гистограммам понятно, что в данных присутствуют аномальные значения.  \n",
    "- Удалить нулевые значения во всех признаках\n",
    "- Ограничить минимальную цену в 50-100 евро.\n",
    "- Ограничить года выпуска между 1950 и 2022\n",
    "- Ограничить мощность двигателя 501 л.с."
   ]
  },
  {
   "cell_type": "code",
   "execution_count": 8,
   "id": "ec506238",
   "metadata": {},
   "outputs": [],
   "source": [
    "#Смотрим пропуски\n",
    "def pass_value_barh(df):\n",
    "    try:\n",
    "        (\n",
    "            (df.isna().mean()*100)\n",
    "            .to_frame()\n",
    "            .rename(columns = {0:'percent'})\n",
    "            .query('percent > 0')\n",
    "            .sort_values(by = 'percent', ascending = True)\n",
    "            .plot(kind= 'barh', figsize=(19,6), rot = 0, legend = False, fontsize = 16)\n",
    "            .set_title('Процент пропусков' + \"\\n\", fontsize = 22, color = 'SteelBlue')    \n",
    "        );    \n",
    "    except:\n",
    "        print('пропусков не осталось :) ')"
   ]
  },
  {
   "cell_type": "code",
   "execution_count": 9,
   "id": "348f1b3c",
   "metadata": {},
   "outputs": [
    {
     "data": {
      "image/png": "[encoded data removed]",
      "text/plain": [
       "<Figure size 1900x600 with 1 Axes>"
      ]
     },
     "metadata": {},
     "output_type": "display_data"
    }
   ],
   "source": [
    "pass_value_barh(data)"
   ]
  },
  {
   "cell_type": "code",
   "execution_count": 10,
   "id": "6f018f4f",
   "metadata": {},
   "outputs": [],
   "source": [
    "#Удаляем строки с пропусками в колонке Модель, заполнить адекватно не представляется возможным, а модель машины - один из \n",
    "#наиболее влиятельных признаков\n",
    "data.dropna(subset=['Model'], inplace=True)\n",
    "#data['Model'] = data['Model'].fillna('unknown')"
   ]
  },
  {
   "cell_type": "code",
   "execution_count": 11,
   "id": "c5648dec",
   "metadata": {
    "scrolled": true
   },
   "outputs": [],
   "source": [
    "##Пропуски в типах кузова ТС заполним значениями соответсвующим совпадениям Марка машины + Модель\n",
    "#data['Brand+Model'] = data['Brand'] + '_' + data['Model']\n",
    "#data_for_vehicle_type = data[['Brand+Model', 'VehicleType']].dropna()\n",
    "#get_max = lambda x: x.value_counts(dropna=False).index[0]\n",
    "#data_for_vehicle_type = data_for_vehicle_type.groupby(['Brand+Model'])['VehicleType'].agg(get_max)\n",
    "#data = data.set_index('Brand+Model')\n",
    "#data['VehicleType'] = data['VehicleType'].fillna(data_for_vehicle_type)\n",
    "#drops_vehicle_type = data['VehicleType'].isna().sum()\n",
    "#print(f'Осталось пропусков:{drops_vehicle_type}')"
   ]
  },
  {
   "cell_type": "code",
   "execution_count": 12,
   "id": "1b2b8735",
   "metadata": {},
   "outputs": [
    {
     "name": "stdout",
     "output_type": "stream",
     "text": [
      "Осталось пропусков:0\n"
     ]
    }
   ],
   "source": [
    "# Код ревьюера\n",
    "get_max = lambda x: x.value_counts(dropna=False).index[0]\n",
    "data_for_vehicle_type = data.dropna(subset=['Brand', 'Model', 'VehicleType'])\n",
    "data_for_vehicle_type = data_for_vehicle_type.groupby(['Brand','Model'])['VehicleType'].agg(get_max)\n",
    "data = data.set_index(['Brand','Model'])\n",
    "data['VehicleType'] = data['VehicleType'].fillna(data_for_vehicle_type)\n",
    "drops_vehicle_type = data['VehicleType'].isna().sum()\n",
    "print(f'Осталось пропусков:{drops_vehicle_type}')"
   ]
  },
  {
   "cell_type": "code",
   "execution_count": 13,
   "id": "7a442809",
   "metadata": {
    "scrolled": true
   },
   "outputs": [],
   "source": [
    "##Заполняем пропуски и аномалии следующим образом:\n",
    "## - Для начала отсекаем слишком маленькие или большие значения\n",
    "## - Заполняем пропуски соответствеющими значениями про совпадении Марки и Модели ТС (самым частым)\n",
    "## - Оставшиеся пропуски заполняем медианным значением по типу кузова ТС\n",
    "#data_for_power = data['Power']\n",
    "#data_for_power = data_for_power.loc[lambda x: (x < 501) & (x > 30)]\n",
    "#data_for_power = data_for_power.reset_index().groupby('Brand+Model')['Power'].agg(get_max)\n",
    "#data.loc[data['Power'] < 30, 'Power'] = np.nan\n",
    "#data.loc[data['Power'] > 501, 'Power'] = np.nan\n",
    "#data['Power'] = data['Power'].fillna(data_for_power)\n",
    "#data['Power'] = data['Power'].fillna(data.groupby('VehicleType')['Power'].transform('median'))\n",
    "#drops_power = data['Power'].isna().sum()\n",
    "#print(f'Осталось пропусков:{drops_power}')"
   ]
  },
  {
   "cell_type": "code",
   "execution_count": 14,
   "id": "86d5d2f9",
   "metadata": {},
   "outputs": [
    {
     "name": "stdout",
     "output_type": "stream",
     "text": [
      "Осталось пропусков:0\n"
     ]
    }
   ],
   "source": [
    "# Код ревьюера\n",
    "data.loc[(data['Power'] < 30)&(data['Power'] > 501),'Power'] = np.nan\n",
    "data_for_power = data['Power'].dropna()\n",
    "data_for_power = data_for_power.reset_index().groupby(['Brand','Model'])['Power'].agg(get_max)\n",
    "data['Power'] = data['Power'].fillna(data_for_power)\n",
    "data['Power'] = data['Power'].fillna(data.groupby('VehicleType')['Power'].transform('median'))\n",
    "drops_power = data['Power'].isna().sum()\n",
    "print(f'Осталось пропусков:{drops_power}')"
   ]
  },
  {
   "cell_type": "code",
   "execution_count": 15,
   "id": "2df3260b",
   "metadata": {},
   "outputs": [],
   "source": [
    "#Отсекаем совсем нереальные значения годов выпуска, заполнять бессмысленно, год оказывает сильное влияние на целевой признак.\n",
    "#data.query('RegistrationYear < 1950' or 'RegistrationYear > 2022')['RegistrationYear'].value_counts()\n",
    "data = data.query('1950 < RegistrationYear < 2017')"
   ]
  },
  {
   "cell_type": "code",
   "execution_count": 16,
   "id": "3f7249f1",
   "metadata": {},
   "outputs": [
    {
     "data": {
      "text/plain": [
       "2000    2106\n",
       "2005    1469\n",
       "2016    1095\n",
       "1995     825\n",
       "1999     694\n",
       "        ... \n",
       "1952       2\n",
       "1955       1\n",
       "1957       1\n",
       "1958       1\n",
       "1951       1\n",
       "Name: RegistrationYear, Length: 66, dtype: int64"
      ]
     },
     "execution_count": 16,
     "metadata": {},
     "output_type": "execute_result"
    }
   ],
   "source": [
    "#Отсутсвующие значения типа коробки передач в зависимости от года выпуска\n",
    "data.loc[data['Gearbox'].isna()].sort_values(by='RegistrationYear', ascending=True)['RegistrationYear'].value_counts()"
   ]
  },
  {
   "cell_type": "code",
   "execution_count": 17,
   "id": "074eec2e",
   "metadata": {},
   "outputs": [],
   "source": [
    "#Оптимально заполнить пропуски самой распостраненной коробкой.\n",
    "data['Gearbox'] = data['Gearbox'].fillna('manual')"
   ]
  },
  {
   "cell_type": "code",
   "execution_count": 18,
   "id": "765d7fae",
   "metadata": {
    "scrolled": true
   },
   "outputs": [
    {
     "data": {
      "text/plain": [
       "150000    215804\n",
       "125000     33726\n",
       "100000     13651\n",
       "90000      10819\n",
       "80000       9421\n",
       "70000       8045\n",
       "60000       7037\n",
       "50000       5823\n",
       "40000       4624\n",
       "5000        4522\n",
       "30000       4094\n",
       "20000       3486\n",
       "10000        994\n",
       "Name: Kilometer, dtype: int64"
      ]
     },
     "execution_count": 18,
     "metadata": {},
     "output_type": "execute_result"
    }
   ],
   "source": [
    "data['Kilometer'].value_counts()"
   ]
  },
  {
   "cell_type": "code",
   "execution_count": 19,
   "id": "dccd8f6d",
   "metadata": {},
   "outputs": [
    {
     "data": {
      "text/plain": [
       "petrol      201469\n",
       "gasoline     93680\n",
       "lpg           4828\n",
       "cng            522\n",
       "hybrid         200\n",
       "other          128\n",
       "electric        65\n",
       "Name: FuelType, dtype: int64"
      ]
     },
     "execution_count": 19,
     "metadata": {},
     "output_type": "execute_result"
    }
   ],
   "source": [
    "data['FuelType'].value_counts()"
   ]
  },
  {
   "cell_type": "code",
   "execution_count": 20,
   "id": "9dc7cb8a",
   "metadata": {},
   "outputs": [],
   "source": [
    "#Заполняем пропуски самым популярным видом топлива\n",
    "data['FuelType'] = data['FuelType'].fillna('petrol')"
   ]
  },
  {
   "cell_type": "code",
   "execution_count": 21,
   "id": "060d0ba7",
   "metadata": {},
   "outputs": [],
   "source": [
    "#Заполняем пропуски значением \"нет\", что наиболее вероятно, столбец делаем бинарным.\n",
    "data['Repaired'] = data['Repaired'].fillna('no')\n",
    "data['Repaired'] = np.where(data['Repaired'] == 'no', 0, 1)\n",
    "data['Repaired'] = data['Repaired'].astype('int64')"
   ]
  },
  {
   "cell_type": "code",
   "execution_count": 22,
   "id": "58832b08",
   "metadata": {},
   "outputs": [
    {
     "name": "stdout",
     "output_type": "stream",
     "text": [
      "пропусков не осталось :) \n"
     ]
    },
    {
     "data": {
      "image/png": "[encoded data removed]",
      "text/plain": [
       "<Figure size 1900x600 with 1 Axes>"
      ]
     },
     "metadata": {},
     "output_type": "display_data"
    }
   ],
   "source": [
    "pass_value_barh(data)"
   ]
  },
  {
   "cell_type": "code",
   "execution_count": 23,
   "id": "c0d59c27",
   "metadata": {},
   "outputs": [],
   "source": [
    "data['Power'] = data['Power'].astype('int64')"
   ]
  },
  {
   "cell_type": "code",
   "execution_count": 24,
   "id": "6f239dcf",
   "metadata": {},
   "outputs": [],
   "source": [
    "data = data.query('Price > 50').reset_index()"
   ]
  },
  {
   "cell_type": "code",
   "execution_count": 25,
   "id": "bb2599e7",
   "metadata": {
    "scrolled": false
   },
   "outputs": [
    {
     "name": "stdout",
     "output_type": "stream",
     "text": [
      "<class 'pandas.core.frame.DataFrame'>\n",
      "RangeIndex: 312556 entries, 0 to 312555\n",
      "Data columns (total 10 columns):\n",
      " #   Column            Non-Null Count   Dtype \n",
      "---  ------            --------------   ----- \n",
      " 0   Brand             312556 non-null  object\n",
      " 1   Model             312556 non-null  object\n",
      " 2   Price             312556 non-null  int64 \n",
      " 3   VehicleType       312556 non-null  object\n",
      " 4   RegistrationYear  312556 non-null  int64 \n",
      " 5   Gearbox           312556 non-null  object\n",
      " 6   Power             312556 non-null  int64 \n",
      " 7   Kilometer         312556 non-null  int64 \n",
      " 8   FuelType          312556 non-null  object\n",
      " 9   Repaired          312556 non-null  int64 \n",
      "dtypes: int64(5), object(5)\n",
      "memory usage: 23.8+ MB\n"
     ]
    }
   ],
   "source": [
    "data.info()"
   ]
  },
  {
   "cell_type": "code",
   "execution_count": 26,
   "id": "3837de0b",
   "metadata": {
    "scrolled": true
   },
   "outputs": [
    {
     "data": {
      "text/html": [
       "<div>\n",
       "<style scoped>\n",
       "    .dataframe tbody tr th:only-of-type {\n",
       "        vertical-align: middle;\n",
       "    }\n",
       "\n",
       "    .dataframe tbody tr th {\n",
       "        vertical-align: top;\n",
       "    }\n",
       "\n",
       "    .dataframe thead th {\n",
       "        text-align: right;\n",
       "    }\n",
       "</style>\n",
       "<table border=\"1\" class=\"dataframe\">\n",
       "  <thead>\n",
       "    <tr style=\"text-align: right;\">\n",
       "      <th></th>\n",
       "      <th>Brand</th>\n",
       "      <th>Model</th>\n",
       "      <th>Price</th>\n",
       "      <th>VehicleType</th>\n",
       "      <th>RegistrationYear</th>\n",
       "      <th>Gearbox</th>\n",
       "      <th>Power</th>\n",
       "      <th>Kilometer</th>\n",
       "      <th>FuelType</th>\n",
       "      <th>Repaired</th>\n",
       "    </tr>\n",
       "  </thead>\n",
       "  <tbody>\n",
       "    <tr>\n",
       "      <th>count</th>\n",
       "      <td>312556</td>\n",
       "      <td>312556</td>\n",
       "      <td>312556.000000</td>\n",
       "      <td>312556</td>\n",
       "      <td>312556.000000</td>\n",
       "      <td>312556</td>\n",
       "      <td>312556.000000</td>\n",
       "      <td>312556.000000</td>\n",
       "      <td>312556</td>\n",
       "      <td>312556.000000</td>\n",
       "    </tr>\n",
       "    <tr>\n",
       "      <th>unique</th>\n",
       "      <td>39</td>\n",
       "      <td>250</td>\n",
       "      <td>NaN</td>\n",
       "      <td>8</td>\n",
       "      <td>NaN</td>\n",
       "      <td>2</td>\n",
       "      <td>NaN</td>\n",
       "      <td>NaN</td>\n",
       "      <td>7</td>\n",
       "      <td>NaN</td>\n",
       "    </tr>\n",
       "    <tr>\n",
       "      <th>top</th>\n",
       "      <td>volkswagen</td>\n",
       "      <td>golf</td>\n",
       "      <td>NaN</td>\n",
       "      <td>sedan</td>\n",
       "      <td>NaN</td>\n",
       "      <td>manual</td>\n",
       "      <td>NaN</td>\n",
       "      <td>NaN</td>\n",
       "      <td>petrol</td>\n",
       "      <td>NaN</td>\n",
       "    </tr>\n",
       "    <tr>\n",
       "      <th>freq</th>\n",
       "      <td>67741</td>\n",
       "      <td>26613</td>\n",
       "      <td>NaN</td>\n",
       "      <td>92613</td>\n",
       "      <td>NaN</td>\n",
       "      <td>252482</td>\n",
       "      <td>NaN</td>\n",
       "      <td>NaN</td>\n",
       "      <td>214736</td>\n",
       "      <td>NaN</td>\n",
       "    </tr>\n",
       "    <tr>\n",
       "      <th>mean</th>\n",
       "      <td>NaN</td>\n",
       "      <td>NaN</td>\n",
       "      <td>4693.654366</td>\n",
       "      <td>NaN</td>\n",
       "      <td>2002.773743</td>\n",
       "      <td>NaN</td>\n",
       "      <td>113.081995</td>\n",
       "      <td>128523.960506</td>\n",
       "      <td>NaN</td>\n",
       "      <td>0.098110</td>\n",
       "    </tr>\n",
       "    <tr>\n",
       "      <th>std</th>\n",
       "      <td>NaN</td>\n",
       "      <td>NaN</td>\n",
       "      <td>4557.936742</td>\n",
       "      <td>NaN</td>\n",
       "      <td>6.512597</td>\n",
       "      <td>NaN</td>\n",
       "      <td>179.741334</td>\n",
       "      <td>36869.395316</td>\n",
       "      <td>NaN</td>\n",
       "      <td>0.297464</td>\n",
       "    </tr>\n",
       "    <tr>\n",
       "      <th>min</th>\n",
       "      <td>NaN</td>\n",
       "      <td>NaN</td>\n",
       "      <td>55.000000</td>\n",
       "      <td>NaN</td>\n",
       "      <td>1951.000000</td>\n",
       "      <td>NaN</td>\n",
       "      <td>0.000000</td>\n",
       "      <td>5000.000000</td>\n",
       "      <td>NaN</td>\n",
       "      <td>0.000000</td>\n",
       "    </tr>\n",
       "    <tr>\n",
       "      <th>25%</th>\n",
       "      <td>NaN</td>\n",
       "      <td>NaN</td>\n",
       "      <td>1250.000000</td>\n",
       "      <td>NaN</td>\n",
       "      <td>1999.000000</td>\n",
       "      <td>NaN</td>\n",
       "      <td>75.000000</td>\n",
       "      <td>125000.000000</td>\n",
       "      <td>NaN</td>\n",
       "      <td>0.000000</td>\n",
       "    </tr>\n",
       "    <tr>\n",
       "      <th>50%</th>\n",
       "      <td>NaN</td>\n",
       "      <td>NaN</td>\n",
       "      <td>2999.000000</td>\n",
       "      <td>NaN</td>\n",
       "      <td>2003.000000</td>\n",
       "      <td>NaN</td>\n",
       "      <td>105.000000</td>\n",
       "      <td>150000.000000</td>\n",
       "      <td>NaN</td>\n",
       "      <td>0.000000</td>\n",
       "    </tr>\n",
       "    <tr>\n",
       "      <th>75%</th>\n",
       "      <td>NaN</td>\n",
       "      <td>NaN</td>\n",
       "      <td>6800.000000</td>\n",
       "      <td>NaN</td>\n",
       "      <td>2007.000000</td>\n",
       "      <td>NaN</td>\n",
       "      <td>143.000000</td>\n",
       "      <td>150000.000000</td>\n",
       "      <td>NaN</td>\n",
       "      <td>0.000000</td>\n",
       "    </tr>\n",
       "    <tr>\n",
       "      <th>max</th>\n",
       "      <td>NaN</td>\n",
       "      <td>NaN</td>\n",
       "      <td>20000.000000</td>\n",
       "      <td>NaN</td>\n",
       "      <td>2016.000000</td>\n",
       "      <td>NaN</td>\n",
       "      <td>20000.000000</td>\n",
       "      <td>150000.000000</td>\n",
       "      <td>NaN</td>\n",
       "      <td>1.000000</td>\n",
       "    </tr>\n",
       "  </tbody>\n",
       "</table>\n",
       "</div>"
      ],
      "text/plain": [
       "             Brand   Model          Price VehicleType  RegistrationYear  \\\n",
       "count       312556  312556  312556.000000      312556     312556.000000   \n",
       "unique          39     250            NaN           8               NaN   \n",
       "top     volkswagen    golf            NaN       sedan               NaN   \n",
       "freq         67741   26613            NaN       92613               NaN   \n",
       "mean           NaN     NaN    4693.654366         NaN       2002.773743   \n",
       "std            NaN     NaN    4557.936742         NaN          6.512597   \n",
       "min            NaN     NaN      55.000000         NaN       1951.000000   \n",
       "25%            NaN     NaN    1250.000000         NaN       1999.000000   \n",
       "50%            NaN     NaN    2999.000000         NaN       2003.000000   \n",
       "75%            NaN     NaN    6800.000000         NaN       2007.000000   \n",
       "max            NaN     NaN   20000.000000         NaN       2016.000000   \n",
       "\n",
       "       Gearbox          Power      Kilometer FuelType       Repaired  \n",
       "count   312556  312556.000000  312556.000000   312556  312556.000000  \n",
       "unique       2            NaN            NaN        7            NaN  \n",
       "top     manual            NaN            NaN   petrol            NaN  \n",
       "freq    252482            NaN            NaN   214736            NaN  \n",
       "mean       NaN     113.081995  128523.960506      NaN       0.098110  \n",
       "std        NaN     179.741334   36869.395316      NaN       0.297464  \n",
       "min        NaN       0.000000    5000.000000      NaN       0.000000  \n",
       "25%        NaN      75.000000  125000.000000      NaN       0.000000  \n",
       "50%        NaN     105.000000  150000.000000      NaN       0.000000  \n",
       "75%        NaN     143.000000  150000.000000      NaN       0.000000  \n",
       "max        NaN   20000.000000  150000.000000      NaN       1.000000  "
      ]
     },
     "execution_count": 26,
     "metadata": {},
     "output_type": "execute_result"
    }
   ],
   "source": [
    "data.describe(include='all')"
   ]
  },
  {
   "cell_type": "code",
   "execution_count": 27,
   "id": "c6057ddd",
   "metadata": {},
   "outputs": [
    {
     "name": "stdout",
     "output_type": "stream",
     "text": [
      "Относительно оригинального датасета, количество объектвом уменьшилось на 11.80%\n"
     ]
    }
   ],
   "source": [
    "objects_finally = data.shape[0]\n",
    "drop_loss = (objects_originally - objects_finally) / objects_originally * 100\n",
    "print(f'Относительно оригинального датасета, количество объектвом уменьшилось на {drop_loss:.2f}%')"
   ]
  },
  {
   "cell_type": "markdown",
   "id": "e1b4a5b1",
   "metadata": {},
   "source": [
    "**Данные обработаны, заполнение пропусков значениями, как минимум, не ухудшающих качество данных, выполненно.**\n",
    "- Пропуски признака 'Repaired' заполнены нулевым значением (\"авто в ремонте не было\") как значением \"по умолчанию\", что наиболее вероятно для отсутствующего значения.\n",
    "- Пропуски в типах кухова заполняем типами кузовов соответствующих моделей, при нескольких типах кузова одной модели - самым ходовым\n",
    "- Пропуски в используемом топливе заполняем значением \"бензин\", как значением \"по умолчанию\".\n",
    "- Пропуски в типах коробки передач заполняем ручной коробкой, как значением \"по умолчанию\"\n",
    "- Объекты с пропусками в моделе машин удаляем, т.к. данный признак - один из основных, влияющих на цену машины, и восстановить его по имеющимся данным не предоставляется вохможным"
   ]
  },
  {
   "cell_type": "code",
   "execution_count": 28,
   "id": "83b7425b",
   "metadata": {},
   "outputs": [
    {
     "data": {
      "text/html": [
       "<div>\n",
       "<style scoped>\n",
       "    .dataframe tbody tr th:only-of-type {\n",
       "        vertical-align: middle;\n",
       "    }\n",
       "\n",
       "    .dataframe tbody tr th {\n",
       "        vertical-align: top;\n",
       "    }\n",
       "\n",
       "    .dataframe thead th {\n",
       "        text-align: right;\n",
       "    }\n",
       "</style>\n",
       "<table border=\"1\" class=\"dataframe\">\n",
       "  <thead>\n",
       "    <tr style=\"text-align: right;\">\n",
       "      <th></th>\n",
       "      <th>Brand</th>\n",
       "      <th>Model</th>\n",
       "      <th>Price</th>\n",
       "      <th>VehicleType</th>\n",
       "      <th>RegistrationYear</th>\n",
       "      <th>Gearbox</th>\n",
       "      <th>Power</th>\n",
       "      <th>Kilometer</th>\n",
       "      <th>FuelType</th>\n",
       "      <th>Repaired</th>\n",
       "    </tr>\n",
       "  </thead>\n",
       "  <tbody>\n",
       "    <tr>\n",
       "      <th>0</th>\n",
       "      <td>volkswagen</td>\n",
       "      <td>golf</td>\n",
       "      <td>480</td>\n",
       "      <td>sedan</td>\n",
       "      <td>1993</td>\n",
       "      <td>manual</td>\n",
       "      <td>0</td>\n",
       "      <td>150000</td>\n",
       "      <td>petrol</td>\n",
       "      <td>0</td>\n",
       "    </tr>\n",
       "    <tr>\n",
       "      <th>1</th>\n",
       "      <td>jeep</td>\n",
       "      <td>grand</td>\n",
       "      <td>9800</td>\n",
       "      <td>suv</td>\n",
       "      <td>2004</td>\n",
       "      <td>auto</td>\n",
       "      <td>163</td>\n",
       "      <td>125000</td>\n",
       "      <td>gasoline</td>\n",
       "      <td>0</td>\n",
       "    </tr>\n",
       "    <tr>\n",
       "      <th>2</th>\n",
       "      <td>volkswagen</td>\n",
       "      <td>golf</td>\n",
       "      <td>1500</td>\n",
       "      <td>small</td>\n",
       "      <td>2001</td>\n",
       "      <td>manual</td>\n",
       "      <td>75</td>\n",
       "      <td>150000</td>\n",
       "      <td>petrol</td>\n",
       "      <td>0</td>\n",
       "    </tr>\n",
       "    <tr>\n",
       "      <th>3</th>\n",
       "      <td>skoda</td>\n",
       "      <td>fabia</td>\n",
       "      <td>3600</td>\n",
       "      <td>small</td>\n",
       "      <td>2008</td>\n",
       "      <td>manual</td>\n",
       "      <td>69</td>\n",
       "      <td>90000</td>\n",
       "      <td>gasoline</td>\n",
       "      <td>0</td>\n",
       "    </tr>\n",
       "    <tr>\n",
       "      <th>4</th>\n",
       "      <td>bmw</td>\n",
       "      <td>3er</td>\n",
       "      <td>650</td>\n",
       "      <td>sedan</td>\n",
       "      <td>1995</td>\n",
       "      <td>manual</td>\n",
       "      <td>102</td>\n",
       "      <td>150000</td>\n",
       "      <td>petrol</td>\n",
       "      <td>1</td>\n",
       "    </tr>\n",
       "  </tbody>\n",
       "</table>\n",
       "</div>"
      ],
      "text/plain": [
       "        Brand  Model  Price VehicleType  RegistrationYear Gearbox  Power  \\\n",
       "0  volkswagen   golf    480       sedan              1993  manual      0   \n",
       "1        jeep  grand   9800         suv              2004    auto    163   \n",
       "2  volkswagen   golf   1500       small              2001  manual     75   \n",
       "3       skoda  fabia   3600       small              2008  manual     69   \n",
       "4         bmw    3er    650       sedan              1995  manual    102   \n",
       "\n",
       "   Kilometer  FuelType  Repaired  \n",
       "0     150000    petrol         0  \n",
       "1     125000  gasoline         0  \n",
       "2     150000    petrol         0  \n",
       "3      90000  gasoline         0  \n",
       "4     150000    petrol         1  "
      ]
     },
     "execution_count": 28,
     "metadata": {},
     "output_type": "execute_result"
    }
   ],
   "source": [
    "#data = data.drop('Brand+Model', axis=1)\n",
    "data.head()"
   ]
  },
  {
   "cell_type": "markdown",
   "id": "89ca0a4a",
   "metadata": {},
   "source": [
    "## Обучение моделей"
   ]
  },
  {
   "cell_type": "code",
   "execution_count": 29,
   "id": "b4c0dc5a",
   "metadata": {},
   "outputs": [],
   "source": [
    "#Подготавливаем выборки для обучения\n",
    "features = data.drop('Price', axis = 1)\n",
    "target = data['Price']\n",
    "features_train, features_test, target_train, target_test = train_test_split(features, target, test_size = 0.25)"
   ]
  },
  {
   "cell_type": "code",
   "execution_count": 30,
   "id": "f636aff9",
   "metadata": {},
   "outputs": [
    {
     "data": {
      "text/plain": [
       "['RegistrationYear', 'Power', 'Kilometer']"
      ]
     },
     "execution_count": 30,
     "metadata": {},
     "output_type": "execute_result"
    }
   ],
   "source": [
    "#Колонки с количественными признаками\n",
    "features_numeric = features_train.select_dtypes(exclude='object').columns.to_list()\n",
    "features_numeric.remove('Repaired')\n",
    "features_numeric"
   ]
  },
  {
   "cell_type": "code",
   "execution_count": 31,
   "id": "ac64c404",
   "metadata": {},
   "outputs": [],
   "source": [
    "#признаки для бустинга\n",
    "features_train_boosting = features_train.copy()\n",
    "features_test_boosting = features_test.copy()"
   ]
  },
  {
   "cell_type": "code",
   "execution_count": 32,
   "id": "2d167204",
   "metadata": {},
   "outputs": [],
   "source": [
    "#признаки для RF\n",
    "features_train_rf=features_train.copy()\n",
    "features_test_rf=features_test.copy()"
   ]
  },
  {
   "cell_type": "code",
   "execution_count": 33,
   "id": "b387d39a",
   "metadata": {},
   "outputs": [
    {
     "name": "stdout",
     "output_type": "stream",
     "text": [
      "Категориальные признаки для градиентного бустинга ['Brand', 'Model', 'VehicleType', 'Gearbox', 'FuelType']\n",
      "Категориальные признаки для Случайного леса ['Brand', 'VehicleType', 'Gearbox', 'FuelType']\n"
     ]
    }
   ],
   "source": [
    "#Колонки с категориальными признаками\n",
    "ohe_features_boosting = features_train_boosting.select_dtypes(include='object').columns.to_list()\n",
    "print('Категориальные признаки для градиентного бустинга', ohe_features_boosting)\n",
    "ohe_features_rf = ohe_features_boosting.copy()\n",
    "ohe_features_rf.remove('Model')\n",
    "print('Категориальные признаки для Случайного леса', ohe_features_rf)"
   ]
  },
  {
   "cell_type": "code",
   "execution_count": 34,
   "id": "07a65ca9",
   "metadata": {
    "scrolled": true
   },
   "outputs": [
    {
     "data": {
      "text/plain": [
       "(234417, 305)"
      ]
     },
     "execution_count": 34,
     "metadata": {},
     "output_type": "execute_result"
    }
   ],
   "source": [
    "#Подготовка и масштабирование признаков\n",
    "ohe = OneHotEncoder(drop='first', handle_unknown='error', sparse=False)\n",
    "ohe.fit(features_train_boosting[ohe_features_boosting])\n",
    "features_train_boosting[ohe.get_feature_names_out()] = ohe.transform(features_train_boosting[ohe_features_boosting])\n",
    "features_train_boosting = features_train_boosting.drop(ohe_features_boosting, axis = 1)\n",
    "scaler = StandardScaler()\n",
    "features_train_boosting[features_numeric] = scaler.fit_transform(features_train_boosting[features_numeric])\n",
    "features_train_boosting.shape"
   ]
  },
  {
   "cell_type": "code",
   "execution_count": 35,
   "id": "b4b66951",
   "metadata": {},
   "outputs": [],
   "source": [
    "features_test_boosting[ohe.get_feature_names_out()] = ohe.transform(features_test_boosting[ohe_features_boosting])\n",
    "features_test_boosting = features_test_boosting.drop(ohe_features_boosting, axis = 1)\n",
    "features_test_boosting[features_numeric] = scaler.transform(features_test_boosting[features_numeric])"
   ]
  },
  {
   "cell_type": "markdown",
   "id": "6c31183a",
   "metadata": {},
   "source": [
    "### Градиентный бустинг"
   ]
  },
  {
   "cell_type": "markdown",
   "id": "840b5118",
   "metadata": {},
   "source": [
    "#### LightGBM"
   ]
  },
  {
   "cell_type": "code",
   "execution_count": 36,
   "id": "4e2d98a5",
   "metadata": {},
   "outputs": [],
   "source": [
    "data_train = lgb.Dataset(features_train_boosting, target_train, feature_name=features_train_boosting.columns.tolist())\n",
    "data_test = lgb.Dataset(features_test_boosting, target_test, feature_name=features_test_boosting.columns.tolist())"
   ]
  },
  {
   "cell_type": "code",
   "execution_count": 37,
   "id": "1e281064",
   "metadata": {},
   "outputs": [
    {
     "name": "stdout",
     "output_type": "stream",
     "text": [
      "[LightGBM] [Warning] Auto-choosing row-wise multi-threading, the overhead of testing was 0.004829 seconds.\n",
      "You can set `force_row_wise=true` to remove the overhead.\n",
      "And if memory is not enough, you can set `force_col_wise=true`.\n",
      "[LightGBM] [Info] Total Bins 905\n",
      "[LightGBM] [Info] Number of data points in the train set: 234417, number of used features: 288\n",
      "[LightGBM] [Info] Start training from score 4694.046660\n",
      "[1]\tvalid_0's rmse: 4234.81\n",
      "[2]\tvalid_0's rmse: 3948.99\n",
      "[3]\tvalid_0's rmse: 3697.33\n",
      "[4]\tvalid_0's rmse: 3478.28\n",
      "[5]\tvalid_0's rmse: 3285.04\n",
      "[6]\tvalid_0's rmse: 3119.47\n",
      "[7]\tvalid_0's rmse: 2970.25\n",
      "[8]\tvalid_0's rmse: 2841.88\n",
      "[9]\tvalid_0's rmse: 2729.76\n",
      "[10]\tvalid_0's rmse: 2632.01\n",
      "[11]\tvalid_0's rmse: 2545.91\n",
      "[12]\tvalid_0's rmse: 2471.04\n",
      "[13]\tvalid_0's rmse: 2404.6\n",
      "[14]\tvalid_0's rmse: 2346.74\n",
      "[15]\tvalid_0's rmse: 2291.08\n",
      "[16]\tvalid_0's rmse: 2243.8\n",
      "[17]\tvalid_0's rmse: 2201.75\n",
      "[18]\tvalid_0's rmse: 2162.23\n",
      "[19]\tvalid_0's rmse: 2129.55\n",
      "[20]\tvalid_0's rmse: 2098.55\n",
      "[21]\tvalid_0's rmse: 2068.07\n",
      "[22]\tvalid_0's rmse: 2043.08\n",
      "[23]\tvalid_0's rmse: 2022.26\n",
      "[24]\tvalid_0's rmse: 1999.75\n",
      "[25]\tvalid_0's rmse: 1980.48\n",
      "[26]\tvalid_0's rmse: 1964.3\n",
      "[27]\tvalid_0's rmse: 1949.06\n",
      "[28]\tvalid_0's rmse: 1933.72\n",
      "[29]\tvalid_0's rmse: 1920.55\n",
      "[30]\tvalid_0's rmse: 1909.65\n",
      "[31]\tvalid_0's rmse: 1898.81\n",
      "[32]\tvalid_0's rmse: 1887.18\n",
      "[33]\tvalid_0's rmse: 1877.85\n",
      "[34]\tvalid_0's rmse: 1868.31\n",
      "[35]\tvalid_0's rmse: 1858.94\n",
      "[36]\tvalid_0's rmse: 1851.47\n",
      "[37]\tvalid_0's rmse: 1844.37\n",
      "[38]\tvalid_0's rmse: 1836.94\n",
      "[39]\tvalid_0's rmse: 1830.81\n",
      "[40]\tvalid_0's rmse: 1825.29\n",
      "[41]\tvalid_0's rmse: 1818.58\n",
      "[42]\tvalid_0's rmse: 1813.57\n",
      "[43]\tvalid_0's rmse: 1808.77\n",
      "[44]\tvalid_0's rmse: 1803.47\n",
      "[45]\tvalid_0's rmse: 1798.89\n",
      "[46]\tvalid_0's rmse: 1794.39\n",
      "[47]\tvalid_0's rmse: 1790.46\n",
      "[48]\tvalid_0's rmse: 1786.19\n",
      "[49]\tvalid_0's rmse: 1781.28\n",
      "[50]\tvalid_0's rmse: 1778.07\n",
      "[51]\tvalid_0's rmse: 1775.44\n",
      "[52]\tvalid_0's rmse: 1771.67\n",
      "[53]\tvalid_0's rmse: 1769.06\n",
      "[54]\tvalid_0's rmse: 1765.41\n",
      "[55]\tvalid_0's rmse: 1762.2\n",
      "[56]\tvalid_0's rmse: 1759.69\n",
      "[57]\tvalid_0's rmse: 1757.46\n",
      "[58]\tvalid_0's rmse: 1754.38\n",
      "[59]\tvalid_0's rmse: 1751.6\n",
      "[60]\tvalid_0's rmse: 1749.17\n",
      "[61]\tvalid_0's rmse: 1747.39\n",
      "[62]\tvalid_0's rmse: 1744.95\n",
      "[63]\tvalid_0's rmse: 1742.76\n",
      "[64]\tvalid_0's rmse: 1740.34\n",
      "[65]\tvalid_0's rmse: 1738.72\n",
      "[66]\tvalid_0's rmse: 1736.77\n",
      "[67]\tvalid_0's rmse: 1734.9\n",
      "[68]\tvalid_0's rmse: 1732.53\n",
      "[69]\tvalid_0's rmse: 1730.8\n",
      "[70]\tvalid_0's rmse: 1729.12\n",
      "[71]\tvalid_0's rmse: 1727.03\n",
      "[72]\tvalid_0's rmse: 1725.56\n",
      "[73]\tvalid_0's rmse: 1723.91\n",
      "[74]\tvalid_0's rmse: 1722.98\n",
      "[75]\tvalid_0's rmse: 1721.76\n",
      "[76]\tvalid_0's rmse: 1720.55\n",
      "[77]\tvalid_0's rmse: 1718.26\n",
      "[78]\tvalid_0's rmse: 1717.05\n",
      "[79]\tvalid_0's rmse: 1715.83\n",
      "[80]\tvalid_0's rmse: 1714.65\n",
      "[81]\tvalid_0's rmse: 1713.31\n",
      "[82]\tvalid_0's rmse: 1712.57\n",
      "[83]\tvalid_0's rmse: 1711.18\n",
      "[84]\tvalid_0's rmse: 1710.2\n",
      "[85]\tvalid_0's rmse: 1708.62\n",
      "[86]\tvalid_0's rmse: 1707.6\n",
      "[87]\tvalid_0's rmse: 1706.4\n",
      "[88]\tvalid_0's rmse: 1705.66\n",
      "[89]\tvalid_0's rmse: 1704.52\n",
      "[90]\tvalid_0's rmse: 1703.79\n",
      "[91]\tvalid_0's rmse: 1702.33\n",
      "[92]\tvalid_0's rmse: 1701.74\n",
      "[93]\tvalid_0's rmse: 1700.73\n",
      "[94]\tvalid_0's rmse: 1699.83\n",
      "[95]\tvalid_0's rmse: 1698.81\n",
      "[96]\tvalid_0's rmse: 1697.58\n",
      "[97]\tvalid_0's rmse: 1696.5\n",
      "[98]\tvalid_0's rmse: 1695.98\n",
      "[99]\tvalid_0's rmse: 1694.83\n",
      "[100]\tvalid_0's rmse: 1694.15\n",
      "Wall time: 2.25 s\n"
     ]
    }
   ],
   "source": [
    "%%time\n",
    "booster = lgb.train({'objective':'regression', 'metric':'rmse'},\n",
    "                    train_set=data_train, valid_sets=(data_test))"
   ]
  },
  {
   "cell_type": "code",
   "execution_count": 38,
   "id": "8b18ec0e",
   "metadata": {},
   "outputs": [
    {
     "name": "stdout",
     "output_type": "stream",
     "text": [
      "Wall time: 1.01 s\n"
     ]
    }
   ],
   "source": [
    "%%time\n",
    "predictions_train_LGB = booster.predict(features_train_boosting)"
   ]
  },
  {
   "cell_type": "code",
   "execution_count": 39,
   "id": "09578fb1",
   "metadata": {},
   "outputs": [
    {
     "name": "stdout",
     "output_type": "stream",
     "text": [
      "R2 для тестовой выборки 0.8372469217870226\n",
      "R2 для тренировочной выборки 0.8434093053706267\n",
      "RMSE: 1694.147859506986\n"
     ]
    }
   ],
   "source": [
    "predictions_test_LGB = booster.predict(features_test_boosting)\n",
    "r2_lgb = r2_score(predictions_test_LGB, target_test)\n",
    "rmse_lgb = mean_squared_error(target_test, predictions_test_LGB)**0.5\n",
    "print(f'R2 для тестовой выборки {r2_lgb}')\n",
    "print(f'R2 для тренировочной выборки {r2_score(predictions_train_LGB, target_train)}')\n",
    "print(f'RMSE: {rmse_lgb}')"
   ]
  },
  {
   "cell_type": "code",
   "execution_count": 54,
   "id": "bd7a7c68",
   "metadata": {},
   "outputs": [],
   "source": [
    "time_lgb = 1.01 + 2.25"
   ]
  },
  {
   "cell_type": "markdown",
   "id": "406322ec",
   "metadata": {},
   "source": [
    "#### CatBoost"
   ]
  },
  {
   "cell_type": "code",
   "execution_count": 41,
   "id": "62e59303",
   "metadata": {},
   "outputs": [
    {
     "name": "stdout",
     "output_type": "stream",
     "text": [
      "Learning rate set to 0.5\n",
      "0:\tlearn: 3236.6969117\ttotal: 254ms\tremaining: 25.1s\n",
      "50:\tlearn: 1694.6673326\ttotal: 2.27s\tremaining: 2.18s\n",
      "99:\tlearn: 1626.6901458\ttotal: 4.26s\tremaining: 0us\n",
      "Wall time: 4.83 s\n"
     ]
    },
    {
     "data": {
      "text/plain": [
       "<catboost.core.CatBoostRegressor at 0x1e8ba6a4820>"
      ]
     },
     "execution_count": 41,
     "metadata": {},
     "output_type": "execute_result"
    }
   ],
   "source": [
    "%%time\n",
    "cat = CatBoostRegressor(iterations=100)\n",
    "cat.fit(features_train, target_train, cat_features=ohe_features_boosting, verbose=50)"
   ]
  },
  {
   "cell_type": "code",
   "execution_count": 42,
   "id": "45337aab",
   "metadata": {},
   "outputs": [
    {
     "name": "stdout",
     "output_type": "stream",
     "text": [
      "Wall time: 428 ms\n"
     ]
    }
   ],
   "source": [
    "%%time\n",
    "predictions_train_cat = cat.predict(features_train)"
   ]
  },
  {
   "cell_type": "code",
   "execution_count": 43,
   "id": "c28e4d98",
   "metadata": {
    "scrolled": true
   },
   "outputs": [
    {
     "name": "stdout",
     "output_type": "stream",
     "text": [
      "R2 для тестовой выборки 0.8442456775387565\n",
      "R2 для тренировочной выборки 0.8534466074033777\n",
      "RMSE: 1675.3171537293358\n"
     ]
    }
   ],
   "source": [
    "predictions_test_cat = cat.predict(features_test)\n",
    "r2_cat = r2_score(predictions_test_cat, target_test)\n",
    "rmse_cat = mean_squared_error(target_test, predictions_test_cat )**0.5\n",
    "print(f'R2 для тестовой выборки {r2_cat}')\n",
    "print(f'R2 для тренировочной выборки {r2_score(predictions_train_cat, target_train)}')\n",
    "print(f'RMSE: {rmse_cat}')"
   ]
  },
  {
   "cell_type": "code",
   "execution_count": 55,
   "id": "7f567b3b",
   "metadata": {},
   "outputs": [],
   "source": [
    "time_cat = 4.83+0.428"
   ]
  },
  {
   "cell_type": "markdown",
   "id": "32003085",
   "metadata": {},
   "source": [
    "### Стандартные модели"
   ]
  },
  {
   "cell_type": "markdown",
   "id": "c577c6eb",
   "metadata": {},
   "source": [
    "#### LR"
   ]
  },
  {
   "cell_type": "code",
   "execution_count": 45,
   "id": "95c86446",
   "metadata": {
    "scrolled": true
   },
   "outputs": [
    {
     "name": "stdout",
     "output_type": "stream",
     "text": [
      "Wall time: 4.22 s\n"
     ]
    },
    {
     "data": {
      "text/plain": [
       "LinearRegression()"
      ]
     },
     "execution_count": 45,
     "metadata": {},
     "output_type": "execute_result"
    }
   ],
   "source": [
    "%%time\n",
    "model_lr = LinearRegression()\n",
    "model_lr.fit(features_train_boosting, target_train)"
   ]
  },
  {
   "cell_type": "code",
   "execution_count": 46,
   "id": "b0a9e10c",
   "metadata": {},
   "outputs": [
    {
     "name": "stdout",
     "output_type": "stream",
     "text": [
      "Wall time: 370 ms\n"
     ]
    }
   ],
   "source": [
    "%%time\n",
    "predictions_train_lr = model_lr.predict(features_train_boosting)"
   ]
  },
  {
   "cell_type": "code",
   "execution_count": 47,
   "id": "7906844f",
   "metadata": {},
   "outputs": [
    {
     "name": "stdout",
     "output_type": "stream",
     "text": [
      "RMSE: 2806.515071502449\n",
      "R2 для тестовой выборки 0.38774628561727054\n",
      "R2 для тренировочной выборки 0.38893832693096964\n"
     ]
    }
   ],
   "source": [
    "predictions_test_lr = model_lr.predict(features_test_boosting)\n",
    "r2_lr = r2_score(predictions_test_lr, target_test)\n",
    "rmse_lr = mean_squared_error(target_test, predictions_test_lr)**0.5\n",
    "print(f'RMSE: {rmse_lr}')\n",
    "print(f'R2 для тестовой выборки {r2_lr}')\n",
    "print(f'R2 для тренировочной выборки {r2_score(predictions_train_lr, target_train)}')"
   ]
  },
  {
   "cell_type": "code",
   "execution_count": 56,
   "id": "841db9f8",
   "metadata": {},
   "outputs": [],
   "source": [
    "time_lr = 4.22 + 0.370"
   ]
  },
  {
   "cell_type": "markdown",
   "id": "a33c7415",
   "metadata": {},
   "source": [
    "#### RF"
   ]
  },
  {
   "cell_type": "markdown",
   "id": "3c1d1e97",
   "metadata": {},
   "source": [
    "> Нижео закоментил, вследствие неприлично долгого времени работы, параметры подобраной модели распечатал ниже."
   ]
  },
  {
   "cell_type": "code",
   "execution_count": 49,
   "id": "09e9f3bf",
   "metadata": {},
   "outputs": [],
   "source": [
    "#%%time\n",
    "#col_transformer_rf = make_column_transformer(\n",
    "#    (\n",
    "#        OneHotEncoder(drop='first', handle_unknown='ignore'),\n",
    "#        ohe_features_rf\n",
    "#    ),\n",
    "#    (\n",
    "#        OrdinalEncoder(handle_unknown='use_encoded_value', unknown_value=-1),\n",
    "#        ['Model']\n",
    "#    ),\n",
    "#    (\n",
    "#        StandardScaler(),\n",
    "#        features_numeric\n",
    "#    ),\n",
    "#    remainder='passthrough'\n",
    "#    )\n",
    "#model_rf = RandomForestRegressor(random_state=12345)\n",
    "#\n",
    "#pipeline_rf = make_pipeline(col_transformer_rf, model_rf)\n",
    "#\n",
    "#param_grid_rf = {\n",
    "#    'randomforestregressor__n_estimators': range(50, 251, 50),\n",
    "#    'randomforestregressor__max_depth': range(2, 15),\n",
    "#    'randomforestregressor__min_samples_split': (2, 3, 4),\n",
    "#    'randomforestregressor__min_samples_leaf': (1, 2, 3, 4)\n",
    "#}\n",
    "#\n",
    "#gs_rf = RandomizedSearchCV(\n",
    "#    pipeline_rf,\n",
    "#    param_distributions=param_grid_rf,\n",
    "#    scoring='neg_root_mean_squared_error',\n",
    "#    n_jobs=-1,\n",
    "#    random_state=12345\n",
    "#)\n",
    "#\n",
    "#gs_rf.fit(features_train_rf, target_train)\n",
    "#\n",
    "#gs_rf_best_score = gs_rf.best_score_ * -1\n",
    "#gs_rf_best_params = gs_rf.best_params_\n",
    "#print(f'best_score: {gs_rf_best_score}')\n",
    "#print(f'best_params: {gs_rf_best_params}')"
   ]
  },
  {
   "cell_type": "code",
   "execution_count": 50,
   "id": "9e33257e",
   "metadata": {},
   "outputs": [],
   "source": [
    "#predictions_test_rf = gs_rf.predict(features_test_rf)\n",
    "#rmse_rf = mean_squared_error(target_test, predictions_test_rf)**0.5\n",
    "#r2_rf = r2_score(predictions_test_rf, target_test)\n",
    "#print(f'RMSE: {rmse_rf}')\n",
    "#print(f'R2 для тестовой выборки {r2_rf}')"
   ]
  },
  {
   "cell_type": "markdown",
   "id": "d64105e1",
   "metadata": {},
   "source": [
    ">best_score: 1716.8904196246592\n",
    ">best_params: {'randomforestregressor__n_estimators': 150, 'randomforestregressor__min_samples_split': 4, >'randomforestregressor__min_samples_leaf': 3, 'randomforestregressor__max_depth': 14}\n",
    ">Wall time: 3h 17min 37s"
   ]
  },
  {
   "cell_type": "code",
   "execution_count": 57,
   "id": "0e8ebad4",
   "metadata": {},
   "outputs": [
    {
     "name": "stdout",
     "output_type": "stream",
     "text": [
      "Wall time: 10min 39s\n"
     ]
    },
    {
     "data": {
      "text/plain": [
       "RandomForestRegressor(max_depth=14, min_samples_leaf=3, min_samples_split=4,\n",
       "                      n_estimators=150)"
      ]
     },
     "execution_count": 57,
     "metadata": {},
     "output_type": "execute_result"
    }
   ],
   "source": [
    "%%time\n",
    "model_rf = RandomForestRegressor(n_estimators=150, min_samples_split=4, min_samples_leaf=3, max_depth=14)\n",
    "model_rf.fit(features_train_boosting, target_train);"
   ]
  },
  {
   "cell_type": "code",
   "execution_count": 80,
   "id": "f9728ff1",
   "metadata": {},
   "outputs": [
    {
     "name": "stdout",
     "output_type": "stream",
     "text": [
      "Wall time: 5.26 s\n"
     ]
    }
   ],
   "source": [
    "%%time\n",
    "predictions_train_rf = model_rf.predict(features_train_boosting)"
   ]
  },
  {
   "cell_type": "code",
   "execution_count": 84,
   "id": "f48cfb89",
   "metadata": {},
   "outputs": [],
   "source": [
    "time_rf = 10 * 60 + 39 + 5.35\n",
    "predictions_test_rf = model_rf.predict(features_test_boosting)\n",
    "rmse_rf = mean_squared_error(target_test, predictions_test_rf)**0.5\n",
    "r2_rf = r2_score(predictions_test_rf, target_test)"
   ]
  },
  {
   "cell_type": "markdown",
   "id": "0bba9423",
   "metadata": {},
   "source": [
    "## Анализ моделей"
   ]
  },
  {
   "cell_type": "code",
   "execution_count": 85,
   "id": "70298bb5",
   "metadata": {},
   "outputs": [],
   "source": [
    "time = [time_lgb, time_cat, time_lr, time_rf]\n",
    "r2 = [r2_lgb, r2_cat, r2_lr, r2_rf]\n",
    "rmse = [rmse_lgb, rmse_cat, rmse_lr, rmse_rf]\n",
    "n = [1, 2, 3, 4]\n",
    "models = ['LightGBM', 'CatBoost', 'LR', 'RF']"
   ]
  },
  {
   "cell_type": "code",
   "execution_count": 86,
   "id": "649c2fa9",
   "metadata": {
    "scrolled": true
   },
   "outputs": [
    {
     "data": {
      "image/png": "[encoded data removed]",
      "text/plain": [
       "<Figure size 1500x700 with 3 Axes>"
      ]
     },
     "metadata": {},
     "output_type": "display_data"
    }
   ],
   "source": [
    "fig, (ax1, ax2, ax3) = plt.subplots(1, 3, figsize=(15, 7))\n",
    "ax1.bar(models, time)\n",
    "ax2.bar(models, r2)\n",
    "ax3.bar(models, rmse)\n",
    "ax1.set_title('Time')\n",
    "ax2.set_title('R2')\n",
    "ax3.set_title('RMSE')\n",
    "ax1.text(2.7, 650, time_rf)\n",
    "ax1.text(-0.5, 20, time_cat)\n",
    "ax1.text(0.5, 20, time_lr)\n",
    "ax1.text(1.5, 20, time_lgb);"
   ]
  },
  {
   "cell_type": "markdown",
   "id": "4711379a",
   "metadata": {},
   "source": [
    "Анализ показал следующие достоинства и недостатки моделей:\n",
    "- технология LightGBM градиентного бустинга\n",
    "    - быстрая скорость работы\n",
    "    - хорошие метрики качества модели\n",
    "    - данные необходимо готовить вручную (кодирование, масштабирование)\n",
    "- технология CatBoost градиентного бустинга\n",
    "    - быстрая скорость работы\n",
    "    - лучшие метрики качества модели\n",
    "    - простота\n",
    "    - данные можно \"скармливать\" модели в \"сыром виде\", кодирование категориальных признаков и масштабирование выполняется моделью\n",
    "- Линейная регрессия\n",
    "    - быстрая скорость работы\n",
    "    - простота\n",
    "    - неудовлетворительные метрики качества\n",
    "- Случайные лес\n",
    "    - хорошие метрики качества\n",
    "    - очень долгое время затрачивается на подбор модели\n",
    "    - кодирование и масштабирование признаков в ручном режиме"
   ]
  }
 ],
 "metadata": {
  "ExecuteTimeLog": [
   {
    "duration": 1734,
    "start_time": "2022-12-26T18:00:20.879Z"
   },
   {
    "duration": 3057,
    "start_time": "2022-12-26T18:00:23.861Z"
   },
   {
    "duration": 834,
    "start_time": "2022-12-26T18:06:50.028Z"
   },
   {
    "duration": 12,
    "start_time": "2022-12-26T18:06:59.115Z"
   },
   {
    "duration": 22,
    "start_time": "2022-12-26T18:07:00.351Z"
   },
   {
    "duration": 67,
    "start_time": "2022-12-26T18:07:02.024Z"
   },
   {
    "duration": 264,
    "start_time": "2022-12-26T18:07:03.104Z"
   },
   {
    "duration": 515,
    "start_time": "2022-12-26T18:07:12.642Z"
   },
   {
    "duration": 3,
    "start_time": "2022-12-26T18:07:17.565Z"
   },
   {
    "duration": 214,
    "start_time": "2022-12-26T18:07:18.434Z"
   },
   {
    "duration": 124,
    "start_time": "2022-12-26T18:07:25.907Z"
   },
   {
    "duration": 13,
    "start_time": "2022-12-26T18:07:38.264Z"
   },
   {
    "duration": 4,
    "start_time": "2022-12-26T18:07:46.007Z"
   },
   {
    "duration": 730,
    "start_time": "2022-12-26T18:07:46.156Z"
   },
   {
    "duration": 14,
    "start_time": "2022-12-26T18:07:46.888Z"
   },
   {
    "duration": 47,
    "start_time": "2022-12-26T18:07:46.904Z"
   },
   {
    "duration": 69,
    "start_time": "2022-12-26T18:07:48.616Z"
   },
   {
    "duration": 339,
    "start_time": "2022-12-26T18:07:48.884Z"
   },
   {
    "duration": 515,
    "start_time": "2022-12-26T18:07:50.535Z"
   },
   {
    "duration": 5,
    "start_time": "2022-12-26T18:07:52.999Z"
   },
   {
    "duration": 250,
    "start_time": "2022-12-26T18:07:53.784Z"
   },
   {
    "duration": 15,
    "start_time": "2022-12-26T18:07:55.575Z"
   },
   {
    "duration": 11,
    "start_time": "2022-12-26T18:08:19.043Z"
   },
   {
    "duration": 13,
    "start_time": "2022-12-26T18:09:29.115Z"
   },
   {
    "duration": 13,
    "start_time": "2022-12-26T18:09:56.686Z"
   },
   {
    "duration": 46,
    "start_time": "2022-12-26T18:10:47.356Z"
   },
   {
    "duration": 58,
    "start_time": "2022-12-26T18:10:55.755Z"
   },
   {
    "duration": 37,
    "start_time": "2022-12-26T18:11:39.321Z"
   },
   {
    "duration": 410,
    "start_time": "2022-12-26T18:11:40.074Z"
   },
   {
    "duration": 1147,
    "start_time": "2022-12-26T18:11:41.477Z"
   },
   {
    "duration": 29,
    "start_time": "2022-12-26T18:12:12.707Z"
   },
   {
    "duration": 591,
    "start_time": "2022-12-26T18:12:13.520Z"
   },
   {
    "duration": 34,
    "start_time": "2022-12-26T18:13:04.038Z"
   },
   {
    "duration": 7,
    "start_time": "2022-12-26T19:23:40.331Z"
   },
   {
    "duration": 18,
    "start_time": "2022-12-26T19:24:19.756Z"
   },
   {
    "duration": 4,
    "start_time": "2022-12-26T19:24:59.020Z"
   },
   {
    "duration": 681,
    "start_time": "2022-12-26T19:24:59.200Z"
   },
   {
    "duration": 14,
    "start_time": "2022-12-26T19:24:59.883Z"
   },
   {
    "duration": 15,
    "start_time": "2022-12-26T19:25:00.227Z"
   },
   {
    "duration": 74,
    "start_time": "2022-12-26T19:25:01.060Z"
   },
   {
    "duration": 311,
    "start_time": "2022-12-26T19:25:01.753Z"
   },
   {
    "duration": 491,
    "start_time": "2022-12-26T19:25:03.309Z"
   },
   {
    "duration": 5,
    "start_time": "2022-12-26T19:25:04.121Z"
   },
   {
    "duration": 214,
    "start_time": "2022-12-26T19:25:04.692Z"
   },
   {
    "duration": 35,
    "start_time": "2022-12-26T19:25:05.443Z"
   },
   {
    "duration": 2,
    "start_time": "2022-12-26T19:25:08.265Z"
   },
   {
    "duration": 1076,
    "start_time": "2022-12-26T19:25:10.362Z"
   },
   {
    "duration": 3,
    "start_time": "2022-12-26T19:25:18.647Z"
   },
   {
    "duration": 546,
    "start_time": "2022-12-26T19:25:19.542Z"
   },
   {
    "duration": 40,
    "start_time": "2022-12-26T19:25:39.371Z"
   },
   {
    "duration": 4,
    "start_time": "2022-12-26T19:26:00.913Z"
   },
   {
    "duration": 738,
    "start_time": "2022-12-26T19:26:01.030Z"
   },
   {
    "duration": 16,
    "start_time": "2022-12-26T19:26:01.769Z"
   },
   {
    "duration": 21,
    "start_time": "2022-12-26T19:26:01.786Z"
   },
   {
    "duration": 70,
    "start_time": "2022-12-26T19:26:02.109Z"
   },
   {
    "duration": 247,
    "start_time": "2022-12-26T19:26:02.261Z"
   },
   {
    "duration": 484,
    "start_time": "2022-12-26T19:26:02.710Z"
   },
   {
    "duration": 3,
    "start_time": "2022-12-26T19:26:03.221Z"
   },
   {
    "duration": 222,
    "start_time": "2022-12-26T19:26:03.430Z"
   },
   {
    "duration": 36,
    "start_time": "2022-12-26T19:26:03.882Z"
   },
   {
    "duration": 2,
    "start_time": "2022-12-26T19:26:04.124Z"
   },
   {
    "duration": 1017,
    "start_time": "2022-12-26T19:26:04.333Z"
   },
   {
    "duration": 2,
    "start_time": "2022-12-26T19:26:05.352Z"
   },
   {
    "duration": 549,
    "start_time": "2022-12-26T19:26:05.356Z"
   },
   {
    "duration": 40,
    "start_time": "2022-12-26T19:26:06.252Z"
   },
   {
    "duration": 20,
    "start_time": "2022-12-26T19:26:13.029Z"
   },
   {
    "duration": 15,
    "start_time": "2022-12-26T19:26:13.870Z"
   },
   {
    "duration": 7,
    "start_time": "2022-12-26T19:26:18.973Z"
   },
   {
    "duration": 27,
    "start_time": "2022-12-26T19:26:21.642Z"
   },
   {
    "duration": 17,
    "start_time": "2022-12-26T19:26:22.812Z"
   },
   {
    "duration": 40,
    "start_time": "2022-12-26T19:26:23.773Z"
   },
   {
    "duration": 145,
    "start_time": "2022-12-26T19:26:26.711Z"
   },
   {
    "duration": 5,
    "start_time": "2022-12-26T19:26:31.871Z"
   },
   {
    "duration": 53,
    "start_time": "2022-12-26T19:26:32.651Z"
   },
   {
    "duration": 67,
    "start_time": "2022-12-26T19:26:35.051Z"
   },
   {
    "duration": 196,
    "start_time": "2022-12-26T19:26:39.494Z"
   },
   {
    "duration": 3,
    "start_time": "2022-12-26T19:26:40.332Z"
   },
   {
    "duration": 15,
    "start_time": "2022-12-26T19:27:00.853Z"
   },
   {
    "duration": 10,
    "start_time": "2022-12-26T19:27:05.506Z"
   },
   {
    "duration": 73,
    "start_time": "2022-12-26T19:27:50.022Z"
   },
   {
    "duration": 8,
    "start_time": "2022-12-26T19:27:50.232Z"
   },
   {
    "duration": 13,
    "start_time": "2022-12-26T19:27:50.416Z"
   },
   {
    "duration": 25,
    "start_time": "2022-12-26T19:27:50.622Z"
   },
   {
    "duration": 14,
    "start_time": "2022-12-26T19:27:50.848Z"
   },
   {
    "duration": 22,
    "start_time": "2022-12-26T19:27:51.012Z"
   },
   {
    "duration": 17,
    "start_time": "2022-12-26T19:27:51.251Z"
   },
   {
    "duration": 1379,
    "start_time": "2022-12-26T19:28:46.877Z"
   },
   {
    "duration": 787,
    "start_time": "2022-12-26T19:28:48.258Z"
   },
   {
    "duration": 17,
    "start_time": "2022-12-26T19:28:49.047Z"
   },
   {
    "duration": 38,
    "start_time": "2022-12-26T19:28:49.066Z"
   },
   {
    "duration": 93,
    "start_time": "2022-12-26T19:28:49.107Z"
   },
   {
    "duration": 306,
    "start_time": "2022-12-26T19:28:49.202Z"
   },
   {
    "duration": 536,
    "start_time": "2022-12-26T19:28:49.509Z"
   },
   {
    "duration": 4,
    "start_time": "2022-12-26T19:28:50.047Z"
   },
   {
    "duration": 319,
    "start_time": "2022-12-26T19:28:50.053Z"
   },
   {
    "duration": 47,
    "start_time": "2022-12-26T19:28:50.377Z"
   },
   {
    "duration": 2,
    "start_time": "2022-12-26T19:28:50.426Z"
   },
   {
    "duration": 1072,
    "start_time": "2022-12-26T19:28:50.429Z"
   },
   {
    "duration": 3,
    "start_time": "2022-12-26T19:28:51.503Z"
   },
   {
    "duration": 658,
    "start_time": "2022-12-26T19:28:51.510Z"
   },
   {
    "duration": 46,
    "start_time": "2022-12-26T19:28:52.170Z"
   },
   {
    "duration": 20,
    "start_time": "2022-12-26T19:28:52.218Z"
   },
   {
    "duration": 43,
    "start_time": "2022-12-26T19:28:52.239Z"
   },
   {
    "duration": 8,
    "start_time": "2022-12-26T19:28:52.284Z"
   },
   {
    "duration": 29,
    "start_time": "2022-12-26T19:28:52.293Z"
   },
   {
    "duration": 20,
    "start_time": "2022-12-26T19:28:52.324Z"
   },
   {
    "duration": 71,
    "start_time": "2022-12-26T19:28:52.346Z"
   },
   {
    "duration": 174,
    "start_time": "2022-12-26T19:28:52.419Z"
   },
   {
    "duration": 5,
    "start_time": "2022-12-26T19:28:52.596Z"
   },
   {
    "duration": 88,
    "start_time": "2022-12-26T19:28:52.603Z"
   },
   {
    "duration": 60,
    "start_time": "2022-12-26T19:28:52.693Z"
   },
   {
    "duration": 242,
    "start_time": "2022-12-26T19:28:52.755Z"
   },
   {
    "duration": 3,
    "start_time": "2022-12-26T19:28:52.999Z"
   },
   {
    "duration": 14,
    "start_time": "2022-12-26T19:28:53.004Z"
   },
   {
    "duration": 116,
    "start_time": "2022-12-26T19:28:53.020Z"
   },
   {
    "duration": 10,
    "start_time": "2022-12-26T19:28:53.138Z"
   },
   {
    "duration": 30,
    "start_time": "2022-12-26T19:28:53.151Z"
   },
   {
    "duration": 26,
    "start_time": "2022-12-26T19:28:53.183Z"
   },
   {
    "duration": 20,
    "start_time": "2022-12-26T19:28:53.211Z"
   },
   {
    "duration": 133,
    "start_time": "2022-12-26T19:28:53.233Z"
   },
   {
    "duration": 0,
    "start_time": "2022-12-26T19:28:53.368Z"
   },
   {
    "duration": 0,
    "start_time": "2022-12-26T19:28:53.370Z"
   },
   {
    "duration": 0,
    "start_time": "2022-12-26T19:28:53.370Z"
   },
   {
    "duration": 0,
    "start_time": "2022-12-26T19:28:53.372Z"
   },
   {
    "duration": 0,
    "start_time": "2022-12-26T19:28:53.378Z"
   },
   {
    "duration": 0,
    "start_time": "2022-12-26T19:28:53.379Z"
   },
   {
    "duration": 0,
    "start_time": "2022-12-26T19:28:53.380Z"
   },
   {
    "duration": 0,
    "start_time": "2022-12-26T19:28:53.381Z"
   },
   {
    "duration": 0,
    "start_time": "2022-12-26T19:28:53.382Z"
   },
   {
    "duration": 0,
    "start_time": "2022-12-26T19:28:53.384Z"
   },
   {
    "duration": 0,
    "start_time": "2022-12-26T19:28:53.384Z"
   },
   {
    "duration": 0,
    "start_time": "2022-12-26T19:28:53.386Z"
   },
   {
    "duration": 0,
    "start_time": "2022-12-26T19:28:53.387Z"
   },
   {
    "duration": 920,
    "start_time": "2022-12-26T19:29:18.435Z"
   }
  ],
  "kernelspec": {
   "display_name": "Python 3 (ipykernel)",
   "language": "python",
   "name": "python3"
  },
  "language_info": {
   "codemirror_mode": {
    "name": "ipython",
    "version": 3
   },
   "file_extension": ".py",
   "mimetype": "text/x-python",
   "name": "python",
   "nbconvert_exporter": "python",
   "pygments_lexer": "ipython3",
   "version": "3.10.9"
  },
  "toc": {
   "base_numbering": 1,
   "nav_menu": {},
   "number_sections": true,
   "sideBar": true,
   "skip_h1_title": true,
   "title_cell": "Table of Contents",
   "title_sidebar": "Contents",
   "toc_cell": false,
   "toc_position": {},
   "toc_section_display": true,
   "toc_window_display": false
  }
 },
 "nbformat": 4,
 "nbformat_minor": 5
}
