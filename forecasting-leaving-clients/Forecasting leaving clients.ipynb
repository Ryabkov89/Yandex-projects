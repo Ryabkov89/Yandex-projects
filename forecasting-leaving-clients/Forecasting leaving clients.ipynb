{
 "cells": [
  {
   "cell_type": "markdown",
   "metadata": {},
   "source": [
    "# Отток клиентов"
   ]
  },
  {
   "cell_type": "markdown",
   "metadata": {},
   "source": [
    "Из банка стали уходить клиенты. Каждый месяц. Немного, но заметно. Банковские маркетологи посчитали: сохранять текущих клиентов дешевле, чем привлекать новых.\n",
    "Нужно спрогнозировать, уйдёт клиент из банка в ближайшее время или нет. Предоставлены исторические данные о поведении клиентов и расторжении договоров с банком.\n",
    "\n",
    "Источник данных: [https://www.kaggle.com/barelydedicated/bank-customer-churn-modeling](https://www.kaggle.com/barelydedicated/bank-customer-churn-modeling)"
   ]
  },
  {
   "cell_type": "markdown",
   "metadata": {},
   "source": [
    "## Подготовка данных"
   ]
  },
  {
   "cell_type": "code",
   "execution_count": 1,
   "metadata": {},
   "outputs": [],
   "source": [
    "import pandas as pd\n",
    "from sklearn.preprocessing import StandardScaler\n",
    "from sklearn.model_selection import train_test_split\n",
    "from sklearn.tree import DecisionTreeClassifier\n",
    "from sklearn.metrics import accuracy_score\n",
    "import matplotlib.pyplot as plt\n",
    "from sklearn.ensemble import RandomForestClassifier\n",
    "from sklearn.linear_model import LogisticRegression\n",
    "from sklearn.metrics import confusion_matrix\n",
    "from sklearn.metrics import precision_score\n",
    "from sklearn.metrics import recall_score\n",
    "from sklearn.metrics import f1_score\n",
    "import numpy as np\n",
    "from sklearn.utils import shuffle\n",
    "from sklearn.metrics import precision_recall_curve\n",
    "from sklearn.metrics import roc_curve \n",
    "from sklearn.metrics import roc_auc_score"
   ]
  },
  {
   "cell_type": "code",
   "execution_count": 2,
   "metadata": {},
   "outputs": [
    {
     "name": "stdout",
     "output_type": "stream",
     "text": [
      "<class 'pandas.core.frame.DataFrame'>\n",
      "RangeIndex: 10000 entries, 0 to 9999\n",
      "Data columns (total 14 columns):\n",
      " #   Column           Non-Null Count  Dtype  \n",
      "---  ------           --------------  -----  \n",
      " 0   RowNumber        10000 non-null  int64  \n",
      " 1   CustomerId       10000 non-null  int64  \n",
      " 2   Surname          10000 non-null  object \n",
      " 3   CreditScore      10000 non-null  int64  \n",
      " 4   Geography        10000 non-null  object \n",
      " 5   Gender           10000 non-null  object \n",
      " 6   Age              10000 non-null  int64  \n",
      " 7   Tenure           9091 non-null   float64\n",
      " 8   Balance          10000 non-null  float64\n",
      " 9   NumOfProducts    10000 non-null  int64  \n",
      " 10  HasCrCard        10000 non-null  int64  \n",
      " 11  IsActiveMember   10000 non-null  int64  \n",
      " 12  EstimatedSalary  10000 non-null  float64\n",
      " 13  Exited           10000 non-null  int64  \n",
      "dtypes: float64(3), int64(8), object(3)\n",
      "memory usage: 1.1+ MB\n"
     ]
    }
   ],
   "source": [
    "data = pd.read_csv('/datasets/Churn.csv')\n",
    "data.info()"
   ]
  },
  {
   "cell_type": "code",
   "execution_count": 3,
   "metadata": {},
   "outputs": [
    {
     "data": {
      "text/html": [
       "<div>\n",
       "<style scoped>\n",
       "    .dataframe tbody tr th:only-of-type {\n",
       "        vertical-align: middle;\n",
       "    }\n",
       "\n",
       "    .dataframe tbody tr th {\n",
       "        vertical-align: top;\n",
       "    }\n",
       "\n",
       "    .dataframe thead th {\n",
       "        text-align: right;\n",
       "    }\n",
       "</style>\n",
       "<table border=\"1\" class=\"dataframe\">\n",
       "  <thead>\n",
       "    <tr style=\"text-align: right;\">\n",
       "      <th></th>\n",
       "      <th>RowNumber</th>\n",
       "      <th>CustomerId</th>\n",
       "      <th>Surname</th>\n",
       "      <th>CreditScore</th>\n",
       "      <th>Geography</th>\n",
       "      <th>Gender</th>\n",
       "      <th>Age</th>\n",
       "      <th>Tenure</th>\n",
       "      <th>Balance</th>\n",
       "      <th>NumOfProducts</th>\n",
       "      <th>HasCrCard</th>\n",
       "      <th>IsActiveMember</th>\n",
       "      <th>EstimatedSalary</th>\n",
       "      <th>Exited</th>\n",
       "    </tr>\n",
       "  </thead>\n",
       "  <tbody>\n",
       "    <tr>\n",
       "      <th>0</th>\n",
       "      <td>1</td>\n",
       "      <td>15634602</td>\n",
       "      <td>Hargrave</td>\n",
       "      <td>619</td>\n",
       "      <td>France</td>\n",
       "      <td>Female</td>\n",
       "      <td>42</td>\n",
       "      <td>2.0</td>\n",
       "      <td>0.00</td>\n",
       "      <td>1</td>\n",
       "      <td>1</td>\n",
       "      <td>1</td>\n",
       "      <td>101348.88</td>\n",
       "      <td>1</td>\n",
       "    </tr>\n",
       "    <tr>\n",
       "      <th>1</th>\n",
       "      <td>2</td>\n",
       "      <td>15647311</td>\n",
       "      <td>Hill</td>\n",
       "      <td>608</td>\n",
       "      <td>Spain</td>\n",
       "      <td>Female</td>\n",
       "      <td>41</td>\n",
       "      <td>1.0</td>\n",
       "      <td>83807.86</td>\n",
       "      <td>1</td>\n",
       "      <td>0</td>\n",
       "      <td>1</td>\n",
       "      <td>112542.58</td>\n",
       "      <td>0</td>\n",
       "    </tr>\n",
       "    <tr>\n",
       "      <th>2</th>\n",
       "      <td>3</td>\n",
       "      <td>15619304</td>\n",
       "      <td>Onio</td>\n",
       "      <td>502</td>\n",
       "      <td>France</td>\n",
       "      <td>Female</td>\n",
       "      <td>42</td>\n",
       "      <td>8.0</td>\n",
       "      <td>159660.80</td>\n",
       "      <td>3</td>\n",
       "      <td>1</td>\n",
       "      <td>0</td>\n",
       "      <td>113931.57</td>\n",
       "      <td>1</td>\n",
       "    </tr>\n",
       "    <tr>\n",
       "      <th>3</th>\n",
       "      <td>4</td>\n",
       "      <td>15701354</td>\n",
       "      <td>Boni</td>\n",
       "      <td>699</td>\n",
       "      <td>France</td>\n",
       "      <td>Female</td>\n",
       "      <td>39</td>\n",
       "      <td>1.0</td>\n",
       "      <td>0.00</td>\n",
       "      <td>2</td>\n",
       "      <td>0</td>\n",
       "      <td>0</td>\n",
       "      <td>93826.63</td>\n",
       "      <td>0</td>\n",
       "    </tr>\n",
       "    <tr>\n",
       "      <th>4</th>\n",
       "      <td>5</td>\n",
       "      <td>15737888</td>\n",
       "      <td>Mitchell</td>\n",
       "      <td>850</td>\n",
       "      <td>Spain</td>\n",
       "      <td>Female</td>\n",
       "      <td>43</td>\n",
       "      <td>2.0</td>\n",
       "      <td>125510.82</td>\n",
       "      <td>1</td>\n",
       "      <td>1</td>\n",
       "      <td>1</td>\n",
       "      <td>79084.10</td>\n",
       "      <td>0</td>\n",
       "    </tr>\n",
       "    <tr>\n",
       "      <th>5</th>\n",
       "      <td>6</td>\n",
       "      <td>15574012</td>\n",
       "      <td>Chu</td>\n",
       "      <td>645</td>\n",
       "      <td>Spain</td>\n",
       "      <td>Male</td>\n",
       "      <td>44</td>\n",
       "      <td>8.0</td>\n",
       "      <td>113755.78</td>\n",
       "      <td>2</td>\n",
       "      <td>1</td>\n",
       "      <td>0</td>\n",
       "      <td>149756.71</td>\n",
       "      <td>1</td>\n",
       "    </tr>\n",
       "    <tr>\n",
       "      <th>6</th>\n",
       "      <td>7</td>\n",
       "      <td>15592531</td>\n",
       "      <td>Bartlett</td>\n",
       "      <td>822</td>\n",
       "      <td>France</td>\n",
       "      <td>Male</td>\n",
       "      <td>50</td>\n",
       "      <td>7.0</td>\n",
       "      <td>0.00</td>\n",
       "      <td>2</td>\n",
       "      <td>1</td>\n",
       "      <td>1</td>\n",
       "      <td>10062.80</td>\n",
       "      <td>0</td>\n",
       "    </tr>\n",
       "    <tr>\n",
       "      <th>7</th>\n",
       "      <td>8</td>\n",
       "      <td>15656148</td>\n",
       "      <td>Obinna</td>\n",
       "      <td>376</td>\n",
       "      <td>Germany</td>\n",
       "      <td>Female</td>\n",
       "      <td>29</td>\n",
       "      <td>4.0</td>\n",
       "      <td>115046.74</td>\n",
       "      <td>4</td>\n",
       "      <td>1</td>\n",
       "      <td>0</td>\n",
       "      <td>119346.88</td>\n",
       "      <td>1</td>\n",
       "    </tr>\n",
       "    <tr>\n",
       "      <th>8</th>\n",
       "      <td>9</td>\n",
       "      <td>15792365</td>\n",
       "      <td>He</td>\n",
       "      <td>501</td>\n",
       "      <td>France</td>\n",
       "      <td>Male</td>\n",
       "      <td>44</td>\n",
       "      <td>4.0</td>\n",
       "      <td>142051.07</td>\n",
       "      <td>2</td>\n",
       "      <td>0</td>\n",
       "      <td>1</td>\n",
       "      <td>74940.50</td>\n",
       "      <td>0</td>\n",
       "    </tr>\n",
       "    <tr>\n",
       "      <th>9</th>\n",
       "      <td>10</td>\n",
       "      <td>15592389</td>\n",
       "      <td>H?</td>\n",
       "      <td>684</td>\n",
       "      <td>France</td>\n",
       "      <td>Male</td>\n",
       "      <td>27</td>\n",
       "      <td>2.0</td>\n",
       "      <td>134603.88</td>\n",
       "      <td>1</td>\n",
       "      <td>1</td>\n",
       "      <td>1</td>\n",
       "      <td>71725.73</td>\n",
       "      <td>0</td>\n",
       "    </tr>\n",
       "  </tbody>\n",
       "</table>\n",
       "</div>"
      ],
      "text/plain": [
       "   RowNumber  CustomerId   Surname  CreditScore Geography  Gender  Age  \\\n",
       "0          1    15634602  Hargrave          619    France  Female   42   \n",
       "1          2    15647311      Hill          608     Spain  Female   41   \n",
       "2          3    15619304      Onio          502    France  Female   42   \n",
       "3          4    15701354      Boni          699    France  Female   39   \n",
       "4          5    15737888  Mitchell          850     Spain  Female   43   \n",
       "5          6    15574012       Chu          645     Spain    Male   44   \n",
       "6          7    15592531  Bartlett          822    France    Male   50   \n",
       "7          8    15656148    Obinna          376   Germany  Female   29   \n",
       "8          9    15792365        He          501    France    Male   44   \n",
       "9         10    15592389        H?          684    France    Male   27   \n",
       "\n",
       "   Tenure    Balance  NumOfProducts  HasCrCard  IsActiveMember  \\\n",
       "0     2.0       0.00              1          1               1   \n",
       "1     1.0   83807.86              1          0               1   \n",
       "2     8.0  159660.80              3          1               0   \n",
       "3     1.0       0.00              2          0               0   \n",
       "4     2.0  125510.82              1          1               1   \n",
       "5     8.0  113755.78              2          1               0   \n",
       "6     7.0       0.00              2          1               1   \n",
       "7     4.0  115046.74              4          1               0   \n",
       "8     4.0  142051.07              2          0               1   \n",
       "9     2.0  134603.88              1          1               1   \n",
       "\n",
       "   EstimatedSalary  Exited  \n",
       "0        101348.88       1  \n",
       "1        112542.58       0  \n",
       "2        113931.57       1  \n",
       "3         93826.63       0  \n",
       "4         79084.10       0  \n",
       "5        149756.71       1  \n",
       "6         10062.80       0  \n",
       "7        119346.88       1  \n",
       "8         74940.50       0  \n",
       "9         71725.73       0  "
      ]
     },
     "execution_count": 3,
     "metadata": {},
     "output_type": "execute_result"
    }
   ],
   "source": [
    "data.head(10)"
   ]
  },
  {
   "cell_type": "code",
   "execution_count": 4,
   "metadata": {},
   "outputs": [],
   "source": [
    "#удалим столбцы с номерами строк, идентификатором и фамилией, т.к. эти данные не могут влиять на принятие человеком решений.\n",
    "data = data.drop(['RowNumber', 'CustomerId', 'Surname',], axis=1)"
   ]
  },
  {
   "cell_type": "code",
   "execution_count": 5,
   "metadata": {
    "scrolled": true
   },
   "outputs": [
    {
     "data": {
      "text/html": [
       "<div>\n",
       "<style scoped>\n",
       "    .dataframe tbody tr th:only-of-type {\n",
       "        vertical-align: middle;\n",
       "    }\n",
       "\n",
       "    .dataframe tbody tr th {\n",
       "        vertical-align: top;\n",
       "    }\n",
       "\n",
       "    .dataframe thead th {\n",
       "        text-align: right;\n",
       "    }\n",
       "</style>\n",
       "<table border=\"1\" class=\"dataframe\">\n",
       "  <thead>\n",
       "    <tr style=\"text-align: right;\">\n",
       "      <th></th>\n",
       "      <th>CreditScore</th>\n",
       "      <th>Geography</th>\n",
       "      <th>Gender</th>\n",
       "      <th>Age</th>\n",
       "      <th>Tenure</th>\n",
       "      <th>Balance</th>\n",
       "      <th>NumOfProducts</th>\n",
       "      <th>HasCrCard</th>\n",
       "      <th>IsActiveMember</th>\n",
       "      <th>EstimatedSalary</th>\n",
       "      <th>Exited</th>\n",
       "    </tr>\n",
       "  </thead>\n",
       "  <tbody>\n",
       "    <tr>\n",
       "      <th>30</th>\n",
       "      <td>591</td>\n",
       "      <td>Spain</td>\n",
       "      <td>Female</td>\n",
       "      <td>39</td>\n",
       "      <td>NaN</td>\n",
       "      <td>0.00</td>\n",
       "      <td>3</td>\n",
       "      <td>1</td>\n",
       "      <td>0</td>\n",
       "      <td>140469.38</td>\n",
       "      <td>1</td>\n",
       "    </tr>\n",
       "    <tr>\n",
       "      <th>48</th>\n",
       "      <td>550</td>\n",
       "      <td>Germany</td>\n",
       "      <td>Male</td>\n",
       "      <td>38</td>\n",
       "      <td>NaN</td>\n",
       "      <td>103391.38</td>\n",
       "      <td>1</td>\n",
       "      <td>0</td>\n",
       "      <td>1</td>\n",
       "      <td>90878.13</td>\n",
       "      <td>0</td>\n",
       "    </tr>\n",
       "    <tr>\n",
       "      <th>51</th>\n",
       "      <td>585</td>\n",
       "      <td>Germany</td>\n",
       "      <td>Male</td>\n",
       "      <td>36</td>\n",
       "      <td>NaN</td>\n",
       "      <td>146050.97</td>\n",
       "      <td>2</td>\n",
       "      <td>0</td>\n",
       "      <td>0</td>\n",
       "      <td>86424.57</td>\n",
       "      <td>0</td>\n",
       "    </tr>\n",
       "    <tr>\n",
       "      <th>53</th>\n",
       "      <td>655</td>\n",
       "      <td>Germany</td>\n",
       "      <td>Male</td>\n",
       "      <td>41</td>\n",
       "      <td>NaN</td>\n",
       "      <td>125561.97</td>\n",
       "      <td>1</td>\n",
       "      <td>0</td>\n",
       "      <td>0</td>\n",
       "      <td>164040.94</td>\n",
       "      <td>1</td>\n",
       "    </tr>\n",
       "    <tr>\n",
       "      <th>60</th>\n",
       "      <td>742</td>\n",
       "      <td>Germany</td>\n",
       "      <td>Male</td>\n",
       "      <td>35</td>\n",
       "      <td>NaN</td>\n",
       "      <td>136857.00</td>\n",
       "      <td>1</td>\n",
       "      <td>0</td>\n",
       "      <td>0</td>\n",
       "      <td>84509.57</td>\n",
       "      <td>0</td>\n",
       "    </tr>\n",
       "    <tr>\n",
       "      <th>...</th>\n",
       "      <td>...</td>\n",
       "      <td>...</td>\n",
       "      <td>...</td>\n",
       "      <td>...</td>\n",
       "      <td>...</td>\n",
       "      <td>...</td>\n",
       "      <td>...</td>\n",
       "      <td>...</td>\n",
       "      <td>...</td>\n",
       "      <td>...</td>\n",
       "      <td>...</td>\n",
       "    </tr>\n",
       "    <tr>\n",
       "      <th>9944</th>\n",
       "      <td>744</td>\n",
       "      <td>Germany</td>\n",
       "      <td>Male</td>\n",
       "      <td>41</td>\n",
       "      <td>NaN</td>\n",
       "      <td>190409.34</td>\n",
       "      <td>2</td>\n",
       "      <td>1</td>\n",
       "      <td>1</td>\n",
       "      <td>138361.48</td>\n",
       "      <td>0</td>\n",
       "    </tr>\n",
       "    <tr>\n",
       "      <th>9956</th>\n",
       "      <td>520</td>\n",
       "      <td>France</td>\n",
       "      <td>Female</td>\n",
       "      <td>46</td>\n",
       "      <td>NaN</td>\n",
       "      <td>85216.61</td>\n",
       "      <td>1</td>\n",
       "      <td>1</td>\n",
       "      <td>0</td>\n",
       "      <td>117369.52</td>\n",
       "      <td>1</td>\n",
       "    </tr>\n",
       "    <tr>\n",
       "      <th>9964</th>\n",
       "      <td>479</td>\n",
       "      <td>France</td>\n",
       "      <td>Male</td>\n",
       "      <td>34</td>\n",
       "      <td>NaN</td>\n",
       "      <td>117593.48</td>\n",
       "      <td>2</td>\n",
       "      <td>0</td>\n",
       "      <td>0</td>\n",
       "      <td>113308.29</td>\n",
       "      <td>0</td>\n",
       "    </tr>\n",
       "    <tr>\n",
       "      <th>9985</th>\n",
       "      <td>659</td>\n",
       "      <td>France</td>\n",
       "      <td>Male</td>\n",
       "      <td>36</td>\n",
       "      <td>NaN</td>\n",
       "      <td>123841.49</td>\n",
       "      <td>2</td>\n",
       "      <td>1</td>\n",
       "      <td>0</td>\n",
       "      <td>96833.00</td>\n",
       "      <td>0</td>\n",
       "    </tr>\n",
       "    <tr>\n",
       "      <th>9999</th>\n",
       "      <td>792</td>\n",
       "      <td>France</td>\n",
       "      <td>Female</td>\n",
       "      <td>28</td>\n",
       "      <td>NaN</td>\n",
       "      <td>130142.79</td>\n",
       "      <td>1</td>\n",
       "      <td>1</td>\n",
       "      <td>0</td>\n",
       "      <td>38190.78</td>\n",
       "      <td>0</td>\n",
       "    </tr>\n",
       "  </tbody>\n",
       "</table>\n",
       "<p>909 rows × 11 columns</p>\n",
       "</div>"
      ],
      "text/plain": [
       "      CreditScore Geography  Gender  Age  Tenure    Balance  NumOfProducts  \\\n",
       "30            591     Spain  Female   39     NaN       0.00              3   \n",
       "48            550   Germany    Male   38     NaN  103391.38              1   \n",
       "51            585   Germany    Male   36     NaN  146050.97              2   \n",
       "53            655   Germany    Male   41     NaN  125561.97              1   \n",
       "60            742   Germany    Male   35     NaN  136857.00              1   \n",
       "...           ...       ...     ...  ...     ...        ...            ...   \n",
       "9944          744   Germany    Male   41     NaN  190409.34              2   \n",
       "9956          520    France  Female   46     NaN   85216.61              1   \n",
       "9964          479    France    Male   34     NaN  117593.48              2   \n",
       "9985          659    France    Male   36     NaN  123841.49              2   \n",
       "9999          792    France  Female   28     NaN  130142.79              1   \n",
       "\n",
       "      HasCrCard  IsActiveMember  EstimatedSalary  Exited  \n",
       "30            1               0        140469.38       1  \n",
       "48            0               1         90878.13       0  \n",
       "51            0               0         86424.57       0  \n",
       "53            0               0        164040.94       1  \n",
       "60            0               0         84509.57       0  \n",
       "...         ...             ...              ...     ...  \n",
       "9944          1               1        138361.48       0  \n",
       "9956          1               0        117369.52       1  \n",
       "9964          0               0        113308.29       0  \n",
       "9985          1               0         96833.00       0  \n",
       "9999          1               0         38190.78       0  \n",
       "\n",
       "[909 rows x 11 columns]"
      ]
     },
     "execution_count": 5,
     "metadata": {},
     "output_type": "execute_result"
    }
   ],
   "source": [
    "data.loc[data['Tenure'].isna()]\n",
    "#Пропуски выглядят абсолютно случайными, заполнять их каким-либо значением не вижу смысла, данные в этом столбце \n",
    "# распределены равномерно, ни данные, ни модель от этого не выиграют"
   ]
  },
  {
   "cell_type": "code",
   "execution_count": 6,
   "metadata": {},
   "outputs": [
    {
     "data": {
      "image/png": "[encoded data removed]",
      "text/plain": [
       "<Figure size 864x360 with 1 Axes>"
      ]
     },
     "metadata": {
      "needs_background": "light"
     },
     "output_type": "display_data"
    }
   ],
   "source": [
    "data['Tenure'].value_counts().sort_index().plot(kind='bar', figsize=(12, 5));"
   ]
  },
  {
   "cell_type": "code",
   "execution_count": 7,
   "metadata": {},
   "outputs": [
    {
     "data": {
      "text/plain": [
       "0.0     382\n",
       "1.0     952\n",
       "2.0     950\n",
       "3.0     928\n",
       "4.0     885\n",
       "5.0     927\n",
       "6.0     881\n",
       "7.0     925\n",
       "8.0     933\n",
       "9.0     882\n",
       "10.0    446\n",
       "Name: Tenure, dtype: int64"
      ]
     },
     "execution_count": 7,
     "metadata": {},
     "output_type": "execute_result"
    }
   ],
   "source": [
    "data['Tenure'].value_counts().sort_index()"
   ]
  },
  {
   "cell_type": "code",
   "execution_count": 8,
   "metadata": {},
   "outputs": [
    {
     "name": "stdout",
     "output_type": "stream",
     "text": [
      "<class 'pandas.core.frame.DataFrame'>\n",
      "Int64Index: 9091 entries, 0 to 9998\n",
      "Data columns (total 11 columns):\n",
      " #   Column           Non-Null Count  Dtype  \n",
      "---  ------           --------------  -----  \n",
      " 0   CreditScore      9091 non-null   int64  \n",
      " 1   Geography        9091 non-null   object \n",
      " 2   Gender           9091 non-null   object \n",
      " 3   Age              9091 non-null   int64  \n",
      " 4   Tenure           9091 non-null   float64\n",
      " 5   Balance          9091 non-null   float64\n",
      " 6   NumOfProducts    9091 non-null   int64  \n",
      " 7   HasCrCard        9091 non-null   int64  \n",
      " 8   IsActiveMember   9091 non-null   int64  \n",
      " 9   EstimatedSalary  9091 non-null   float64\n",
      " 10  Exited           9091 non-null   int64  \n",
      "dtypes: float64(3), int64(6), object(2)\n",
      "memory usage: 852.3+ KB\n"
     ]
    }
   ],
   "source": [
    "data = data.dropna()\n",
    "data.info()"
   ]
  },
  {
   "cell_type": "code",
   "execution_count": 9,
   "metadata": {},
   "outputs": [
    {
     "data": {
      "image/png": "[encoded data removed]",
      "text/plain": [
       "<Figure size 1152x648 with 9 Axes>"
      ]
     },
     "metadata": {
      "needs_background": "light"
     },
     "output_type": "display_data"
    }
   ],
   "source": [
    "data.hist(figsize=(16,9));"
   ]
  },
  {
   "cell_type": "code",
   "execution_count": 10,
   "metadata": {},
   "outputs": [
    {
     "data": {
      "text/html": [
       "<div>\n",
       "<style scoped>\n",
       "    .dataframe tbody tr th:only-of-type {\n",
       "        vertical-align: middle;\n",
       "    }\n",
       "\n",
       "    .dataframe tbody tr th {\n",
       "        vertical-align: top;\n",
       "    }\n",
       "\n",
       "    .dataframe thead th {\n",
       "        text-align: right;\n",
       "    }\n",
       "</style>\n",
       "<table border=\"1\" class=\"dataframe\">\n",
       "  <thead>\n",
       "    <tr style=\"text-align: right;\">\n",
       "      <th></th>\n",
       "      <th>CreditScore</th>\n",
       "      <th>Age</th>\n",
       "      <th>Tenure</th>\n",
       "      <th>Balance</th>\n",
       "      <th>NumOfProducts</th>\n",
       "      <th>HasCrCard</th>\n",
       "      <th>IsActiveMember</th>\n",
       "      <th>EstimatedSalary</th>\n",
       "      <th>Exited</th>\n",
       "    </tr>\n",
       "  </thead>\n",
       "  <tbody>\n",
       "    <tr>\n",
       "      <th>count</th>\n",
       "      <td>9091.000000</td>\n",
       "      <td>9091.000000</td>\n",
       "      <td>9091.000000</td>\n",
       "      <td>9091.000000</td>\n",
       "      <td>9091.000000</td>\n",
       "      <td>9091.000000</td>\n",
       "      <td>9091.000000</td>\n",
       "      <td>9091.000000</td>\n",
       "      <td>9091.000000</td>\n",
       "    </tr>\n",
       "    <tr>\n",
       "      <th>mean</th>\n",
       "      <td>650.736553</td>\n",
       "      <td>38.949181</td>\n",
       "      <td>4.997690</td>\n",
       "      <td>76522.740015</td>\n",
       "      <td>1.530195</td>\n",
       "      <td>0.704983</td>\n",
       "      <td>0.515565</td>\n",
       "      <td>100181.214924</td>\n",
       "      <td>0.203938</td>\n",
       "    </tr>\n",
       "    <tr>\n",
       "      <th>std</th>\n",
       "      <td>96.410471</td>\n",
       "      <td>10.555581</td>\n",
       "      <td>2.894723</td>\n",
       "      <td>62329.528576</td>\n",
       "      <td>0.581003</td>\n",
       "      <td>0.456076</td>\n",
       "      <td>0.499785</td>\n",
       "      <td>57624.755647</td>\n",
       "      <td>0.402946</td>\n",
       "    </tr>\n",
       "    <tr>\n",
       "      <th>min</th>\n",
       "      <td>350.000000</td>\n",
       "      <td>18.000000</td>\n",
       "      <td>0.000000</td>\n",
       "      <td>0.000000</td>\n",
       "      <td>1.000000</td>\n",
       "      <td>0.000000</td>\n",
       "      <td>0.000000</td>\n",
       "      <td>11.580000</td>\n",
       "      <td>0.000000</td>\n",
       "    </tr>\n",
       "    <tr>\n",
       "      <th>25%</th>\n",
       "      <td>584.000000</td>\n",
       "      <td>32.000000</td>\n",
       "      <td>2.000000</td>\n",
       "      <td>0.000000</td>\n",
       "      <td>1.000000</td>\n",
       "      <td>0.000000</td>\n",
       "      <td>0.000000</td>\n",
       "      <td>51227.745000</td>\n",
       "      <td>0.000000</td>\n",
       "    </tr>\n",
       "    <tr>\n",
       "      <th>50%</th>\n",
       "      <td>652.000000</td>\n",
       "      <td>37.000000</td>\n",
       "      <td>5.000000</td>\n",
       "      <td>97318.250000</td>\n",
       "      <td>1.000000</td>\n",
       "      <td>1.000000</td>\n",
       "      <td>1.000000</td>\n",
       "      <td>100240.200000</td>\n",
       "      <td>0.000000</td>\n",
       "    </tr>\n",
       "    <tr>\n",
       "      <th>75%</th>\n",
       "      <td>717.000000</td>\n",
       "      <td>44.000000</td>\n",
       "      <td>7.000000</td>\n",
       "      <td>127561.890000</td>\n",
       "      <td>2.000000</td>\n",
       "      <td>1.000000</td>\n",
       "      <td>1.000000</td>\n",
       "      <td>149567.210000</td>\n",
       "      <td>0.000000</td>\n",
       "    </tr>\n",
       "    <tr>\n",
       "      <th>max</th>\n",
       "      <td>850.000000</td>\n",
       "      <td>92.000000</td>\n",
       "      <td>10.000000</td>\n",
       "      <td>250898.090000</td>\n",
       "      <td>4.000000</td>\n",
       "      <td>1.000000</td>\n",
       "      <td>1.000000</td>\n",
       "      <td>199992.480000</td>\n",
       "      <td>1.000000</td>\n",
       "    </tr>\n",
       "  </tbody>\n",
       "</table>\n",
       "</div>"
      ],
      "text/plain": [
       "       CreditScore          Age       Tenure        Balance  NumOfProducts  \\\n",
       "count  9091.000000  9091.000000  9091.000000    9091.000000    9091.000000   \n",
       "mean    650.736553    38.949181     4.997690   76522.740015       1.530195   \n",
       "std      96.410471    10.555581     2.894723   62329.528576       0.581003   \n",
       "min     350.000000    18.000000     0.000000       0.000000       1.000000   \n",
       "25%     584.000000    32.000000     2.000000       0.000000       1.000000   \n",
       "50%     652.000000    37.000000     5.000000   97318.250000       1.000000   \n",
       "75%     717.000000    44.000000     7.000000  127561.890000       2.000000   \n",
       "max     850.000000    92.000000    10.000000  250898.090000       4.000000   \n",
       "\n",
       "         HasCrCard  IsActiveMember  EstimatedSalary       Exited  \n",
       "count  9091.000000     9091.000000      9091.000000  9091.000000  \n",
       "mean      0.704983        0.515565    100181.214924     0.203938  \n",
       "std       0.456076        0.499785     57624.755647     0.402946  \n",
       "min       0.000000        0.000000        11.580000     0.000000  \n",
       "25%       0.000000        0.000000     51227.745000     0.000000  \n",
       "50%       1.000000        1.000000    100240.200000     0.000000  \n",
       "75%       1.000000        1.000000    149567.210000     0.000000  \n",
       "max       1.000000        1.000000    199992.480000     1.000000  "
      ]
     },
     "execution_count": 10,
     "metadata": {},
     "output_type": "execute_result"
    }
   ],
   "source": [
    "data.describe()"
   ]
  },
  {
   "cell_type": "markdown",
   "metadata": {},
   "source": [
    "**Данные хорошего качества, распределены нормально, выбросов нет, пропуски удалены**  \n",
    "**Подготовим данные для обучения**"
   ]
  },
  {
   "cell_type": "code",
   "execution_count": 11,
   "metadata": {},
   "outputs": [],
   "source": [
    "data_ohe = pd.get_dummies(data, drop_first=True)\n",
    "#столбцы с локацией во Франции и женским полом удалены, как излишние, можно восстановить по оставшимся"
   ]
  },
  {
   "cell_type": "code",
   "execution_count": 12,
   "metadata": {
    "scrolled": true
   },
   "outputs": [
    {
     "data": {
      "text/html": [
       "<div>\n",
       "<style scoped>\n",
       "    .dataframe tbody tr th:only-of-type {\n",
       "        vertical-align: middle;\n",
       "    }\n",
       "\n",
       "    .dataframe tbody tr th {\n",
       "        vertical-align: top;\n",
       "    }\n",
       "\n",
       "    .dataframe thead th {\n",
       "        text-align: right;\n",
       "    }\n",
       "</style>\n",
       "<table border=\"1\" class=\"dataframe\">\n",
       "  <thead>\n",
       "    <tr style=\"text-align: right;\">\n",
       "      <th></th>\n",
       "      <th>CreditScore</th>\n",
       "      <th>Age</th>\n",
       "      <th>Tenure</th>\n",
       "      <th>Balance</th>\n",
       "      <th>NumOfProducts</th>\n",
       "      <th>HasCrCard</th>\n",
       "      <th>IsActiveMember</th>\n",
       "      <th>EstimatedSalary</th>\n",
       "      <th>Exited</th>\n",
       "      <th>Geography_Germany</th>\n",
       "      <th>Geography_Spain</th>\n",
       "      <th>Gender_Male</th>\n",
       "    </tr>\n",
       "  </thead>\n",
       "  <tbody>\n",
       "    <tr>\n",
       "      <th>0</th>\n",
       "      <td>619</td>\n",
       "      <td>42</td>\n",
       "      <td>2.0</td>\n",
       "      <td>0.00</td>\n",
       "      <td>1</td>\n",
       "      <td>1</td>\n",
       "      <td>1</td>\n",
       "      <td>101348.88</td>\n",
       "      <td>1</td>\n",
       "      <td>0</td>\n",
       "      <td>0</td>\n",
       "      <td>0</td>\n",
       "    </tr>\n",
       "    <tr>\n",
       "      <th>1</th>\n",
       "      <td>608</td>\n",
       "      <td>41</td>\n",
       "      <td>1.0</td>\n",
       "      <td>83807.86</td>\n",
       "      <td>1</td>\n",
       "      <td>0</td>\n",
       "      <td>1</td>\n",
       "      <td>112542.58</td>\n",
       "      <td>0</td>\n",
       "      <td>0</td>\n",
       "      <td>1</td>\n",
       "      <td>0</td>\n",
       "    </tr>\n",
       "    <tr>\n",
       "      <th>2</th>\n",
       "      <td>502</td>\n",
       "      <td>42</td>\n",
       "      <td>8.0</td>\n",
       "      <td>159660.80</td>\n",
       "      <td>3</td>\n",
       "      <td>1</td>\n",
       "      <td>0</td>\n",
       "      <td>113931.57</td>\n",
       "      <td>1</td>\n",
       "      <td>0</td>\n",
       "      <td>0</td>\n",
       "      <td>0</td>\n",
       "    </tr>\n",
       "    <tr>\n",
       "      <th>3</th>\n",
       "      <td>699</td>\n",
       "      <td>39</td>\n",
       "      <td>1.0</td>\n",
       "      <td>0.00</td>\n",
       "      <td>2</td>\n",
       "      <td>0</td>\n",
       "      <td>0</td>\n",
       "      <td>93826.63</td>\n",
       "      <td>0</td>\n",
       "      <td>0</td>\n",
       "      <td>0</td>\n",
       "      <td>0</td>\n",
       "    </tr>\n",
       "    <tr>\n",
       "      <th>4</th>\n",
       "      <td>850</td>\n",
       "      <td>43</td>\n",
       "      <td>2.0</td>\n",
       "      <td>125510.82</td>\n",
       "      <td>1</td>\n",
       "      <td>1</td>\n",
       "      <td>1</td>\n",
       "      <td>79084.10</td>\n",
       "      <td>0</td>\n",
       "      <td>0</td>\n",
       "      <td>1</td>\n",
       "      <td>0</td>\n",
       "    </tr>\n",
       "    <tr>\n",
       "      <th>5</th>\n",
       "      <td>645</td>\n",
       "      <td>44</td>\n",
       "      <td>8.0</td>\n",
       "      <td>113755.78</td>\n",
       "      <td>2</td>\n",
       "      <td>1</td>\n",
       "      <td>0</td>\n",
       "      <td>149756.71</td>\n",
       "      <td>1</td>\n",
       "      <td>0</td>\n",
       "      <td>1</td>\n",
       "      <td>1</td>\n",
       "    </tr>\n",
       "    <tr>\n",
       "      <th>6</th>\n",
       "      <td>822</td>\n",
       "      <td>50</td>\n",
       "      <td>7.0</td>\n",
       "      <td>0.00</td>\n",
       "      <td>2</td>\n",
       "      <td>1</td>\n",
       "      <td>1</td>\n",
       "      <td>10062.80</td>\n",
       "      <td>0</td>\n",
       "      <td>0</td>\n",
       "      <td>0</td>\n",
       "      <td>1</td>\n",
       "    </tr>\n",
       "    <tr>\n",
       "      <th>7</th>\n",
       "      <td>376</td>\n",
       "      <td>29</td>\n",
       "      <td>4.0</td>\n",
       "      <td>115046.74</td>\n",
       "      <td>4</td>\n",
       "      <td>1</td>\n",
       "      <td>0</td>\n",
       "      <td>119346.88</td>\n",
       "      <td>1</td>\n",
       "      <td>1</td>\n",
       "      <td>0</td>\n",
       "      <td>0</td>\n",
       "    </tr>\n",
       "    <tr>\n",
       "      <th>8</th>\n",
       "      <td>501</td>\n",
       "      <td>44</td>\n",
       "      <td>4.0</td>\n",
       "      <td>142051.07</td>\n",
       "      <td>2</td>\n",
       "      <td>0</td>\n",
       "      <td>1</td>\n",
       "      <td>74940.50</td>\n",
       "      <td>0</td>\n",
       "      <td>0</td>\n",
       "      <td>0</td>\n",
       "      <td>1</td>\n",
       "    </tr>\n",
       "    <tr>\n",
       "      <th>9</th>\n",
       "      <td>684</td>\n",
       "      <td>27</td>\n",
       "      <td>2.0</td>\n",
       "      <td>134603.88</td>\n",
       "      <td>1</td>\n",
       "      <td>1</td>\n",
       "      <td>1</td>\n",
       "      <td>71725.73</td>\n",
       "      <td>0</td>\n",
       "      <td>0</td>\n",
       "      <td>0</td>\n",
       "      <td>1</td>\n",
       "    </tr>\n",
       "  </tbody>\n",
       "</table>\n",
       "</div>"
      ],
      "text/plain": [
       "   CreditScore  Age  Tenure    Balance  NumOfProducts  HasCrCard  \\\n",
       "0          619   42     2.0       0.00              1          1   \n",
       "1          608   41     1.0   83807.86              1          0   \n",
       "2          502   42     8.0  159660.80              3          1   \n",
       "3          699   39     1.0       0.00              2          0   \n",
       "4          850   43     2.0  125510.82              1          1   \n",
       "5          645   44     8.0  113755.78              2          1   \n",
       "6          822   50     7.0       0.00              2          1   \n",
       "7          376   29     4.0  115046.74              4          1   \n",
       "8          501   44     4.0  142051.07              2          0   \n",
       "9          684   27     2.0  134603.88              1          1   \n",
       "\n",
       "   IsActiveMember  EstimatedSalary  Exited  Geography_Germany  \\\n",
       "0               1        101348.88       1                  0   \n",
       "1               1        112542.58       0                  0   \n",
       "2               0        113931.57       1                  0   \n",
       "3               0         93826.63       0                  0   \n",
       "4               1         79084.10       0                  0   \n",
       "5               0        149756.71       1                  0   \n",
       "6               1         10062.80       0                  0   \n",
       "7               0        119346.88       1                  1   \n",
       "8               1         74940.50       0                  0   \n",
       "9               1         71725.73       0                  0   \n",
       "\n",
       "   Geography_Spain  Gender_Male  \n",
       "0                0            0  \n",
       "1                1            0  \n",
       "2                0            0  \n",
       "3                0            0  \n",
       "4                1            0  \n",
       "5                1            1  \n",
       "6                0            1  \n",
       "7                0            0  \n",
       "8                0            1  \n",
       "9                0            1  "
      ]
     },
     "execution_count": 12,
     "metadata": {},
     "output_type": "execute_result"
    }
   ],
   "source": [
    "data_ohe.head(10)"
   ]
  },
  {
   "cell_type": "code",
   "execution_count": 13,
   "metadata": {},
   "outputs": [
    {
     "data": {
      "text/html": [
       "<div>\n",
       "<style scoped>\n",
       "    .dataframe tbody tr th:only-of-type {\n",
       "        vertical-align: middle;\n",
       "    }\n",
       "\n",
       "    .dataframe tbody tr th {\n",
       "        vertical-align: top;\n",
       "    }\n",
       "\n",
       "    .dataframe thead th {\n",
       "        text-align: right;\n",
       "    }\n",
       "</style>\n",
       "<table border=\"1\" class=\"dataframe\">\n",
       "  <thead>\n",
       "    <tr style=\"text-align: right;\">\n",
       "      <th></th>\n",
       "      <th>CreditScore</th>\n",
       "      <th>Age</th>\n",
       "      <th>Tenure</th>\n",
       "      <th>Balance</th>\n",
       "      <th>NumOfProducts</th>\n",
       "      <th>HasCrCard</th>\n",
       "      <th>IsActiveMember</th>\n",
       "      <th>EstimatedSalary</th>\n",
       "      <th>Exited</th>\n",
       "      <th>Geography_Germany</th>\n",
       "      <th>Geography_Spain</th>\n",
       "      <th>Gender_Male</th>\n",
       "    </tr>\n",
       "  </thead>\n",
       "  <tbody>\n",
       "    <tr>\n",
       "      <th>count</th>\n",
       "      <td>9091.000000</td>\n",
       "      <td>9091.000000</td>\n",
       "      <td>9091.000000</td>\n",
       "      <td>9091.000000</td>\n",
       "      <td>9091.000000</td>\n",
       "      <td>9091.000000</td>\n",
       "      <td>9091.000000</td>\n",
       "      <td>9091.000000</td>\n",
       "      <td>9091.000000</td>\n",
       "      <td>9091.000000</td>\n",
       "      <td>9091.000000</td>\n",
       "      <td>9091.000000</td>\n",
       "    </tr>\n",
       "    <tr>\n",
       "      <th>mean</th>\n",
       "      <td>650.736553</td>\n",
       "      <td>38.949181</td>\n",
       "      <td>4.997690</td>\n",
       "      <td>76522.740015</td>\n",
       "      <td>1.530195</td>\n",
       "      <td>0.704983</td>\n",
       "      <td>0.515565</td>\n",
       "      <td>100181.214924</td>\n",
       "      <td>0.203938</td>\n",
       "      <td>0.252227</td>\n",
       "      <td>0.247278</td>\n",
       "      <td>0.547135</td>\n",
       "    </tr>\n",
       "    <tr>\n",
       "      <th>std</th>\n",
       "      <td>96.410471</td>\n",
       "      <td>10.555581</td>\n",
       "      <td>2.894723</td>\n",
       "      <td>62329.528576</td>\n",
       "      <td>0.581003</td>\n",
       "      <td>0.456076</td>\n",
       "      <td>0.499785</td>\n",
       "      <td>57624.755647</td>\n",
       "      <td>0.402946</td>\n",
       "      <td>0.434315</td>\n",
       "      <td>0.431453</td>\n",
       "      <td>0.497801</td>\n",
       "    </tr>\n",
       "    <tr>\n",
       "      <th>min</th>\n",
       "      <td>350.000000</td>\n",
       "      <td>18.000000</td>\n",
       "      <td>0.000000</td>\n",
       "      <td>0.000000</td>\n",
       "      <td>1.000000</td>\n",
       "      <td>0.000000</td>\n",
       "      <td>0.000000</td>\n",
       "      <td>11.580000</td>\n",
       "      <td>0.000000</td>\n",
       "      <td>0.000000</td>\n",
       "      <td>0.000000</td>\n",
       "      <td>0.000000</td>\n",
       "    </tr>\n",
       "    <tr>\n",
       "      <th>25%</th>\n",
       "      <td>584.000000</td>\n",
       "      <td>32.000000</td>\n",
       "      <td>2.000000</td>\n",
       "      <td>0.000000</td>\n",
       "      <td>1.000000</td>\n",
       "      <td>0.000000</td>\n",
       "      <td>0.000000</td>\n",
       "      <td>51227.745000</td>\n",
       "      <td>0.000000</td>\n",
       "      <td>0.000000</td>\n",
       "      <td>0.000000</td>\n",
       "      <td>0.000000</td>\n",
       "    </tr>\n",
       "    <tr>\n",
       "      <th>50%</th>\n",
       "      <td>652.000000</td>\n",
       "      <td>37.000000</td>\n",
       "      <td>5.000000</td>\n",
       "      <td>97318.250000</td>\n",
       "      <td>1.000000</td>\n",
       "      <td>1.000000</td>\n",
       "      <td>1.000000</td>\n",
       "      <td>100240.200000</td>\n",
       "      <td>0.000000</td>\n",
       "      <td>0.000000</td>\n",
       "      <td>0.000000</td>\n",
       "      <td>1.000000</td>\n",
       "    </tr>\n",
       "    <tr>\n",
       "      <th>75%</th>\n",
       "      <td>717.000000</td>\n",
       "      <td>44.000000</td>\n",
       "      <td>7.000000</td>\n",
       "      <td>127561.890000</td>\n",
       "      <td>2.000000</td>\n",
       "      <td>1.000000</td>\n",
       "      <td>1.000000</td>\n",
       "      <td>149567.210000</td>\n",
       "      <td>0.000000</td>\n",
       "      <td>1.000000</td>\n",
       "      <td>0.000000</td>\n",
       "      <td>1.000000</td>\n",
       "    </tr>\n",
       "    <tr>\n",
       "      <th>max</th>\n",
       "      <td>850.000000</td>\n",
       "      <td>92.000000</td>\n",
       "      <td>10.000000</td>\n",
       "      <td>250898.090000</td>\n",
       "      <td>4.000000</td>\n",
       "      <td>1.000000</td>\n",
       "      <td>1.000000</td>\n",
       "      <td>199992.480000</td>\n",
       "      <td>1.000000</td>\n",
       "      <td>1.000000</td>\n",
       "      <td>1.000000</td>\n",
       "      <td>1.000000</td>\n",
       "    </tr>\n",
       "  </tbody>\n",
       "</table>\n",
       "</div>"
      ],
      "text/plain": [
       "       CreditScore          Age       Tenure        Balance  NumOfProducts  \\\n",
       "count  9091.000000  9091.000000  9091.000000    9091.000000    9091.000000   \n",
       "mean    650.736553    38.949181     4.997690   76522.740015       1.530195   \n",
       "std      96.410471    10.555581     2.894723   62329.528576       0.581003   \n",
       "min     350.000000    18.000000     0.000000       0.000000       1.000000   \n",
       "25%     584.000000    32.000000     2.000000       0.000000       1.000000   \n",
       "50%     652.000000    37.000000     5.000000   97318.250000       1.000000   \n",
       "75%     717.000000    44.000000     7.000000  127561.890000       2.000000   \n",
       "max     850.000000    92.000000    10.000000  250898.090000       4.000000   \n",
       "\n",
       "         HasCrCard  IsActiveMember  EstimatedSalary       Exited  \\\n",
       "count  9091.000000     9091.000000      9091.000000  9091.000000   \n",
       "mean      0.704983        0.515565    100181.214924     0.203938   \n",
       "std       0.456076        0.499785     57624.755647     0.402946   \n",
       "min       0.000000        0.000000        11.580000     0.000000   \n",
       "25%       0.000000        0.000000     51227.745000     0.000000   \n",
       "50%       1.000000        1.000000    100240.200000     0.000000   \n",
       "75%       1.000000        1.000000    149567.210000     0.000000   \n",
       "max       1.000000        1.000000    199992.480000     1.000000   \n",
       "\n",
       "       Geography_Germany  Geography_Spain  Gender_Male  \n",
       "count        9091.000000      9091.000000  9091.000000  \n",
       "mean            0.252227         0.247278     0.547135  \n",
       "std             0.434315         0.431453     0.497801  \n",
       "min             0.000000         0.000000     0.000000  \n",
       "25%             0.000000         0.000000     0.000000  \n",
       "50%             0.000000         0.000000     1.000000  \n",
       "75%             1.000000         0.000000     1.000000  \n",
       "max             1.000000         1.000000     1.000000  "
      ]
     },
     "execution_count": 13,
     "metadata": {},
     "output_type": "execute_result"
    }
   ],
   "source": [
    "data_ohe.describe()"
   ]
  },
  {
   "cell_type": "markdown",
   "metadata": {},
   "source": [
    "## Исследование задачи"
   ]
  },
  {
   "cell_type": "code",
   "execution_count": 14,
   "metadata": {
    "scrolled": true
   },
   "outputs": [
    {
     "data": {
      "text/plain": [
       "0    0.796062\n",
       "1    0.203938\n",
       "Name: Exited, dtype: float64"
      ]
     },
     "metadata": {},
     "output_type": "display_data"
    },
    {
     "data": {
      "image/png": "[encoded data removed]",
      "text/plain": [
       "<Figure size 432x288 with 1 Axes>"
      ]
     },
     "metadata": {
      "needs_background": "light"
     },
     "output_type": "display_data"
    }
   ],
   "source": [
    "data_ohe['Exited'].value_counts(normalize=True).plot(kind='bar', grid=True);\n",
    "display(data_ohe['Exited'].value_counts(normalize=True))"
   ]
  },
  {
   "cell_type": "markdown",
   "metadata": {},
   "source": [
    "Соотношение классов приблизительно 4:1, дисбаланс налицо"
   ]
  },
  {
   "cell_type": "code",
   "execution_count": 15,
   "metadata": {},
   "outputs": [
    {
     "data": {
      "text/plain": [
       "(5454, 11)"
      ]
     },
     "metadata": {},
     "output_type": "display_data"
    },
    {
     "data": {
      "text/plain": [
       "(1819, 11)"
      ]
     },
     "metadata": {},
     "output_type": "display_data"
    },
    {
     "data": {
      "text/plain": [
       "(1818, 11)"
      ]
     },
     "metadata": {},
     "output_type": "display_data"
    },
    {
     "data": {
      "text/plain": [
       "(5454,)"
      ]
     },
     "metadata": {},
     "output_type": "display_data"
    },
    {
     "data": {
      "text/plain": [
       "(1819,)"
      ]
     },
     "metadata": {},
     "output_type": "display_data"
    },
    {
     "data": {
      "text/plain": [
       "(1818,)"
      ]
     },
     "metadata": {},
     "output_type": "display_data"
    },
    {
     "data": {
      "text/plain": [
       "(0    4342\n",
       " 1    1112\n",
       " Name: Exited, dtype: int64,\n",
       " 0    1448\n",
       " 1     371\n",
       " Name: Exited, dtype: int64,\n",
       " 0    1447\n",
       " 1     371\n",
       " Name: Exited, dtype: int64)"
      ]
     },
     "execution_count": 15,
     "metadata": {},
     "output_type": "execute_result"
    }
   ],
   "source": [
    "target = data_ohe['Exited']\n",
    "features = data_ohe.drop('Exited', axis=1)\n",
    "features_train, features, target_train, target = train_test_split(\n",
    "    features, target, test_size=0.4, random_state=12345, stratify=target)\n",
    "features_valid, features_test, target_valid, target_test = train_test_split(\n",
    "    features, target, test_size=0.5, random_state=12345, stratify=target)\n",
    "display(features_train.shape, features_test.shape, features_valid.shape, target_train.shape, target_test.shape, \n",
    "        target_valid.shape)\n",
    "target_train.value_counts(), target_test.value_counts(), target_valid.value_counts()"
   ]
  },
  {
   "cell_type": "code",
   "execution_count": 16,
   "metadata": {},
   "outputs": [],
   "source": [
    "pd.options.mode.chained_assignment = None\n",
    "numeric = ['CreditScore', 'Age', 'Tenure', 'Balance', 'NumOfProducts', 'EstimatedSalary']\n",
    "scaler = StandardScaler()\n",
    "scaler.fit(features_train[numeric])\n",
    "features_train[numeric] = scaler.transform(features_train[numeric])\n",
    "features_valid[numeric] = scaler.transform(features_valid[numeric])\n",
    "features_test[numeric] = scaler.transform(features_test[numeric])"
   ]
  },
  {
   "cell_type": "code",
   "execution_count": 17,
   "metadata": {
    "scrolled": false
   },
   "outputs": [
    {
     "name": "stdout",
     "output_type": "stream",
     "text": [
      "Точность лучшей модели дерева решений: 0.8652365236523653\n",
      "Лучшая модель: DecisionTreeClassifier(max_depth=6, random_state=12345)\n"
     ]
    },
    {
     "data": {
      "image/png": "[encoded data removed]",
      "text/plain": [
       "<Figure size 648x360 with 1 Axes>"
      ]
     },
     "metadata": {
      "needs_background": "light"
     },
     "output_type": "display_data"
    }
   ],
   "source": [
    "best_model_DT = None\n",
    "best_result = 0\n",
    "result_valid_list = []\n",
    "result_train_list = []\n",
    "depth_list = []\n",
    "for depth in range(1, 15):\n",
    "    model = DecisionTreeClassifier(random_state=12345, max_depth = depth)#, class_weight='balanced')\n",
    "    model.fit(features_train, target_train)\n",
    "    result_train = model.score(features_train, target_train)\n",
    "    result_train_list.append(result_train)\n",
    "    predictions = model.predict(features_valid)\n",
    "    result = accuracy_score(target_valid, predictions)\n",
    "    #print(result)\n",
    "    result_valid_list.append(result)\n",
    "    depth_list.append(depth)\n",
    "    if result > best_result:\n",
    "        best_result = result\n",
    "        best_model_DT = model\n",
    "print('Точность лучшей модели дерева решений:', best_result);\n",
    "print('Лучшая модель:', best_model_DT)\n",
    "plt.subplots(figsize=(9, 5));\n",
    "plt.plot(depth_list, result_train_list, label = 'Обучающая выборка');\n",
    "plt.plot(depth_list, result_valid_list, label = 'Валидационная выборка');\n",
    "plt.legend();\n",
    "plt.ylabel('Точность модели');\n",
    "plt.xlabel('Глубина дерева');\n",
    "plt.xticks(depth_list);\n",
    "plt.grid()"
   ]
  },
  {
   "cell_type": "code",
   "execution_count": 18,
   "metadata": {},
   "outputs": [
    {
     "name": "stdout",
     "output_type": "stream",
     "text": [
      "0    0.883388\n",
      "1    0.116612\n",
      "dtype: float64\n"
     ]
    },
    {
     "data": {
      "image/png": "[encoded data removed]",
      "text/plain": [
       "<Figure size 432x288 with 1 Axes>"
      ]
     },
     "metadata": {
      "needs_background": "light"
     },
     "output_type": "display_data"
    }
   ],
   "source": [
    "predicted_valid = pd.Series(best_model_DT.predict(features_valid))\n",
    "class_frequency = predicted_valid.value_counts(normalize=True)\n",
    "print(class_frequency)\n",
    "class_frequency.plot(kind='bar', grid=True).set_title('Баланс классов');"
   ]
  },
  {
   "cell_type": "code",
   "execution_count": 19,
   "metadata": {},
   "outputs": [
    {
     "name": "stdout",
     "output_type": "stream",
     "text": [
      "[[1404   43]\n",
      " [ 202  169]]\n"
     ]
    }
   ],
   "source": [
    "print(confusion_matrix(target_valid, predicted_valid))\n",
    "precision_DT = precision_score(target_valid, predicted_valid)\n",
    "recall_DT = recall_score(target_valid, predicted_valid)\n",
    "f1_DT = f1_score(target_valid, predicted_valid)"
   ]
  },
  {
   "cell_type": "code",
   "execution_count": 20,
   "metadata": {},
   "outputs": [
    {
     "name": "stdout",
     "output_type": "stream",
     "text": [
      "Точность лучшей модели случайного леса: 0.8718371837183718\n",
      "Лучшая модель: RandomForestClassifier(max_depth=14, n_estimators=60, random_state=12345)\n",
      "CPU times: user 25.8 s, sys: 72.1 ms, total: 25.8 s\n",
      "Wall time: 25.9 s\n"
     ]
    }
   ],
   "source": [
    "%%time\n",
    "best_model_RFC = None\n",
    "best_result = 0\n",
    "for est in range(30, 90, 10):\n",
    "    for depth in range(9, 20):\n",
    "        model = RandomForestClassifier(n_estimators=est, max_depth=depth, random_state=12345) #, class_weight='balanced')\n",
    "        model.fit(features_train, target_train)\n",
    "        predictions = model.predict(features_valid)\n",
    "        result = accuracy_score(target_valid, predictions)\n",
    "        if result > best_result:\n",
    "            best_result = result\n",
    "            best_model_RFC = model\n",
    "print('Точность лучшей модели случайного леса:', best_result)\n",
    "print(\"Лучшая модель:\", best_model_RFC)"
   ]
  },
  {
   "cell_type": "code",
   "execution_count": 21,
   "metadata": {},
   "outputs": [
    {
     "name": "stdout",
     "output_type": "stream",
     "text": [
      "0    0.873487\n",
      "1    0.126513\n",
      "dtype: float64\n"
     ]
    },
    {
     "data": {
      "image/png": "[encoded data removed]",
      "text/plain": [
       "<Figure size 432x288 with 1 Axes>"
      ]
     },
     "metadata": {
      "needs_background": "light"
     },
     "output_type": "display_data"
    }
   ],
   "source": [
    "predicted_valid = pd.Series(best_model_RFC.predict(features_valid))\n",
    "class_frequency = predicted_valid.value_counts(normalize=True)\n",
    "print(class_frequency)\n",
    "class_frequency.plot(kind='bar', grid=True).set_title('Баланс классов');"
   ]
  },
  {
   "cell_type": "code",
   "execution_count": 22,
   "metadata": {},
   "outputs": [
    {
     "name": "stdout",
     "output_type": "stream",
     "text": [
      "[[1401   46]\n",
      " [ 187  184]]\n"
     ]
    }
   ],
   "source": [
    "print(confusion_matrix(target_valid, predicted_valid))\n",
    "precision_RFC = precision_score(target_valid, predicted_valid)\n",
    "recall_RFC = recall_score(target_valid, predicted_valid)\n",
    "f1_RFC = f1_score(target_valid, predicted_valid)"
   ]
  },
  {
   "cell_type": "code",
   "execution_count": 23,
   "metadata": {},
   "outputs": [
    {
     "name": "stdout",
     "output_type": "stream",
     "text": [
      "Точность модели логистической регрессии: 0.8151815181518152\n"
     ]
    }
   ],
   "source": [
    "model_LR = LogisticRegression(random_state=12345, solver='lbfgs', max_iter=1000)\n",
    "model_LR.fit(features_train, target_train)\n",
    "predictions = model_LR.predict(features_valid)\n",
    "result = accuracy_score(target_valid, predictions)\n",
    "print('Точность модели логистической регрессии:', result)"
   ]
  },
  {
   "cell_type": "code",
   "execution_count": 24,
   "metadata": {},
   "outputs": [
    {
     "name": "stdout",
     "output_type": "stream",
     "text": [
      "0    0.927943\n",
      "1    0.072057\n",
      "dtype: float64\n"
     ]
    },
    {
     "data": {
      "image/png": "[encoded data removed]",
      "text/plain": [
       "<Figure size 432x288 with 1 Axes>"
      ]
     },
     "metadata": {
      "needs_background": "light"
     },
     "output_type": "display_data"
    }
   ],
   "source": [
    "predicted_valid = pd.Series(model_LR.predict(features_valid))\n",
    "class_frequency = predicted_valid.value_counts(normalize=True)\n",
    "print(class_frequency)\n",
    "class_frequency.plot(kind='bar', grid=True).set_title('Баланс классов');"
   ]
  },
  {
   "cell_type": "code",
   "execution_count": 25,
   "metadata": {},
   "outputs": [
    {
     "name": "stdout",
     "output_type": "stream",
     "text": [
      "[[1399   48]\n",
      " [ 288   83]]\n"
     ]
    }
   ],
   "source": [
    "print(confusion_matrix(target_valid, predicted_valid))\n",
    "precision_LR = precision_score(target_valid, predicted_valid)\n",
    "recall_LR = recall_score(target_valid, predicted_valid)\n",
    "f1_LR = f1_score(target_valid, predicted_valid)"
   ]
  },
  {
   "cell_type": "code",
   "execution_count": 26,
   "metadata": {},
   "outputs": [
    {
     "data": {
      "image/png": "[encoded data removed]",
      "text/plain": [
       "<Figure size 1080x360 with 3 Axes>"
      ]
     },
     "metadata": {
      "needs_background": "light"
     },
     "output_type": "display_data"
    }
   ],
   "source": [
    "fig, (ax1, ax2, ax3) = plt.subplots(1, 3, figsize= (15, 5))\n",
    "labels = ['DT', 'RFC', 'LR']\n",
    "ax1.bar(labels, [precision_DT, precision_RFC, precision_LR])\n",
    "ax2.bar(labels, [recall_DT, recall_RFC, recall_LR])\n",
    "ax3.bar(labels, [f1_DT, f1_RFC, f1_LR])\n",
    "ax1.set_title('Точность')\n",
    "ax2.set_title('Полнота')\n",
    "ax3.set_title('F1');"
   ]
  },
  {
   "cell_type": "markdown",
   "metadata": {},
   "source": [
    "**В целолм, все три модели дают результат лучше чем константная модель и выдерживают проверку на адекватность. Но посмотрим, что ещё можно с них выжать**"
   ]
  },
  {
   "cell_type": "markdown",
   "metadata": {},
   "source": [
    "## Борьба с дисбалансом"
   ]
  },
  {
   "cell_type": "code",
   "execution_count": 27,
   "metadata": {},
   "outputs": [],
   "source": [
    "#Для начал проверим лучшие модели с параметром class_weight\n",
    "#DT\n",
    "model = DecisionTreeClassifier(random_state=12345, class_weight='balanced', max_depth=6)\n",
    "model.fit(features_train, target_train)\n",
    "predictions = model.predict(features_valid)\n",
    "recall_DT_balanced = recall_score(target_valid, predictions)\n",
    "precision_DT_balanced = precision_score(target_valid, predictions)\n",
    "f1_DT_balanced = f1_score(target_valid, predictions)\n",
    "#RFC\n",
    "model = RandomForestClassifier(random_state=12345, class_weight='balanced', n_estimators=60, max_depth=14)\n",
    "model.fit(features_train, target_train)\n",
    "predictions = model.predict(features_valid)\n",
    "recall_RFC_balanced = recall_score(target_valid, predictions)\n",
    "precision_RFC_balanced = precision_score(target_valid, predictions)\n",
    "f1_RFC_balanced = f1_score(target_valid, predictions)\n",
    "#LR\n",
    "model = LogisticRegression(random_state=12345, solver='liblinear', class_weight='balanced')\n",
    "model.fit(features_train, target_train)\n",
    "predictions = model.predict(features_valid)\n",
    "recall_LR_balanced = recall_score(target_valid, predictions)\n",
    "precision_LR_balanced = precision_score(target_valid, predictions)\n",
    "f1_LR_balanced = f1_score(target_valid, predictions)"
   ]
  },
  {
   "cell_type": "code",
   "execution_count": 28,
   "metadata": {
    "scrolled": true
   },
   "outputs": [
    {
     "data": {
      "image/png": "[encoded data removed]",
      "text/plain": [
       "<Figure size 1080x360 with 3 Axes>"
      ]
     },
     "metadata": {
      "needs_background": "light"
     },
     "output_type": "display_data"
    }
   ],
   "source": [
    "fig, (ax1, ax2, ax3) = plt.subplots(1, 3, figsize = (15, 5))\n",
    "x = np.arange(len(labels))\n",
    "width = 0.35\n",
    "ax1.bar(x - width/2, [precision_DT, precision_RFC, precision_LR], width, label='До балансировки')\n",
    "ax1.bar(labels, [precision_DT_balanced, precision_RFC_balanced, precision_LR_balanced], \\\n",
    "    width, label='После балансировки')\n",
    "ax2.bar(x - width/2, [recall_DT, recall_RFC, recall_LR], width, label='До балансировки')\n",
    "ax2.bar(labels, [recall_DT_balanced, recall_RFC_balanced, recall_LR_balanced], \\\n",
    "    width, label='После балансировки')\n",
    "ax3.bar(x - width/2, [f1_DT, f1_RFC, f1_LR], width, label='До балансировки')\n",
    "ax3.bar(labels, [f1_DT_balanced, f1_RFC_balanced, f1_LR_balanced], \\\n",
    "    width, label='После балансировки')\n",
    "\n",
    "ax1.set_title('Точность')\n",
    "ax1.set_xticks(labels)\n",
    "ax1.legend()\n",
    "ax2.set_title('Полнота')\n",
    "ax2.set_xticks(labels)\n",
    "ax2.legend()\n",
    "ax3.set_title('F1')\n",
    "ax3.set_xticks(labels)\n",
    "ax3.legend();"
   ]
  },
  {
   "cell_type": "code",
   "execution_count": 29,
   "metadata": {},
   "outputs": [],
   "source": [
    "#upsampling\n",
    "def upsample(features, target, repeat):\n",
    "    features_zeros = features[target == 0]\n",
    "    features_ones = features[target == 1]\n",
    "    target_zeros = target[target == 0]\n",
    "    target_ones = target[target == 1]\n",
    "\n",
    "    features_upsampled = pd.concat([features_zeros] + [features_ones] * repeat)\n",
    "    target_upsampled = pd.concat([target_zeros] + [target_ones] * repeat)\n",
    "    \n",
    "    features_upsampled, target_upsampled = shuffle(\n",
    "        features_upsampled, target_upsampled, random_state=12345)\n",
    "    \n",
    "    return features_upsampled, target_upsampled\n",
    "\n",
    "features_upsampled, target_upsampled = upsample(features_train, target_train, 4)"
   ]
  },
  {
   "cell_type": "code",
   "execution_count": 30,
   "metadata": {
    "scrolled": false
   },
   "outputs": [
    {
     "name": "stdout",
     "output_type": "stream",
     "text": [
      "F1 лучшей модели дерева решений: 0.5825049701789264\n",
      "Лучшая модель: DecisionTreeClassifier(max_depth=6, random_state=12345)\n"
     ]
    }
   ],
   "source": [
    "best_model_DT_up = None\n",
    "f1_DT_balanced_up = 0\n",
    "for depth in range(1, 15):\n",
    "    model = DecisionTreeClassifier(random_state=12345, max_depth = depth)#, class_weight='balanced')\n",
    "    model.fit(features_upsampled, target_upsampled)\n",
    "    predictions = model.predict(features_valid)\n",
    "    result = f1_score(target_valid, predictions)\n",
    "    if result > f1_DT_balanced_up:\n",
    "        f1_DT_balanced_up = result\n",
    "        best_model_DT_up = model\n",
    "print('F1 лучшей модели дерева решений:', f1_DT_balanced_up);\n",
    "print('Лучшая модель:', best_model_DT_up)"
   ]
  },
  {
   "cell_type": "code",
   "execution_count": 31,
   "metadata": {},
   "outputs": [
    {
     "name": "stdout",
     "output_type": "stream",
     "text": [
      "F1 лучшей модели случайного леса: 0.6381322957198443\n",
      "Лучшая модель: RandomForestClassifier(max_depth=12, n_estimators=40, random_state=12345)\n"
     ]
    }
   ],
   "source": [
    "best_model_RFC_up = None\n",
    "f1_RFC_balanced_up = 0\n",
    "for est in range(30, 90, 10):\n",
    "    for depth in range(9, 20):\n",
    "        model = RandomForestClassifier(random_state=12345, n_estimators=est, max_depth=depth)\n",
    "        model.fit(features_upsampled, target_upsampled)\n",
    "        predictions = model.predict(features_valid)\n",
    "        result = f1_score(target_valid, predictions)\n",
    "        if result > f1_RFC_balanced_up:\n",
    "            f1_RFC_balanced_up = result\n",
    "            best_model_RFC_up = model\n",
    "print('F1 лучшей модели случайного леса:', f1_RFC_balanced_up);\n",
    "print('Лучшая модель:', best_model_RFC_up)"
   ]
  },
  {
   "cell_type": "code",
   "execution_count": 32,
   "metadata": {},
   "outputs": [
    {
     "name": "stdout",
     "output_type": "stream",
     "text": [
      "F1 лучшей модели линейной регрессии: 0.5050878815911193\n"
     ]
    }
   ],
   "source": [
    "##DT\n",
    "#model = DecisionTreeClassifier(random_state=12345, max_depth=6)\n",
    "#model.fit(features_upsampled, target_upsampled)\n",
    "#predictions = model.predict(features_valid)\n",
    "#recall_DT_balanced_up = recall_score(target_valid, predictions)\n",
    "#precision_DT_balanced_up = precision_score(target_valid, predictions)\n",
    "#f1_DT_balanced_up = f1_score(target_valid, predictions)\n",
    "##RFC\n",
    "#model = RandomForestClassifier(random_state=12345, n_estimators=60, max_depth=14)\n",
    "#model.fit(features_upsampled, target_upsampled)\n",
    "#predictions = model.predict(features_valid)\n",
    "#recall_RFC_balanced_up = recall_score(target_valid, predictions)\n",
    "#precision_RFC_balanced_up = precision_score(target_valid, predictions)\n",
    "#f1_RFC_balanced_up = f1_score(target_valid, predictions)\n",
    "#LR\n",
    "model = LogisticRegression(random_state=12345, solver='liblinear')\n",
    "model.fit(features_upsampled, target_upsampled)\n",
    "predictions = model.predict(features_valid)\n",
    "#recall_LR_balanced_up = recall_score(target_valid, predictions)\n",
    "f1_LR_balanced_up = f1_score(target_valid, predictions)\n",
    "print('F1 лучшей модели линейной регрессии:', f1_LR_balanced_up);"
   ]
  },
  {
   "cell_type": "code",
   "execution_count": 33,
   "metadata": {},
   "outputs": [],
   "source": [
    "#downsampling\n",
    "def downsample(features, target, fraction):\n",
    "    features_zeros = features[target == 0]\n",
    "    features_ones = features[target == 1]\n",
    "    target_zeros = target[target == 0]\n",
    "    target_ones = target[target == 1]\n",
    "\n",
    "    features_downsampled = pd.concat(\n",
    "        [features_zeros.sample(frac=fraction, random_state=12345)] + [features_ones])\n",
    "    target_downsampled = pd.concat(\n",
    "        [target_zeros.sample(frac=fraction, random_state=12345)] + [target_ones])\n",
    "    \n",
    "    features_downsampled, target_downsampled = shuffle(\n",
    "        features_downsampled, target_downsampled, random_state=12345)\n",
    "    \n",
    "    return features_downsampled, target_downsampled\n",
    "\n",
    "features_downsampled, target_downsampled = downsample(features_train, target_train, 0.25)"
   ]
  },
  {
   "cell_type": "code",
   "execution_count": 34,
   "metadata": {
    "scrolled": false
   },
   "outputs": [
    {
     "name": "stdout",
     "output_type": "stream",
     "text": [
      "F1 лучшей модели дерева решений: 0.5688442211055276\n",
      "Лучшая модель: DecisionTreeClassifier(max_depth=6, random_state=12345)\n"
     ]
    }
   ],
   "source": [
    "best_model_DT_down = None\n",
    "f1_DT_balanced_down = 0\n",
    "for depth in range(1, 15):\n",
    "    model = DecisionTreeClassifier(random_state=12345, max_depth = depth)#, class_weight='balanced')\n",
    "    model.fit(features_downsampled, target_downsampled)\n",
    "    predictions = model.predict(features_valid)\n",
    "    result = f1_score(target_valid, predictions)\n",
    "    if result > f1_DT_balanced_down:\n",
    "        f1_DT_balanced_down = result\n",
    "        best_model_DT_down = model\n",
    "print('F1 лучшей модели дерева решений:', f1_DT_balanced_down);\n",
    "print('Лучшая модель:', best_model_DT_down)"
   ]
  },
  {
   "cell_type": "code",
   "execution_count": 35,
   "metadata": {},
   "outputs": [
    {
     "name": "stdout",
     "output_type": "stream",
     "text": [
      "F1 лучшей модели случайного леса: 0.6147540983606558\n",
      "Лучшая модель: RandomForestClassifier(max_depth=15, n_estimators=70, random_state=12345)\n"
     ]
    }
   ],
   "source": [
    "best_model_RFC_down = None\n",
    "f1_RFC_balanced_down = 0\n",
    "for est in range(30, 90, 10):\n",
    "    for depth in range(9, 20):\n",
    "        model = RandomForestClassifier(random_state=12345, n_estimators=est, max_depth=depth)\n",
    "        model.fit(features_downsampled, target_downsampled)\n",
    "        predictions = model.predict(features_valid)\n",
    "        result = f1_score(target_valid, predictions)\n",
    "        if result > f1_RFC_balanced_down:\n",
    "            f1_RFC_balanced_down = result\n",
    "            best_model_RFC_down = model\n",
    "print('F1 лучшей модели случайного леса:', f1_RFC_balanced_down);\n",
    "print('Лучшая модель:', best_model_RFC_down)"
   ]
  },
  {
   "cell_type": "code",
   "execution_count": 36,
   "metadata": {},
   "outputs": [
    {
     "name": "stdout",
     "output_type": "stream",
     "text": [
      "F1 лучшей модели линейной регрессии: 0.5096596136154553\n"
     ]
    }
   ],
   "source": [
    "##DT\n",
    "#model = DecisionTreeClassifier(random_state=12345, max_depth=6)\n",
    "#model.fit(features_downsampled, target_downsampled)\n",
    "#predictions = model.predict(features_valid)\n",
    "#recall_DT_balanced_down = recall_score(target_valid, predictions)\n",
    "#precision_DT_balanced_down = precision_score(target_valid, predictions)\n",
    "#f1_DT_balanced_down = f1_score(target_valid, predictions)\n",
    "##RFC\n",
    "#model = RandomForestClassifier(random_state=12345, n_estimators=60, max_depth=14)\n",
    "#model.fit(features_downsampled, target_downsampled)\n",
    "#predictions = model.predict(features_valid)\n",
    "#recall_RFC_balanced_down = recall_score(target_valid, predictions)\n",
    "#precision_RFC_balanced_down = precision_score(target_valid, predictions)\n",
    "#f1_RFC_balanced_down = f1_score(target_valid, predictions)\n",
    "#LR\n",
    "model = LogisticRegression(random_state=12345, solver='liblinear')\n",
    "model.fit(features_downsampled, target_downsampled)\n",
    "predictions = model.predict(features_valid)\n",
    "#recall_LR_balanced_down = recall_score(target_valid, predictions)\n",
    "#precision_LR_balanced_down = precision_score(target_valid, predictions)\n",
    "f1_LR_balanced_down = f1_score(target_valid, predictions)\n",
    "print('F1 лучшей модели линейной регрессии:', f1_LR_balanced_down);"
   ]
  },
  {
   "cell_type": "code",
   "execution_count": 37,
   "metadata": {
    "scrolled": true
   },
   "outputs": [],
   "source": [
    "#fig, (ax1, ax2, ax3) = plt.subplots(1, 3, figsize = (16, 5))\n",
    "#x = np.arange(len(labels))\n",
    "#width = 0.35\n",
    "#ax1.bar(x - width, [precision_DT, precision_RFC, precision_LR], width, label='До балансировки')\n",
    "#ax1.bar(x - width/2, [precision_DT_balanced, precision_RFC_balanced, precision_LR_balanced], \\\n",
    "#    width, label='После балансировки')\n",
    "#ax1.bar(x + width/2, [precision_DT_balanced_up, precision_RFC_balanced_up, precision_LR_balanced_up], \\\n",
    "#    width, label='После увеличения выборки')\n",
    "#ax1.bar(labels, [precision_DT_balanced_down, precision_RFC_balanced_down, precision_LR_balanced_down], \\\n",
    "#    width, label='После уменьшения выборки')\n",
    "#\n",
    "#ax2.bar(x - width, [recall_DT, recall_RFC, recall_LR], width, label='До балансировки')\n",
    "#ax2.bar(x - width/2, [recall_DT_balanced, recall_RFC_balanced, recall_LR_balanced], \\\n",
    "#    width, label='После балансировки')\n",
    "#ax2.bar(x + width/2, [recall_DT_balanced_up, recall_RFC_balanced_up, recall_LR_balanced_up], \\\n",
    "#    width, label='После увеличения выборки')\n",
    "#ax2.bar(labels, [recall_DT_balanced_down, recall_RFC_balanced_down, recall_LR_balanced_down], \\\n",
    "#    width, label='После уменьшения выборки')\n",
    "#\n",
    "#ax3.bar(x - width, [f1_DT, f1_RFC, f1_LR], width, label='До балансировки')\n",
    "#ax3.bar(x - width/2, [f1_DT_balanced, f1_RFC_balanced, f1_LR_balanced], \\\n",
    "#    width, label='После балансировки')\n",
    "#ax3.bar(x + width/2, [f1_DT_balanced_up, f1_RFC_balanced_up, f1_LR_balanced_up], \\\n",
    "#    width, label='После увеличения выборки')\n",
    "#ax3.bar(labels, [f1_DT_balanced_down, f1_RFC_balanced_down, f1_LR_balanced_down], \\\n",
    "#    width, label='После уменьшения выборки')\n",
    "#\n",
    "#ax1.set_title('Точность')\n",
    "#ax1.set_xticks(labels)\n",
    "#ax1.legend()\n",
    "#ax2.set_title('Полнота')\n",
    "#ax2.set_xticks(labels)\n",
    "#ax2.legend()\n",
    "#ax3.set_title('F1')\n",
    "#ax3.set_xticks(labels)\n",
    "#ax3.legend();\n",
    "#\n",
    "#fig.tight_layout()\n",
    "#\n",
    "#plt.show()"
   ]
  },
  {
   "cell_type": "code",
   "execution_count": 38,
   "metadata": {
    "scrolled": true
   },
   "outputs": [
    {
     "data": {
      "image/png": "[encoded data removed]",
      "text/plain": [
       "<Figure size 864x360 with 1 Axes>"
      ]
     },
     "metadata": {
      "needs_background": "light"
     },
     "output_type": "display_data"
    }
   ],
   "source": [
    "fig, ax = plt.subplots(figsize = (12, 5))\n",
    "x = np.arange(len(labels))\n",
    "width = 0.2\n",
    "ax.bar(x - width, [f1_DT, f1_RFC, f1_LR], width, label='До балансировки')\n",
    "ax.bar(x - width/2, [f1_DT_balanced, f1_RFC_balanced, f1_LR_balanced], \\\n",
    "    width, label='После балансировки')\n",
    "ax.bar(x + width/2, [f1_DT_balanced_up, f1_RFC_balanced_up, f1_LR_balanced_up], \\\n",
    "    width, label='После увеличения выборки')\n",
    "ax.bar(labels, [f1_DT_balanced_down, f1_RFC_balanced_down, f1_LR_balanced_down], \\\n",
    "    width, label='После уменьшения выборки')\n",
    "ax.set_title('F1')\n",
    "ax.set_xticks(labels)\n",
    "ax.legend();\n",
    "\n",
    "fig.tight_layout()\n",
    "\n",
    "plt.show()"
   ]
  },
  {
   "cell_type": "code",
   "execution_count": 39,
   "metadata": {},
   "outputs": [
    {
     "name": "stdout",
     "output_type": "stream",
     "text": [
      "Лучший показатель метрики F1: 0.6381322957198443\n"
     ]
    }
   ],
   "source": [
    "f1_list = [f1_DT, f1_RFC, f1_LR, \\\n",
    "f1_DT_balanced, f1_RFC_balanced, f1_LR_balanced, \\\n",
    "f1_DT_balanced_up, f1_RFC_balanced_up, f1_LR_balanced_up, \\\n",
    "f1_DT_balanced_down, f1_RFC_balanced_down, f1_LR_balanced_down]\n",
    "print(\"Лучший показатель метрики F1:\", max(f1_list))"
   ]
  },
  {
   "cell_type": "markdown",
   "metadata": {},
   "source": [
    "**После взвешивания классов, показатели точности модели снизились, при значительном приросте полноты, а значит и F1.**  \n",
    "**Моделью с лучшей метрикой F1 оказалось RFC при увеличении выборки**"
   ]
  },
  {
   "cell_type": "markdown",
   "metadata": {},
   "source": [
    "## Тестирование модели"
   ]
  },
  {
   "cell_type": "code",
   "execution_count": 40,
   "metadata": {
    "scrolled": false
   },
   "outputs": [
    {
     "name": "stdout",
     "output_type": "stream",
     "text": [
      "Полноста 0.6118598382749326\n",
      "Точность 0.6037234042553191\n",
      "F1 0.607764390896921\n"
     ]
    }
   ],
   "source": [
    "model = RandomForestClassifier(random_state=12345, n_estimators=40, max_depth=12)\n",
    "model.fit(features_upsampled, target_upsampled)\n",
    "predictions = model.predict(features_test)\n",
    "recall_RFC_balanced_up = recall_score(target_test, predictions)\n",
    "precision_RFC_balanced_up = precision_score(target_test, predictions)\n",
    "f1_RFC_balanced_up = f1_score(target_test, predictions)\n",
    "print('Полноста', recall_RFC_balanced_up)\n",
    "print('Точность', precision_RFC_balanced_up)\n",
    "print('F1', f1_RFC_balanced_up)"
   ]
  },
  {
   "cell_type": "code",
   "execution_count": 41,
   "metadata": {
    "scrolled": true
   },
   "outputs": [
    {
     "data": {
      "image/png": "[encoded data removed]",
      "text/plain": [
       "<Figure size 432x432 with 1 Axes>"
      ]
     },
     "metadata": {
      "needs_background": "light"
     },
     "output_type": "display_data"
    }
   ],
   "source": [
    "probabilities_valid = model.predict_proba(features_test)\n",
    "precision, recall, thresholds = precision_recall_curve(target_test, probabilities_valid[:, 1])\n",
    "\n",
    "plt.figure(figsize=(6, 6))\n",
    "plt.step(recall, precision, where='post')\n",
    "plt.xlabel('Recall')\n",
    "plt.ylabel('Precision')\n",
    "plt.ylim([0.0, 1.05])\n",
    "plt.xlim([0.0, 1.0])\n",
    "plt.title('Кривая Precision-Recall')\n",
    "plt.show() "
   ]
  },
  {
   "cell_type": "code",
   "execution_count": 42,
   "metadata": {},
   "outputs": [
    {
     "name": "stdout",
     "output_type": "stream",
     "text": [
      "0.8471188068681033\n"
     ]
    }
   ],
   "source": [
    "probabilities_test = model.predict_proba(features_test)\n",
    "probabilities_one_test = probabilities_test[:, 1]\n",
    "\n",
    "auc_roc = roc_auc_score(target_test, probabilities_one_test)\n",
    "\n",
    "print(auc_roc)"
   ]
  },
  {
   "cell_type": "code",
   "execution_count": 43,
   "metadata": {
    "scrolled": true
   },
   "outputs": [
    {
     "data": {
      "image/png": "[encoded data removed]",
      "text/plain": [
       "<Figure size 432x288 with 1 Axes>"
      ]
     },
     "metadata": {
      "needs_background": "light"
     },
     "output_type": "display_data"
    }
   ],
   "source": [
    "fpr, tpr, thresholds = roc_curve(target_test, probabilities_one_test)\n",
    "\n",
    "plt.figure()\n",
    "plt.plot(fpr, tpr)\n",
    "\n",
    "plt.plot([0, 1], [0, 1], linestyle='--')\n",
    "plt.xlim([0.0, 1.0])\n",
    "plt.ylim([0.0, 1.0])\n",
    "plt.xlabel('False Positive Rate')\n",
    "plt.ylabel('True Positive Rate')\n",
    "plt.title('ROC-кривая')\n",
    "\n",
    "plt.show()"
   ]
  },
  {
   "cell_type": "markdown",
   "metadata": {},
   "source": [
    "**Было проведено исследования с целью выявления самой адекватной модели машинного обучения**  \n",
    "Цель исследования достигнута - лучшая модель - \"Случайный лес\" с 40 деревьями и глубиной проработки 12 при обучении модели на увеличенной выборке.  \n",
    "Относительно случайно модели наша показала неплохой результат, что и отражает график выше, площадь под кривой равна 0,85, превосходя случайную модель более, чем в полтора раза."
   ]
  }
 ],
 "metadata": {
  "ExecuteTimeLog": [
   {
    "duration": 427,
    "start_time": "2022-10-24T16:34:22.334Z"
   },
   {
    "duration": 119,
    "start_time": "2022-10-24T16:34:45.678Z"
   },
   {
    "duration": 38,
    "start_time": "2022-10-24T16:36:02.725Z"
   },
   {
    "duration": 61,
    "start_time": "2022-10-24T16:36:12.301Z"
   },
   {
    "duration": 14,
    "start_time": "2022-10-24T16:36:41.012Z"
   },
   {
    "duration": 933,
    "start_time": "2022-10-24T16:40:24.487Z"
   },
   {
    "duration": 6,
    "start_time": "2022-10-24T16:40:35.046Z"
   },
   {
    "duration": 4,
    "start_time": "2022-10-24T16:40:45.572Z"
   },
   {
    "duration": 7,
    "start_time": "2022-10-24T16:41:54.207Z"
   },
   {
    "duration": 3,
    "start_time": "2022-10-24T16:46:01.999Z"
   },
   {
    "duration": 13,
    "start_time": "2022-10-24T16:49:30.914Z"
   },
   {
    "duration": 11,
    "start_time": "2022-10-24T16:49:58.178Z"
   },
   {
    "duration": 10,
    "start_time": "2022-10-24T16:50:05.682Z"
   },
   {
    "duration": 675,
    "start_time": "2022-10-24T16:50:26.023Z"
   },
   {
    "duration": 2,
    "start_time": "2022-10-24T16:50:40.633Z"
   },
   {
    "duration": 44,
    "start_time": "2022-10-24T16:50:40.982Z"
   },
   {
    "duration": 15,
    "start_time": "2022-10-24T16:50:41.479Z"
   },
   {
    "duration": 6,
    "start_time": "2022-10-24T16:50:41.999Z"
   },
   {
    "duration": 7,
    "start_time": "2022-10-24T16:50:56.917Z"
   },
   {
    "duration": 11,
    "start_time": "2022-10-24T16:53:11.254Z"
   },
   {
    "duration": 11,
    "start_time": "2022-10-24T16:53:21.066Z"
   },
   {
    "duration": 3,
    "start_time": "2022-10-24T16:53:34.875Z"
   },
   {
    "duration": 46,
    "start_time": "2022-10-24T16:53:35.087Z"
   },
   {
    "duration": 18,
    "start_time": "2022-10-24T16:53:35.295Z"
   },
   {
    "duration": 4,
    "start_time": "2022-10-24T16:53:35.505Z"
   },
   {
    "duration": 1167,
    "start_time": "2022-10-24T16:56:45.058Z"
   },
   {
    "duration": 42,
    "start_time": "2022-10-24T16:57:03.936Z"
   },
   {
    "duration": 1034,
    "start_time": "2022-10-24T16:57:11.321Z"
   },
   {
    "duration": 36,
    "start_time": "2022-10-24T17:00:29.079Z"
   },
   {
    "duration": 21,
    "start_time": "2022-10-24T17:10:07.172Z"
   },
   {
    "duration": 3,
    "start_time": "2022-10-24T17:10:15.656Z"
   },
   {
    "duration": 47,
    "start_time": "2022-10-24T17:10:15.945Z"
   },
   {
    "duration": 14,
    "start_time": "2022-10-24T17:10:16.320Z"
   },
   {
    "duration": 7,
    "start_time": "2022-10-24T17:10:16.920Z"
   },
   {
    "duration": 16,
    "start_time": "2022-10-24T17:10:45.353Z"
   },
   {
    "duration": 2,
    "start_time": "2022-10-24T17:10:50.838Z"
   },
   {
    "duration": 48,
    "start_time": "2022-10-24T17:10:51.040Z"
   },
   {
    "duration": 14,
    "start_time": "2022-10-24T17:10:51.841Z"
   },
   {
    "duration": 4,
    "start_time": "2022-10-24T17:10:53.421Z"
   },
   {
    "duration": 18,
    "start_time": "2022-10-24T17:11:22.616Z"
   },
   {
    "duration": 18,
    "start_time": "2022-10-24T17:24:58.243Z"
   },
   {
    "duration": 21,
    "start_time": "2022-10-24T17:25:12.968Z"
   },
   {
    "duration": 14,
    "start_time": "2022-10-24T17:25:27.235Z"
   },
   {
    "duration": 17,
    "start_time": "2022-10-24T17:25:41.175Z"
   },
   {
    "duration": 1109,
    "start_time": "2022-10-24T17:27:14.554Z"
   },
   {
    "duration": 131,
    "start_time": "2022-10-24T17:29:04.943Z"
   },
   {
    "duration": 4,
    "start_time": "2022-10-24T17:29:15.380Z"
   },
   {
    "duration": 47,
    "start_time": "2022-10-24T17:29:15.832Z"
   },
   {
    "duration": 14,
    "start_time": "2022-10-24T17:29:16.416Z"
   },
   {
    "duration": 4,
    "start_time": "2022-10-24T17:29:17.057Z"
   },
   {
    "duration": 18,
    "start_time": "2022-10-24T17:29:17.719Z"
   },
   {
    "duration": 221,
    "start_time": "2022-10-24T17:29:18.435Z"
   },
   {
    "duration": 416,
    "start_time": "2022-10-24T17:31:30.103Z"
   },
   {
    "duration": 54,
    "start_time": "2022-10-24T17:31:30.521Z"
   },
   {
    "duration": 26,
    "start_time": "2022-10-24T17:31:30.581Z"
   },
   {
    "duration": 24,
    "start_time": "2022-10-24T17:31:30.609Z"
   },
   {
    "duration": 52,
    "start_time": "2022-10-24T17:31:30.635Z"
   },
   {
    "duration": 381,
    "start_time": "2022-10-24T17:31:30.690Z"
   },
   {
    "duration": 16,
    "start_time": "2022-10-24T17:31:31.076Z"
   },
   {
    "duration": 1159,
    "start_time": "2022-10-24T17:31:31.094Z"
   },
   {
    "duration": 54,
    "start_time": "2022-10-24T17:31:32.254Z"
   },
   {
    "duration": 174,
    "start_time": "2022-10-24T17:37:06.096Z"
   },
   {
    "duration": 3,
    "start_time": "2022-10-24T17:37:19.549Z"
   },
   {
    "duration": 48,
    "start_time": "2022-10-24T17:37:19.789Z"
   },
   {
    "duration": 21,
    "start_time": "2022-10-24T17:37:19.987Z"
   },
   {
    "duration": 4,
    "start_time": "2022-10-24T17:37:20.719Z"
   },
   {
    "duration": 20,
    "start_time": "2022-10-24T17:37:21.451Z"
   },
   {
    "duration": 171,
    "start_time": "2022-10-24T17:37:23.150Z"
   },
   {
    "duration": 14,
    "start_time": "2022-10-24T17:37:24.489Z"
   },
   {
    "duration": 189,
    "start_time": "2022-10-24T17:44:55.109Z"
   },
   {
    "duration": 6,
    "start_time": "2022-10-24T17:45:12.954Z"
   },
   {
    "duration": 2,
    "start_time": "2022-10-24T17:45:36.839Z"
   },
   {
    "duration": 48,
    "start_time": "2022-10-24T17:45:37.265Z"
   },
   {
    "duration": 17,
    "start_time": "2022-10-24T17:45:38.802Z"
   },
   {
    "duration": 5,
    "start_time": "2022-10-24T17:45:39.464Z"
   },
   {
    "duration": 20,
    "start_time": "2022-10-24T17:45:40.589Z"
   },
   {
    "duration": 163,
    "start_time": "2022-10-24T17:45:43.224Z"
   },
   {
    "duration": 8,
    "start_time": "2022-10-24T17:45:45.194Z"
   },
   {
    "duration": 7,
    "start_time": "2022-10-24T17:46:03.618Z"
   },
   {
    "duration": 66,
    "start_time": "2022-10-25T09:04:30.752Z"
   },
   {
    "duration": 7,
    "start_time": "2022-10-25T09:04:40.914Z"
   },
   {
    "duration": 448,
    "start_time": "2022-10-25T09:04:45.082Z"
   },
   {
    "duration": 134,
    "start_time": "2022-10-25T09:04:45.532Z"
   },
   {
    "duration": 30,
    "start_time": "2022-10-25T09:04:46.696Z"
   },
   {
    "duration": 7,
    "start_time": "2022-10-25T09:04:47.983Z"
   },
   {
    "duration": 24,
    "start_time": "2022-10-25T09:04:49.088Z"
   },
   {
    "duration": 665,
    "start_time": "2022-10-25T09:04:52.539Z"
   },
   {
    "duration": 9,
    "start_time": "2022-10-25T09:04:56.122Z"
   },
   {
    "duration": 30,
    "start_time": "2022-10-25T09:05:42.733Z"
   },
   {
    "duration": 178,
    "start_time": "2022-10-25T09:05:45.281Z"
   },
   {
    "duration": 9,
    "start_time": "2022-10-25T09:05:46.386Z"
   },
   {
    "duration": 18,
    "start_time": "2022-10-25T09:05:59.188Z"
   },
   {
    "duration": 1376,
    "start_time": "2022-10-25T09:06:01.356Z"
   },
   {
    "duration": 41,
    "start_time": "2022-10-25T09:12:59.884Z"
   },
   {
    "duration": 27,
    "start_time": "2022-10-25T09:44:40.397Z"
   },
   {
    "duration": 46,
    "start_time": "2022-10-25T09:45:04.452Z"
   },
   {
    "duration": 23,
    "start_time": "2022-10-25T09:45:33.808Z"
   },
   {
    "duration": 14,
    "start_time": "2022-10-25T09:45:35.709Z"
   },
   {
    "duration": 25,
    "start_time": "2022-10-25T09:45:48.613Z"
   },
   {
    "duration": 29,
    "start_time": "2022-10-25T09:47:35.341Z"
   },
   {
    "duration": 1362,
    "start_time": "2022-10-25T09:48:29.388Z"
   },
   {
    "duration": 3,
    "start_time": "2022-10-25T09:48:56.820Z"
   },
   {
    "duration": 16,
    "start_time": "2022-10-25T09:53:28.511Z"
   },
   {
    "duration": 10,
    "start_time": "2022-10-25T09:53:40.253Z"
   },
   {
    "duration": 95,
    "start_time": "2022-10-25T09:53:48.998Z"
   },
   {
    "duration": 8,
    "start_time": "2022-10-25T09:59:58.677Z"
   },
   {
    "duration": 44,
    "start_time": "2022-10-25T10:02:19.682Z"
   },
   {
    "duration": 37,
    "start_time": "2022-10-25T10:02:27.850Z"
   },
   {
    "duration": 15,
    "start_time": "2022-10-25T10:02:34.439Z"
   },
   {
    "duration": 110,
    "start_time": "2022-10-25T10:06:02.480Z"
   },
   {
    "duration": 1370,
    "start_time": "2022-10-25T10:42:15.754Z"
   },
   {
    "duration": 7,
    "start_time": "2022-10-25T10:42:25.830Z"
   },
   {
    "duration": 183,
    "start_time": "2022-10-25T10:55:52.826Z"
   },
   {
    "duration": 134,
    "start_time": "2022-10-25T10:56:19.104Z"
   },
   {
    "duration": 280,
    "start_time": "2022-10-25T12:03:57.544Z"
   },
   {
    "duration": 285,
    "start_time": "2022-10-25T12:04:07.240Z"
   },
   {
    "duration": 231,
    "start_time": "2022-10-25T12:04:18.510Z"
   },
   {
    "duration": 29,
    "start_time": "2022-10-25T12:20:20.284Z"
   },
   {
    "duration": 19,
    "start_time": "2022-10-25T12:20:28.431Z"
   },
   {
    "duration": 14,
    "start_time": "2022-10-25T12:20:35.020Z"
   },
   {
    "duration": 23,
    "start_time": "2022-10-25T12:20:53.696Z"
   },
   {
    "duration": 58,
    "start_time": "2022-10-25T12:21:12.572Z"
   },
   {
    "duration": 104,
    "start_time": "2022-10-25T12:22:52.226Z"
   },
   {
    "duration": 14,
    "start_time": "2022-10-25T12:23:00.710Z"
   },
   {
    "duration": 17,
    "start_time": "2022-10-25T12:24:08.211Z"
   },
   {
    "duration": 52,
    "start_time": "2022-10-25T12:24:27.748Z"
   },
   {
    "duration": 39,
    "start_time": "2022-10-25T12:24:32.338Z"
   },
   {
    "duration": 6,
    "start_time": "2022-10-25T12:24:48.883Z"
   },
   {
    "duration": 367,
    "start_time": "2022-10-25T12:24:52.350Z"
   },
   {
    "duration": 367,
    "start_time": "2022-10-25T12:25:18.427Z"
   },
   {
    "duration": 6,
    "start_time": "2022-10-25T12:25:33.557Z"
   },
   {
    "duration": 558,
    "start_time": "2022-10-25T12:25:39.444Z"
   },
   {
    "duration": 155,
    "start_time": "2022-10-25T12:38:42.584Z"
   },
   {
    "duration": 11,
    "start_time": "2022-10-25T12:39:01.217Z"
   },
   {
    "duration": 18,
    "start_time": "2022-10-25T12:39:19.067Z"
   },
   {
    "duration": 30067,
    "start_time": "2022-10-25T12:39:24.495Z"
   },
   {
    "duration": 1022,
    "start_time": "2022-10-25T12:39:54.566Z"
   },
   {
    "duration": 547,
    "start_time": "2022-10-25T12:42:01.706Z"
   },
   {
    "duration": 13852,
    "start_time": "2022-10-25T12:42:48.395Z"
   },
   {
    "duration": 5782,
    "start_time": "2022-10-25T12:43:32.552Z"
   },
   {
    "duration": 13288,
    "start_time": "2022-10-25T12:44:02.411Z"
   },
   {
    "duration": 26258,
    "start_time": "2022-10-25T12:45:04.908Z"
   },
   {
    "duration": 579,
    "start_time": "2022-10-25T12:48:26.527Z"
   },
   {
    "duration": 547,
    "start_time": "2022-10-25T12:48:37.312Z"
   },
   {
    "duration": 7,
    "start_time": "2022-10-25T12:48:47.704Z"
   },
   {
    "duration": 5,
    "start_time": "2022-10-25T12:49:02.723Z"
   },
   {
    "duration": 5,
    "start_time": "2022-10-25T12:49:26.295Z"
   },
   {
    "duration": 6,
    "start_time": "2022-10-25T12:50:07.821Z"
   },
   {
    "duration": 6,
    "start_time": "2022-10-25T12:50:37.405Z"
   },
   {
    "duration": 131,
    "start_time": "2022-10-25T12:50:53.215Z"
   },
   {
    "duration": 147,
    "start_time": "2022-10-25T12:51:09.585Z"
   },
   {
    "duration": 169,
    "start_time": "2022-10-25T12:51:55.140Z"
   },
   {
    "duration": 171,
    "start_time": "2022-10-25T12:52:09.944Z"
   },
   {
    "duration": 176,
    "start_time": "2022-10-25T12:52:16.304Z"
   },
   {
    "duration": 166,
    "start_time": "2022-10-25T12:52:24.208Z"
   },
   {
    "duration": 206,
    "start_time": "2022-10-25T12:52:48.600Z"
   },
   {
    "duration": 25647,
    "start_time": "2022-10-25T12:53:20.486Z"
   },
   {
    "duration": 153,
    "start_time": "2022-10-25T12:53:46.135Z"
   },
   {
    "duration": 857,
    "start_time": "2022-10-25T12:53:51.809Z"
   },
   {
    "duration": 252,
    "start_time": "2022-10-25T12:53:52.682Z"
   },
   {
    "duration": 287,
    "start_time": "2022-10-25T12:54:39.190Z"
   },
   {
    "duration": 381,
    "start_time": "2022-10-25T12:54:55.398Z"
   },
   {
    "duration": 5,
    "start_time": "2022-10-25T12:57:08.907Z"
   },
   {
    "duration": 7,
    "start_time": "2022-10-25T13:02:57.303Z"
   },
   {
    "duration": 8,
    "start_time": "2022-10-25T13:04:20.500Z"
   },
   {
    "duration": 12,
    "start_time": "2022-10-25T13:07:10.421Z"
   },
   {
    "duration": 537,
    "start_time": "2022-10-25T13:07:25.775Z"
   },
   {
    "duration": 123,
    "start_time": "2022-10-25T13:07:26.314Z"
   },
   {
    "duration": 17,
    "start_time": "2022-10-25T13:07:26.715Z"
   },
   {
    "duration": 26078,
    "start_time": "2022-10-25T13:08:05.984Z"
   },
   {
    "duration": 157,
    "start_time": "2022-10-25T13:49:15.809Z"
   },
   {
    "duration": 12,
    "start_time": "2022-10-25T13:49:16.818Z"
   },
   {
    "duration": 247,
    "start_time": "2022-10-25T13:49:59.035Z"
   },
   {
    "duration": 307,
    "start_time": "2022-10-25T13:49:59.681Z"
   },
   {
    "duration": 11,
    "start_time": "2022-10-25T13:50:00.631Z"
   },
   {
    "duration": 1772,
    "start_time": "2022-10-27T08:01:23.531Z"
   },
   {
    "duration": 119,
    "start_time": "2022-10-27T08:01:25.305Z"
   },
   {
    "duration": 20,
    "start_time": "2022-10-27T08:01:26.296Z"
   },
   {
    "duration": 6,
    "start_time": "2022-10-27T08:01:27.656Z"
   },
   {
    "duration": 23,
    "start_time": "2022-10-27T08:01:28.438Z"
   },
   {
    "duration": 185,
    "start_time": "2022-10-27T08:01:29.487Z"
   },
   {
    "duration": 8,
    "start_time": "2022-10-27T08:01:30.027Z"
   },
   {
    "duration": 18,
    "start_time": "2022-10-27T08:01:30.816Z"
   },
   {
    "duration": 1367,
    "start_time": "2022-10-27T08:01:31.623Z"
   },
   {
    "duration": 38,
    "start_time": "2022-10-27T08:01:32.992Z"
   },
   {
    "duration": 13,
    "start_time": "2022-10-27T08:01:33.807Z"
   },
   {
    "duration": 30,
    "start_time": "2022-10-27T08:01:34.389Z"
   },
   {
    "duration": 19,
    "start_time": "2022-10-27T08:01:34.974Z"
   },
   {
    "duration": 77,
    "start_time": "2022-10-27T08:01:36.015Z"
   },
   {
    "duration": 141,
    "start_time": "2022-10-27T08:01:37.611Z"
   },
   {
    "duration": 15,
    "start_time": "2022-10-27T08:01:38.989Z"
   },
   {
    "duration": 595,
    "start_time": "2022-10-27T08:01:39.736Z"
   },
   {
    "duration": 150,
    "start_time": "2022-10-27T08:01:43.472Z"
   },
   {
    "duration": 21,
    "start_time": "2022-10-27T08:01:45.240Z"
   },
   {
    "duration": 25052,
    "start_time": "2022-10-27T08:01:46.502Z"
   },
   {
    "duration": 154,
    "start_time": "2022-10-27T08:02:14.817Z"
   },
   {
    "duration": 12,
    "start_time": "2022-10-27T08:02:16.585Z"
   },
   {
    "duration": 79,
    "start_time": "2022-10-27T08:02:17.696Z"
   },
   {
    "duration": 247,
    "start_time": "2022-10-27T08:02:19.993Z"
   },
   {
    "duration": 15,
    "start_time": "2022-10-27T08:02:21.470Z"
   },
   {
    "duration": 482,
    "start_time": "2022-10-27T08:08:44.989Z"
   },
   {
    "duration": 489,
    "start_time": "2022-10-27T08:09:30.866Z"
   },
   {
    "duration": 22452,
    "start_time": "2022-10-27T08:09:53.449Z"
   },
   {
    "duration": 147,
    "start_time": "2022-10-27T08:10:47.007Z"
   },
   {
    "duration": 490,
    "start_time": "2022-10-27T08:10:54.227Z"
   },
   {
    "duration": 1382,
    "start_time": "2022-10-27T08:11:08.874Z"
   },
   {
    "duration": 52,
    "start_time": "2022-10-27T08:11:10.258Z"
   },
   {
    "duration": 18,
    "start_time": "2022-10-27T08:11:10.311Z"
   },
   {
    "duration": 28,
    "start_time": "2022-10-27T08:11:10.331Z"
   },
   {
    "duration": 49,
    "start_time": "2022-10-27T08:11:10.361Z"
   },
   {
    "duration": 166,
    "start_time": "2022-10-27T08:11:10.412Z"
   },
   {
    "duration": 8,
    "start_time": "2022-10-27T08:11:10.580Z"
   },
   {
    "duration": 37,
    "start_time": "2022-10-27T08:11:10.589Z"
   },
   {
    "duration": 1215,
    "start_time": "2022-10-27T08:11:10.628Z"
   },
   {
    "duration": 39,
    "start_time": "2022-10-27T08:11:11.853Z"
   },
   {
    "duration": 10,
    "start_time": "2022-10-27T08:11:11.894Z"
   },
   {
    "duration": 37,
    "start_time": "2022-10-27T08:11:11.906Z"
   },
   {
    "duration": 25,
    "start_time": "2022-10-27T08:11:11.945Z"
   },
   {
    "duration": 66,
    "start_time": "2022-10-27T08:11:11.971Z"
   },
   {
    "duration": 115,
    "start_time": "2022-10-27T08:11:12.039Z"
   },
   {
    "duration": 12,
    "start_time": "2022-10-27T08:11:12.156Z"
   },
   {
    "duration": 389,
    "start_time": "2022-10-27T08:11:12.169Z"
   },
   {
    "duration": 0,
    "start_time": "2022-10-27T08:11:12.560Z"
   },
   {
    "duration": 0,
    "start_time": "2022-10-27T08:11:12.561Z"
   },
   {
    "duration": 0,
    "start_time": "2022-10-27T08:11:12.563Z"
   },
   {
    "duration": 0,
    "start_time": "2022-10-27T08:11:12.564Z"
   },
   {
    "duration": 0,
    "start_time": "2022-10-27T08:11:12.566Z"
   },
   {
    "duration": 0,
    "start_time": "2022-10-27T08:11:12.567Z"
   },
   {
    "duration": 0,
    "start_time": "2022-10-27T08:11:12.568Z"
   },
   {
    "duration": 0,
    "start_time": "2022-10-27T08:11:12.570Z"
   },
   {
    "duration": 0,
    "start_time": "2022-10-27T08:11:12.571Z"
   },
   {
    "duration": 493,
    "start_time": "2022-10-27T08:11:39.139Z"
   },
   {
    "duration": 11,
    "start_time": "2022-10-27T08:11:50.459Z"
   },
   {
    "duration": 11,
    "start_time": "2022-10-27T08:11:50.790Z"
   },
   {
    "duration": 22147,
    "start_time": "2022-10-27T08:11:51.530Z"
   },
   {
    "duration": 99,
    "start_time": "2022-10-27T08:12:13.678Z"
   },
   {
    "duration": 12,
    "start_time": "2022-10-27T08:22:34.458Z"
   },
   {
    "duration": 22362,
    "start_time": "2022-10-27T08:22:55.134Z"
   },
   {
    "duration": 15,
    "start_time": "2022-10-27T08:23:52.949Z"
   },
   {
    "duration": 127,
    "start_time": "2022-10-27T08:24:03.686Z"
   },
   {
    "duration": 11,
    "start_time": "2022-10-27T08:24:07.733Z"
   },
   {
    "duration": 32,
    "start_time": "2022-10-27T08:24:10.131Z"
   },
   {
    "duration": 157,
    "start_time": "2022-10-27T08:24:11.812Z"
   },
   {
    "duration": 12,
    "start_time": "2022-10-27T08:24:12.967Z"
   },
   {
    "duration": 12,
    "start_time": "2022-10-27T08:34:16.054Z"
   },
   {
    "duration": 3,
    "start_time": "2022-10-27T08:34:35.245Z"
   },
   {
    "duration": 1469,
    "start_time": "2022-10-27T08:34:46.183Z"
   },
   {
    "duration": 75,
    "start_time": "2022-10-27T08:34:47.654Z"
   },
   {
    "duration": 90,
    "start_time": "2022-10-27T08:34:47.731Z"
   },
   {
    "duration": 190,
    "start_time": "2022-10-27T08:34:47.824Z"
   },
   {
    "duration": 165,
    "start_time": "2022-10-27T08:34:48.016Z"
   },
   {
    "duration": 288,
    "start_time": "2022-10-27T08:34:48.183Z"
   },
   {
    "duration": 8,
    "start_time": "2022-10-27T08:34:48.473Z"
   },
   {
    "duration": 141,
    "start_time": "2022-10-27T08:34:48.482Z"
   },
   {
    "duration": 1241,
    "start_time": "2022-10-27T08:34:48.625Z"
   },
   {
    "duration": 39,
    "start_time": "2022-10-27T08:34:49.869Z"
   },
   {
    "duration": 38,
    "start_time": "2022-10-27T08:34:49.910Z"
   },
   {
    "duration": 63,
    "start_time": "2022-10-27T08:34:49.950Z"
   },
   {
    "duration": 106,
    "start_time": "2022-10-27T08:34:50.015Z"
   },
   {
    "duration": 141,
    "start_time": "2022-10-27T08:34:50.123Z"
   },
   {
    "duration": 144,
    "start_time": "2022-10-27T08:34:50.266Z"
   },
   {
    "duration": 15,
    "start_time": "2022-10-27T08:34:50.412Z"
   },
   {
    "duration": 564,
    "start_time": "2022-10-27T08:34:50.429Z"
   },
   {
    "duration": 123,
    "start_time": "2022-10-27T08:34:50.995Z"
   },
   {
    "duration": 13,
    "start_time": "2022-10-27T08:34:51.120Z"
   },
   {
    "duration": 22636,
    "start_time": "2022-10-27T08:34:51.135Z"
   },
   {
    "duration": 139,
    "start_time": "2022-10-27T08:35:13.773Z"
   },
   {
    "duration": 12,
    "start_time": "2022-10-27T08:35:13.915Z"
   },
   {
    "duration": 136,
    "start_time": "2022-10-27T08:35:13.929Z"
   },
   {
    "duration": 230,
    "start_time": "2022-10-27T08:35:14.155Z"
   },
   {
    "duration": 11,
    "start_time": "2022-10-27T08:35:14.387Z"
   },
   {
    "duration": 130,
    "start_time": "2022-10-27T08:35:14.400Z"
   },
   {
    "duration": 64,
    "start_time": "2022-10-27T08:44:09.274Z"
   },
   {
    "duration": 59,
    "start_time": "2022-10-27T08:44:12.980Z"
   },
   {
    "duration": 63,
    "start_time": "2022-10-27T08:44:26.474Z"
   },
   {
    "duration": 62,
    "start_time": "2022-10-27T08:44:36.268Z"
   },
   {
    "duration": 64,
    "start_time": "2022-10-27T08:44:58.127Z"
   },
   {
    "duration": 67,
    "start_time": "2022-10-27T08:45:13.766Z"
   },
   {
    "duration": 30,
    "start_time": "2022-10-27T08:46:28.672Z"
   },
   {
    "duration": 48,
    "start_time": "2022-10-27T08:55:29.440Z"
   },
   {
    "duration": 48,
    "start_time": "2022-10-27T08:55:49.101Z"
   },
   {
    "duration": 40,
    "start_time": "2022-10-27T08:55:58.095Z"
   },
   {
    "duration": 47,
    "start_time": "2022-10-27T08:56:10.640Z"
   },
   {
    "duration": 624,
    "start_time": "2022-10-27T08:56:21.142Z"
   },
   {
    "duration": 566,
    "start_time": "2022-10-27T08:58:17.589Z"
   },
   {
    "duration": 16,
    "start_time": "2022-10-27T09:07:41.575Z"
   },
   {
    "duration": 12,
    "start_time": "2022-10-27T09:08:09.978Z"
   },
   {
    "duration": 11,
    "start_time": "2022-10-27T09:08:32.220Z"
   },
   {
    "duration": 296,
    "start_time": "2022-10-27T09:09:15.461Z"
   },
   {
    "duration": 14,
    "start_time": "2022-10-27T09:09:15.763Z"
   },
   {
    "duration": 1544,
    "start_time": "2022-10-27T09:09:25.324Z"
   },
   {
    "duration": 55,
    "start_time": "2022-10-27T09:09:26.871Z"
   },
   {
    "duration": 20,
    "start_time": "2022-10-27T09:09:26.928Z"
   },
   {
    "duration": 12,
    "start_time": "2022-10-27T09:09:26.951Z"
   },
   {
    "duration": 23,
    "start_time": "2022-10-27T09:09:26.964Z"
   },
   {
    "duration": 190,
    "start_time": "2022-10-27T09:09:26.988Z"
   },
   {
    "duration": 8,
    "start_time": "2022-10-27T09:09:27.179Z"
   },
   {
    "duration": 25,
    "start_time": "2022-10-27T09:09:27.189Z"
   },
   {
    "duration": 1227,
    "start_time": "2022-10-27T09:09:27.215Z"
   },
   {
    "duration": 56,
    "start_time": "2022-10-27T09:09:28.457Z"
   },
   {
    "duration": 12,
    "start_time": "2022-10-27T09:09:28.516Z"
   },
   {
    "duration": 52,
    "start_time": "2022-10-27T09:09:28.530Z"
   },
   {
    "duration": 43,
    "start_time": "2022-10-27T09:09:28.585Z"
   },
   {
    "duration": 63,
    "start_time": "2022-10-27T09:09:28.630Z"
   },
   {
    "duration": 132,
    "start_time": "2022-10-27T09:09:28.700Z"
   },
   {
    "duration": 30,
    "start_time": "2022-10-27T09:09:28.834Z"
   },
   {
    "duration": 532,
    "start_time": "2022-10-27T09:09:28.866Z"
   },
   {
    "duration": 121,
    "start_time": "2022-10-27T09:09:29.400Z"
   },
   {
    "duration": 10,
    "start_time": "2022-10-27T09:09:29.523Z"
   },
   {
    "duration": 24184,
    "start_time": "2022-10-27T09:09:29.536Z"
   },
   {
    "duration": 160,
    "start_time": "2022-10-27T09:09:53.722Z"
   },
   {
    "duration": 10,
    "start_time": "2022-10-27T09:09:53.884Z"
   },
   {
    "duration": 260,
    "start_time": "2022-10-27T09:09:53.896Z"
   },
   {
    "duration": 384,
    "start_time": "2022-10-27T09:09:54.159Z"
   },
   {
    "duration": 25,
    "start_time": "2022-10-27T09:09:54.544Z"
   },
   {
    "duration": 589,
    "start_time": "2022-10-27T09:09:54.572Z"
   },
   {
    "duration": 211,
    "start_time": "2022-10-27T09:15:36.823Z"
   },
   {
    "duration": 211,
    "start_time": "2022-10-27T09:15:43.146Z"
   },
   {
    "duration": 272,
    "start_time": "2022-10-27T09:15:55.461Z"
   },
   {
    "duration": 251,
    "start_time": "2022-10-27T09:17:54.776Z"
   },
   {
    "duration": 505,
    "start_time": "2022-10-27T09:18:43.422Z"
   },
   {
    "duration": 12,
    "start_time": "2022-10-27T09:19:02.439Z"
   },
   {
    "duration": 12,
    "start_time": "2022-10-27T09:19:32.548Z"
   },
   {
    "duration": 284,
    "start_time": "2022-10-27T09:19:33.263Z"
   },
   {
    "duration": 305,
    "start_time": "2022-10-27T09:19:51.178Z"
   },
   {
    "duration": 278,
    "start_time": "2022-10-27T09:20:04.941Z"
   },
   {
    "duration": 284,
    "start_time": "2022-10-27T09:21:04.637Z"
   },
   {
    "duration": 269,
    "start_time": "2022-10-27T09:21:23.114Z"
   },
   {
    "duration": 347,
    "start_time": "2022-10-27T09:23:18.645Z"
   },
   {
    "duration": 409,
    "start_time": "2022-10-27T09:24:35.092Z"
   },
   {
    "duration": 259,
    "start_time": "2022-10-27T09:26:04.914Z"
   },
   {
    "duration": 265,
    "start_time": "2022-10-27T09:26:30.634Z"
   },
   {
    "duration": 265,
    "start_time": "2022-10-27T09:27:04.327Z"
   },
   {
    "duration": 332,
    "start_time": "2022-10-27T09:27:11.562Z"
   },
   {
    "duration": 283,
    "start_time": "2022-10-27T09:31:57.711Z"
   },
   {
    "duration": 409,
    "start_time": "2022-10-27T09:35:06.530Z"
   },
   {
    "duration": 259,
    "start_time": "2022-10-27T09:41:29.704Z"
   },
   {
    "duration": 271,
    "start_time": "2022-10-27T09:41:47.929Z"
   },
   {
    "duration": 431,
    "start_time": "2022-10-27T09:48:12.725Z"
   },
   {
    "duration": 43,
    "start_time": "2022-10-27T09:50:46.887Z"
   },
   {
    "duration": 25,
    "start_time": "2022-10-27T09:50:53.105Z"
   },
   {
    "duration": 260,
    "start_time": "2022-10-27T09:51:08.038Z"
   },
   {
    "duration": 311,
    "start_time": "2022-10-27T10:03:46.813Z"
   },
   {
    "duration": 553,
    "start_time": "2022-10-27T10:04:09.551Z"
   },
   {
    "duration": 5,
    "start_time": "2022-10-27T10:04:42.152Z"
   },
   {
    "duration": 269,
    "start_time": "2022-10-27T10:05:15.748Z"
   },
   {
    "duration": 338,
    "start_time": "2022-10-27T10:08:16.867Z"
   },
   {
    "duration": 478,
    "start_time": "2022-10-27T10:08:32.182Z"
   },
   {
    "duration": 309,
    "start_time": "2022-10-27T10:08:34.463Z"
   },
   {
    "duration": 457,
    "start_time": "2022-10-27T10:08:48.549Z"
   },
   {
    "duration": 297,
    "start_time": "2022-10-27T10:08:49.192Z"
   },
   {
    "duration": 58,
    "start_time": "2022-10-27T10:09:51.971Z"
   },
   {
    "duration": 55,
    "start_time": "2022-10-27T10:09:58.792Z"
   },
   {
    "duration": 86,
    "start_time": "2022-10-27T10:10:04.171Z"
   },
   {
    "duration": 59,
    "start_time": "2022-10-27T10:10:09.041Z"
   },
   {
    "duration": 63,
    "start_time": "2022-10-27T10:10:12.402Z"
   },
   {
    "duration": 280,
    "start_time": "2022-10-27T10:10:16.260Z"
   },
   {
    "duration": 343,
    "start_time": "2022-10-27T10:12:04.647Z"
   },
   {
    "duration": 365,
    "start_time": "2022-10-27T10:13:25.550Z"
   },
   {
    "duration": 410,
    "start_time": "2022-10-27T10:14:18.527Z"
   },
   {
    "duration": 347,
    "start_time": "2022-10-27T10:14:39.497Z"
   },
   {
    "duration": 425,
    "start_time": "2022-10-27T10:15:06.595Z"
   },
   {
    "duration": 385,
    "start_time": "2022-10-27T10:15:28.724Z"
   },
   {
    "duration": 683,
    "start_time": "2022-10-27T10:16:32.854Z"
   },
   {
    "duration": 404,
    "start_time": "2022-10-27T10:17:04.311Z"
   },
   {
    "duration": 424,
    "start_time": "2022-10-27T10:17:17.524Z"
   },
   {
    "duration": 374,
    "start_time": "2022-10-27T10:17:51.861Z"
   },
   {
    "duration": 378,
    "start_time": "2022-10-27T10:18:07.350Z"
   },
   {
    "duration": 368,
    "start_time": "2022-10-27T10:19:30.013Z"
   },
   {
    "duration": 387,
    "start_time": "2022-10-27T10:19:36.244Z"
   },
   {
    "duration": 264,
    "start_time": "2022-10-27T10:20:39.592Z"
   },
   {
    "duration": 463,
    "start_time": "2022-10-27T10:20:41.796Z"
   },
   {
    "duration": 389,
    "start_time": "2022-10-27T10:20:42.456Z"
   },
   {
    "duration": 408,
    "start_time": "2022-10-27T10:21:51.855Z"
   },
   {
    "duration": 394,
    "start_time": "2022-10-27T10:22:25.633Z"
   },
   {
    "duration": 513,
    "start_time": "2022-10-27T10:22:39.303Z"
   },
   {
    "duration": 393,
    "start_time": "2022-10-27T10:22:49.101Z"
   },
   {
    "duration": 854,
    "start_time": "2022-10-27T10:28:20.109Z"
   },
   {
    "duration": 373,
    "start_time": "2022-10-27T10:28:33.659Z"
   },
   {
    "duration": 524,
    "start_time": "2022-10-27T10:28:38.175Z"
   },
   {
    "duration": 374,
    "start_time": "2022-10-27T10:28:46.605Z"
   },
   {
    "duration": 407,
    "start_time": "2022-10-27T10:28:56.781Z"
   },
   {
    "duration": 1530,
    "start_time": "2022-10-28T17:13:33.294Z"
   },
   {
    "duration": 99,
    "start_time": "2022-10-28T17:13:34.826Z"
   },
   {
    "duration": 19,
    "start_time": "2022-10-28T17:13:34.926Z"
   },
   {
    "duration": 4,
    "start_time": "2022-10-28T17:13:34.947Z"
   },
   {
    "duration": 47,
    "start_time": "2022-10-28T17:13:34.953Z"
   },
   {
    "duration": 168,
    "start_time": "2022-10-28T17:13:35.002Z"
   },
   {
    "duration": 7,
    "start_time": "2022-10-28T17:13:35.172Z"
   },
   {
    "duration": 43,
    "start_time": "2022-10-28T17:13:35.180Z"
   },
   {
    "duration": 1114,
    "start_time": "2022-10-28T17:13:35.225Z"
   },
   {
    "duration": 49,
    "start_time": "2022-10-28T17:13:36.342Z"
   },
   {
    "duration": 9,
    "start_time": "2022-10-28T17:13:36.393Z"
   },
   {
    "duration": 34,
    "start_time": "2022-10-28T17:13:36.404Z"
   },
   {
    "duration": 22,
    "start_time": "2022-10-28T17:13:36.440Z"
   },
   {
    "duration": 68,
    "start_time": "2022-10-28T17:13:36.464Z"
   },
   {
    "duration": 123,
    "start_time": "2022-10-28T17:13:36.534Z"
   },
   {
    "duration": 17,
    "start_time": "2022-10-28T17:13:36.659Z"
   },
   {
    "duration": 492,
    "start_time": "2022-10-28T17:13:36.678Z"
   },
   {
    "duration": 111,
    "start_time": "2022-10-28T17:13:37.172Z"
   },
   {
    "duration": 12,
    "start_time": "2022-10-28T17:13:37.285Z"
   },
   {
    "duration": 23277,
    "start_time": "2022-10-28T17:13:37.299Z"
   },
   {
    "duration": 157,
    "start_time": "2022-10-28T17:14:00.578Z"
   },
   {
    "duration": 32,
    "start_time": "2022-10-28T17:14:00.738Z"
   },
   {
    "duration": 387,
    "start_time": "2022-10-28T17:14:00.772Z"
   },
   {
    "duration": 280,
    "start_time": "2022-10-28T17:14:01.161Z"
   },
   {
    "duration": 19,
    "start_time": "2022-10-28T17:14:01.461Z"
   },
   {
    "duration": 365,
    "start_time": "2022-10-28T17:14:01.482Z"
   },
   {
    "duration": 508,
    "start_time": "2022-10-28T17:14:01.849Z"
   },
   {
    "duration": 125,
    "start_time": "2022-10-28T17:14:02.365Z"
   },
   {
    "duration": 594,
    "start_time": "2022-10-28T17:14:08.975Z"
   },
   {
    "duration": 351,
    "start_time": "2022-10-28T17:14:38.497Z"
   },
   {
    "duration": 363,
    "start_time": "2022-10-28T17:14:49.437Z"
   },
   {
    "duration": 23,
    "start_time": "2022-10-28T17:16:52.470Z"
   },
   {
    "duration": 4,
    "start_time": "2022-10-28T17:17:19.878Z"
   },
   {
    "duration": 14,
    "start_time": "2022-10-28T17:17:27.192Z"
   },
   {
    "duration": 575,
    "start_time": "2022-10-28T17:18:34.381Z"
   },
   {
    "duration": 582,
    "start_time": "2022-10-28T17:19:57.073Z"
   },
   {
    "duration": 16,
    "start_time": "2022-10-28T17:21:14.292Z"
   },
   {
    "duration": 565,
    "start_time": "2022-10-28T17:22:41.391Z"
   },
   {
    "duration": 370,
    "start_time": "2022-10-28T17:24:32.996Z"
   },
   {
    "duration": 483,
    "start_time": "2022-10-28T17:24:53.689Z"
   },
   {
    "duration": 382,
    "start_time": "2022-10-28T17:24:54.314Z"
   },
   {
    "duration": 402,
    "start_time": "2022-10-28T17:26:16.580Z"
   },
   {
    "duration": 545,
    "start_time": "2022-10-28T17:27:10.239Z"
   },
   {
    "duration": 426,
    "start_time": "2022-10-28T17:27:28.968Z"
   },
   {
    "duration": 649,
    "start_time": "2022-10-28T17:29:30.116Z"
   },
   {
    "duration": 13,
    "start_time": "2022-10-28T17:29:34.931Z"
   },
   {
    "duration": 311,
    "start_time": "2022-10-28T17:30:19.744Z"
   },
   {
    "duration": 463,
    "start_time": "2022-10-28T17:32:04.479Z"
   },
   {
    "duration": 531,
    "start_time": "2022-10-28T17:32:51.309Z"
   },
   {
    "duration": 364,
    "start_time": "2022-10-28T17:33:37.375Z"
   },
   {
    "duration": 588,
    "start_time": "2022-10-28T17:34:02.903Z"
   },
   {
    "duration": 507,
    "start_time": "2022-10-28T17:34:33.976Z"
   },
   {
    "duration": 515,
    "start_time": "2022-10-28T17:34:52.584Z"
   },
   {
    "duration": 485,
    "start_time": "2022-10-28T17:35:33.566Z"
   },
   {
    "duration": 507,
    "start_time": "2022-10-28T17:36:06.031Z"
   },
   {
    "duration": 539,
    "start_time": "2022-10-28T17:36:32.432Z"
   },
   {
    "duration": 762,
    "start_time": "2022-10-28T17:37:01.250Z"
   },
   {
    "duration": 655,
    "start_time": "2022-10-28T17:37:34.132Z"
   },
   {
    "duration": 609,
    "start_time": "2022-10-28T17:38:37.277Z"
   },
   {
    "duration": 12,
    "start_time": "2022-10-28T17:44:20.934Z"
   },
   {
    "duration": 543,
    "start_time": "2022-10-28T17:44:29.381Z"
   },
   {
    "duration": 84,
    "start_time": "2022-10-28T17:48:03.594Z"
   },
   {
    "duration": 62,
    "start_time": "2022-10-28T17:48:31.174Z"
   },
   {
    "duration": 44,
    "start_time": "2022-10-28T17:49:57.407Z"
   },
   {
    "duration": 5,
    "start_time": "2022-10-28T17:50:16.677Z"
   },
   {
    "duration": 157,
    "start_time": "2022-10-28T17:50:23.535Z"
   },
   {
    "duration": 169,
    "start_time": "2022-10-28T17:51:21.802Z"
   },
   {
    "duration": 6,
    "start_time": "2022-10-28T17:52:11.086Z"
   },
   {
    "duration": 54,
    "start_time": "2022-10-28T17:53:22.623Z"
   },
   {
    "duration": 4,
    "start_time": "2022-10-28T17:53:38.226Z"
   },
   {
    "duration": 53,
    "start_time": "2022-10-28T17:54:12.141Z"
   },
   {
    "duration": 4,
    "start_time": "2022-10-28T17:54:20.499Z"
   },
   {
    "duration": 38,
    "start_time": "2022-10-28T17:54:30.039Z"
   },
   {
    "duration": 126,
    "start_time": "2022-10-28T17:55:26.094Z"
   },
   {
    "duration": 133,
    "start_time": "2022-10-28T17:55:43.810Z"
   },
   {
    "duration": 1450,
    "start_time": "2022-10-28T17:55:52.568Z"
   },
   {
    "duration": 61,
    "start_time": "2022-10-28T17:55:54.020Z"
   },
   {
    "duration": 20,
    "start_time": "2022-10-28T17:55:54.083Z"
   },
   {
    "duration": 5,
    "start_time": "2022-10-28T17:55:54.104Z"
   },
   {
    "duration": 25,
    "start_time": "2022-10-28T17:55:54.111Z"
   },
   {
    "duration": 198,
    "start_time": "2022-10-28T17:55:54.138Z"
   },
   {
    "duration": 8,
    "start_time": "2022-10-28T17:55:54.337Z"
   },
   {
    "duration": 38,
    "start_time": "2022-10-28T17:55:54.354Z"
   },
   {
    "duration": 1185,
    "start_time": "2022-10-28T17:55:54.394Z"
   },
   {
    "duration": 46,
    "start_time": "2022-10-28T17:55:55.582Z"
   },
   {
    "duration": 10,
    "start_time": "2022-10-28T17:55:55.630Z"
   },
   {
    "duration": 58,
    "start_time": "2022-10-28T17:55:55.642Z"
   },
   {
    "duration": 15,
    "start_time": "2022-10-28T17:55:55.702Z"
   },
   {
    "duration": 55,
    "start_time": "2022-10-28T17:55:55.721Z"
   },
   {
    "duration": 153,
    "start_time": "2022-10-28T17:55:55.778Z"
   },
   {
    "duration": 36,
    "start_time": "2022-10-28T17:55:55.934Z"
   },
   {
    "duration": 512,
    "start_time": "2022-10-28T17:55:55.974Z"
   },
   {
    "duration": 118,
    "start_time": "2022-10-28T17:55:56.489Z"
   },
   {
    "duration": 11,
    "start_time": "2022-10-28T17:55:56.609Z"
   },
   {
    "duration": 24140,
    "start_time": "2022-10-28T17:55:56.621Z"
   },
   {
    "duration": 148,
    "start_time": "2022-10-28T17:56:20.765Z"
   },
   {
    "duration": 10,
    "start_time": "2022-10-28T17:56:20.915Z"
   },
   {
    "duration": 344,
    "start_time": "2022-10-28T17:56:20.927Z"
   },
   {
    "duration": 290,
    "start_time": "2022-10-28T17:56:21.273Z"
   },
   {
    "duration": 14,
    "start_time": "2022-10-28T17:56:21.571Z"
   },
   {
    "duration": 359,
    "start_time": "2022-10-28T17:56:21.588Z"
   },
   {
    "duration": 431,
    "start_time": "2022-10-28T17:56:21.949Z"
   },
   {
    "duration": 513,
    "start_time": "2022-10-28T17:56:22.382Z"
   },
   {
    "duration": 12,
    "start_time": "2022-10-28T17:56:22.896Z"
   },
   {
    "duration": 649,
    "start_time": "2022-10-28T17:56:22.910Z"
   },
   {
    "duration": 95,
    "start_time": "2022-10-28T17:56:23.562Z"
   },
   {
    "duration": 295,
    "start_time": "2022-10-28T17:56:23.659Z"
   },
   {
    "duration": 847,
    "start_time": "2022-10-28T17:56:23.956Z"
   },
   {
    "duration": 557,
    "start_time": "2022-10-28T17:56:24.805Z"
   },
   {
    "duration": 166,
    "start_time": "2022-10-28T17:56:25.364Z"
   },
   {
    "duration": 57,
    "start_time": "2022-10-28T17:56:25.532Z"
   },
   {
    "duration": 136,
    "start_time": "2022-10-28T17:56:25.592Z"
   },
   {
    "duration": 116,
    "start_time": "2022-10-28T17:57:54.613Z"
   },
   {
    "duration": 111,
    "start_time": "2022-10-28T17:58:13.293Z"
   },
   {
    "duration": 128,
    "start_time": "2022-10-28T17:58:24.273Z"
   },
   {
    "duration": 219,
    "start_time": "2022-10-28T17:58:33.307Z"
   },
   {
    "duration": 265,
    "start_time": "2022-10-28T17:59:06.608Z"
   },
   {
    "duration": 267,
    "start_time": "2022-10-28T17:59:21.970Z"
   },
   {
    "duration": 56,
    "start_time": "2022-10-29T15:11:42.610Z"
   },
   {
    "duration": 1690,
    "start_time": "2022-10-29T15:11:53.324Z"
   },
   {
    "duration": 387,
    "start_time": "2022-10-29T15:11:55.016Z"
   },
   {
    "duration": 29,
    "start_time": "2022-10-29T15:11:55.404Z"
   },
   {
    "duration": 4,
    "start_time": "2022-10-29T15:11:56.136Z"
   },
   {
    "duration": 25,
    "start_time": "2022-10-29T15:11:57.312Z"
   },
   {
    "duration": 185,
    "start_time": "2022-10-29T15:11:58.010Z"
   },
   {
    "duration": 7,
    "start_time": "2022-10-29T15:11:58.939Z"
   },
   {
    "duration": 23,
    "start_time": "2022-10-29T15:11:59.513Z"
   },
   {
    "duration": 1198,
    "start_time": "2022-10-29T15:12:00.821Z"
   },
   {
    "duration": 41,
    "start_time": "2022-10-29T15:12:02.835Z"
   },
   {
    "duration": 17,
    "start_time": "2022-10-29T15:12:05.613Z"
   },
   {
    "duration": 27,
    "start_time": "2022-10-29T15:12:12.218Z"
   },
   {
    "duration": 51,
    "start_time": "2022-10-29T15:12:12.836Z"
   },
   {
    "duration": 131,
    "start_time": "2022-10-29T15:12:14.621Z"
   },
   {
    "duration": 14,
    "start_time": "2022-10-29T15:12:16.540Z"
   },
   {
    "duration": 40,
    "start_time": "2022-10-29T15:12:18.317Z"
   },
   {
    "duration": 39,
    "start_time": "2022-10-29T15:14:03.215Z"
   },
   {
    "duration": 26,
    "start_time": "2022-10-29T15:14:58.860Z"
   },
   {
    "duration": 29,
    "start_time": "2022-10-29T15:15:03.365Z"
   },
   {
    "duration": 546,
    "start_time": "2022-10-29T15:15:12.659Z"
   },
   {
    "duration": 34,
    "start_time": "2022-10-29T15:15:46.008Z"
   },
   {
    "duration": 562,
    "start_time": "2022-10-29T15:16:11.899Z"
   },
   {
    "duration": 112,
    "start_time": "2022-10-29T15:16:16.195Z"
   },
   {
    "duration": 11,
    "start_time": "2022-10-29T15:16:21.387Z"
   },
   {
    "duration": 25002,
    "start_time": "2022-10-29T15:16:30.945Z"
   },
   {
    "duration": 150,
    "start_time": "2022-10-29T15:17:03.284Z"
   },
   {
    "duration": 11,
    "start_time": "2022-10-29T15:17:06.204Z"
   },
   {
    "duration": 412,
    "start_time": "2022-10-29T15:17:07.418Z"
   },
   {
    "duration": 277,
    "start_time": "2022-10-29T15:17:11.224Z"
   },
   {
    "duration": 15,
    "start_time": "2022-10-29T15:17:15.869Z"
   },
   {
    "duration": 280,
    "start_time": "2022-10-29T15:17:18.896Z"
   },
   {
    "duration": 538,
    "start_time": "2022-10-29T15:17:24.190Z"
   },
   {
    "duration": 496,
    "start_time": "2022-10-29T15:17:28.192Z"
   },
   {
    "duration": 14,
    "start_time": "2022-10-29T15:17:40.297Z"
   },
   {
    "duration": 653,
    "start_time": "2022-10-29T15:17:45.005Z"
   },
   {
    "duration": 16,
    "start_time": "2022-10-29T15:17:46.929Z"
   },
   {
    "duration": 340,
    "start_time": "2022-10-29T15:17:47.890Z"
   },
   {
    "duration": 664,
    "start_time": "2022-10-29T15:17:49.615Z"
   },
   {
    "duration": 617,
    "start_time": "2022-10-29T15:18:59.791Z"
   },
   {
    "duration": 169,
    "start_time": "2022-10-29T15:19:05.405Z"
   },
   {
    "duration": 37,
    "start_time": "2022-10-29T15:19:06.259Z"
   },
   {
    "duration": 126,
    "start_time": "2022-10-29T15:19:06.857Z"
   },
   {
    "duration": 71,
    "start_time": "2022-10-29T15:22:12.149Z"
   },
   {
    "duration": 380,
    "start_time": "2022-10-29T15:28:10.895Z"
   },
   {
    "duration": 488,
    "start_time": "2022-10-29T15:33:11.789Z"
   },
   {
    "duration": 35486,
    "start_time": "2022-10-29T15:33:16.778Z"
   },
   {
    "duration": 38,
    "start_time": "2022-10-29T15:36:52.685Z"
   },
   {
    "duration": 157,
    "start_time": "2022-10-29T15:41:17.135Z"
   },
   {
    "duration": 12,
    "start_time": "2022-10-29T15:41:29.605Z"
   },
   {
    "duration": 187,
    "start_time": "2022-10-29T15:41:30.157Z"
   },
   {
    "duration": 13934,
    "start_time": "2022-10-29T15:42:40.467Z"
   },
   {
    "duration": 113,
    "start_time": "2022-10-29T15:43:02.415Z"
   },
   {
    "duration": 11,
    "start_time": "2022-10-29T15:43:06.884Z"
   },
   {
    "duration": 170,
    "start_time": "2022-10-29T15:43:07.164Z"
   },
   {
    "duration": 13464,
    "start_time": "2022-10-29T15:43:09.262Z"
   },
   {
    "duration": 20,
    "start_time": "2022-10-29T15:44:42.344Z"
   },
   {
    "duration": 5,
    "start_time": "2022-10-29T15:45:31.657Z"
   },
   {
    "duration": 96,
    "start_time": "2022-10-29T15:46:12.078Z"
   },
   {
    "duration": 126,
    "start_time": "2022-10-29T15:46:20.416Z"
   },
   {
    "duration": 145,
    "start_time": "2022-10-29T15:47:09.012Z"
   },
   {
    "duration": 129,
    "start_time": "2022-10-29T15:47:58.340Z"
   },
   {
    "duration": 399,
    "start_time": "2022-10-29T15:48:30.198Z"
   },
   {
    "duration": 231,
    "start_time": "2022-10-29T15:48:50.852Z"
   },
   {
    "duration": 144,
    "start_time": "2022-10-29T15:49:02.123Z"
   },
   {
    "duration": 287,
    "start_time": "2022-10-29T15:50:00.256Z"
   },
   {
    "duration": 302,
    "start_time": "2022-10-29T15:50:14.038Z"
   },
   {
    "duration": 320,
    "start_time": "2022-10-29T15:50:48.016Z"
   },
   {
    "duration": 290,
    "start_time": "2022-10-29T15:50:54.524Z"
   },
   {
    "duration": 305,
    "start_time": "2022-10-29T15:51:01.000Z"
   },
   {
    "duration": 85,
    "start_time": "2022-10-29T15:56:34.033Z"
   },
   {
    "duration": 86,
    "start_time": "2022-10-29T15:56:48.987Z"
   },
   {
    "duration": 101,
    "start_time": "2022-10-29T15:56:59.929Z"
   },
   {
    "duration": 71,
    "start_time": "2022-10-29T15:57:28.657Z"
   },
   {
    "duration": 69,
    "start_time": "2022-10-29T15:57:46.272Z"
   },
   {
    "duration": 73,
    "start_time": "2022-10-29T15:58:02.192Z"
   },
   {
    "duration": 65,
    "start_time": "2022-10-29T15:58:07.327Z"
   },
   {
    "duration": 70,
    "start_time": "2022-10-29T15:58:14.808Z"
   },
   {
    "duration": 3,
    "start_time": "2022-10-29T15:58:23.840Z"
   },
   {
    "duration": 3,
    "start_time": "2022-10-29T15:58:35.272Z"
   },
   {
    "duration": 3,
    "start_time": "2022-10-29T16:00:19.183Z"
   },
   {
    "duration": 82,
    "start_time": "2022-10-29T16:02:47.830Z"
   },
   {
    "duration": 11,
    "start_time": "2022-10-29T16:03:00.646Z"
   },
   {
    "duration": 11,
    "start_time": "2022-10-29T16:05:21.463Z"
   },
   {
    "duration": 5,
    "start_time": "2022-10-29T16:06:51.880Z"
   },
   {
    "duration": 4,
    "start_time": "2022-10-29T16:07:21.330Z"
   },
   {
    "duration": 584,
    "start_time": "2022-10-29T16:07:44.454Z"
   },
   {
    "duration": 173,
    "start_time": "2022-10-29T16:07:45.307Z"
   },
   {
    "duration": 38,
    "start_time": "2022-10-29T16:07:46.463Z"
   },
   {
    "duration": 152,
    "start_time": "2022-10-29T16:07:47.118Z"
   },
   {
    "duration": 388,
    "start_time": "2022-10-29T16:19:02.720Z"
   },
   {
    "duration": 154,
    "start_time": "2022-10-29T16:19:07.110Z"
   },
   {
    "duration": 28,
    "start_time": "2022-10-29T16:19:09.288Z"
   },
   {
    "duration": 180,
    "start_time": "2022-10-29T16:19:10.272Z"
   },
   {
    "duration": 1739,
    "start_time": "2022-10-29T16:20:53.168Z"
   },
   {
    "duration": 56,
    "start_time": "2022-10-29T16:20:54.909Z"
   },
   {
    "duration": 22,
    "start_time": "2022-10-29T16:20:54.967Z"
   },
   {
    "duration": 5,
    "start_time": "2022-10-29T16:20:54.992Z"
   },
   {
    "duration": 33,
    "start_time": "2022-10-29T16:20:54.999Z"
   },
   {
    "duration": 177,
    "start_time": "2022-10-29T16:20:55.034Z"
   },
   {
    "duration": 16,
    "start_time": "2022-10-29T16:20:55.213Z"
   },
   {
    "duration": 30,
    "start_time": "2022-10-29T16:20:55.231Z"
   },
   {
    "duration": 1178,
    "start_time": "2022-10-29T16:20:55.264Z"
   },
   {
    "duration": 36,
    "start_time": "2022-10-29T16:20:56.446Z"
   },
   {
    "duration": 12,
    "start_time": "2022-10-29T16:20:56.484Z"
   },
   {
    "duration": 37,
    "start_time": "2022-10-29T16:20:56.498Z"
   },
   {
    "duration": 44,
    "start_time": "2022-10-29T16:20:56.537Z"
   },
   {
    "duration": 156,
    "start_time": "2022-10-29T16:20:56.583Z"
   },
   {
    "duration": 34,
    "start_time": "2022-10-29T16:20:56.742Z"
   },
   {
    "duration": 59,
    "start_time": "2022-10-29T16:20:56.778Z"
   },
   {
    "duration": 513,
    "start_time": "2022-10-29T16:20:56.839Z"
   },
   {
    "duration": 161,
    "start_time": "2022-10-29T16:20:57.355Z"
   },
   {
    "duration": 16,
    "start_time": "2022-10-29T16:20:57.517Z"
   },
   {
    "duration": 24556,
    "start_time": "2022-10-29T16:20:57.536Z"
   },
   {
    "duration": 151,
    "start_time": "2022-10-29T16:21:22.095Z"
   },
   {
    "duration": 11,
    "start_time": "2022-10-29T16:21:22.248Z"
   },
   {
    "duration": 166,
    "start_time": "2022-10-29T16:21:22.261Z"
   },
   {
    "duration": 331,
    "start_time": "2022-10-29T16:21:22.429Z"
   },
   {
    "duration": 17,
    "start_time": "2022-10-29T16:21:22.762Z"
   },
   {
    "duration": 289,
    "start_time": "2022-10-29T16:21:22.782Z"
   },
   {
    "duration": 562,
    "start_time": "2022-10-29T16:21:23.073Z"
   },
   {
    "duration": 402,
    "start_time": "2022-10-29T16:21:23.723Z"
   },
   {
    "duration": 12,
    "start_time": "2022-10-29T16:21:24.127Z"
   },
   {
    "duration": 388,
    "start_time": "2022-10-29T16:21:24.141Z"
   },
   {
    "duration": 33253,
    "start_time": "2022-10-29T16:21:24.531Z"
   },
   {
    "duration": 40,
    "start_time": "2022-10-29T16:21:57.785Z"
   },
   {
    "duration": 100,
    "start_time": "2022-10-29T16:21:57.827Z"
   },
   {
    "duration": 233,
    "start_time": "2022-10-29T16:21:57.930Z"
   },
   {
    "duration": 13196,
    "start_time": "2022-10-29T16:21:58.165Z"
   },
   {
    "duration": 66,
    "start_time": "2022-10-29T16:22:11.363Z"
   },
   {
    "duration": 4,
    "start_time": "2022-10-29T16:22:11.431Z"
   },
   {
    "duration": 457,
    "start_time": "2022-10-29T16:22:11.438Z"
   },
   {
    "duration": 5,
    "start_time": "2022-10-29T16:22:11.898Z"
   },
   {
    "duration": 419,
    "start_time": "2022-10-29T16:22:11.905Z"
   },
   {
    "duration": 261,
    "start_time": "2022-10-29T16:22:12.326Z"
   },
   {
    "duration": 36,
    "start_time": "2022-10-29T16:22:12.588Z"
   },
   {
    "duration": 135,
    "start_time": "2022-10-29T16:22:12.626Z"
   },
   {
    "duration": 317,
    "start_time": "2022-10-29T16:25:04.081Z"
   },
   {
    "duration": 334,
    "start_time": "2022-10-29T16:25:17.151Z"
   },
   {
    "duration": 373,
    "start_time": "2022-10-29T16:25:21.779Z"
   },
   {
    "duration": 5,
    "start_time": "2022-10-29T16:26:02.736Z"
   },
   {
    "duration": 1616,
    "start_time": "2022-10-29T16:26:23.130Z"
   },
   {
    "duration": 54,
    "start_time": "2022-10-29T16:26:24.749Z"
   },
   {
    "duration": 30,
    "start_time": "2022-10-29T16:26:24.805Z"
   },
   {
    "duration": 5,
    "start_time": "2022-10-29T16:26:24.838Z"
   },
   {
    "duration": 39,
    "start_time": "2022-10-29T16:26:24.845Z"
   },
   {
    "duration": 186,
    "start_time": "2022-10-29T16:26:24.886Z"
   },
   {
    "duration": 8,
    "start_time": "2022-10-29T16:26:25.074Z"
   },
   {
    "duration": 21,
    "start_time": "2022-10-29T16:26:25.084Z"
   },
   {
    "duration": 1175,
    "start_time": "2022-10-29T16:26:25.125Z"
   },
   {
    "duration": 51,
    "start_time": "2022-10-29T16:26:26.304Z"
   },
   {
    "duration": 14,
    "start_time": "2022-10-29T16:26:26.357Z"
   },
   {
    "duration": 14,
    "start_time": "2022-10-29T16:26:26.374Z"
   },
   {
    "duration": 85,
    "start_time": "2022-10-29T16:26:26.390Z"
   },
   {
    "duration": 190,
    "start_time": "2022-10-29T16:26:26.478Z"
   },
   {
    "duration": 31,
    "start_time": "2022-10-29T16:26:26.671Z"
   },
   {
    "duration": 44,
    "start_time": "2022-10-29T16:26:26.723Z"
   },
   {
    "duration": 709,
    "start_time": "2022-10-29T16:26:26.770Z"
   },
   {
    "duration": 122,
    "start_time": "2022-10-29T16:26:27.481Z"
   },
   {
    "duration": 27,
    "start_time": "2022-10-29T16:26:27.605Z"
   },
   {
    "duration": 25864,
    "start_time": "2022-10-29T16:26:27.634Z"
   },
   {
    "duration": 152,
    "start_time": "2022-10-29T16:26:53.500Z"
   },
   {
    "duration": 12,
    "start_time": "2022-10-29T16:26:53.654Z"
   },
   {
    "duration": 458,
    "start_time": "2022-10-29T16:26:53.667Z"
   },
   {
    "duration": 354,
    "start_time": "2022-10-29T16:26:54.127Z"
   },
   {
    "duration": 15,
    "start_time": "2022-10-29T16:26:54.483Z"
   },
   {
    "duration": 314,
    "start_time": "2022-10-29T16:26:54.500Z"
   },
   {
    "duration": 518,
    "start_time": "2022-10-29T16:26:54.816Z"
   },
   {
    "duration": 565,
    "start_time": "2022-10-29T16:26:55.339Z"
   },
   {
    "duration": 26,
    "start_time": "2022-10-29T16:26:55.906Z"
   },
   {
    "duration": 388,
    "start_time": "2022-10-29T16:26:55.935Z"
   },
   {
    "duration": 33170,
    "start_time": "2022-10-29T16:26:56.325Z"
   },
   {
    "duration": 127,
    "start_time": "2022-10-29T16:27:29.497Z"
   },
   {
    "duration": 98,
    "start_time": "2022-10-29T16:27:29.626Z"
   },
   {
    "duration": 182,
    "start_time": "2022-10-29T16:27:29.727Z"
   },
   {
    "duration": 13663,
    "start_time": "2022-10-29T16:27:29.910Z"
   },
   {
    "duration": 52,
    "start_time": "2022-10-29T16:27:43.575Z"
   },
   {
    "duration": 8,
    "start_time": "2022-10-29T16:27:43.630Z"
   },
   {
    "duration": 310,
    "start_time": "2022-10-29T16:27:43.725Z"
   },
   {
    "duration": 5,
    "start_time": "2022-10-29T16:27:44.037Z"
   },
   {
    "duration": 392,
    "start_time": "2022-10-29T16:27:44.044Z"
   },
   {
    "duration": 274,
    "start_time": "2022-10-29T16:27:44.438Z"
   },
   {
    "duration": 33,
    "start_time": "2022-10-29T16:27:44.714Z"
   },
   {
    "duration": 139,
    "start_time": "2022-10-29T16:27:44.749Z"
   }
  ],
  "kernelspec": {
   "display_name": "Python 3 (ipykernel)",
   "language": "python",
   "name": "python3"
  },
  "language_info": {
   "codemirror_mode": {
    "name": "ipython",
    "version": 3
   },
   "file_extension": ".py",
   "mimetype": "text/x-python",
   "name": "python",
   "nbconvert_exporter": "python",
   "pygments_lexer": "ipython3",
   "version": "3.10.9"
  },
  "toc": {
   "base_numbering": 1,
   "nav_menu": {},
   "number_sections": true,
   "sideBar": true,
   "skip_h1_title": true,
   "title_cell": "Содержание",
   "title_sidebar": "Contents",
   "toc_cell": true,
   "toc_position": {},
   "toc_section_display": true,
   "toc_window_display": false
  }
 },
 "nbformat": 4,
 "nbformat_minor": 2
}
